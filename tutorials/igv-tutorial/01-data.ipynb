{
 "cells": [
  {
   "cell_type": "code",
   "execution_count": 1,
   "metadata": {
    "collapsed": false
   },
   "outputs": [
    {
     "name": "stdout",
     "output_type": "stream",
     "text": [
      "Tue Nov 15 14:07:42 PST 2016\r\n"
     ]
    }
   ],
   "source": [
    "!date"
   ]
  },
  {
   "cell_type": "markdown",
   "metadata": {},
   "source": [
    "[IGV](http://software.broadinstitute.org/software/igv/home) (Integrative Genomics Viewer) is a high-performance visualization tool for interactive exploration of large, integrated genomic datasets. It supports a wide variety of data types, including array-based and next-generation sequence data, and genomic annotations (from their website).\n",
    "\n",
    "I downloaded and unzipped the IGV Mac App archive v2.3 on 2016-11-15. Seems to work fine. "
   ]
  },
  {
   "cell_type": "code",
   "execution_count": 2,
   "metadata": {
    "collapsed": false
   },
   "outputs": [
    {
     "name": "stdout",
     "output_type": "stream",
     "text": [
      "  % Total    % Received % Xferd  Average Speed   Time    Time     Time  Current\n",
      "                                 Dload  Upload   Total   Spent    Left  Speed\n",
      "100 13171  100 13171    0     0   5524      0  0:00:02  0:00:02 --:--:--  7556\n"
     ]
    }
   ],
   "source": [
    "# downloaded Oly annotation\n",
    "!curl http://owl.fish.washington.edu/halfshell/2016-11-oly-annotation/igv-session_2016-11-14.xml \\\n",
    "    > /Users/meganduffy/Documents/git-repos/FISH-546/tutorials/igv-tutorial/igv-session_2016-11-14.xml"
   ]
  },
  {
   "cell_type": "markdown",
   "metadata": {},
   "source": [
    "In IGV, opened this xml file (->Open session):\n",
    "\n",
    "![igv oly session](https://raw.githubusercontent.com/MeganEDuffy/FISH-546/master/tutorials/igv-tutorial/igv-oly-1.png)"
   ]
  },
  {
   "cell_type": "code",
   "execution_count": null,
   "metadata": {
    "collapsed": true
   },
   "outputs": [],
   "source": []
  }
 ],
 "metadata": {
  "anaconda-cloud": {},
  "kernelspec": {
   "display_name": "Python [default]",
   "language": "python",
   "name": "python3"
  },
  "language_info": {
   "codemirror_mode": {
    "name": "ipython",
    "version": 3
   },
   "file_extension": ".py",
   "mimetype": "text/x-python",
   "name": "python",
   "nbconvert_exporter": "python",
   "pygments_lexer": "ipython3",
   "version": "3.5.2"
  }
 },
 "nbformat": 4,
 "nbformat_minor": 1
}
