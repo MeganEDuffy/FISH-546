{
 "cells": [
  {
   "cell_type": "code",
   "execution_count": 1,
   "metadata": {
    "collapsed": false
   },
   "outputs": [
    {
     "name": "stdout",
     "output_type": "stream",
     "text": [
      "Sat Oct 29 14:54:34 PDT 2016\r\n"
     ]
    }
   ],
   "source": [
    "!date"
   ]
  },
  {
   "cell_type": "markdown",
   "metadata": {},
   "source": [
    "I was having a lot of problems manipulating and trimming my fasta/tab files before, so I'm trying to do the merge in Galaxy this time (see ```seastar-totrial/DESeq2.R```) for first attempt.\n",
    "\n",
    "First, I uploaded the DESeq2 output, ```Phel_DEGlist.tab```, and the downloaded full Phel transcriptome (which I got in ```seastar-tutorial/01-get-data.ipynb```).\n",
    "\n",
    "\n",
    "First, I used the FASTA-to-Tabular converter to make a Phel_transcriptome.tab file:\n",
    "\n",
    "![fasta to tab](https://raw.githubusercontent.com/MeganEDuffy/FISH-546/master/tutorials/seastar-tutorial/galaxy-screengrabs/1-fasta-to-tab.png)"
   ]
  },
  {
   "cell_type": "markdown",
   "metadata": {},
   "source": [
    "Next, I used Galaxy's ```Text Manipuation - Convert``` option to convert the ```Phel_DEGlist.tab``` delimiters to TAB, calling the resulting file ```Phel_DEGlist_f1.tab```:\n",
    "\n",
    "![delimit to TAB](http://localhost:8888/files/tutorials/seastar-tutorial/galaxy-screengrabs/2-delimit-to-tab.png)"
   ]
  },
  {
   "cell_type": "markdown",
   "metadata": {},
   "source": [
    "Since ```Phel_DEGlist_f1. tab``` has quotation marks around the contigs, I trimmed them with Galaxy's ```Trim``` function, calling the resulting file ```Phel_DEGlist_f2.tab```:\n",
    "\n",
    "![trim contigs](http://localhost:8888/files/tutorials/seastar-tutorial/galaxy-screengrabs/3-trim-tab.png)"
   ]
  },
  {
   "cell_type": "markdown",
   "metadata": {},
   "source": [
    "Now I used Galaxy's ```Compare two Datasets``` function to merge the tabulated transcriptome file with the TAB formatted and trimmed ```Phel-DEGlist_f2.tab```. Now we have a file with both contig names and base pair sequences. I named the resulting file ```Phel_merged_transcriptome.tab```:\n",
    "\n",
    "![merging tab files](http://localhost:8888/files/tutorials/seastar-tutorial/galaxy-screengrabs/4-merge-tab.png)"
   ]
  },
  {
   "cell_type": "markdown",
   "metadata": {},
   "source": [
    "Ok, for me to use this merged file with blast it needs to be in fasta format. So I used Galaxy's ```Tabular to FASTA``` function to convert the merged .tab file back to a fasta format, calling it ```Phel_merged_transcriptome.fasta```:\n",
    "\n",
    "![convert to fasta](http://localhost:8888/files/tutorials/seastar-tutorial/galaxy-screengrabs/5-tab-to-fasta.png)\n",
    "\n",
    "I then downloaded ```Phel_merged_transcriptome.fasta``` into seastar-tutorial/data/ "
   ]
  },
  {
   "cell_type": "code",
   "execution_count": null,
   "metadata": {
    "collapsed": true
   },
   "outputs": [],
   "source": []
  }
 ],
 "metadata": {
  "anaconda-cloud": {},
  "kernelspec": {
   "display_name": "Python [default]",
   "language": "python",
   "name": "python3"
  },
  "language_info": {
   "codemirror_mode": {
    "name": "ipython",
    "version": 3
   },
   "file_extension": ".py",
   "mimetype": "text/x-python",
   "name": "python",
   "nbconvert_exporter": "python",
   "pygments_lexer": "ipython3",
   "version": "3.5.2"
  }
 },
 "nbformat": 4,
 "nbformat_minor": 1
}
