{
 "cells": [
  {
   "cell_type": "code",
   "execution_count": 1,
   "metadata": {
    "collapsed": false
   },
   "outputs": [
    {
     "name": "stdout",
     "output_type": "stream",
     "text": [
      "Sat Oct 29 14:54:34 PDT 2016\r\n"
     ]
    }
   ],
   "source": [
    "!date"
   ]
  },
  {
   "cell_type": "markdown",
   "metadata": {},
   "source": [
    "I was having a lot of problems manipulating and trimming my fasta/tab files before, so I'm trying to do the merge in Galaxy this time (see ```seastar-totrial/DESeq2.R```) for first attempt.\n",
    "\n",
    "First, I uploaded the DESeq2 output, ```Phel_DEGlist.tab```, and the downloaded full Phel transcriptome (which I got in ```seastar-tutorial/01-get-data.ipynb```).\n",
    "\n",
    "\n",
    "First, I used the FASTA-to-Tabular converter to make a Phel_transcriptome.tab file:\n",
    "\n",
    "![fasta to tab](https://raw.githubusercontent.com/MeganEDuffy/FISH-546/master/tutorials/seastar-tutorial/galaxy-screengrabs/1-fasta-to-tab.png)"
   ]
  },
  {
   "cell_type": "markdown",
   "metadata": {},
   "source": [
    "Next, I used Galaxy's ```Text Manipuation - Convert``` option to make Phel_DEGlist.tab tab delineated:"
   ]
  }
 ],
 "metadata": {
  "anaconda-cloud": {},
  "kernelspec": {
   "display_name": "Python [default]",
   "language": "python",
   "name": "python3"
  },
  "language_info": {
   "codemirror_mode": {
    "name": "ipython",
    "version": 3
   },
   "file_extension": ".py",
   "mimetype": "text/x-python",
   "name": "python",
   "nbconvert_exporter": "python",
   "pygments_lexer": "ipython3",
   "version": "3.5.2"
  }
 },
 "nbformat": 4,
 "nbformat_minor": 1
}
