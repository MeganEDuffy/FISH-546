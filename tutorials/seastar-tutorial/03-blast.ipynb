{
 "cells": [
  {
   "cell_type": "code",
   "execution_count": 1,
   "metadata": {
    "collapsed": false
   },
   "outputs": [
    {
     "name": "stdout",
     "output_type": "stream",
     "text": [
      "Thu Oct 27 22:42:39 PDT 2016\r\n"
     ]
    }
   ],
   "source": [
    "!date"
   ]
  },
  {
   "cell_type": "markdown",
   "metadata": {},
   "source": [
    "For blastx to work, I need a query and database. To create a database, I need these commands:\n",
    " - use `makeblastdb` to create the database that we need\n",
    " - `-in` to select the input file for the database\n",
    " - `dbtype` specifies the type of file, tab\n",
    " - `-out` puts the output in a specified directory"
   ]
  },
  {
   "cell_type": "code",
   "execution_count": 1,
   "metadata": {
    "collapsed": false
   },
   "outputs": [
    {
     "name": "stdout",
     "output_type": "stream",
     "text": [
      "USAGE\r\n",
      "  makeblastdb [-h] [-help] [-in input_file] [-input_type type]\r\n",
      "    -dbtype molecule_type [-title database_title] [-parse_seqids]\r\n",
      "    [-hash_index] [-mask_data mask_data_files] [-mask_id mask_algo_ids]\r\n",
      "    [-mask_desc mask_algo_descriptions] [-gi_mask]\r\n",
      "    [-gi_mask_name gi_based_mask_names] [-out database_name]\r\n",
      "    [-max_file_sz number_of_bytes] [-logfile File_Name] [-taxid TaxID]\r\n",
      "    [-taxid_map TaxIDMapFile] [-version]\r\n",
      "\r\n",
      "DESCRIPTION\r\n",
      "   Application to create BLAST databases, version 2.5.0+\r\n",
      "\r\n",
      "Use '-help' to print detailed descriptions of command line arguments\r\n",
      "========================================================================\r\n",
      "\r\n",
      "Error: Argument \"dbtype\". Mandatory value is missing:  `String, `nucl', `prot''\r\n",
      "Error:  (CArgException::eNoArg) Argument \"dbtype\". Mandatory value is missing:  `String, `nucl', `prot''\r\n"
     ]
    }
   ],
   "source": [
    "!~/Applications/ncbi-blast-2.5.0+/bin/makeblastdb \\"
   ]
  },
  {
   "cell_type": "code",
   "execution_count": 3,
   "metadata": {
    "collapsed": false
   },
   "outputs": [
    {
     "name": "stdout",
     "output_type": "stream",
     "text": [
      "/Users/meganduffy/Documents/git-repos/FISH-546/tutorials/seastar-tutorial\r\n"
     ]
    }
   ],
   "source": [
    "!pwd"
   ]
  },
  {
   "cell_type": "markdown",
   "metadata": {},
   "source": [
    "Using the merged Phel transcriptome to make a database:"
   ]
  },
  {
   "cell_type": "code",
   "execution_count": 4,
   "metadata": {
    "collapsed": false
   },
   "outputs": [
    {
     "name": "stdout",
     "output_type": "stream",
     "text": [
      "\r\n",
      "\r\n",
      "Building a new DB, current time: 10/28/2016 20:52:43\r\n",
      "New DB name:   /Users/meganduffy/Documents/git-repos/FISH-546/tutorials/seastar-tutorial/data/Phel_diff_transcriptome_db.fasta\r\n",
      "New DB title:  /Users/meganduffy/Documents/git-repos/FISH-546/tutorials/seastar-tutorial/data/Phel_diff_transcriptome.fasta\r\n",
      "Sequence type: Nucleotide\r\n",
      "Keep MBits: T\r\n",
      "Maximum file size: 1000000000B\r\n",
      "BLAST options error: File /Users/meganduffy/Documents/git-repos/FISH-546/tutorials/seastar-tutorial/data/Phel_diff_transcriptome.fasta does not exist\r\n"
     ]
    }
   ],
   "source": [
    "!~/Applications/ncbi-blast-2.5.0+/bin/makeblastdb \\\n",
    "-in ~/Documents/git-repos/FISH-546/tutorials/seastar-tutorial/data/Phel_diff_transcriptome.fasta \\\n",
    "-dbtype nucl \\\n",
    "-out ~/Documents/git-repos/FISH-546/tutorials/seastar-tutorial/data/Phel_diff_transcriptome_db.fasta \\"
   ]
  },
  {
   "cell_type": "code",
   "execution_count": null,
   "metadata": {
    "collapsed": true
   },
   "outputs": [],
   "source": []
  }
 ],
 "metadata": {
  "anaconda-cloud": {},
  "kernelspec": {
   "display_name": "Python [default]",
   "language": "python",
   "name": "python3"
  },
  "language_info": {
   "codemirror_mode": {
    "name": "ipython",
    "version": 3
   },
   "file_extension": ".py",
   "mimetype": "text/x-python",
   "name": "python",
   "nbconvert_exporter": "python",
   "pygments_lexer": "ipython3",
   "version": "3.5.2"
  }
 },
 "nbformat": 4,
 "nbformat_minor": 1
}
