{
 "cells": [
  {
   "cell_type": "code",
   "execution_count": 1,
   "metadata": {
    "collapsed": false
   },
   "outputs": [
    {
     "name": "stdout",
     "output_type": "stream",
     "text": [
      "Wed Oct 26 23:04:19 PDT 2016\r\n"
     ]
    }
   ],
   "source": [
    "!date"
   ]
  },
  {
   "cell_type": "markdown",
   "metadata": {},
   "source": [
    "#### Goal for this homework project: ####\n",
    "\n",
    "Identify a gene in my project taxa that is similar to a gene differentially expressed in sea stars that have wasting disease. \n",
    "\n",
    "I'll use [DESeq](https://bioconductor.org/packages/release/bioc/html/DESeq2.html) in R to find differentially expressed genes in sea stars exhibiting wasting disease. The first part of the tutorial is [here](https://github.com/MeganEDuffy/FISH-546/blob/master/analyses/seastar/DESeq-tutorial.R). Later, I'll use the Phel_DEGlist.tab file as a database to find a gene in Procholorcoccus that's similar to a gene differentially expressed in the sea star differential expression file."
   ]
  },
  {
   "cell_type": "markdown",
   "metadata": {
    "collapsed": true
   },
   "source": [
    "First step:\n",
    "\n",
    "-downloading ```Phel_countdata.txt``` from https://github.com/sr320/eimd-sswd/blob/master/data/Phel_countdata.txt "
   ]
  },
  {
   "cell_type": "code",
   "execution_count": 10,
   "metadata": {
    "collapsed": false
   },
   "outputs": [
    {
     "name": "stdout",
     "output_type": "stream",
     "text": [
      "  % Total    % Received % Xferd  Average Speed   Time    Time     Time  Current\n",
      "                                 Dload  Upload   Total   Spent    Left  Speed\n",
      "100  997k  100  997k    0     0  2401k      0 --:--:-- --:--:-- --:--:-- 2942k\n"
     ]
    }
   ],
   "source": [
    "!curl https://raw.githubusercontent.com/sr320/eimd-sswd/master/data/Phel_countdata.txt \\\n",
    "    > /Users/meganduffy/Documents/git-repos/FISH-546/data/Phel_countdata.txt"
   ]
  },
  {
   "cell_type": "code",
   "execution_count": 11,
   "metadata": {
    "collapsed": false
   },
   "outputs": [
    {
     "name": "stdout",
     "output_type": "stream",
     "text": [
      "Feature ID\tTreated_FHL - Total gene reads\tTreated_PH - Total gene reads\tTreated_L - Total gene reads\tControl_FHL - Total gene reads\tControl_DB - Total gene reads\tControl_PH - Total gene reads\r\n",
      "Phel_contig_1\t168\t37\t8\t89\t28\t38\r\n",
      "Phel_contig_10\t9518\t2752\t839\t22\t42\t180\r\n",
      "Phel_contig_100\t260\t565\t413\t616\t1234\t6104\r\n",
      "Phel_contig_1000\t2043\t3842\t3070\t4311\t8527\t31946\r\n",
      "Phel_contig_10000\t9\t12\t13\t32\t21\t211\r\n",
      "Phel_contig_10001\t44\t225\t89\t90\t54\t365\r\n",
      "Phel_contig_10002\t38\t61\t80\t185\t478\t1267\r\n",
      "Phel_contig_10003\t9\t29\t20\t17\t29\t186\r\n",
      "Phel_contig_10004\t8\t25\t6\t4\t19\t92\r\n"
     ]
    }
   ],
   "source": [
    "!head /Users/meganduffy/Documents/git-repos/FISH-546/data/Phel_countdata.txt"
   ]
  },
  {
   "cell_type": "markdown",
   "metadata": {
    "collapsed": true
   },
   "source": [
    "For blastx to work, I need a query and database. To create a database, I need these commands:\n",
    " - use `makeblastdb` to create the database that we need\n",
    " - `-in` to select the input file for the database\n",
    " - `dbtype` specifies the type of file, tab\n",
    " - `-out` puts the output in a specified directory"
   ]
  },
  {
   "cell_type": "code",
   "execution_count": null,
   "metadata": {
    "collapsed": true
   },
   "outputs": [],
   "source": []
  }
 ],
 "metadata": {
  "anaconda-cloud": {},
  "kernelspec": {
   "display_name": "Python [default]",
   "language": "python",
   "name": "python3"
  },
  "language_info": {
   "codemirror_mode": {
    "name": "ipython",
    "version": 3
   },
   "file_extension": ".py",
   "mimetype": "text/x-python",
   "name": "python",
   "nbconvert_exporter": "python",
   "pygments_lexer": "ipython3",
   "version": "3.5.2"
  }
 },
 "nbformat": 4,
 "nbformat_minor": 1
}
