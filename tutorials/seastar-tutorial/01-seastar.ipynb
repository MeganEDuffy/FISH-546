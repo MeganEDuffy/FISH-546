{
 "cells": [
  {
   "cell_type": "code",
   "execution_count": 1,
   "metadata": {
    "collapsed": false
   },
   "outputs": [
    {
     "name": "stdout",
     "output_type": "stream",
     "text": [
      "Wed Oct 26 23:04:19 PDT 2016\r\n"
     ]
    }
   ],
   "source": [
    "!date"
   ]
  },
  {
   "cell_type": "markdown",
   "metadata": {},
   "source": [
    "#### Goal for this homework project: ####\n",
    "\n",
    "Identify a gene in my project taxa that is similar to a gene differentially expressed in sea stars that have wasting disease. \n",
    "\n",
    "I'll use [DESeq](https://bioconductor.org/packages/release/bioc/html/DESeq2.html) in R to find differentially expressed genes in sea stars exhibiting wasting disease. The first part of the tutorial is [here](https://github.com/MeganEDuffy/FISH-546/blob/master/analyses/seastar/DESeq-tutorial.R). Later, I'll use the Phel_DEGlist.tab file as a database to find a gene in Procholorcoccus that's similar to a gene differentially expressed in the sea star differential expression file."
   ]
  },
  {
   "cell_type": "markdown",
   "metadata": {
    "collapsed": true
   },
   "source": [
    "First step:\n",
    "\n",
    "-downloading ```Phel_countdata.txt``` from https://github.com/sr320/eimd-sswd/blob/master/data/Phel_countdata.txt "
   ]
  },
  {
   "cell_type": "code",
   "execution_count": 1,
   "metadata": {
    "collapsed": false
   },
   "outputs": [
    {
     "name": "stdout",
     "output_type": "stream",
     "text": [
      "  % Total    % Received % Xferd  Average Speed   Time    Time     Time  Current\n",
      "                                 Dload  Upload   Total   Spent    Left  Speed\n",
      "100 6381k    0 6381k    0     0  1133k      0 --:--:--  0:00:05 --:--:-- 1360k\n"
     ]
    }
   ],
   "source": [
    "!curl https://github.com/sr320/eimd-sswd/blob/master/data/Phel_countdata.txt \\\n",
    "    > /Users/meganduffy/Documents/git-repos/FISH-546/data/Phel_countdata.txt"
   ]
  },
  {
   "cell_type": "code",
   "execution_count": 5,
   "metadata": {
    "collapsed": false
   },
   "outputs": [
    {
     "name": "stdout",
     "output_type": "stream",
     "text": [
      "\r\n",
      "\r\n",
      "\r\n",
      "\r\n",
      "<!DOCTYPE html>\r\n",
      "<html lang=\"en\" class=\"\">\r\n",
      "  <head prefix=\"og: http://ogp.me/ns# fb: http://ogp.me/ns/fb# object: http://ogp.me/ns/object# article: http://ogp.me/ns/article# profile: http://ogp.me/ns/profile#\">\r\n",
      "    <meta charset='utf-8'>\r\n",
      "    \r\n",
      "\r\n"
     ]
    }
   ],
   "source": [
    "!head /Users/meganduffy/Documents/git-repos/FISH-546/data/Phel_countdata.txt"
   ]
  },
  {
   "cell_type": "markdown",
   "metadata": {
    "collapsed": true
   },
   "source": [
    "For blastx to work, I need a query and database. To create a database, I need these commands:\n",
    " - use `makeblastdb` to create the database that we need\n",
    " - `-in` to select the input file for the database\n",
    " - `dbtype` specifies the type of file, tab\n",
    " - `-out` puts the output in a specified directory"
   ]
  },
  {
   "cell_type": "code",
   "execution_count": null,
   "metadata": {
    "collapsed": true
   },
   "outputs": [],
   "source": []
  }
 ],
 "metadata": {
  "anaconda-cloud": {},
  "kernelspec": {
   "display_name": "Python [default]",
   "language": "python",
   "name": "python3"
  },
  "language_info": {
   "codemirror_mode": {
    "name": "ipython",
    "version": 3
   },
   "file_extension": ".py",
   "mimetype": "text/x-python",
   "name": "python",
   "nbconvert_exporter": "python",
   "pygments_lexer": "ipython3",
   "version": "3.5.2"
  }
 },
 "nbformat": 4,
 "nbformat_minor": 1
}
