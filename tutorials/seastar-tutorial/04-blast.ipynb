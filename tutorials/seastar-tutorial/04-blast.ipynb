{
 "cells": [
  {
   "cell_type": "code",
   "execution_count": 1,
   "metadata": {
    "collapsed": false
   },
   "outputs": [
    {
     "name": "stdout",
     "output_type": "stream",
     "text": [
      "Sat Oct 29 16:23:55 PDT 2016\r\n"
     ]
    }
   ],
   "source": [
    "!date"
   ]
  },
  {
   "cell_type": "markdown",
   "metadata": {},
   "source": [
    "To blast, I need a query and database"
   ]
  },
  {
   "cell_type": "code",
   "execution_count": 2,
   "metadata": {
    "collapsed": false
   },
   "outputs": [
    {
     "name": "stdout",
     "output_type": "stream",
     "text": [
      "USAGE\r\n",
      "  makeblastdb [-h] [-help] [-in input_file] [-input_type type]\r\n",
      "    -dbtype molecule_type [-title database_title] [-parse_seqids]\r\n",
      "    [-hash_index] [-mask_data mask_data_files] [-mask_id mask_algo_ids]\r\n",
      "    [-mask_desc mask_algo_descriptions] [-gi_mask]\r\n",
      "    [-gi_mask_name gi_based_mask_names] [-out database_name]\r\n",
      "    [-max_file_sz number_of_bytes] [-logfile File_Name] [-taxid TaxID]\r\n",
      "    [-taxid_map TaxIDMapFile] [-version]\r\n",
      "\r\n",
      "DESCRIPTION\r\n",
      "   Application to create BLAST databases, version 2.5.0+\r\n",
      "\r\n",
      "Use '-help' to print detailed descriptions of command line arguments\r\n",
      "========================================================================\r\n",
      "\r\n",
      "Error: Argument \"dbtype\". Mandatory value is missing:  `String, `nucl', `prot''\r\n",
      "Error:  (CArgException::eNoArg) Argument \"dbtype\". Mandatory value is missing:  `String, `nucl', `prot''\r\n"
     ]
    }
   ],
   "source": [
    "!~/Applications/ncbi-blast-2.5.0+/bin/makeblastdb \\"
   ]
  },
  {
   "cell_type": "code",
   "execution_count": 3,
   "metadata": {
    "collapsed": false
   },
   "outputs": [
    {
     "data": {
      "text/plain": [
       "'/Users/meganduffy/Documents/git-repos/FISH-546/tutorials/seastar-tutorial'"
      ]
     },
     "execution_count": 3,
     "metadata": {},
     "output_type": "execute_result"
    }
   ],
   "source": [
    "pwd"
   ]
  },
  {
   "cell_type": "code",
   "execution_count": 4,
   "metadata": {
    "collapsed": false
   },
   "outputs": [
    {
     "name": "stdout",
     "output_type": "stream",
     "text": [
      ">Phel_contig_10\r\n",
      "TGTACCCCTGGGTGGACAGAAGCAATTATAGTAAAGTATCTTGCTCAAGGACACAAGTGTCATGACCGGGATTCGAACCCACACCCCGATGACTCAACCACCAGAACTTGAATACGATGCTCTAAACCGCTCAGCCATGACACCCTGGAAAACAACATTCATTATCTCATTCCCATTCAAAGGTCTGTCAGTTTCATATTATTTGTGTCAAGCAATAAAAAACAAGTTGCATTAATATTGCATTTTCATCTGACTACAGCAGCAATTGCGACAGATTCTCAAGACCACAAAGATTCCTATTCTCAGCCTCATCTTGATGCAATGCCAGCTCAGCGTAAAGACGACGAAGCCCTGAGGAGCATCATCAGCCAAGAACCGTGGAACTACGAGGTCTTATACACTGTCAAGATTGAGAAGGTGTACAAGACGGTGGACGGGAAGGTCTCCATGAGGGAAGGGGAGGAGGTTCAGATTAAGAGTTTCTATCCTGGGGGAATGTTTTGCGGAGTGGAGCTCAAGAAAGGAAAATCCTATGTTTTAGGAGGTGCCATCAAGGATCAGATTGGCAGATGTGACTTAATACTCGAATATAAGACCATCTCGAAAAGACAAAAGCAAGGACTCCGCAGCAACTATGGCAAATTCTGTGACAAGTGTCAGATTGCAACATGTCACTCCCCCCAATGCGCCGCCCACCTGCCGGAGAACACGTGTGCGTACATGGCCCACGACAGTTACGACAGACACGGTATCGGCTACCAGGAGGATGACTGCCTCGCAGCGCACTCCAAATGCCTCCCAAAAGAAGGTCACAAGATGTGCCAGTGGCACAGAAATAAAGATTTGAAGGGATGTCTGAGTGAGACGGGTGTGGACAGTCGCCCGGGTGTGAATCAGGGGCCAAGGAGACATCGCCAATCGCAGGGTCAACATTAAGACTGGTTTTTTTTCTTTTGCACTTTGTTCTTCCGTCTCTCTTTGTATTTTCCCACAACCTCCCTCTTTCTTCATCTTGCTTTTTTGTTTTAATAATTTTTTTTTTAATGCTGCACATAATTTATAAAGAGCCAGTGTGGTCTCGAACGTCTTCAATAATAAAACTACTGATCCAAACTTGAAACTGTTACCATTAACTACAGTTAGTAGGGTGTCTCATATTGTATAATGCAAGTAATGTATAAAGACATCGATGACATCACTCTTGGATTGTCATACGAACAATTTTGTTTCATTGTTTCGGGGTTGTGTTTTTCCTTCTTCATTTTTTAATGGGCGGACCAAAAAAGAGCAGGGCAACACCTGACTCTTACTTAATAGACTACATTCAGTTTCCTTTCATTTTTATTTACCAAACAAAAAGTCTGAAGGACTCAAAACTATTTAGTTCATACAATGCCAAAAAAAAGCTGTCATAATTTGGGTTGGGGATAAAAAAGATTAATATACCAACTTTTGTTTCATTGTACACCAATGTGTAATAAGCACTGTAGAGACCATTCTATTGCAAGTAAGTCATTATGGTCATTAACTTGTGGAGTAATTACCAAAAGTATACCCTGCCTTCGAAACCAAAAATATTATCAACACTCTTTTTGATCACAACAATACAATGTTGTTTTTCACCTCTGCTGTATTTTTTTCTGTTTCTAAAAACGCATATACTCCTTCATGCTCACAGCGCACTAAACATGTACACGCTTACAAAATGTAAGCAAATAAATATATATATAAATATTAAGCTTTTAAAAGAAATCTATAAACAAAAATTTAAATAGTGTACAAAAATAGACTAAAATGGCTTTTTAGTGTACTCTATATATTTTTATTATGTGTATGTACTAGAACAAATTCAGTTGTAAGCATGTTTATCTCCGTTTATCTTGCTTAATTTATCCAAAGGCTAAAATGTTTTTAAAATCATCGAATCCGAAGATCGGTTTCTAATCCAAAGTCCAATGATGTTTTGTACCTTTCAAATCTCTAATATTTCATTTTTTTTCCTGGAAAAGAAGTGGTTTGAACAATATTTCAATCATCCTACGGCAGGTAGGTGACGGGATCATGCCTATGATGATACAAACATGGAATTTGGCACACAGTCGGACTAAGTCATGAGAATGATATTTGGCGATGGGGCC\r\n"
     ]
    }
   ],
   "source": [
    "!head -2 data/Phel_merged_transcriptome.fasta"
   ]
  },
  {
   "cell_type": "markdown",
   "metadata": {},
   "source": [
    "Now I'll make a database from this merged trancriptome fasta:"
   ]
  },
  {
   "cell_type": "code",
   "execution_count": 5,
   "metadata": {
    "collapsed": false
   },
   "outputs": [
    {
     "name": "stdout",
     "output_type": "stream",
     "text": [
      "\n",
      "\n",
      "Building a new DB, current time: 10/29/2016 17:00:40\n",
      "New DB name:   /Users/meganduffy/Documents/git-repos/FISH-546/tutorials/seastar-tutorial/data/Phel_merged_transcriptome_db.fasta\n",
      "New DB title:  /Users/meganduffy/Documents/git-repos/FISH-546/tutorials/seastar-tutorial/data/Phel_merged_transcriptome.fasta\n",
      "Sequence type: Nucleotide\n",
      "Keep MBits: T\n",
      "Maximum file size: 1000000000B\n",
      "Adding sequences from FASTA; added 3672 sequences in 0.342427 seconds.\n"
     ]
    }
   ],
   "source": [
    "!~/Applications/ncbi-blast-2.5.0+/bin/makeblastdb \\\n",
    "-in ~/Documents/git-repos/FISH-546/tutorials/seastar-tutorial/data/Phel_merged_transcriptome.fasta \\\n",
    "-dbtype nucl \\\n",
    "-out ~/Documents/git-repos/FISH-546/tutorials/seastar-tutorial/data/Phel_merged_transcriptome_db.fasta \\"
   ]
  },
  {
   "cell_type": "markdown",
   "metadata": {
    "collapsed": true
   },
   "source": [
    "And now I can do my query:"
   ]
  },
  {
   "cell_type": "code",
   "execution_count": null,
   "metadata": {
    "collapsed": true
   },
   "outputs": [],
   "source": [
    "!/Applications/ncbi-blast-2.5.0+/bin/blastn \\\n",
    "-query ~/Documents/git-repos/FISH-546/tutorials/seastar-tutorial/data \\\n",
    "-db ~/Documents/git-repos/FISH-546/tutorials/seastar-tutorial/data/Phel_merged_transcriptome_db.fasta \\\n",
    "-outfmt 6  \\\n",
    "-out ../analyses/GeoTrans-PhelDiffExp_blasted"
   ]
  }
 ],
 "metadata": {
  "anaconda-cloud": {},
  "kernelspec": {
   "display_name": "Python [default]",
   "language": "python",
   "name": "python3"
  },
  "language_info": {
   "codemirror_mode": {
    "name": "ipython",
    "version": 3
   },
   "file_extension": ".py",
   "mimetype": "text/x-python",
   "name": "python",
   "nbconvert_exporter": "python",
   "pygments_lexer": "ipython3",
   "version": "3.5.2"
  }
 },
 "nbformat": 4,
 "nbformat_minor": 1
}
