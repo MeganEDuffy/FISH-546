{
 "cells": [
  {
   "cell_type": "code",
   "execution_count": 4,
   "metadata": {
    "collapsed": false
   },
   "outputs": [
    {
     "data": {
      "text/plain": [
       "[1] \"2016-10-27 16:53:25 PDT\""
      ]
     },
     "metadata": {},
     "output_type": "display_data"
    }
   ],
   "source": [
    "Sys.time()"
   ]
  },
  {
   "cell_type": "code",
   "execution_count": 2,
   "metadata": {
    "collapsed": false
   },
   "outputs": [
    {
     "data": {
      "text/html": [
       "<pre class=language-r><code>function () \n",
       ".Internal(getwd())</code></pre>"
      ],
      "text/latex": [
       "\\begin{minted}{r}\n",
       "function () \n",
       ".Internal(getwd())\n",
       "\\end{minted}"
      ],
      "text/markdown": [
       "```r\n",
       "function () \n",
       ".Internal(getwd())\n",
       "```"
      ],
      "text/plain": [
       "function () \n",
       ".Internal(getwd())\n",
       "<bytecode: 0x103be0098>\n",
       "<environment: namespace:base>"
      ]
     },
     "metadata": {},
     "output_type": "display_data"
    }
   ],
   "source": [
    "getwd"
   ]
  },
  {
   "cell_type": "code",
   "execution_count": 1,
   "metadata": {
    "collapsed": false
   },
   "outputs": [
    {
     "name": "stderr",
     "output_type": "stream",
     "text": [
      "Bioconductor version 3.4 (BiocInstaller 1.24.0), ?biocLite for help\n",
      "BioC_mirror: https://bioconductor.org\n",
      "Using Bioconductor 3.4 (BiocInstaller 1.24.0), R 3.3.1 (2016-06-21).\n",
      "Installing package(s) ‘DESeq2’\n",
      "also installing the dependencies ‘XML’, ‘annotate’, ‘acepack’, ‘genefilter’, ‘geneplotter’, ‘Hmisc’\n",
      "\n",
      "Warning message in install.packages(pkgs = doing, lib = lib, ...):\n",
      "“installation of package ‘XML’ had non-zero exit status”Warning message in install.packages(pkgs = doing, lib = lib, ...):\n",
      "“installation of package ‘acepack’ had non-zero exit status”Warning message in install.packages(pkgs = doing, lib = lib, ...):\n",
      "“installation of package ‘annotate’ had non-zero exit status”Warning message in install.packages(pkgs = doing, lib = lib, ...):\n",
      "“installation of package ‘Hmisc’ had non-zero exit status”Warning message in install.packages(pkgs = doing, lib = lib, ...):\n",
      "“installation of package ‘genefilter’ had non-zero exit status”Warning message in install.packages(pkgs = doing, lib = lib, ...):\n",
      "“installation of package ‘geneplotter’ had non-zero exit status”Warning message in install.packages(pkgs = doing, lib = lib, ...):\n",
      "“installation of package ‘DESeq2’ had non-zero exit status”Updating HTML index of packages in '.Library'\n",
      "Making 'packages.html' ... done\n",
      "Old packages: 'cluster', 'maps', 'pbdZMQ', 'quantreg', 'SparseM'\n"
     ]
    },
    {
     "ename": "ERROR",
     "evalue": "Error in find.package(package, lib.loc): there is no package called ‘DESeq2’\n",
     "output_type": "error",
     "traceback": [
      "Error in find.package(package, lib.loc): there is no package called ‘DESeq2’\nTraceback:\n",
      "1. browseVignettes(\"DESeq2\")",
      "2. tools::getVignetteInfo(package, lib.loc, all)",
      "3. find.package(package, lib.loc)",
      "4. stop(gettextf(\"there is no package called %s\", sQuote(pkg)), \n .     domain = NA)"
     ]
    }
   ],
   "source": [
    "#Step 1: Instal DESeq2 and Load Package\n",
    "source(\"http://bioconductor.org/biocLite.R\")\n",
    "biocLite(\"DESeq2\")\n",
    "browseVignettes(\"DESeq2\")\n",
    "library(DESeq2)\n",
    "\n",
    "#Step 2: Read in data for tutorial\n",
    "data <- read.table(\"Phel_countdata.txt\", header = T, sep = \"\\t\")\n",
    "rownames(data) <- data$Feature\n",
    "data <- data[,-1]\n",
    "\n",
    "#Step 3: Build objects, specify which columns are in which group\n",
    "deseq2.colData <- data.frame(condition=factor(c(rep(\"Treated\", 3), rep(\"Control\", 3))), type=factor(rep(\"single-read\", 6)))\n",
    "rownames(deseq2.colData) <- colnames(data)\n",
    "deseq2.dds <- DESeqDataSetFromMatrix(countData = data, colData = deseq2.colData, design = ~ condition)\n",
    "\n",
    "#Step 4: Run analysis and confirm results\n",
    "deseq2.dds <- DESeq(deseq2.dds)\n",
    "deseq2.res <- results(deseq2.dds)\n",
    "deseq2.res <- deseq2.res[order(rownames(deseq2.res)), ]\n",
    "head(deseq2.res)\n",
    "\n",
    "#Step 5: Count number of hits with adjusted p-value less than 0.05\n",
    "dim(deseq2.res[!is.na(deseq2.res$padj) & deseq2.res$padj <= 0.05, ])\n",
    "\n",
    "#Step 6: Create plot\n",
    "tmp <- deseq2.res\n",
    "#The main plot\n",
    "plot(tmp$baseMean, tmp$log2FoldChange, pch=20, cex=0.45, ylim=c(-3, 3), log=\"x\", col=\"orangered\", main=\"DEG Virus Exposure  (pval <= 0.05)\", xlab=\"mean of normalized counts\", ylab=\"Log2 Fold Change\")\n",
    "#Getting the significant points and plotting them again so they're a different color\n",
    "tmp.sig <- deseq2.res[!is.na(deseq2.res$padj) & deseq2.res$padj <= 0.05, ]\n",
    "points(tmp.sig$baseMean, tmp.sig$log2FoldChange, pch=20, cex=0.45, col=\"aquamarine\")\n",
    "# 2 FC lines\n",
    "abline(h=c(-1,1), col=\"blue\")\n",
    "\n",
    "#Step 7: Create table with differentially expressed contigs\n",
    "write.table(tmp.sig, \"Phel_DEGlist.tab\", row.names = T)\n"
   ]
  },
  {
   "cell_type": "code",
   "execution_count": null,
   "metadata": {
    "collapsed": true
   },
   "outputs": [],
   "source": []
  }
 ],
 "metadata": {
  "anaconda-cloud": {},
  "kernelspec": {
   "display_name": "R",
   "language": "R",
   "name": "ir"
  },
  "language_info": {
   "codemirror_mode": "r",
   "file_extension": ".r",
   "mimetype": "text/x-r-source",
   "name": "R",
   "pygments_lexer": "r",
   "version": "3.3.1"
  }
 },
 "nbformat": 4,
 "nbformat_minor": 1
}
