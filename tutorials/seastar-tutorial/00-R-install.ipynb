{
 "cells": [
  {
   "cell_type": "markdown",
   "metadata": {},
   "source": [
    "### I've never used R! ###\n",
    "\n",
    "My first step in this problem is to install R and some R packages using conda "
   ]
  },
  {
   "cell_type": "code",
   "execution_count": 1,
   "metadata": {
    "collapsed": false
   },
   "outputs": [
    {
     "name": "stdout",
     "output_type": "stream",
     "text": [
      "/Users/meganduffy\n"
     ]
    }
   ],
   "source": [
    "cd ~/"
   ]
  },
  {
   "cell_type": "code",
   "execution_count": null,
   "metadata": {
    "collapsed": false
   },
   "outputs": [
    {
     "name": "stdout",
     "output_type": "stream",
     "text": [
      "Using Anaconda API: https://api.anaconda.org\n",
      "Fetching package metadata .........\n",
      "Solving package specifications: ..........\n",
      "Warning: 8 possible package resolutions (only showing differing packages):\n",
      "  - r::r-catools-1.17.1-1a.tar.bz2, r::r-rcolorbrewer-1.1_2-r3.3.1_3.tar.bz2, r::r-reshape2-1.4.1-r3.3.1_2.tar.bz2\n",
      "  - r::r-catools-1.17.1-1a.tar.bz2, r::r-rcolorbrewer-1.1_2-r3.3.1_3.tar.bz2, r::r-reshape2-1.4.1-1a.tar.bz2\n",
      "  - r::r-catools-1.17.1-r3.3.1_2.tar.bz2, r::r-rcolorbrewer-1.1_2-r3.3.1_3.tar.bz2, r::r-reshape2-1.4.1-1a.tar.bz2\n",
      "  - r::r-catools-1.17.1-r3.3.1_2.tar.bz2, r::r-rcolorbrewer-1.1_2-r3.3.1_3.tar.bz2, r::r-reshape2-1.4.1-r3.3.1_2.tar.bz2\n",
      "  - r::r-catools-1.17.1-r3.3.1_2.tar.bz2, r::r-rcolorbrewer-1.1_2-2a.tar.bz2, r::r-reshape2-1.4.1-r3.3.1_2.tar.bz2\n",
      "  - r::r-catools-1.17.1-1a.tar.bz2, r::r-rcolorbrewer-1.1_2-2a.tar.bz2, r::r-reshape2-1.4.1-r3.3.1_2.tar.bz2\n",
      "  - r::r-catools-1.17.1-1a.tar.bz2, r::r-rcolorbrewer-1.1_2-2a.tar.bz2, r::r-reshape2-1.4.1-1a.tar.bz2\n",
      "  - r::r-catools-1.17.1-r3.3.1_2.tar.bz2, r::r-rcolorbrewer-1.1_2-2a.tar.bz2, r::r-reshape2-1.4.1-1a.tar.bz2\n",
      "\n",
      "Package plan for installation in environment /Users/meganduffy/anaconda:\n",
      "\n",
      "The following packages will be downloaded:\n",
      "\n",
      "    package                    |            build\n",
      "    ---------------------------|-----------------\n",
      "    conda-env-2.6.0            |                0          601 B\n",
      "    gsl-1.16                   |                2         1.9 MB  r\n",
      "    icu-54.1                   |                0        10.9 MB\n",
      "    libgcc-4.8.5               |                1         785 KB  r\n",
      "    zeromq-4.1.3               |                0         577 KB\n",
      "    ncurses-5.9                |                8         757 KB  r\n",
      "    pcre-8.39                  |                0         189 KB\n",
      "    r-base-3.3.1               |                0        47.4 MB  r\n",
      "    conda-4.2.11               |           py35_0         386 KB\n",
      "    r-assertthat-0.1           |         r3.3.1_4          45 KB  r\n",
      "    r-base64enc-0.1_3          |         r3.3.1_0          24 KB  r\n",
      "    r-bh-1.60.0_2              |         r3.3.1_0         8.2 MB  r\n",
      "    r-bitops-1.0_6             |         r3.3.1_2          21 KB  r\n",
      "    r-boot-1.3_18              |         r3.3.1_0         576 KB  r\n",
      "    r-chron-2.3_47             |         r3.3.1_0          98 KB  r\n",
      "    r-cluster-2.0.4            |         r3.3.1_0         472 KB  r\n",
      "    r-codetools-0.2_14         |         r3.3.1_0          45 KB  r\n",
      "    r-colorspace-1.2_6         |         r3.3.1_0         375 KB  r\n",
      "    r-curl-0.9.7               |         r3.3.1_0         273 KB  r\n",
      "    r-dbi-0.4_1                |         r3.3.1_0         214 KB  r\n",
      "    r-dichromat-2.0_0          |         r3.3.1_2         146 KB  r\n",
      "    r-digest-0.6.9             |         r3.3.1_0         113 KB  r\n",
      "    r-foreign-0.8_66           |         r3.3.1_0         225 KB  r\n",
      "    r-formatr-1.4              |         r3.3.1_0          45 KB  r\n",
      "    r-gtable-0.2.0             |         r3.3.1_0          57 KB  r\n",
      "    r-highr-0.6                |         r3.3.1_0          30 KB  r\n",
      "    r-iterators-1.0.8          |         r3.3.1_0         304 KB  r\n",
      "    r-jsonlite-0.9.22          |         r3.3.1_0        1003 KB  r\n",
      "    r-kernsmooth-2.23_15       |         r3.3.1_0          81 KB  r\n",
      "    r-labeling-0.3             |         r3.3.1_2          40 KB  r\n",
      "    r-lattice-0.20_33          |         r3.3.1_0         697 KB  r\n",
      "    r-lazyeval-0.2.0           |         r3.3.1_0         114 KB  r\n",
      "    r-magrittr-1.5             |         r3.3.1_2         155 KB  r\n",
      "    r-maps-3.1.0               |         r3.3.1_0         3.3 MB  r\n",
      "    r-mass-7.3_45              |         r3.3.1_0         1.0 MB  r\n",
      "    r-mime-0.4                 |         r3.3.1_0          25 KB  r\n",
      "    r-nloptr-1.0.4             |         r3.3.1_2         547 KB  r\n",
      "    r-nnet-7.3_12              |         r3.3.1_0          98 KB  r\n",
      "    r-openssl-0.9.4            |         r3.3.1_0         1.1 MB  r\n",
      "    r-r6-2.1.2                 |         r3.3.1_0         231 KB  r\n",
      "    r-randomforest-4.6_12      |         r3.3.1_0         143 KB  r\n",
      "    r-rcolorbrewer-1.1_2       |         r3.3.1_3          28 KB  r\n",
      "    r-rcpp-0.12.5              |         r3.3.1_0         2.2 MB  r\n",
      "    r-repr-0.7                 |         r3.3.1_0          57 KB  r\n",
      "    r-rpart-4.1_10             |         r3.3.1_0         863 KB  r\n",
      "    r-sparsem-1.7              |         r3.3.1_0         734 KB  r\n",
      "    r-spatial-7.3_11           |         r3.3.1_0         121 KB  r\n",
      "    r-stringi-1.1.1            |         r3.3.1_0        10.8 MB  r\n",
      "    r-uuid-0.1_2               |         r3.3.1_0          17 KB  r\n",
      "    r-xtable-1.8_2             |         r3.3.1_0         688 KB  r\n",
      "    r-yaml-2.1.13              |         r3.3.1_2          86 KB  r\n",
      "    r-class-7.3_14             |         r3.3.1_0          82 KB  r\n",
      "    r-data.table-1.9.6         |         r3.3.1_0         1.5 MB  r\n",
      "    r-dplyr-0.4.3              |         r3.3.1_0         1.7 MB  r\n",
      "    r-foreach-1.4.3            |         r3.3.1_0         367 KB  r\n",
      "    r-hexbin-1.27.1            |         r3.3.1_0         778 KB  r\n",
      "    r-htmltools-0.3.5          |         r3.3.1_0         126 KB  r\n",
      "    r-httpuv-1.3.3             |         r3.3.1_0         330 KB  r\n",
      "    r-httr-1.2.0               |         r3.3.1_0         264 KB  r\n",
      "    r-irdisplay-0.4.3          |         r3.3.1_2          27 KB  r\n",
      "    r-markdown-0.7.7           |         r3.3.1_2         105 KB  r\n",
      "    r-matrix-1.2_6             |         r3.3.1_0         3.1 MB  r\n",
      "    r-memoise-1.0.0            |         r3.3.1_0          23 KB  r\n",
      "    r-minqa-1.2.4              |         r3.3.1_2         103 KB  r\n",
      "    r-munsell-0.4.3            |         r3.3.1_0         130 KB  r\n",
      "    r-nlme-3.1_128             |         r3.3.1_0         2.0 MB  r\n",
      "    r-pbdzmq-0.2_3             |         r3.3.1_0         349 KB  r\n",
      "    r-plyr-1.8.4               |         r3.3.1_0         738 KB  r\n",
      "    r-stringr-1.0.0            |         r3.3.1_0          79 KB  r\n",
      "    r-tibble-1.0               |         r3.3.1_0          97 KB  r\n",
      "    r-zoo-1.7_13               |         r3.3.1_0         860 KB  r\n",
      "    r-crayon-1.3.1             |         r3.3.1_0         599 KB  r\n",
      "    r-evaluate-0.9             |         r3.3.1_0          41 KB  r\n",
      "    r-glmnet-2.0_5             |         r3.3.1_0         1.6 MB  r\n",
      "    r-htmlwidgets-0.6          |         r3.3.1_0         720 KB  r\n",
      "    r-matrixmodels-0.4_1       |         r3.3.1_0         250 KB  r\n",
      "    r-mgcv-1.8_12              |         r3.3.1_0         1.9 MB  r\n",
      "    r-pryr-0.1.2               |         r3.3.1_0         196 KB  r\n",
      "    r-rcppeigen-0.3.2.8.1      |         r3.3.1_0         1.5 MB  r\n",
      "    r-reshape2-1.4.1           |         r3.3.1_2         103 KB  r\n",
      "    r-scales-0.4.0             |         r3.3.1_0         208 KB  r\n",
      "    r-shiny-0.13.2             |         r3.3.1_0         2.0 MB  r\n",
      "    r-survival-2.39_4          |         r3.3.1_0         4.5 MB  r\n",
      "    r-tidyr-0.5.1              |         r3.3.1_0         363 KB  r\n",
      "    r-xts-0.9_7                |         r3.3.1_2         610 KB  r\n",
      "    r-ggplot2-2.1.0            |         r3.3.1_0         2.0 MB  r\n",
      "    r-irkernel-0.7             |         r3.3.1_2         109 KB  r\n",
      "    r-knitr-1.13               |         r3.3.1_0         687 KB  r\n",
      "    r-lme4-1.1_12              |         r3.3.1_0         4.3 MB  r\n",
      "    r-quantreg-5.26            |         r3.3.1_0         1.8 MB  r\n",
      "    r-ttr-0.23_1               |         r3.3.1_0         413 KB  r\n",
      "    r-pbkrtest-0.4_6           |         r3.3.1_0         212 KB  r\n",
      "    r-quantmod-0.4_5           |         r3.3.1_2         477 KB  r\n",
      "    r-car-2.1_2                |         r3.3.1_0         1.4 MB  r\n",
      "    r-caret-6.0_70             |         r3.3.1_0         4.5 MB  r\n",
      "    r-3.3.1                    |         r3.3.1_0          620 B  r\n",
      "    r-catools-1.17.1           |               1a         157 KB  r\n",
      "    r-recommended-3.3.1        |         r3.3.1_0          767 B  r\n",
      "    r-rmarkdown-0.9.6          |         r3.3.1_0         1.7 MB  r\n",
      "    r-gistr-0.3.6              |         r3.3.1_0         1.8 MB  r\n",
      "    r-rbokeh-0.4.2             |         r3.3.1_0         1.2 MB  r\n",
      "    r-essentials-1.4.3         |         r3.3.1_0           2 KB  r\n",
      "    ------------------------------------------------------------\n",
      "                                           Total:       145.8 MB\n",
      "\n",
      "The following NEW packages will be INSTALLED:\n",
      "\n",
      "    gsl:            1.16-2             r\n",
      "    icu:            54.1-0              \n",
      "    libgcc:         4.8.5-1            r\n",
      "    ncurses:        5.9-8              r\n",
      "    pcre:           8.39-0              \n",
      "    r:              3.3.1-r3.3.1_0     r\n",
      "    r-assertthat:   0.1-r3.3.1_4       r\n",
      "    r-base:         3.3.1-0            r\n",
      "    r-base64enc:    0.1_3-r3.3.1_0     r\n",
      "    r-bh:           1.60.0_2-r3.3.1_0  r\n",
      "    r-bitops:       1.0_6-r3.3.1_2     r\n",
      "    r-boot:         1.3_18-r3.3.1_0    r\n",
      "    r-car:          2.1_2-r3.3.1_0     r\n",
      "    r-caret:        6.0_70-r3.3.1_0    r\n",
      "    r-catools:      1.17.1-1a          r\n",
      "    r-chron:        2.3_47-r3.3.1_0    r\n",
      "    r-class:        7.3_14-r3.3.1_0    r\n",
      "    r-cluster:      2.0.4-r3.3.1_0     r\n",
      "    r-codetools:    0.2_14-r3.3.1_0    r\n",
      "    r-colorspace:   1.2_6-r3.3.1_0     r\n",
      "    r-crayon:       1.3.1-r3.3.1_0     r\n",
      "    r-curl:         0.9.7-r3.3.1_0     r\n",
      "    r-data.table:   1.9.6-r3.3.1_0     r\n",
      "    r-dbi:          0.4_1-r3.3.1_0     r\n",
      "    r-dichromat:    2.0_0-r3.3.1_2     r\n",
      "    r-digest:       0.6.9-r3.3.1_0     r\n",
      "    r-dplyr:        0.4.3-r3.3.1_0     r\n",
      "    r-essentials:   1.4.3-r3.3.1_0     r\n",
      "    r-evaluate:     0.9-r3.3.1_0       r\n",
      "    r-foreach:      1.4.3-r3.3.1_0     r\n",
      "    r-foreign:      0.8_66-r3.3.1_0    r\n",
      "    r-formatr:      1.4-r3.3.1_0       r\n",
      "    r-ggplot2:      2.1.0-r3.3.1_0     r\n",
      "    r-gistr:        0.3.6-r3.3.1_0     r\n",
      "    r-glmnet:       2.0_5-r3.3.1_0     r\n",
      "    r-gtable:       0.2.0-r3.3.1_0     r\n",
      "    r-hexbin:       1.27.1-r3.3.1_0    r\n",
      "    r-highr:        0.6-r3.3.1_0       r\n",
      "    r-htmltools:    0.3.5-r3.3.1_0     r\n",
      "    r-htmlwidgets:  0.6-r3.3.1_0       r\n",
      "    r-httpuv:       1.3.3-r3.3.1_0     r\n",
      "    r-httr:         1.2.0-r3.3.1_0     r\n",
      "    r-irdisplay:    0.4.3-r3.3.1_2     r\n",
      "    r-irkernel:     0.7-r3.3.1_2       r\n",
      "    r-iterators:    1.0.8-r3.3.1_0     r\n",
      "    r-jsonlite:     0.9.22-r3.3.1_0    r\n",
      "    r-kernsmooth:   2.23_15-r3.3.1_0   r\n",
      "    r-knitr:        1.13-r3.3.1_0      r\n",
      "    r-labeling:     0.3-r3.3.1_2       r\n",
      "    r-lattice:      0.20_33-r3.3.1_0   r\n",
      "    r-lazyeval:     0.2.0-r3.3.1_0     r\n",
      "    r-lme4:         1.1_12-r3.3.1_0    r\n",
      "    r-magrittr:     1.5-r3.3.1_2       r\n",
      "    r-maps:         3.1.0-r3.3.1_0     r\n",
      "    r-markdown:     0.7.7-r3.3.1_2     r\n",
      "    r-mass:         7.3_45-r3.3.1_0    r\n",
      "    r-matrix:       1.2_6-r3.3.1_0     r\n",
      "    r-matrixmodels: 0.4_1-r3.3.1_0     r\n",
      "    r-memoise:      1.0.0-r3.3.1_0     r\n",
      "    r-mgcv:         1.8_12-r3.3.1_0    r\n",
      "    r-mime:         0.4-r3.3.1_0       r\n",
      "    r-minqa:        1.2.4-r3.3.1_2     r\n",
      "    r-munsell:      0.4.3-r3.3.1_0     r\n",
      "    r-nlme:         3.1_128-r3.3.1_0   r\n",
      "    r-nloptr:       1.0.4-r3.3.1_2     r\n",
      "    r-nnet:         7.3_12-r3.3.1_0    r\n",
      "    r-openssl:      0.9.4-r3.3.1_0     r\n",
      "    r-pbdzmq:       0.2_3-r3.3.1_0     r\n",
      "    r-pbkrtest:     0.4_6-r3.3.1_0     r\n",
      "    r-plyr:         1.8.4-r3.3.1_0     r\n",
      "    r-pryr:         0.1.2-r3.3.1_0     r\n",
      "    r-quantmod:     0.4_5-r3.3.1_2     r\n",
      "    r-quantreg:     5.26-r3.3.1_0      r\n",
      "    r-r6:           2.1.2-r3.3.1_0     r\n",
      "    r-randomforest: 4.6_12-r3.3.1_0    r\n",
      "    r-rbokeh:       0.4.2-r3.3.1_0     r\n",
      "    r-rcolorbrewer: 1.1_2-r3.3.1_3     r\n",
      "    r-rcpp:         0.12.5-r3.3.1_0    r\n",
      "    r-rcppeigen:    0.3.2.8.1-r3.3.1_0 r\n",
      "    r-recommended:  3.3.1-r3.3.1_0     r\n",
      "    r-repr:         0.7-r3.3.1_0       r\n",
      "    r-reshape2:     1.4.1-r3.3.1_2     r\n",
      "    r-rmarkdown:    0.9.6-r3.3.1_0     r\n",
      "    r-rpart:        4.1_10-r3.3.1_0    r\n",
      "    r-scales:       0.4.0-r3.3.1_0     r\n",
      "    r-shiny:        0.13.2-r3.3.1_0    r\n",
      "    r-sparsem:      1.7-r3.3.1_0       r\n",
      "    r-spatial:      7.3_11-r3.3.1_0    r\n",
      "    r-stringi:      1.1.1-r3.3.1_0     r\n",
      "    r-stringr:      1.0.0-r3.3.1_0     r\n",
      "    r-survival:     2.39_4-r3.3.1_0    r\n",
      "    r-tibble:       1.0-r3.3.1_0       r\n",
      "    r-tidyr:        0.5.1-r3.3.1_0     r\n",
      "    r-ttr:          0.23_1-r3.3.1_0    r\n",
      "    r-uuid:         0.1_2-r3.3.1_0     r\n",
      "    r-xtable:       1.8_2-r3.3.1_0     r\n",
      "    r-xts:          0.9_7-r3.3.1_2     r\n",
      "    r-yaml:         2.1.13-r3.3.1_2    r\n",
      "    r-zoo:          1.7_13-r3.3.1_0    r\n",
      "    zeromq:         4.1.3-0             \n",
      "\n",
      "The following packages will be UPDATED:\n",
      "\n",
      "    conda:          4.1.11-py35_0        --> 4.2.11-py35_0\n",
      "    conda-env:      2.5.2-py35_0         --> 2.6.0-0      \n",
      "\n",
      "Proceed ([y]/n)? "
     ]
    }
   ],
   "source": [
    "!conda install -c r r-essentials"
   ]
  },
  {
   "cell_type": "markdown",
   "metadata": {
    "collapsed": true
   },
   "source": [
    "This was taking a long time on Jupyter, but I did complete this installation in Terminal"
   ]
  },
  {
   "cell_type": "code",
   "execution_count": 1,
   "metadata": {
    "collapsed": false
   },
   "outputs": [
    {
     "name": "stdout",
     "output_type": "stream",
     "text": [
      "R version 3.3.1 (2016-06-21) -- \"Bug in Your Hair\"\r\n",
      "Copyright (C) 2016 The R Foundation for Statistical Computing\r\n",
      "Platform: x86_64-apple-darwin11.0.0 (64-bit)\r\n",
      "\r\n",
      "R is free software and comes with ABSOLUTELY NO WARRANTY.\r\n",
      "You are welcome to redistribute it under the terms of the\r\n",
      "GNU General Public License versions 2 or 3.\r\n",
      "For more information about these matters see\r\n",
      "http://www.gnu.org/licenses/.\r\n",
      "\r\n"
     ]
    }
   ],
   "source": [
    "!r --version"
   ]
  },
  {
   "cell_type": "markdown",
   "metadata": {},
   "source": [
    "**Now when I go to open a new notebook in Jupyter, R is an option**\n",
    "\n",
    "![R notebook](https://raw.githubusercontent.com/MeganEDuffy/FISH-546/master/images/R_jn.png)\n",
    "\n",
    "I also want to install rpy2, an interface for running R embedded in a Python process."
   ]
  },
  {
   "cell_type": "code",
   "execution_count": 10,
   "metadata": {
    "collapsed": false
   },
   "outputs": [
    {
     "name": "stdout",
     "output_type": "stream",
     "text": [
      "Requirement already satisfied (use --upgrade to upgrade): rpy2 in /Users/meganduffy/anaconda/lib/python3.5/site-packages\r\n",
      "Requirement already satisfied (use --upgrade to upgrade): six in /Users/meganduffy/anaconda/lib/python3.5/site-packages (from rpy2)\r\n"
     ]
    }
   ],
   "source": [
    "!pip install rpy2"
   ]
  },
  {
   "cell_type": "markdown",
   "metadata": {},
   "source": [
    "I redid it above, but before it actually showed the download with no errors.\n",
    "Just checking where I have rpt2:"
   ]
  },
  {
   "cell_type": "code",
   "execution_count": 14,
   "metadata": {
    "collapsed": false
   },
   "outputs": [
    {
     "data": {
      "text/plain": [
       "['/Users/meganduffy/anaconda/lib/python3.5/site-packages/rpy2']"
      ]
     },
     "execution_count": 14,
     "metadata": {},
     "output_type": "execute_result"
    }
   ],
   "source": [
    "import rpy2\n",
    "rpy2.__path__"
   ]
  },
  {
   "cell_type": "markdown",
   "metadata": {},
   "source": [
    "I hope that this rpy2 location isn't a problem for the R script later...\n",
    "When I try to load the extension, I get an ```importerror```:"
   ]
  },
  {
   "cell_type": "code",
   "execution_count": null,
   "metadata": {
    "collapsed": true
   },
   "outputs": [],
   "source": [
    "%load_ext rpy2.ipython"
   ]
  },
  {
   "cell_type": "code",
   "execution_count": 2,
   "metadata": {
    "collapsed": false
   },
   "outputs": [
    {
     "name": "stdout",
     "output_type": "stream",
     "text": [
      "/Users/meganduffy/Documents/git-repos/FISH-546/data\n"
     ]
    }
   ],
   "source": [
    "cd ../../data"
   ]
  },
  {
   "cell_type": "markdown",
   "metadata": {},
   "source": [
    "I also need to install the SQLShare Python Client. Here I am downloading the source and install the API (as per [these directions](https://github.com/uwescience/sqlshare-pythonclient))."
   ]
  },
  {
   "cell_type": "code",
   "execution_count": 3,
   "metadata": {
    "collapsed": false
   },
   "outputs": [
    {
     "name": "stdout",
     "output_type": "stream",
     "text": [
      "/Users/meganduffy\n"
     ]
    }
   ],
   "source": [
    "cd ~/"
   ]
  },
  {
   "cell_type": "code",
   "execution_count": 4,
   "metadata": {
    "collapsed": false
   },
   "outputs": [
    {
     "name": "stdout",
     "output_type": "stream",
     "text": [
      "Cloning into 'sqlshare-pythonclient'...\n",
      "remote: Counting objects: 459, done.\u001b[K\n",
      "remote: Total 459 (delta 0), reused 0 (delta 0), pack-reused 459\u001b[K\n",
      "Receiving objects: 100% (459/459), 4.72 MiB | 2.75 MiB/s, done.\n",
      "Resolving deltas: 100% (237/237), done.\n",
      "Checking connectivity... done.\n"
     ]
    }
   ],
   "source": [
    "!git clone git://github.com/uwescience/sqlshare-pythonclient.git"
   ]
  },
  {
   "cell_type": "markdown",
   "metadata": {},
   "source": [
    "Now I need to install the Python libraries.\n",
    "First I need to configure the API key in your my directory (in a file called ```.sqlshare/config```)"
   ]
  },
  {
   "cell_type": "markdown",
   "metadata": {
    "collapsed": true
   },
   "source": [
    "I'm going to stop here, I don't really need to use all these dependencies in the HW (though good to have later I hope)."
   ]
  },
  {
   "cell_type": "code",
   "execution_count": 1,
   "metadata": {
    "collapsed": false
   },
   "outputs": [
    {
     "name": "stdout",
     "output_type": "stream",
     "text": [
      "Fri Oct 28 11:50:53 PDT 2016\r\n"
     ]
    }
   ],
   "source": [
    "!date"
   ]
  },
  {
   "cell_type": "markdown",
   "metadata": {},
   "source": [
    "I downloaded RStudio to run the R script needed for this project. Since I use Anaconda, I had to tell RStudio where to look for my R binary (when I tried to start RStudio from the dock or from terminal, I got \"```R Not Found: Unable to locate R binary by scanning standard locations```\". \n",
    "\n",
    "To fix this, I edited my .bash_profile to include ```export RSTUDIO_WHICH_R=/Users/meganduffy/anaconda/lib/R/bin/R```, the path of my R binary (since I used conda to install, see above).\n",
    "\n",
    "Then, I made an alias in my ```.bash_profile``` (```alias rstudio='open -a RStudio .'```) so now I can open RStudio from terminal. Works fine!"
   ]
  },
  {
   "cell_type": "code",
   "execution_count": null,
   "metadata": {
    "collapsed": true
   },
   "outputs": [],
   "source": []
  }
 ],
 "metadata": {
  "anaconda-cloud": {},
  "kernelspec": {
   "display_name": "Python [default]",
   "language": "python",
   "name": "python3"
  },
  "language_info": {
   "codemirror_mode": {
    "name": "ipython",
    "version": 3
   },
   "file_extension": ".py",
   "mimetype": "text/x-python",
   "name": "python",
   "nbconvert_exporter": "python",
   "pygments_lexer": "ipython3",
   "version": "3.5.2"
  }
 },
 "nbformat": 4,
 "nbformat_minor": 1
}
