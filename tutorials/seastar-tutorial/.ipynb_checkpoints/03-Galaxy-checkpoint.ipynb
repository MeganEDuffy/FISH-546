{
 "cells": [
  {
   "cell_type": "code",
   "execution_count": 1,
   "metadata": {
    "collapsed": false
   },
   "outputs": [
    {
     "name": "stdout",
     "output_type": "stream",
     "text": [
      "Sat Oct 29 14:54:34 PDT 2016\r\n"
     ]
    }
   ],
   "source": [
    "!date"
   ]
  },
  {
   "cell_type": "markdown",
   "metadata": {},
   "source": [
    "I was having a lot of problems manipulating and trimming my fasta/tab files before, so I'm trying to do the merge in Galaxy this time (see ```seastar-totrial/DESeq2.R```) for first attempt.\n",
    "\n",
    "First, I uploaded the DESeq2 output, ```Phel_DEGlist.tab```, and the downloaded full Phel transcriptome (which I got in ```seastar-tutorial/01-get-data.ipynb```).\n",
    "\n",
    "\n",
    "First, I used the FASTA-to-Tabular converter to make a Phel_transcriptome.tab file:\n",
    "\n",
    "![fasta to tab](https://raw.githubusercontent.com/MeganEDuffy/FISH-546/master/tutorials/seastar-tutorial/galaxy-screengrabs/1-fasta-to-tab.png)"
   ]
  },
  {
   "cell_type": "markdown",
   "metadata": {},
   "source": [
    "Next, I used Galaxy's ```Text Manipuation - Convert``` option to convert the ```Phel_DEGlist.tab``` delimiters to TAB, calling the resulting file ```Phel_DEGlist_f1.tab```:\n",
    "\n",
    "![delimit to TAB](http://localhost:8888/files/tutorials/seastar-tutorial/galaxy-screengrabs/2-delimit-to-tab.png)"
   ]
  },
  {
   "cell_type": "markdown",
   "metadata": {},
   "source": [
    "Since ```Phel_DEGlist_f1. tab``` has quotation marks around the contigs, I trimmed them with Galaxy's ```Trim``` function, calling the resulting file ```Phel_DEGlist_f2.tab```:\n",
    "\n",
    "![trim contigs](http://localhost:8888/files/tutorials/seastar-tutorial/galaxy-screengrabs/3-trim-tab.png)"
   ]
  },
  {
   "cell_type": "markdown",
   "metadata": {},
   "source": [
    "Now I used Galaxy's ```Compare two Datasets``` function to merge the tabulated transcriptome file with the TAB formatted and trimmed ```Phel-DEGlist_f2.tab```. Now we have a file with both contig names and base pair sequences. I named the resulting file ```Phel_merged_transcriptome.tab```:\n",
    "\n",
    "![merging tab files](http://localhost:8888/files/tutorials/seastar-tutorial/galaxy-screengrabs/4-merge-tab.png)"
   ]
  },
  {
   "cell_type": "markdown",
   "metadata": {},
   "source": [
    "Ok, for me to use this merged file with blast it needs to be in fasta format. So I used Galaxy's ```Tabular to FASTA``` function to convert the merged .tab file back to a fasta format, calling it ```Phel_merged_transcriptome.fasta```:\n",
    "\n",
    "![convert to fasta](http://localhost:8888/files/tutorials/seastar-tutorial/galaxy-screengrabs/5-tab-to-fasta.png)\n",
    "\n",
    "I then downloaded ```Phel_merged_transcriptome.fasta``` into seastar-tutorial/data/ \n",
    "\n",
    "Just checking out the fasta looks:"
   ]
  },
  {
   "cell_type": "code",
   "execution_count": 3,
   "metadata": {
    "collapsed": false
   },
   "outputs": [
    {
     "data": {
      "text/plain": [
       "'/Users/meganduffy/Documents/git-repos/FISH-546/tutorials/seastar-tutorial'"
      ]
     },
     "execution_count": 3,
     "metadata": {},
     "output_type": "execute_result"
    }
   ],
   "source": [
    "pwd"
   ]
  },
  {
   "cell_type": "code",
   "execution_count": 4,
   "metadata": {
    "collapsed": false
   },
   "outputs": [
    {
     "name": "stdout",
     "output_type": "stream",
     "text": [
      "DEG_virus_ex.png                      Phel_diff_transcriptome_db.fasta.nin\r\n",
      "ERR653268.fastq.gz                    Phel_diff_transcriptome_db.fasta.nsq\r\n",
      "Galaxy_Phel_transciptome.tab          Phel_diffexpressed_transcriptome.tab\r\n",
      "Phel_DEGlist.tab                      Phel_merged_transcriptome.fasta\r\n",
      "Phel_countdata.txt                    Phel_transcriptome.fasta\r\n",
      "Phel_diff_transcriptome.fasta         pro-mar.fasta\r\n",
      "Phel_diff_transcriptome.tab           pro-mar.fasta.gz\r\n",
      "Phel_diff_transcriptome_db.fasta.nhr\r\n"
     ]
    }
   ],
   "source": [
    "ls data/"
   ]
  },
  {
   "cell_type": "code",
   "execution_count": 9,
   "metadata": {
    "collapsed": false
   },
   "outputs": [
    {
     "name": "stdout",
     "output_type": "stream",
     "text": [
      ">Phel_contig_10\r\n",
      "TGTACCCCTGGGTGGACAGAAGCAATTATAGTAAAGTATCTTGCTCAAGGACACAAGTGTCATGACCGGGATTCGAACCCACACCCCGATGACTCAACCACCAGAACTTGAATACGATGCTCTAAACCGCTCAGCCATGACACCCTGGAAAACAACATTCATTATCTCATTCCCATTCAAAGGTCTGTCAGTTTCATATTATTTGTGTCAAGCAATAAAAAACAAGTTGCATTAATATTGCATTTTCATCTGACTACAGCAGCAATTGCGACAGATTCTCAAGACCACAAAGATTCCTATTCTCAGCCTCATCTTGATGCAATGCCAGCTCAGCGTAAAGACGACGAAGCCCTGAGGAGCATCATCAGCCAAGAACCGTGGAACTACGAGGTCTTATACACTGTCAAGATTGAGAAGGTGTACAAGACGGTGGACGGGAAGGTCTCCATGAGGGAAGGGGAGGAGGTTCAGATTAAGAGTTTCTATCCTGGGGGAATGTTTTGCGGAGTGGAGCTCAAGAAAGGAAAATCCTATGTTTTAGGAGGTGCCATCAAGGATCAGATTGGCAGATGTGACTTAATACTCGAATATAAGACCATCTCGAAAAGACAAAAGCAAGGACTCCGCAGCAACTATGGCAAATTCTGTGACAAGTGTCAGATTGCAACATGTCACTCCCCCCAATGCGCCGCCCACCTGCCGGAGAACACGTGTGCGTACATGGCCCACGACAGTTACGACAGACACGGTATCGGCTACCAGGAGGATGACTGCCTCGCAGCGCACTCCAAATGCCTCCCAAAAGAAGGTCACAAGATGTGCCAGTGGCACAGAAATAAAGATTTGAAGGGATGTCTGAGTGAGACGGGTGTGGACAGTCGCCCGGGTGTGAATCAGGGGCCAAGGAGACATCGCCAATCGCAGGGTCAACATTAAGACTGGTTTTTTTTCTTTTGCACTTTGTTCTTCCGTCTCTCTTTGTATTTTCCCACAACCTCCCTCTTTCTTCATCTTGCTTTTTTGTTTTAATAATTTTTTTTTTAATGCTGCACATAATTTATAAAGAGCCAGTGTGGTCTCGAACGTCTTCAATAATAAAACTACTGATCCAAACTTGAAACTGTTACCATTAACTACAGTTAGTAGGGTGTCTCATATTGTATAATGCAAGTAATGTATAAAGACATCGATGACATCACTCTTGGATTGTCATACGAACAATTTTGTTTCATTGTTTCGGGGTTGTGTTTTTCCTTCTTCATTTTTTAATGGGCGGACCAAAAAAGAGCAGGGCAACACCTGACTCTTACTTAATAGACTACATTCAGTTTCCTTTCATTTTTATTTACCAAACAAAAAGTCTGAAGGACTCAAAACTATTTAGTTCATACAATGCCAAAAAAAAGCTGTCATAATTTGGGTTGGGGATAAAAAAGATTAATATACCAACTTTTGTTTCATTGTACACCAATGTGTAATAAGCACTGTAGAGACCATTCTATTGCAAGTAAGTCATTATGGTCATTAACTTGTGGAGTAATTACCAAAAGTATACCCTGCCTTCGAAACCAAAAATATTATCAACACTCTTTTTGATCACAACAATACAATGTTGTTTTTCACCTCTGCTGTATTTTTTTCTGTTTCTAAAAACGCATATACTCCTTCATGCTCACAGCGCACTAAACATGTACACGCTTACAAAATGTAAGCAAATAAATATATATATAAATATTAAGCTTTTAAAAGAAATCTATAAACAAAAATTTAAATAGTGTACAAAAATAGACTAAAATGGCTTTTTAGTGTACTCTATATATTTTTATTATGTGTATGTACTAGAACAAATTCAGTTGTAAGCATGTTTATCTCCGTTTATCTTGCTTAATTTATCCAAAGGCTAAAATGTTTTTAAAATCATCGAATCCGAAGATCGGTTTCTAATCCAAAGTCCAATGATGTTTTGTACCTTTCAAATCTCTAATATTTCATTTTTTTTCCTGGAAAAGAAGTGGTTTGAACAATATTTCAATCATCCTACGGCAGGTAGGTGACGGGATCATGCCTATGATGATACAAACATGGAATTTGGCACACAGTCGGACTAAGTCATGAGAATGATATTTGGCGATGGGGCC\r\n"
     ]
    }
   ],
   "source": [
    "!head -2 data/Phel_merged_transcriptome.fasta"
   ]
  },
  {
   "cell_type": "markdown",
   "metadata": {},
   "source": [
    "Looks good! So how many differentially expressed contigs are there in the sea star transcriptome?"
   ]
  },
  {
   "cell_type": "code",
   "execution_count": 10,
   "metadata": {
    "collapsed": false
   },
   "outputs": [
    {
     "name": "stdout",
     "output_type": "stream",
     "text": [
      "3672\r\n"
     ]
    }
   ],
   "source": [
    "! grep -c \"^>\" data/Phel_merged_transcriptome.fasta"
   ]
  },
  {
   "cell_type": "markdown",
   "metadata": {},
   "source": [
    "**I'll continue on to blast in seastar-tutorial/04-blast.ipynb!**"
   ]
  },
  {
   "cell_type": "code",
   "execution_count": null,
   "metadata": {
    "collapsed": true
   },
   "outputs": [],
   "source": []
  }
 ],
 "metadata": {
  "anaconda-cloud": {},
  "kernelspec": {
   "display_name": "Python [default]",
   "language": "python",
   "name": "python3"
  },
  "language_info": {
   "codemirror_mode": {
    "name": "ipython",
    "version": 3
   },
   "file_extension": ".py",
   "mimetype": "text/x-python",
   "name": "python",
   "nbconvert_exporter": "python",
   "pygments_lexer": "ipython3",
   "version": "3.5.2"
  }
 },
 "nbformat": 4,
 "nbformat_minor": 1
}
