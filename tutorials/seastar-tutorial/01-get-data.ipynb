{
 "cells": [
  {
   "cell_type": "code",
   "execution_count": 1,
   "metadata": {
    "collapsed": false
   },
   "outputs": [
    {
     "name": "stdout",
     "output_type": "stream",
     "text": [
      "Wed Oct 26 23:04:19 PDT 2016\r\n"
     ]
    }
   ],
   "source": [
    "!date"
   ]
  },
  {
   "cell_type": "markdown",
   "metadata": {},
   "source": [
    "#### Goal for this homework project: ####\n",
    "\n",
    "Identify a gene in my project taxa that is similar to a gene differentially expressed in sea stars exhibiting wasting disease. \n",
    "\n",
    "I'll use [DESeq](https://bioconductor.org/packages/release/bioc/html/DESeq2.html) in R to find differentially expressed genes in sea stars exhibiting wasting disease vs healthy sea stars. That script to install and run DESeq2 can be viewed [here](https://github.com/MeganEDuffy/FISH-546/blob/master/tutorials/seastar-tutorial/DESeq.R).\n",
    "\n",
    "For that I need to download count data from the sea star wasting disease project GitHub repository. \n",
    "I'll also need the full sea star transcriptome to merge with the differentially expressed genes, also available from the project repo.\n",
    "\n",
    "Later, I'll use the BLAST to find a gene in a marine metatrascriptome that's similar to a gene differentially expressed by the sea stars with a wasting viral infection. This notebook shows where I got that metatranscriptome."
   ]
  },
  {
   "cell_type": "markdown",
   "metadata": {
    "collapsed": true
   },
   "source": [
    "First step: downloading ```Phel_countdata.txt``` from https://github.com/sr320/eimd-sswd/blob/master/data/Phel_countdata.txt "
   ]
  },
  {
   "cell_type": "code",
   "execution_count": 10,
   "metadata": {
    "collapsed": false
   },
   "outputs": [
    {
     "name": "stdout",
     "output_type": "stream",
     "text": [
      "  % Total    % Received % Xferd  Average Speed   Time    Time     Time  Current\n",
      "                                 Dload  Upload   Total   Spent    Left  Speed\n",
      "100  997k  100  997k    0     0  2401k      0 --:--:-- --:--:-- --:--:-- 2942k\n"
     ]
    }
   ],
   "source": [
    "!curl https://raw.githubusercontent.com/sr320/eimd-sswd/master/data/Phel_countdata.txt \\\n",
    "    > /Users/meganduffy/Documents/git-repos/FISH-546/tutorials/seastar-tutorial/data/Phel_countdata.txt"
   ]
  },
  {
   "cell_type": "code",
   "execution_count": 3,
   "metadata": {
    "collapsed": false
   },
   "outputs": [
    {
     "data": {
      "text/plain": [
       "'/Users/meganduffy/Documents/git-repos/FISH-546/tutorials/seastar-tutorial'"
      ]
     },
     "execution_count": 3,
     "metadata": {},
     "output_type": "execute_result"
    }
   ],
   "source": [
    "pwd"
   ]
  },
  {
   "cell_type": "code",
   "execution_count": 5,
   "metadata": {
    "collapsed": false
   },
   "outputs": [
    {
     "name": "stdout",
     "output_type": "stream",
     "text": [
      "Feature ID\tTreated_FHL - Total gene reads\tTreated_PH - Total gene reads\tTreated_L - Total gene reads\tControl_FHL - Total gene reads\tControl_DB - Total gene reads\tControl_PH - Total gene reads\r\n",
      "Phel_contig_1\t168\t37\t8\t89\t28\t38\r\n",
      "Phel_contig_10\t9518\t2752\t839\t22\t42\t180\r\n",
      "Phel_contig_100\t260\t565\t413\t616\t1234\t6104\r\n",
      "Phel_contig_1000\t2043\t3842\t3070\t4311\t8527\t31946\r\n",
      "Phel_contig_10000\t9\t12\t13\t32\t21\t211\r\n",
      "Phel_contig_10001\t44\t225\t89\t90\t54\t365\r\n",
      "Phel_contig_10002\t38\t61\t80\t185\t478\t1267\r\n",
      "Phel_contig_10003\t9\t29\t20\t17\t29\t186\r\n",
      "Phel_contig_10004\t8\t25\t6\t4\t19\t92\r\n"
     ]
    }
   ],
   "source": [
    "!head data/Phel_countdata.txt"
   ]
  },
  {
   "cell_type": "code",
   "execution_count": 6,
   "metadata": {
    "collapsed": false
   },
   "outputs": [
    {
     "name": "stdout",
     "output_type": "stream",
     "text": [
      "   29476 data/Phel_countdata.txt\r\n"
     ]
    }
   ],
   "source": [
    "!wc -l data/Phel_countdata.txt"
   ]
  },
  {
   "cell_type": "markdown",
   "metadata": {},
   "source": [
    "I will also download the entire sea star transcriptome, also using curl:"
   ]
  },
  {
   "cell_type": "code",
   "execution_count": 7,
   "metadata": {
    "collapsed": false
   },
   "outputs": [
    {
     "name": "stdout",
     "output_type": "stream",
     "text": [
      "  % Total    % Received % Xferd  Average Speed   Time    Time     Time  Current\n",
      "                                 Dload  Upload   Total   Spent    Left  Speed\n",
      "100 39.4M  100 39.4M    0     0  7088k      0  0:00:05  0:00:05 --:--:-- 10.6M\n"
     ]
    }
   ],
   "source": [
    "!curl https://raw.githubusercontent.com/sr320/eimd-sswd/master/data/Phel_transcriptome.fasta \\\n",
    "    > /Users/meganduffy/Documents/git-repos/FISH-546/tutorials/seastar-tutorial/data/Phel_transcriptome.fasta"
   ]
  },
  {
   "cell_type": "code",
   "execution_count": 12,
   "metadata": {
    "collapsed": false
   },
   "outputs": [
    {
     "name": "stdout",
     "output_type": "stream",
     "text": [
      ">Phel_contig_1\r\n",
      "CAAATATATGAACGGTTGATTGTCAACGATTAGTACATGTTTTCATTGTTCCCCACGCCCGCCCCCCCCCACTCAAACATTTAAAGTGTGAAATATTATTTATCCACAAATTTCCTTAAACCTGCAAACTTGTCTGCTGTCTCTTATTGGAAGTTATGAAAAAGAACAACGGGTTTTCTTTAAAGGGTCTGCGTGCGATTTTCAACCTTTTGAGTAATAGCAGTTATTTTGATAACCGATTTTTTTCAAAGCTCAACAGCTTTTTAAAATAAGGAATCCTATAATGGCCAAACGAATACTATAAAAATAAGGGTTCTCTTAATTGTATAAAACGTATAATTTTATCAATTTTGGGACCGTGTAATTTTTTAAAGACCACAAGAATGTTACATACAACAAATAGACGAAACTCGTAGCTTTGGAAACTACGTCATGGGCGTTTGGTCAAAAGCTGGAGAGAAAGAGAGGTGGGGTGCCAGACTTAAGTAGTCACGTGATCTGACCAACGCACATCGGAAGCTCGATCGGATGAAATCTTCTCTATCGTTCTTGCGTCTATACGTGCTACGAAGAGCTGACAGAAGTTTGGACTTGTTTACTTCTTGCACCTGTTGATGGAACGGCCACGGACCTTGTCGCACGCACACCTGGAGCCAGTGCTCGGATCGACGCAACGGATGTACTGTCTTCCCCTTCCGCGTTTCTCAAGTAGGTACTCAAAGTCGTCCGCGTCGAAGTTGGCCTCGGCGTCCCTCTTCTCCAGCTCCTCCATGTCCTCCTCTGTGTAGTACGGGGTGACGAGCACCACCAGGGCGGCCACAATGGCCAGTGCTAGAAGACACTTCGTATTCATTCTGCTGGTGGTTGGATGTGCGCAAACAAGACAGGAGAGACTTATTAGAATC\r\n"
     ]
    }
   ],
   "source": [
    "!head -2 data/Phel_transcriptome.fasta"
   ]
  },
  {
   "cell_type": "code",
   "execution_count": 13,
   "metadata": {
    "collapsed": false
   },
   "outputs": [
    {
     "name": "stdout",
     "output_type": "stream",
     "text": [
      "29476\r\n"
     ]
    }
   ],
   "source": [
    "!fgrep -c \">\" data/Phel_transcriptome.fasta"
   ]
  },
  {
   "cell_type": "markdown",
   "metadata": {
    "collapsed": true
   },
   "source": [
    "I also manually downloaded a marine metatransciptome that was genereated by Kopf et al **(2015)**, \"Metatranscriptome of marine bacterioplankton during winter time in the North Sea assessed by total RNA sequencing\", _Marine Genomics_, 19:45-46. You can view this publication [here](http://www.sciencedirect.com.offcampus.lib.washington.edu/science/article/pii/S1874778714001469). Data from this study are availble at the [European Nucelotide Archive](http://www.ebi.ac.uk/ena) with the accession number [PRJEB5205](http://www.ebi.ac.uk/ena/data/view/PRJEB5205)\n",
    "\n",
    "downloaded at 11:44 pm 2016-10-28 as a gzip compressed archive called ```ERR653268.fastq.gz```."
   ]
  },
  {
   "cell_type": "code",
   "execution_count": 3,
   "metadata": {
    "collapsed": false
   },
   "outputs": [
    {
     "data": {
      "text/plain": [
       "'/Users/meganduffy/Documents/git-repos/FISH-546/tutorials/seastar-tutorial'"
      ]
     },
     "execution_count": 3,
     "metadata": {},
     "output_type": "execute_result"
    }
   ],
   "source": [
    "pwd"
   ]
  },
  {
   "cell_type": "code",
   "execution_count": 4,
   "metadata": {
    "collapsed": false
   },
   "outputs": [
    {
     "name": "stdout",
     "output_type": "stream",
     "text": [
      "DEG_virus_ex.png                      Phel_diff_transcriptome_db.fasta.nin\r\n",
      "ERR653268.fastq.gz                    Phel_diff_transcriptome_db.fasta.nsq\r\n",
      "Galaxy_Phel_transciptome.tab          Phel_diffexpressed_transcriptome.tab\r\n",
      "Phel_DEGlist.tab                      Phel_merged_transcriptome.fasta\r\n",
      "Phel_countdata.txt                    Phel_transcriptome.fasta\r\n",
      "Phel_diff_transcriptome.fasta         marine-metatracript-datasum.png\r\n",
      "Phel_diff_transcriptome.tab           pro-mar.fasta\r\n",
      "Phel_diff_transcriptome_db.fasta.nhr  pro-mar.fasta.gz\r\n"
     ]
    }
   ],
   "source": [
    "ls data/"
   ]
  },
  {
   "cell_type": "code",
   "execution_count": 5,
   "metadata": {
    "collapsed": false
   },
   "outputs": [
    {
     "name": "stdout",
     "output_type": "stream",
     "text": [
      "gunzip: data/ERR653268.fastq.gz: unexpected end of file\r\n"
     ]
    }
   ],
   "source": [
    "!gunzip data/ERR653268.fastq.gz"
   ]
  },
  {
   "cell_type": "markdown",
   "metadata": {},
   "source": [
    "When I inspect this file, it's 0 KB. So maybe it's corrupted in some way?\n",
    "\n",
    "I decided instead to download a marine microbial eukaryotic metatransciptome from an iMicrobe project on CyVerse.\n",
    "[This](http://datacommons.cyverse.org/browse/iplant/home/shared/imicrobe/projects/104/samples/2468) is where I found the data. The README explains the fasta file I downloaded:\n",
    "\n",
    "```\n",
    "contigs.fa:  Contigs  from the assembly, minimum 150 bp. Possibly\n",
    "includes UTRs. Sequences contain IUPAC ambiguity codes represent-\n",
    "ing    ambiguous   bases,   http://www.bioinformatics.org/sms/iu-\n",
    "pac.html.\n",
    "```"
   ]
  },
  {
   "cell_type": "code",
   "execution_count": 6,
   "metadata": {
    "collapsed": false
   },
   "outputs": [
    {
     "name": "stdout",
     "output_type": "stream",
     "text": [
      "  % Total    % Received % Xferd  Average Speed   Time    Time     Time  Current\n",
      "                                 Dload  Upload   Total   Spent    Left  Speed\n",
      "100  9.8M    0  9.8M    0     0  3591k      0 --:--:--  0:00:02 --:--:-- 3658k\n"
     ]
    }
   ],
   "source": [
    "!curl https://de.iplantcollaborative.org/anon-files//iplant/home/shared/imicrobe/projects/104/samples/2468/MMETSP1325.cds.fa \\\n",
    "    > /Users/meganduffy/Documents/git-repos/FISH-546/tutorials/seastar-tutorial/data/MMETSP1325.cds.fasta"
   ]
  },
  {
   "cell_type": "code",
   "execution_count": 9,
   "metadata": {
    "collapsed": false
   },
   "outputs": [
    {
     "name": "stdout",
     "output_type": "stream",
     "text": [
      ">MMETSP1325-20131115|3_1 len=198\r\n",
      "XXGGCCGAGCGAGCTGTCGCACAGCTTGAGGTACGGCTTCATTCAGCAAACGACAAGTACAGGACAACGGCGGCCGCCCATGCAGCGAACGTAGATGAGC\r\n",
      "TGCAACGCGGATTCAAAGCAGCTCAGCAGCAGCGAGAGGCGTCGGCGATGGAGGCGGACGCCGTTTTGAAACGGGAGCTTGCCACTATGCGAGAGTCG\r\n",
      ">MMETSP1325-20131115|1_1 len=558\r\n",
      "ATGAACGCCTCATTCCGTGGCGCGCTGGAGCACTACCTCGTTCCGAGGAGAGAGGTTACGCACTCTCAGGCGGTGTGCGGTTTGTACAGGAAGTGCCTGA\r\n"
     ]
    }
   ],
   "source": [
    "!head -5 data/MMETSP1325.cds.fasta"
   ]
  },
  {
   "cell_type": "markdown",
   "metadata": {},
   "source": [
    "**I'll use this as my query later on when I blast (see seastar-tutorial/04-blast.ipynb).**"
   ]
  },
  {
   "cell_type": "code",
   "execution_count": null,
   "metadata": {
    "collapsed": true
   },
   "outputs": [],
   "source": []
  }
 ],
 "metadata": {
  "anaconda-cloud": {},
  "kernelspec": {
   "display_name": "Python [default]",
   "language": "python",
   "name": "python3"
  },
  "language_info": {
   "codemirror_mode": {
    "name": "ipython",
    "version": 3
   },
   "file_extension": ".py",
   "mimetype": "text/x-python",
   "name": "python",
   "nbconvert_exporter": "python",
   "pygments_lexer": "ipython3",
   "version": "3.5.2"
  }
 },
 "nbformat": 4,
 "nbformat_minor": 1
}
