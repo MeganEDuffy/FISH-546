{
 "cells": [
  {
   "cell_type": "markdown",
   "metadata": {},
   "source": [
    "### DNA Methylation exercise ###\n",
    "\n",
    "In this exercise I will take a given single oyster (O. lurida) genome and use CoGe to find sequences that are methylated. After identifying highly methylated sequences, I'll BLAST them against a marine oxygen minimum zone microbial metagenome to see if there are any matches. I'm sure there will be some issues there, as there may not be much intersting homology between taxa. But the question of microbial DNA methylation is really intriguing, as DNA methylation in bacteria seems to be important as a protection against phage. From what I can tell, many bacterial DNA methyltransferases described in the literature are part of restriction-modification systems, where base methylation prevents DNA cleavage by endonucleases, thus protecting host DNA (see [Sanchez-Romero et al., 2015](http://www.sciencedirect.com.offcampus.lib.washington.edu/science/article/pii/S1369527415000399)).\n",
    "\n",
    "Virus-host relationships are poorly understood in marine systems, but the concept of the 'viral shunt' posits that phage lysis is an important means of releasing nutrients and carbon back into seawater to fuel microbial heterotrophy and autotrophy. This priming of the microbial loop may be an \n",
    "\n",
    "\n",
    "The sequences I'm analyzing can be found here: http://owl.fish.washington.edu/nightingales/O_lurida/20160203_mbdseq/zr1394_2_s6_R1.fastq.gz\n",
    "\n"
   ]
  },
  {
   "cell_type": "code",
   "execution_count": 2,
   "metadata": {
    "collapsed": false
   },
   "outputs": [
    {
     "name": "stdout",
     "output_type": "stream",
     "text": [
      "Fri Nov 11 11:18:35 PST 2016\r\n"
     ]
    }
   ],
   "source": [
    "!date"
   ]
  },
  {
   "cell_type": "code",
   "execution_count": null,
   "metadata": {
    "collapsed": true
   },
   "outputs": [],
   "source": []
  }
 ],
 "metadata": {
  "anaconda-cloud": {},
  "kernelspec": {
   "display_name": "Python [default]",
   "language": "python",
   "name": "python3"
  },
  "language_info": {
   "codemirror_mode": {
    "name": "ipython",
    "version": 3
   },
   "file_extension": ".py",
   "mimetype": "text/x-python",
   "name": "python",
   "nbconvert_exporter": "python",
   "pygments_lexer": "ipython3",
   "version": "3.5.2"
  }
 },
 "nbformat": 4,
 "nbformat_minor": 1
}
