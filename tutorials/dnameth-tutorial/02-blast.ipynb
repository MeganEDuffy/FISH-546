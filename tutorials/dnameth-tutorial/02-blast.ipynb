{
 "cells": [
  {
   "cell_type": "markdown",
   "metadata": {},
   "source": [
    "### DNA methylation exercise part 2: using BLAST to compare _O. lurida_ methylated sequence with marine metagenome ###\n",
    "\n",
    "In the first part of this exercise, detailed in this notebook, I used the CoGe comparative genomics platform to identify CpG methylated sequences in my single osyter sample. I then used the CoGe genome browser to identify a highly methylated sequence to explore against a marine metagenome.\n",
    "\n",
    "The chosen sequence was ```HWI-C00124:164:C7URDANXX:3:1102:15380:53093_1:N:0:GTGAAA``` and its nucleotide sequence is ```ATACACGCACGATAAAATAAAATTCACGCACGATACGATAAAATACACGC```. \n",
    "\n",
    "Here, I use the [NCBI blast online nucleotide tool](https://blast.ncbi.nlm.nih.gov/Blast.cgi) to blast that methylated sequence against a marine metagenome (taxid:408172):\n",
    "\n",
    "![blastn](https://raw.githubusercontent.com/MeganEDuffy/FISH-546/master/tutorials/dnameth-tutorial/images/blast.png)"
   ]
  },
  {
   "cell_type": "code",
   "execution_count": null,
   "metadata": {
    "collapsed": true
   },
   "outputs": [],
   "source": []
  }
 ],
 "metadata": {
  "anaconda-cloud": {},
  "kernelspec": {
   "display_name": "Python [default]",
   "language": "python",
   "name": "python3"
  },
  "language_info": {
   "codemirror_mode": {
    "name": "ipython",
    "version": 3
   },
   "file_extension": ".py",
   "mimetype": "text/x-python",
   "name": "python",
   "nbconvert_exporter": "python",
   "pygments_lexer": "ipython3",
   "version": "3.5.2"
  }
 },
 "nbformat": 4,
 "nbformat_minor": 1
}
