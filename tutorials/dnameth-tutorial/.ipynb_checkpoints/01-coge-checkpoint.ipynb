{
 "cells": [
  {
   "cell_type": "markdown",
   "metadata": {},
   "source": [
    "### DNA methylation exercise part 1: using CoGe ###\n",
    "\n",
    "[CoGe](https://genomevolution.org/coge/) is a browser-based platform for comparing, storing and visualizing genomic information and comparative analyses. From their [FAQ page](https://genomevolution.org/wiki/index.php/FAQs#What_is_CoGe.3F), they list the four key goals of CoGe:\n",
    "\n",
    "1. Store multiple versions of multiple genomes from multiple organism in a single platform\n",
    "2. Quickly find sequences of interest in genomes of interest (with associated information)\n",
    "3. Comparing multiple genomic regions using any algorithms \n",
    "4. Visualize the results of analyses in such a way as to make the identification of \"interesting\" patterns quick and easy.\n",
    "\n",
    "My goals for using CoGe for this project are to:\n",
    "\n",
    "1. Use CoGe to identify methylated sequences in my single osyter sample\n",
    "2. Visualize regions of high methylation\n",
    "3. Browse for an area of methylation I want to further analyze\n",
    "\n",
    "The rest of the work will be done using BLAST to compare a selected region of the oyster genome to a microbial metagenome.  \n"
   ]
  },
  {
   "cell_type": "code",
   "execution_count": 2,
   "metadata": {
    "collapsed": false
   },
   "outputs": [
    {
     "name": "stdout",
     "output_type": "stream",
     "text": [
      "Fri Nov 11 11:18:35 PST 2016\r\n"
     ]
    }
   ],
   "source": [
    "!date"
   ]
  },
  {
   "cell_type": "code",
   "execution_count": 3,
   "metadata": {
    "collapsed": false
   },
   "outputs": [
    {
     "data": {
      "text/plain": [
       "'/Users/meganduffy/Documents/git-repos/FISH-546/tutorials/dnameth-tutorial'"
      ]
     },
     "execution_count": 3,
     "metadata": {},
     "output_type": "execute_result"
    }
   ],
   "source": [
    "pwd"
   ]
  },
  {
   "cell_type": "code",
   "execution_count": 4,
   "metadata": {
    "collapsed": false
   },
   "outputs": [
    {
     "name": "stdout",
     "output_type": "stream",
     "text": [
      "/Users/meganduffy/Documents/git-repos/FISH-546\n"
     ]
    }
   ],
   "source": [
    "cd ~/Documents/git-repos/FISH-546/"
   ]
  },
  {
   "cell_type": "markdown",
   "metadata": {},
   "source": [
    "Step 1: uploading data to CoGe and running Bismark to find methylated sequences in my data.\n",
    "\n",
    "[Bismark](http://www.bioinformatics.babraham.ac.uk/projects/bismark/) is a alinger program to map bisulfite treated sequencing reads to a genome of interest (_O. lurida_, in this case) and perform methylation calls in a single step.\n",
    "\n",
    "First I logged into my [CyVerse](http://www.cyverse.org/) account that I created earlier this year to download metagenomes and metatranscriptomes from [iMicrobe](http://imicrobe.us/). In my CyVerse dashboard I needed to request access for CoGe, which took seconds to complete. \n",
    "\n",
    "Once at my CoGe dashboard, I navigated to ```My Data``` in the top selection menu. Once at the ```My Data``` page, I started a new experiment by clicking on the ```NEW``` button. The screenshots below show how I set up the raw data, analysis parameters, and notifcation setting for this experiment:\n",
    "\n",
    "![experiment set up 1]()\n",
    "![experiment set up 2]()\n",
    "![experiment set up 3]()"
   ]
  }
 ],
 "metadata": {
  "anaconda-cloud": {},
  "kernelspec": {
   "display_name": "Python [default]",
   "language": "python",
   "name": "python3"
  },
  "language_info": {
   "codemirror_mode": {
    "name": "ipython",
    "version": 3
   },
   "file_extension": ".py",
   "mimetype": "text/x-python",
   "name": "python",
   "nbconvert_exporter": "python",
   "pygments_lexer": "ipython3",
   "version": "3.5.2"
  }
 },
 "nbformat": 4,
 "nbformat_minor": 1
}
