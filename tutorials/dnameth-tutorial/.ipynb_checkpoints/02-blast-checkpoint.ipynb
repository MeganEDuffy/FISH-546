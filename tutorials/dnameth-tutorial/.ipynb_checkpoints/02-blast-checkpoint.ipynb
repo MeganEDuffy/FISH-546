{
 "cells": [
  {
   "cell_type": "markdown",
   "metadata": {},
   "source": [
    "### DNA methylation exercise part 2: using BLAST to compare _O. lurida_ methylated sequence with marine metagenomes ###\n",
    "\n",
    "In the first part of this exercise, detailed in this notebook, I used the CoGe comparative genomics platform to identify CpG methylated sequences in my single osyter sample. I then used the CoGe genome browser to identify a highly methylated sequence to explore against a marine metagenome.\n",
    "\n",
    "The chosen sequence was ```HWI-C00124:164:C7URDANXX:3:1102:15380:53093_1:N:0:GTGAAA``` and its nucleotide sequence is ```ATACACGCACGATAAAATAAAATTCACGCACGATACGATAAAATACACGC```. \n",
    "\n",
    "Here, I use the [NCBI blast online nucleotide tool](https://blast.ncbi.nlm.nih.gov/Blast.cgi) to ```blastn``` that methylated sequence against marine metagenomes (taxid:408172):\n",
    "\n",
    "![blastn](https://raw.githubusercontent.com/MeganEDuffy/FISH-546/master/tutorials/dnameth-tutorial/images/blastn.png)"
   ]
  },
  {
   "cell_type": "markdown",
   "metadata": {},
   "source": [
    "This didn't return any sequences with significant alignment. \n",
    "\n",
    "I tried several other highly methylated and not so methylated sequences from scaffold 770 to blastn against marine metagenomes. These are the following sequences I used:\n",
    " \n",
    " - HWI-C00124:164:C7URDANXX:3:1210:19075:43893_1:N:0:GTGAAA\n",
    " - HWI-C00124:164:C7URDANXX:3:1301:8772:85775_1:N:0:GTGAAA\n",
    " - HWI-C00124:164:C7URDANXX:3:2212:16493:81910_1:N:0:GTGAAA\n",
    " - HWI-C00124:164:C7URDANXX:3:1306:4962:46315_1:N:0:GTGAAA\n",
    " - HWI-C00124:164:C7URDANXX:3:2110:7623:41408_1:N:0:GTGAAA\n",
    " \n",
    " These also didn't return any blastn matches.\n",
    " \n",
    " To try something I was pretty sure would work, I used the Pacific oyster (_C. gigas_) to search against the first selected sequence. This did produce significant alignments (again, using ```blastn```):\n",
    "\n",
    "![input blastn c. gigas](https://raw.githubusercontent.com/MeganEDuffy/FISH-546/master/tutorials/dnameth-tutorial/images/c.gigas-blastn-in.png)\n",
    "\n",
    "The output was:\n",
    "\n",
    "![results of blastn c gigas](https://raw.githubusercontent.com/MeganEDuffy/FISH-546/master/tutorials/dnameth-tutorial/images/c.gigas-blastn.png)"
   ]
  },
  {
   "cell_type": "markdown",
   "metadata": {},
   "source": [
    "I selected another scaffold (528) and found a highly methylated region, between 44,000 and 45,000 bp.\n",
    "I chose a sequence from this region, HWI-C00124:164:C7URDANXX:3:1111:6102:27846_1:N:0:GTGAAA. Its nucleotide sequence is TTTTATTATTATCGGAATTAAATATTAAAAAGAGTAAATAAATAAAAATAA.\n",
    " \n",
    " I did a ```blastn``` query on this sequence against _Procholococcus marinus_, a ubiquitous cyanobacterium in the surface waters of the Eastern Tropical North Pacific (and much of the world ocean). See search setup below:\n",
    " \n",
    " ![blastn p. marinus search params](https://raw.githubusercontent.com/MeganEDuffy/FISH-546/master/tutorials/dnameth-tutorial/images/blastn-p.marinus-in.png)\n",
    " \n",
    " This search did return sequences with significant alignment! See below:\n",
    " \n",
    " ![blastn p. marinus results](https://raw.githubusercontent.com/MeganEDuffy/FISH-546/master/tutorials/dnameth-tutorial/images/blastn-p.mariun-out.png)"
   ]
  },
  {
   "cell_type": "code",
   "execution_count": null,
   "metadata": {
    "collapsed": true
   },
   "outputs": [],
   "source": []
  }
 ],
 "metadata": {
  "anaconda-cloud": {},
  "kernelspec": {
   "display_name": "Python [default]",
   "language": "python",
   "name": "python3"
  },
  "language_info": {
   "codemirror_mode": {
    "name": "ipython",
    "version": 3
   },
   "file_extension": ".py",
   "mimetype": "text/x-python",
   "name": "python",
   "nbconvert_exporter": "python",
   "pygments_lexer": "ipython3",
   "version": "3.5.2"
  }
 },
 "nbformat": 4,
 "nbformat_minor": 1
}
