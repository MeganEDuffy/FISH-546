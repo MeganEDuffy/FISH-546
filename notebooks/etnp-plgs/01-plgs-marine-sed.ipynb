{
 "cells": [
  {
   "cell_type": "markdown",
   "metadata": {},
   "source": [
    "### Database searching-based protein idenifications using PLGS ###\n",
    "\n",
    "In this notebook I'll detail my work using Waters proprietary software ProteinLynx Global Server (PLGS) v3.0.2 compare my MS^e spectral data against a protein sequence database to correlate predicted peptide fragmentation patterns with observed sample ions. While I can't run this tool from the commandline, screenshots will track the searches done and give a sense of the results generated.\n",
    "\n",
    "I am still peak-picking and refining by hand the watern column ETNP samples, but I have fresh ETNP sediment samples that I have accessed the chromatography of and am ready to process with PLGS. They are the Mayer sediment set, R1-R12. To search my spectral data against, I used the Global Ocean Survey (GOS) Combined Assembly Protein database (Rusch et al., 2007; Yooseph et al., 2007) from Community Cyberinfrastructure for Advanced Marine Microbial Ecology Research and Analysis, CAMERA, downloaded on 29 September 2016.\n",
    "\n",
    "The samples were taken from the following depths in a sediment core:\n",
    "\n",
    "|Sample | Depth (cm) |\n",
    "|-------|:----------:|\n",
    "|R2\t    |          0 |\n",
    "|R4\t    |          1 |\n",
    "|R3\t    |          2 |\n",
    "|R10    |          3 |\n",
    "|R8\t    |          4 |\n",
    "|R9\t    |          5 |\n",
    "|R5\t    |          7 |\n",
    "|R7\t    |          9 |\n",
    "|R12    |          11|\n",
    "|R6\t    |          13|\n",
    "|R11    |          15|\n",
    "|R1\t    |          17|\n",
    "\n",
    "The first results are shown below as the screen shots of PLGS database searching outputs. The seach parameters were as such:\n",
    "\n",
    "![plgs workflow parameters](https://raw.githubusercontent.com/MeganEDuffy/FISH-546/master/images/plgs/marine-sed-search-params.png)"
   ]
  },
  {
   "cell_type": "markdown",
   "metadata": {},
   "source": [
    "Here you can see we matched 26 proteins (minus the ```Hi3``` quantitation _E.coli_ peptide std) in the 0 cm sediment sample:\n",
    "\n",
    "![mayer R1 results](https://raw.githubusercontent.com/MeganEDuffy/FISH-546/master/images/plgs/mayer-R2.png)\n",
    "\n",
    "We matched 27 proteins in the deepest (oldest) sediment sample, which defies the expectation that in these samples proteins would be much more degraded and/or more difficult to extract:\n",
    "\n",
    "![mayer R1 results](https://raw.githubusercontent.com/MeganEDuffy/FISH-546/master/images/plgs/mayer-R1.png)"
   ]
  },
  {
   "cell_type": "code",
   "execution_count": null,
   "metadata": {
    "collapsed": true
   },
   "outputs": [],
   "source": []
  }
 ],
 "metadata": {
  "anaconda-cloud": {},
  "kernelspec": {
   "display_name": "Python [default]",
   "language": "python",
   "name": "python3"
  },
  "language_info": {
   "codemirror_mode": {
    "name": "ipython",
    "version": 3
   },
   "file_extension": ".py",
   "mimetype": "text/x-python",
   "name": "python",
   "nbconvert_exporter": "python",
   "pygments_lexer": "ipython3",
   "version": "3.5.2"
  }
 },
 "nbformat": 4,
 "nbformat_minor": 1
}
