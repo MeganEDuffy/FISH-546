{
 "cells": [
  {
   "cell_type": "markdown",
   "metadata": {},
   "source": [
    "## Database searching to identify peptides + proteins in ETNP samples ##"
   ]
  },
  {
   "cell_type": "code",
   "execution_count": 1,
   "metadata": {
    "collapsed": false
   },
   "outputs": [
    {
     "name": "stdout",
     "output_type": "stream",
     "text": [
      "Mon Dec 12 12:12:51 PST 2016\r\n"
     ]
    }
   ],
   "source": [
    "!date"
   ]
  },
  {
   "cell_type": "code",
   "execution_count": 2,
   "metadata": {
    "collapsed": false
   },
   "outputs": [
    {
     "name": "stdout",
     "output_type": "stream",
     "text": [
      "Software:\r\n",
      "\r\n",
      "    System Software Overview:\r\n",
      "\r\n",
      "      System Version: macOS 10.12.1 (16B2555)\r\n",
      "      Kernel Version: Darwin 16.1.0\r\n",
      "      Boot Volume: Macintosh HD\r\n",
      "      Boot Mode: Normal\r\n",
      "      Computer Name: Megan’s MacBook Pro\r\n",
      "      User Name: Megan Duffy (meganduffy)\r\n",
      "      Secure Virtual Memory: Enabled\r\n",
      "      System Integrity Protection: Enabled\r\n",
      "      Time since boot: 28 days 3:15\r\n",
      "\r\n"
     ]
    }
   ],
   "source": [
    "!system_profiler SPSoftwareDataType"
   ]
  },
  {
   "cell_type": "markdown",
   "metadata": {},
   "source": [
    "Format of the .csv file\n",
    "\n",
    "Column 1 | Column 2 | Column 3 | Column 4 | Column 5 | Column 6 | Column 7 |\n",
    "---------|----------|----------|----------|----------|----------|----------|\n",
    "all peptides| ll peptides trimmed of leading (AA) | all peptides trimmed of both leading and tailing (AA) |peptides from 1/3 db search | peptides from 1/3 db search| peptides from 1/3 db search| peptides from 'additional' db search | "
   ]
  },
  {
   "cell_type": "code",
   "execution_count": 4,
   "metadata": {
    "collapsed": true
   },
   "outputs": [],
   "source": [
    "!cd /Users/meganduffy/Documents/git-repos/FISH-546/data/ETNP-plgs-db/"
   ]
  },
  {
   "cell_type": "code",
   "execution_count": 6,
   "metadata": {
    "collapsed": false
   },
   "outputs": [
    {
     "name": "stdout",
     "output_type": "stream",
     "text": [
      "062016_ETNP_129_100m.csv  062016_ETNP_129_100m.xlsx\r\n"
     ]
    }
   ],
   "source": [
    "!ls /Users/meganduffy/Documents/git-repos/FISH-546/data/ETNP-plgs-db/"
   ]
  },
  {
   "cell_type": "code",
   "execution_count": 9,
   "metadata": {
    "collapsed": false
   },
   "outputs": [
    {
     "name": "stdout",
     "output_type": "stream",
     "text": [
      "(R)ETFSALGVPTGSAAR(A),(R)ETFSALGVPTGSAAR(A),(R)VTNAIGNADNATITLN(-),(K)IYDTCIGCTQCVR(A),(K)IYDTCIGCTQCVR(A)\r",
      "\r\n",
      "(R)VTNAIGNADNATITLN(-),(R)VTNAIGNADNATITLN(-),(R)ETFSALGVPTGSAAR(A),(M)TATALTGQYPK(Y),(R)CETACPTDFLSIR(V)\r",
      "\r\n",
      "(R)QAVSADSSGSFIGGAELASLK(S),(R)QAVSADSSGSFIGGAELASLK(S),(R)QAVSADSSGSFIGGAELASLK(S),(R)ETFSALGVPTGSAAR(A),(R)SMGLAY(-)\r",
      "\r\n",
      "(R)AVAIMK(A),(R)AVAIMK(A),(R)TVVPNLSLAMVWQR(Q),(R)QAVSADSSGSFIGGAELASLK(S),(M)TATALTGQYPK(Y)\r",
      "\r\n",
      "(K)IYDTCIGCTQCVR(A),(K)IYDTCIGCTQCVR(A),(R)AVAIMK(A),(R)CETACPTDFLSIR(V),(M)ANETMGIALGMIETR(G)\r",
      "\r\n",
      "(R)TVVPNLSLAMVWQR(Q),(R)TVVPNLSLAMVWQR(Q),(R)AAEDPEFETFYTK(N),(R)AVAIMK(A),(R)VYLGDETSR(S)\r",
      "\r\n",
      "(K)AASIAMITNTTSAAPAR(K),(K)AASIAMITNTTSAAPAR(K),(K)TAGGILLPDTAK(E),(R)AAEDPEFETFYTK(N),(K)TAGGIIIPDTAK(E)\r",
      "\r\n",
      "(K)YYGLYDSAEGVVR(T),(K)YYGLYDSAEGVVR(T),(K)YYGLYDSAEGVVR(T),(R)SMGLAY(-),(R)GLVPAIEAADAMTK(A)\r",
      "\r\n",
      "(R)AAEDPEFETFYTK(N),(R)AAEDPEFETFYTK(N),(M)ANETMGIALGMIETR(G),(K)TAGGILLPDTAK(E),(M)ANETMGIALGMIETR(G)\r",
      "\r\n",
      "(M)TATALTGQYPK(Y),(M)TATALTGQYPK(Y),(K)AASIAMITNTTSAAPAR(K),(M)ANETMGIALGMIETR(G),(R)ETYAALGVPTGSAAR(A)\r",
      "\r\n"
     ]
    }
   ],
   "source": [
    "!head /Users/meganduffy/Documents/git-repos/FISH-546/data/ETNP-plgs-db/062016_ETNP_129_100m.csv"
   ]
  },
  {
   "cell_type": "code",
   "execution_count": 14,
   "metadata": {
    "collapsed": false
   },
   "outputs": [],
   "source": [
    "# extract .txt file of all peptides (column 1)\n",
    "# trim first and last character from each (they represent the pre-cleaved peptide)\n",
    "! cut -d , -f 3 /Users/meganduffy/Documents/git-repos/FISH-546/data/ETNP-plgs-db/062016_ETNP_129_100m.csv \\\n",
    "> /Users/meganduffy/Documents/git-repos/FISH-546/data/ETNP-plgs-db/062016_ETNP_129_100m_peptides.txt"
   ]
  },
  {
   "cell_type": "code",
   "execution_count": 15,
   "metadata": {
    "collapsed": false
   },
   "outputs": [
    {
     "name": "stdout",
     "output_type": "stream",
     "text": [
      "ETFSALGVPTGSAAR\r\n",
      "VTNAIGNADNATITLN\r\n",
      "QAVSADSSGSFIGGAELASLK\r\n",
      "AVAIMK\r\n",
      "IYDTCIGCTQCVR\r\n",
      "TVVPNLSLAMVWQR\r\n",
      "AASIAMITNTTSAAPAR\r\n",
      "YYGLYDSAEGVVR\r\n",
      "AAEDPEFETFYTK\r\n",
      "TATALTGQYPK\r\n"
     ]
    }
   ],
   "source": [
    "! head /Users/meganduffy/Documents/git-repos/FISH-546/data/ETNP-plgs-db/062016_ETNP_129_100m_peptides.txt"
   ]
  },
  {
   "cell_type": "markdown",
   "metadata": {
    "collapsed": true
   },
   "source": [
    "### I'm doing the same for a .csv file of all three Hi3 samples, complied (with many redundant peptides): ###"
   ]
  },
  {
   "cell_type": "code",
   "execution_count": 2,
   "metadata": {
    "collapsed": false
   },
   "outputs": [
    {
     "name": "stdout",
     "output_type": "stream",
     "text": [
      "062016_ETNP_129_100m.csv          plgs-hi3-peptides.csv\r\n",
      "062016_ETNP_129_100m.xlsx         \u001b[31mplgs-hi3-peptides.xlsx\u001b[m\u001b[m\r\n",
      "062016_ETNP_129_100m_peptides.txt\r\n"
     ]
    }
   ],
   "source": [
    "!ls /Users/meganduffy/Documents/git-repos/FISH-546/data/ETNP-plgs-db/"
   ]
  },
  {
   "cell_type": "code",
   "execution_count": 3,
   "metadata": {
    "collapsed": false
   },
   "outputs": [
    {
     "name": "stdout",
     "output_type": "stream",
     "text": [
      "(K)NNPVLIGEPGVGK(T)\r",
      "\r\n",
      "(K)AIDLIDEAASSIR(M)\r",
      "\r\n",
      "(K)VTDAEIAEVLAR(W)\r",
      "\r\n",
      "(R)VIGQNEAVDAVSNAIR(R)\r",
      "\r\n",
      "(R)LPQVEGTGGDVQPSQDLVR(V)\r",
      "\r\n",
      "(R)GELQCIGATTLDDYR(K)\r",
      "\r\n",
      "(A)ASSIR(M)\r",
      "\r\n",
      "(D)EAASSIR(M)\r",
      "\r\n",
      "(I)GEPGVGK(T)\r",
      "\r\n",
      "(R)VIGQNEA(V)\r",
      "\r\n"
     ]
    }
   ],
   "source": [
    "!head /Users/meganduffy/Documents/git-repos/FISH-546/data/ETNP-plgs-db/plgs-hi3-peptides.csv"
   ]
  },
  {
   "cell_type": "code",
   "execution_count": 21,
   "metadata": {
    "collapsed": false
   },
   "outputs": [],
   "source": [
    "# extract .txt file of all peptides (column 1)\n",
    "# trim first and last character from each (they represent the pre-cleaved peptide)\n",
    "! cut -d , -f 3 /Users/meganduffy/Documents/git-repos/FISH-546/data/ETNP-plgs-db/plgs-hi3-peptides.csv \\\n",
    "| sed 's/...//;s/...>$//'| sed 's/....$//' \\\n",
    "> /Users/meganduffy/Documents/git-repos/FISH-546/data/ETNP-plgs-db/plgs-hi3-peptides.txt"
   ]
  },
  {
   "cell_type": "code",
   "execution_count": 22,
   "metadata": {
    "collapsed": false
   },
   "outputs": [
    {
     "name": "stdout",
     "output_type": "stream",
     "text": [
      "NNPVLIGEPGVGK\r\n",
      "AIDLIDEAASSIR\r\n",
      "VTDAEIAEVLAR\r\n",
      "VIGQNEAVDAVSNAIR\r\n",
      "LPQVEGTGGDVQPSQDLVR\r\n",
      "GELQCIGATTLDDYR\r\n",
      "ASSIR\r\n",
      "EAASSIR\r\n",
      "GEPGVGK\r\n",
      "VIGQNEA\r\n"
     ]
    }
   ],
   "source": [
    "! head /Users/meganduffy/Documents/git-repos/FISH-546/data/ETNP-plgs-db/plgs-hi3-peptides.txt"
   ]
  },
  {
   "cell_type": "markdown",
   "metadata": {},
   "source": [
    "### Now I convert this to FASTA format in Galaxy so I can do a ```blastp``` similarity search against _de novo_ peptides. ###"
   ]
  },
  {
   "cell_type": "code",
   "execution_count": null,
   "metadata": {
    "collapsed": true
   },
   "outputs": [],
   "source": []
  }
 ],
 "metadata": {
  "anaconda-cloud": {},
  "kernelspec": {
   "display_name": "Python [default]",
   "language": "python",
   "name": "python3"
  },
  "language_info": {
   "codemirror_mode": {
    "name": "ipython",
    "version": 3
   },
   "file_extension": ".py",
   "mimetype": "text/x-python",
   "name": "python",
   "nbconvert_exporter": "python",
   "pygments_lexer": "ipython3",
   "version": "3.5.2"
  }
 },
 "nbformat": 4,
 "nbformat_minor": 1
}
