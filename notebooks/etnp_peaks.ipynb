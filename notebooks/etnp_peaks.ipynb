{
 "cells": [
  {
   "cell_type": "markdown",
   "metadata": {},
   "source": [
    "### _De novo_ peptide sequencing with PEAKS ###\n",
    "\n",
    "Last year, Rick used [PEAKS](http://www1.bioinfor.com/peaks/features/denovo.html), a _de novo_ + database searching software package designed by Bin Ma (Novor), to find peptidoglycan peptides from a WA margin sample. I have that data in an Excel file. I want to do the same analysis I've done on Novor sequenced peptides to these PEAKS peptides."
   ]
  },
  {
   "cell_type": "code",
   "execution_count": 8,
   "metadata": {
    "collapsed": false
   },
   "outputs": [
    {
     "name": "stdout",
     "output_type": "stream",
     "text": [
      "Tue Dec  6 12:53:53 PST 2016\r\n"
     ]
    }
   ],
   "source": [
    "!date"
   ]
  },
  {
   "cell_type": "code",
   "execution_count": 7,
   "metadata": {
    "collapsed": false
   },
   "outputs": [
    {
     "name": "stdout",
     "output_type": "stream",
     "text": [
      "Software:\r\n",
      "\r\n",
      "    System Software Overview:\r\n",
      "\r\n",
      "      System Version: macOS 10.12.1 (16B2555)\r\n",
      "      Kernel Version: Darwin 16.1.0\r\n",
      "      Boot Volume: Macintosh HD\r\n",
      "      Boot Mode: Normal\r\n",
      "      Computer Name: Megan’s MacBook Pro\r\n",
      "      User Name: Megan Duffy (meganduffy)\r\n",
      "      Secure Virtual Memory: Enabled\r\n",
      "      System Integrity Protection: Enabled\r\n",
      "      Time since boot: 22 days 3:56\r\n",
      "\r\n"
     ]
    }
   ],
   "source": [
    "!system_profiler SPSoftwareDataType"
   ]
  },
  {
   "cell_type": "code",
   "execution_count": 14,
   "metadata": {
    "collapsed": false
   },
   "outputs": [
    {
     "name": "stdout",
     "output_type": "stream",
     "text": [
      "LICCPVQQPPLMMNSQGGGGSGGGGGFEGMIRPAK\r\n",
      "QPPSTTSMYTEEKPMNAPSSDSNNLFSGLDMVSK\r\n",
      "TGLPAGSELSLYDVAPVVPGVAVDLSHIPTDVK\r\n",
      "IDSVNAAPGIPENVALDDIQSSFLTDGQPGER\r\n",
      "LASGQEIPCFALTSPEAGSDASSIPDYGVVCK\r\n",
      "VQGHQCVACPAGTTNDGGDDASGGDTQCDITR\r\n",
      "VNGQLLCGFTGLWTDVLTVMQDLSSEVALK\r\n",
      "ADYSSEVATLASAGGDAVAVIGYLDQGGK\r\n",
      "LELAQFDELAAFSQFASDLDASTQQQLER\r\n",
      "TDFLQQEIDAGNYNPFGGTYNDPAVIDR\r\n",
      "TDFLQQEIDAGNYNPFGGTYNDPAVIDR\r\n",
      "GDGDGDGDGDGDGDGDGDGDGDDSGGR\r\n",
      "GLDPINPGGPLDFFNVASNPQDLALLK\r\n",
      "SGNFDNSIFGTGLTFVETAMSSGNSVK\r\n",
      "SIPNKLGGVLALLLSILILTIVPMLHK\r\n",
      "TVVIMELINNIAMNHGGYSVFAGVGER\r\n",
      "VLNGLKETYNSLGVPIGATVQAIQAMK\r\n",
      "VSEEEETQGLDIGEHGMEAYPDFASAK\r\n",
      "YLYGTDFDSLDVSQSGNTCSMNNANVR\r\n",
      "DDWDGATSDDDDDDDDGGGGGGGDGG\r\n",
      "DGDGDGDGGGDGDGGGDGDGDGGGGK\r\n",
      "ENDDDDDDDDGDENEGGAGDVSADER\r\n",
      "LVVSLALLQFVLVIPALLIISDVPVK\r\n",
      "NLAGYTDNRPLNEVLNTGNVGLSPFK\r\n",
      "QCPENHVSFADLGDVTEADHSVEVFK\r\n",
      "STLLSSIVGVPNSLGPGELLQHYGTK\r\n",
      "TEQAFELPTGGAALMNSGENLMYFAR\r\n",
      "ANDAAGDGTTTATVLAQSIVNEGLK\r\n",
      "APAAKPSTSTVSASATPGGRTVSDK\r\n",
      "AWDSDDDDDDDDDDDEGAGGAGAGK\r\n",
      "DASDDASDDDDDDDDDAVDDDASIK\r\n",
      "GGIDFQPITVLVPGGEEFPFTFSSK\r\n",
      "ILQGYQYVAANPDEVCPANWTPGEK\r\n",
      "SLGGEVVGEDYLPLGNTEVAPIIAK\r\n",
      "SLGGVTVGEDYIPLGNTEVAPIIAK\r\n",
      "TALSQIDELVLQASGVAFTLQEGVR\r\n",
      "TGLIDAAEFNNPTSDSQFGMQDVSK\r\n",
      "ALLIAAIVGLLVVPLQLALIPLLK\r\n",
      "DVYGYEAGATPASSPVEDEKILVK\r\n",
      "LGGYYGAYGASTSPGAGINWISNR\r\n",
      "LGIEHILLGVDHLLLLLGLVLIVR\r\n",
      "QVIIIGLLLAIIVIVVIGAILINK\r\n",
      "VSGPIIDVFPLEGAEQTITAPDVK\r\n",
      "AALPDGGVIINTLNGDQNVAFFK\r\n",
      "APSLAQVGLGPSQESQFFIDNYR\r\n",
      "EAGDGVYAEPTNPIGEYNTFSGR\r\n",
      "GIQASDMAMVPDANTAWVDPFYR\r\n",
      "GVFISPYSTEFDNILIVGPIAGK\r\n",
      "GVFISPYSTEFDNILVVGPIAGK\r\n",
      "IDLTFPPGISLDETSAASPGSVR\r\n"
     ]
    }
   ],
   "source": [
    "# Here are the raw peptides that PEAKS predicted (in descending order by length)\n",
    "# These data were from before the Keil lab had proteomics-capable LC-MS/MS systems\n",
    "# Therefore, it's most certainly DDA (data-dependent aquisition) data\n",
    "!head -50 /Users/meganduffy/Documents/git-repos/FISH-546/data/peaks_peptides.txt"
   ]
  },
  {
   "cell_type": "code",
   "execution_count": 12,
   "metadata": {
    "collapsed": false
   },
   "outputs": [
    {
     "name": "stdout",
     "output_type": "stream",
     "text": [
      "     454 /Users/meganduffy/Documents/git-repos/FISH-546/data/peaks_peptides.txt\r\n"
     ]
    }
   ],
   "source": [
    "# How many peptides are there?\n",
    "!wc -l /Users/meganduffy/Documents/git-repos/FISH-546/data/peaks_peptides.txt"
   ]
  },
  {
   "cell_type": "code",
   "execution_count": null,
   "metadata": {
    "collapsed": true
   },
   "outputs": [],
   "source": []
  }
 ],
 "metadata": {
  "anaconda-cloud": {},
  "kernelspec": {
   "display_name": "Python [default]",
   "language": "python",
   "name": "python3"
  },
  "language_info": {
   "codemirror_mode": {
    "name": "ipython",
    "version": 3
   },
   "file_extension": ".py",
   "mimetype": "text/x-python",
   "name": "python",
   "nbconvert_exporter": "python",
   "pygments_lexer": "ipython3",
   "version": "3.5.2"
  }
 },
 "nbformat": 4,
 "nbformat_minor": 1
}
