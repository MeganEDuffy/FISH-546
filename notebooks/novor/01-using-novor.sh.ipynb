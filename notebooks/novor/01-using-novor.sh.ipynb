{
 "cells": [
  {
   "cell_type": "markdown",
   "metadata": {},
   "source": [
    "### Novor for microbial metaproteomics? ###\n",
    "\n",
    "I want to learn how to use [Novor](https://www.ncbi.nlm.nih.gov/pubmed/26122521), a de novo peptide sequencing software tool that uses scoring functions based on two large decision trees built from a peptide spectral library with more than 300,000 spectra with machine learning. I don't know if this will really work for our data at all, but I am intersted in seeing what matches we get. \n",
    "\n",
    "I downloaded Novor from the [distribution page](http://www.rapidnovor.com/novor-cmd/), and am using the CLI with the provided Unix shell script novor.sh. \n"
   ]
  },
  {
   "cell_type": "code",
   "execution_count": 22,
   "metadata": {
    "collapsed": false
   },
   "outputs": [
    {
     "name": "stdout",
     "output_type": "stream",
     "text": [
      "\r\n",
      "MMMMMMMMMMMMMMMMMMMMMMMMW0xolcldOWMMMMMMMMMMMMMMMM\r\n",
      "MMMMMMMMMMMMMMXkdllclodl:;;;;;;;;:oOWMMMMMMMMMMMMM\r\n",
      "MMMMMMMMMMMM0c;;;;;;;;;;;;;;;;;;;;;;cKMMMMMMMMMMMM\r\n",
      "MMMMMMMMMMMd;;;;;;;;;;;;;;;;;;;;;;;;;;k0KXWMMMMMMM\r\n",
      "MMMMMMMWXXk;;;;;;;;;;;;;;;;;;;;;;;;;:;;;;;;cxNMMMM\r\n",
      "MMMWOoc;;;;;;;;;;;;;;;;;;;;;;;;:oxol:;;;;;;;;:kMMM\r\n",
      "MMO:;;;;;;;;;;;:dOXKxc;;;;;lx0NKd:;;;;;;;;;;;;;kMM\r\n",
      "MO;;;;;;;;;:lkXMMMMMMMXkkKWMXx:;;;;;;;;;;;;;;;;;NM\r\n",
      "Ml;;;;;;:d0WMMMMMKocOWMMMNkc;;;;;;;;;;;;;;;;;;;;OM\r\n",
      "Mx;;;cxKWMMMMMWOc;;;;:xOo;;;;;;;;;;;;;;;;;;;;;;;0M\r\n",
      "MWoxXMMMMMMMNx:;;;;;;;;;;;;;;;;;;;;;;;;;;;;;;;;oMM\r\n",
      "MMMMMMMMMMWd:;;;;;;;;;;;;;;;;;;;;;;;;;;;;;;;:o0MMM\r\n",
      "MMMMMMMMMM0c:::::::::::;;;;;;;;;;;:::::::coONMMMMM\r\n",
      "#=================== N-O-V-O-R ===================\r\n",
      "#   NOVOR: Real-time Peptide de Novo Sequencing   \r\n",
      "#              v1.05.0573 (stable)\r\n",
      "#             Free Academic License               \r\n",
      "#============== www.rapidnovor.org ===============\r\n",
      "#\r\n",
      "# This free academic license can be used for educational and academic research purposes only.\r\n",
      "\r\n",
      "Use the following parameters to do de novo sequencing with NOVOR:\r\n",
      "-p params.txt SPECTRA_FILE\r\n",
      "There is a sample SPECTRA_FILE on ../data/test.mgf for test\r\n",
      "\r\n",
      "Options:\r\n",
      "-p : parameter file. A sample parameter file can be found under the \r\n",
      "     software package.\r\n",
      "-o : output file. If omitted, a csv file with the same name as the input\r\n",
      "     spectrum file will be generated under the input file directory.\r\n",
      "     If the file already exists, user can choose to overwrite the file or\r\n",
      "     exit Novor during the process.\r\n",
      "-f : force overwrite without prompting for confirmation when output file\r\n",
      "     exists.\r\n",
      "\r\n",
      "Please visit www.rapidnovor.org for user's manual, updates, programming API, and citation information.\r\n"
     ]
    }
   ],
   "source": [
    "!~/Applications/novor/mac/novor.sh"
   ]
  },
  {
   "cell_type": "code",
   "execution_count": 30,
   "metadata": {
    "collapsed": false
   },
   "outputs": [
    {
     "name": "stdout",
     "output_type": "stream",
     "text": [
      "\n",
      "MMMMMMMMMMMMMMMMMMMMMMMMW0xolcldOWMMMMMMMMMMMMMMMM\n",
      "MMMMMMMMMMMMMMXkdllclodl:;;;;;;;;:oOWMMMMMMMMMMMMM\n",
      "MMMMMMMMMMMM0c;;;;;;;;;;;;;;;;;;;;;;cKMMMMMMMMMMMM\n",
      "MMMMMMMMMMMd;;;;;;;;;;;;;;;;;;;;;;;;;;k0KXWMMMMMMM\n",
      "MMMMMMMWXXk;;;;;;;;;;;;;;;;;;;;;;;;;:;;;;;;cxNMMMM\n",
      "MMMWOoc;;;;;;;;;;;;;;;;;;;;;;;;:oxol:;;;;;;;;:kMMM\n",
      "MMO:;;;;;;;;;;;:dOXKxc;;;;;lx0NKd:;;;;;;;;;;;;;kMM\n",
      "MO;;;;;;;;;:lkXMMMMMMMXkkKWMXx:;;;;;;;;;;;;;;;;;NM\n",
      "Ml;;;;;;:d0WMMMMMKocOWMMMNkc;;;;;;;;;;;;;;;;;;;;OM\n",
      "Mx;;;cxKWMMMMMWOc;;;;:xOo;;;;;;;;;;;;;;;;;;;;;;;0M\n",
      "MWoxXMMMMMMMNx:;;;;;;;;;;;;;;;;;;;;;;;;;;;;;;;;oMM\n",
      "MMMMMMMMMMWd:;;;;;;;;;;;;;;;;;;;;;;;;;;;;;;;:o0MMM\n",
      "MMMMMMMMMM0c:::::::::::;;;;;;;;;;;:::::::coONMMMMM\n",
      "#=================== N-O-V-O-R ===================\n",
      "#   NOVOR: Real-time Peptide de Novo Sequencing   \n",
      "#              v1.05.0573 (stable)\n",
      "#             Free Academic License               \n",
      "#============== www.rapidnovor.org ===============\n",
      "#\n",
      "# This free academic license can be used for educational and academic research purposes only.\n",
      "\n",
      "[2016-10-21 21:17:54.559] WARNING: MassAnalyzer 'TOF' not supported, use 'Trap' instead.\n",
      "[2016-10-21 21:17:54.561] Loading built-in novor file 'trypsin-cid-trap'.\n",
      "[2016-10-21 21:17:55.220] De Novo on '/Users/meganduffy/Applications/novor/data/test.mgf'.\n",
      "[2016-10-21 21:18:04.548] De Novo on '/Users/meganduffy/Applications/novor/data/test.mgf' finished.\n",
      "[2016-10-21 21:18:04.548] ---------------------------------------\n",
      "[2016-10-21 21:18:04.548] Finished 1 file, 501 spectra.\n",
      "[2016-10-21 21:18:04.549]   Output result to /Users/meganduffy/Applications/novor/data/test.mgf.csv\n",
      "[2016-10-21 21:18:04.549]   Total time = 9.3 seconds. Input 1.8 seconds, Output 0.1 seconds, De Novo 9.2 seconds.\n",
      "[2016-10-21 21:18:04.549]   Speed: 54.1 specs/second (3246/minute).\n"
     ]
    }
   ],
   "source": [
    "!~/Applications/novor/mac/novor.sh -p ~/Applications/novor/params.txt ~/Applications/novor/data/test.mgf"
   ]
  },
  {
   "cell_type": "markdown",
   "metadata": {},
   "source": [
    "That worked for the test.mgf file that came when I downloaded Novor, but I am worried that it won't support 'TOF' as a MassAnalyzer option, as it says it does in the comments of the params.txt (I changed it from 'Trap' to 'TOF'). "
   ]
  },
  {
   "cell_type": "code",
   "execution_count": 32,
   "metadata": {
    "collapsed": false
   },
   "outputs": [
    {
     "name": "stdout",
     "output_type": "stream",
     "text": [
      "# Search parameters.\r\n",
      "\r\n",
      "# Enzyme\r\n",
      "## Only 'Trypsin' is supported currently.\r\n",
      "\r\n",
      "enzyme = Trypsin\r\n",
      "\r\n",
      "# MS2 Spectrometer\r\n",
      "## fragmentation can be CID or HCD\r\n",
      "## massAnalyzer can be Trap, TOF, or FT\r\n",
      "## Orbitrap instrument corresponds to CID-Trap, CID-FT, or HCD-FT\r\n",
      "## QTof instrument corresponds to CID-TOF.\r\n",
      "\r\n",
      "fragmentation = CID\r\n",
      "massAnalyzer = TOF\r\n"
     ]
    }
   ],
   "source": [
    "!head -15 ~/Applications/novor/params.txt"
   ]
  },
  {
   "cell_type": "markdown",
   "metadata": {
    "collapsed": true
   },
   "source": [
    "What about when we run our actual data?"
   ]
  },
  {
   "cell_type": "code",
   "execution_count": null,
   "metadata": {
    "collapsed": true
   },
   "outputs": [],
   "source": [
    "What about when we run our actual data"
   ]
  },
  {
   "cell_type": "code",
   "execution_count": 34,
   "metadata": {
    "collapsed": false
   },
   "outputs": [
    {
     "name": "stdout",
     "output_type": "stream",
     "text": [
      "\n",
      "MMMMMMMMMMMMMMMMMMMMMMMMW0xolcldOWMMMMMMMMMMMMMMMM\n",
      "MMMMMMMMMMMMMMXkdllclodl:;;;;;;;;:oOWMMMMMMMMMMMMM\n",
      "MMMMMMMMMMMM0c;;;;;;;;;;;;;;;;;;;;;;cKMMMMMMMMMMMM\n",
      "MMMMMMMMMMMd;;;;;;;;;;;;;;;;;;;;;;;;;;k0KXWMMMMMMM\n",
      "MMMMMMMWXXk;;;;;;;;;;;;;;;;;;;;;;;;;:;;;;;;cxNMMMM\n",
      "MMMWOoc;;;;;;;;;;;;;;;;;;;;;;;;:oxol:;;;;;;;;:kMMM\n",
      "MMO:;;;;;;;;;;;:dOXKxc;;;;;lx0NKd:;;;;;;;;;;;;;kMM\n",
      "MO;;;;;;;;;:lkXMMMMMMMXkkKWMXx:;;;;;;;;;;;;;;;;;NM\n",
      "Ml;;;;;;:d0WMMMMMKocOWMMMNkc;;;;;;;;;;;;;;;;;;;;OM\n",
      "Mx;;;cxKWMMMMMWOc;;;;:xOo;;;;;;;;;;;;;;;;;;;;;;;0M\n",
      "MWoxXMMMMMMMNx:;;;;;;;;;;;;;;;;;;;;;;;;;;;;;;;;oMM\n",
      "MMMMMMMMMMWd:;;;;;;;;;;;;;;;;;;;;;;;;;;;;;;;:o0MMM\n",
      "MMMMMMMMMM0c:::::::::::;;;;;;;;;;;:::::::coONMMMMM\n",
      "#=================== N-O-V-O-R ===================\n",
      "#   NOVOR: Real-time Peptide de Novo Sequencing   \n",
      "#              v1.05.0573 (stable)\n",
      "#             Free Academic License               \n",
      "#============== www.rapidnovor.org ===============\n",
      "#\n",
      "# This free academic license can be used for educational and academic research purposes only.\n",
      "\n",
      "[2016-10-21 21:23:39.609] !!!ERROR: File /Users/meganduffy/Applications/novor/data/06202016_ETNP does not exist!\n"
     ]
    }
   ],
   "source": [
    "!~/Applications/novor/mac/novor.sh -p ~/Applications/novor/params.txt ~/Applications/novor/data/06202016_ETNP\\ 129.mgf"
   ]
  },
  {
   "cell_type": "code",
   "execution_count": null,
   "metadata": {
    "collapsed": true
   },
   "outputs": [],
   "source": []
  }
 ],
 "metadata": {
  "anaconda-cloud": {},
  "kernelspec": {
   "display_name": "Python [default]",
   "language": "python",
   "name": "python3"
  },
  "language_info": {
   "codemirror_mode": {
    "name": "ipython",
    "version": 3
   },
   "file_extension": ".py",
   "mimetype": "text/x-python",
   "name": "python",
   "nbconvert_exporter": "python",
   "pygments_lexer": "ipython3",
   "version": "3.5.2"
  }
 },
 "nbformat": 4,
 "nbformat_minor": 1
}
