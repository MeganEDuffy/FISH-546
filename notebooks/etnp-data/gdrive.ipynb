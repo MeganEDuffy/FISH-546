{
 "cells": [
  {
   "cell_type": "markdown",
   "metadata": {},
   "source": [
    "### gdrive - a command line utility for interacting with Google Drive ###\n",
    "\n",
    "As seen in ```01-mayer-mgf_download.ipynb```, I had a difficult time downloading files from Google Drive into a git repo. I'm going to try using [gdrive](https://github.com/prasmussen/gdrive) to interact efficiently reproducibly from the command line with GD.\n",
    "\n",
    "I will install using Homebrew:"
   ]
  },
  {
   "cell_type": "code",
   "execution_count": 2,
   "metadata": {
    "collapsed": false
   },
   "outputs": [
    {
     "name": "stdout",
     "output_type": "stream",
     "text": [
      "/Users/meganduffy\n"
     ]
    }
   ],
   "source": [
    "cd ~/"
   ]
  },
  {
   "cell_type": "code",
   "execution_count": 3,
   "metadata": {
    "collapsed": false
   },
   "outputs": [
    {
     "name": "stdout",
     "output_type": "stream",
     "text": [
      "Updating Homebrew...\n",
      "\u001b[34m==>\u001b[0m \u001b[1mDownloading https://homebrew.bintray.com/bottles/gdrive-2.1.0.sierra.bottle.\u001b[0m\n",
      "######################################################################## 100.0%\n",
      "\u001b[34m==>\u001b[0m \u001b[1mPouring gdrive-2.1.0.sierra.bottle.tar.gz\u001b[0m\n",
      "🍺  /usr/local/Cellar/gdrive/2.1.0: 4 files, 7.0M\n"
     ]
    }
   ],
   "source": [
    "# use Homebew to install gdrive (as per gdrive's GitHub instrusctions)\n",
    "!brew install gdrive"
   ]
  },
  {
   "cell_type": "code",
   "execution_count": 4,
   "metadata": {
    "collapsed": false
   },
   "outputs": [
    {
     "name": "stdout",
     "output_type": "stream",
     "text": [
      "gdrive usage:\r\n",
      "\r\n",
      "gdrive [global] list [options]                                 List files\r\n",
      "gdrive [global] download [options] <fileId>                    Download file or directory\r\n",
      "gdrive [global] download query [options] <query>               Download all files and directories matching query\r\n",
      "gdrive [global] upload [options] <path>                        Upload file or directory\r\n",
      "gdrive [global] upload - [options] <name>                      Upload file from stdin\r\n",
      "gdrive [global] update [options] <fileId> <path>               Update file, this creates a new revision of the file\r\n",
      "gdrive [global] info [options] <fileId>                        Show file info\r\n",
      "gdrive [global] mkdir [options] <name>                         Create directory\r\n",
      "gdrive [global] share [options] <fileId>                       Share file or directory\r\n",
      "gdrive [global] share list <fileId>                            List files permissions\r\n",
      "gdrive [global] share revoke <fileId> <permissionId>           Revoke permission\r\n",
      "gdrive [global] delete [options] <fileId>                      Delete file or directory\r\n",
      "gdrive [global] sync list [options]                            List all syncable directories on drive\r\n",
      "gdrive [global] sync content [options] <fileId>                List content of syncable directory\r\n",
      "gdrive [global] sync download [options] <fileId> <path>        Sync drive directory to local directory\r\n",
      "gdrive [global] sync upload [options] <path> <fileId>          Sync local directory to drive\r\n",
      "gdrive [global] changes [options]                              List file changes\r\n",
      "gdrive [global] revision list [options] <fileId>               List file revisions\r\n",
      "gdrive [global] revision download [options] <fileId> <revId>   Download revision\r\n",
      "gdrive [global] revision delete <fileId> <revId>               Delete file revision\r\n",
      "gdrive [global] import [options] <path>                        Upload and convert file to a google document, see 'about import' for available conversions\r\n",
      "gdrive [global] export [options] <fileId>                      Export a google document\r\n",
      "gdrive [global] about [options]                                Google drive metadata, quota usage\r\n",
      "gdrive [global] about import                                   Show supported import formats\r\n",
      "gdrive [global] about export                                   Show supported export formats\r\n",
      "gdrive version                                                 Print application version\r\n",
      "gdrive help                                                    Print help\r\n",
      "gdrive help <command>                                          Print command help\r\n",
      "gdrive help <command> <subcommand>                             Print subcommand help\r\n"
     ]
    }
   ],
   "source": [
    "# see what gdrive can do and what commands come with it\n",
    "!gdrive help"
   ]
  },
  {
   "cell_type": "code",
   "execution_count": null,
   "metadata": {
    "collapsed": false
   },
   "outputs": [
    {
     "name": "stdout",
     "output_type": "stream",
     "text": [
      "Authentication needed\r\n",
      "Go to the following url in your browser:\r\n",
      "https://accounts.google.com/o/oauth2/auth?access_type=offline&client_id=367116221053-7n0vf5akeru7on6o2fjinrecpdoe99eg.apps.googleusercontent.com&redirect_uri=urn%3Aietf%3Awg%3Aoauth%3A2.0%3Aoob&response_type=code&scope=https%3A%2F%2Fwww.googleapis.com%2Fauth%2Fdrive&state=state\r\n",
      "\r\n",
      "Enter verification code: "
     ]
    }
   ],
   "source": [
    "# I must have to verify my user account in some way?\n",
    "!gdrive about"
   ]
  },
  {
   "cell_type": "markdown",
   "metadata": {},
   "source": [
    "!4/KqtH0NGJ80qUEU-66pMoLtPoS2SVTnn9EmhDcJOFvFI"
   ]
  },
  {
   "cell_type": "code",
   "execution_count": null,
   "metadata": {
    "collapsed": true
   },
   "outputs": [],
   "source": []
  }
 ],
 "metadata": {
  "anaconda-cloud": {},
  "kernelspec": {
   "display_name": "Python [default]",
   "language": "python",
   "name": "python3"
  },
  "language_info": {
   "codemirror_mode": {
    "name": "ipython",
    "version": 3
   },
   "file_extension": ".py",
   "mimetype": "text/x-python",
   "name": "python",
   "nbconvert_exporter": "python",
   "pygments_lexer": "ipython3",
   "version": "3.5.2"
  }
 },
 "nbformat": 4,
 "nbformat_minor": 1
}
