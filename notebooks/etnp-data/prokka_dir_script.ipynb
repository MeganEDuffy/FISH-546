{
 "cells": [
  {
   "cell_type": "markdown",
   "metadata": {},
   "source": [
    "### Writing and running a bash script ###\n",
    "\n",
    "I wrote a bash script to move all my metagenome assemblies (FASTA files) from my data directory into a new subdirectory called 'assemblies'. "
   ]
  },
  {
   "cell_type": "code",
   "execution_count": 3,
   "metadata": {
    "collapsed": false
   },
   "outputs": [
    {
     "name": "stdout",
     "output_type": "stream",
     "text": [
      "Fri Dec  2 17:46:23 PST 2016\r\n"
     ]
    }
   ],
   "source": [
    "!date"
   ]
  },
  {
   "cell_type": "code",
   "execution_count": 5,
   "metadata": {
    "collapsed": false
   },
   "outputs": [
    {
     "name": "stdout",
     "output_type": "stream",
     "text": [
      "Software:\r\n",
      "\r\n",
      "    System Software Overview:\r\n",
      "\r\n",
      "      System Version: macOS 10.12.1 (16B2555)\r\n",
      "      Kernel Version: Darwin 16.1.0\r\n",
      "      Boot Volume: Macintosh HD\r\n",
      "      Boot Mode: Normal\r\n",
      "      Computer Name: Megan’s MacBook Pro\r\n",
      "      User Name: Megan Duffy (meganduffy)\r\n",
      "      Secure Virtual Memory: Enabled\r\n",
      "      System Integrity Protection: Enabled\r\n",
      "      Time since boot: 18 days 8:50\r\n",
      "\r\n"
     ]
    }
   ],
   "source": [
    "!system_profiler SPSoftwareDataType"
   ]
  },
  {
   "cell_type": "markdown",
   "metadata": {},
   "source": [
    "Here's the structure of my /data directory before running the script:\n",
    "\n",
    "![data dir struc pre](https://raw.githubusercontent.com/MeganEDuffy/FISH-546/master/images/data_dir_before.png)"
   ]
  },
  {
   "cell_type": "code",
   "execution_count": 6,
   "metadata": {
    "collapsed": false
   },
   "outputs": [
    {
     "name": "stdout",
     "output_type": "stream",
     "text": [
      "/Users/meganduffy/Documents/git-repos/FISH-546/scripts\n"
     ]
    }
   ],
   "source": [
    "cd ~/Documents/git-repos/FISH-546/scripts/"
   ]
  },
  {
   "cell_type": "code",
   "execution_count": 7,
   "metadata": {
    "collapsed": false
   },
   "outputs": [
    {
     "name": "stdout",
     "output_type": "stream",
     "text": [
      "Set variables\r\n",
      "Change working directory\r\n",
      "Confirm working directory change with if statement\r\n",
      "Create a new directory\r\n",
      "Confirm directory creation\r\n",
      "051216_Mayer_R1.mgf                  \u001b[34massemblies\u001b[m\u001b[m\r\n",
      "051216_Mayer_R1.mgf.csv              prokka_ETNP_100m_2015_1.faa\r\n",
      "061516_ETNP 129.mgf                  prokka_ETNP_110m_2015.faa\r\n",
      "062016_ETNP 129.mgf                  prokka_ETNP_140m_2015.faa\r\n",
      "062016_ETNP_129.mgf.csv              prokka_ETNP_60m_2015.faa\r\n",
      "062016_ETNP_129_lca.txt              \u001b[34mraw-data-plgs\u001b[m\u001b[m\r\n",
      "062016_ETNP_129_pept2prot.txt        raw-data-plgs-20161105T044203Z-3.zip\r\n",
      "062016_ETNP_129_peptides.fasta       uniprot_sprot.fasta\r\n",
      "062016_ETNP_129_peptides.txt         uniprot_sprot.fasta.gz\r\n",
      "062016_ETNP_129_peptides_nomod.fasta uniprot_sprot.phr\r\n",
      "062016_ETNP_129_tpeptides.txt        uniprot_sprot.pin\r\n",
      "Oly-transcriptome-2k.fa              uniprot_sprot.psq\r\n",
      "README.md\r\n",
      "Move files\r\n",
      "Confirm files were moved\r\n"
     ]
    }
   ],
   "source": [
    "!bash assemblies_dir.sh"
   ]
  },
  {
   "cell_type": "markdown",
   "metadata": {},
   "source": [
    "Then I used git to commit this changes..I should have written this into the script!  I'll go back and do that later.\n",
    "Now how does the data directory look?\n",
    "\n",
    "!"
   ]
  }
 ],
 "metadata": {
  "anaconda-cloud": {},
  "kernelspec": {
   "display_name": "Python [default]",
   "language": "python",
   "name": "python3"
  },
  "language_info": {
   "codemirror_mode": {
    "name": "ipython",
    "version": 3
   },
   "file_extension": ".py",
   "mimetype": "text/x-python",
   "name": "python",
   "nbconvert_exporter": "python",
   "pygments_lexer": "ipython3",
   "version": "3.5.2"
  }
 },
 "nbformat": 4,
 "nbformat_minor": 1
}
