{
 "cells": [
  {
   "cell_type": "markdown",
   "metadata": {},
   "source": [
    "### blastp analysis of _de novo_ sequenced peptides ###\n",
    "\n",
    "**Step 1:** Converting Novor peptide output (csv) to FASTA format\n",
    "\n",
    "To use Unipept commands ```pept2lca``` and ```pept2prot``` as seen in this project's [02-using-unipept](https://github.com/MeganEDuffy/FISH-546/blob/master/notebooks/etnp-unipept/02-using-unipept.ipynb) and [03-pept2prot](https://github.com/MeganEDuffy/FISH-546/blob/master/notebooks/etnp-unipept/03-pept2prot.ipynb) notebooks, I needed input to be a plain text file with a list of sequences peptides. This required trimming headers an extra columns from Novor's output cvs files. I extracted just the peptide column and trimmed headers using ```awk```, as seen in the [01-novor.sh notebook](https://github.com/MeganEDuffy/FISH-546/blob/master/notebooks/etnp-novor/01-novor.sh.ipynb).\n",
    "\n",
    "Now I want to blast these peptide sequences against NCBI's nonredudant protein database with ```blastp```. The input needs to be in FASTA format. I'll use [Galaxy](https://galaxyproject.org/) to do the conversion, so I can easily visualize the files as I go. This notebook will detail screengrabs showing the steps I used in the Galaxy platform."
   ]
  },
  {
   "cell_type": "code",
   "execution_count": null,
   "metadata": {
    "collapsed": true
   },
   "outputs": [],
   "source": [
    "First, I uploaded my text file, 062016_ETNP_129_peptides.txt, to Galaxy. Then I used the "
   ]
  }
 ],
 "metadata": {
  "anaconda-cloud": {},
  "kernelspec": {
   "display_name": "Python [default]",
   "language": "python",
   "name": "python3"
  },
  "language_info": {
   "codemirror_mode": {
    "name": "ipython",
    "version": 3
   },
   "file_extension": ".py",
   "mimetype": "text/x-python",
   "name": "python",
   "nbconvert_exporter": "python",
   "pygments_lexer": "ipython3",
   "version": "3.5.2"
  }
 },
 "nbformat": 4,
 "nbformat_minor": 1
}
