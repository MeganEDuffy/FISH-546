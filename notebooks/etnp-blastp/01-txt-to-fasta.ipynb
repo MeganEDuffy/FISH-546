{
 "cells": [
  {
   "cell_type": "markdown",
   "metadata": {},
   "source": [
    "### blastp analysis of _de novo_ sequenced peptides ###\n",
    "\n",
    "**Step 1:** Converting Novor peptide output (csv) to FASTA format\n",
    "\n",
    "To use Unipept commands ```pept2lca``` and ```pept2prot``` as seen in this project's [02-using-unipept](https://github.com/MeganEDuffy/FISH-546/blob/master/notebooks/etnp-unipept/02-using-unipept.ipynb) and [03-pept2prot](https://github.com/MeganEDuffy/FISH-546/blob/master/notebooks/etnp-unipept/03-pept2prot.ipynb) notebooks, I needed input to be a plain text file with a list of sequences peptides. This required trimming headers an extra columns from Novor's output cvs files. I extracted just the peptide column and trimmed headers using ```awk```, as seen in the [01-novor.sh notebook](https://github.com/MeganEDuffy/FISH-546/blob/master/notebooks/etnp-novor/01-novor.sh.ipynb).\n",
    "\n",
    "Now I want to blast these peptide sequences against NCBI's nonredudant protein database with ```blastp```. The input needs to be in FASTA format. I'll use [Galaxy](https://galaxyproject.org/) to do the conversion, so I can easily visualize the files as I go. This notebook will detail screengrabs showing the steps I used in the Galaxy platform."
   ]
  },
  {
   "cell_type": "markdown",
   "metadata": {},
   "source": [
    "First, I uploaded my text file, 062016_ETNP_129_peptides.txt, to Galaxy. Then I used the ```Convert delimiters to TAB``` function to make a tabular file:\n",
    "    \n",
    "![galaxy initial txt file](https://raw.githubusercontent.com/MeganEDuffy/FISH-546/master/images/2016-11-20-gal_txt.png)\n",
    "\n",
    "![galaxy TAB file](https://raw.githubusercontent.com/MeganEDuffy/FISH-546/master/images/2016-11-20-gal_txt-to-fas.png)"
   ]
  },
  {
   "cell_type": "markdown",
   "metadata": {},
   "source": [
    "Next I used the TAB-to-fasta function to convert the tabular format to FASTA. I retained the first column as the descriptor name (following >), and since there's only one column, that means that the desciptors are just the peptide sequences themselves. I guess I could have used the Novor IDs from the CVS file, or even merge it with AA-score to keep more information in the fasta file. Not a bad idea for the future.\n",
    "\n",
    "![TAB to fasta](https://raw.githubusercontent.com/MeganEDuffy/FISH-546/master/images/2016-11-20-gal_tab-to-fas.png)"
   ]
  },
  {
   "cell_type": "markdown",
   "metadata": {},
   "source": [
    "I downloaded the fasta file into ```meganduffy/Documents/git-repos/FISH-546/data```."
   ]
  },
  {
   "cell_type": "code",
   "execution_count": 2,
   "metadata": {
    "collapsed": false
   },
   "outputs": [
    {
     "name": "stdout",
     "output_type": "stream",
     "text": [
      "051216_Mayer_R1.mgf                  README.md\r\n",
      "051216_Mayer_R1.mgf.csv              prokka_ETNP_100m_2015_1.faa\r\n",
      "061516_ETNP 129.mgf                  \u001b[34mraw-data-plgs\u001b[m\u001b[m\r\n",
      "062016_ETNP 129.mgf                  raw-data-plgs-20161105T044203Z-3.zip\r\n",
      "062016_ETNP_129.mgf.csv              uniprot_sprot.fasta\r\n",
      "062016_ETNP_129_lca.txt              uniprot_sprot.fasta.gz\r\n",
      "062016_ETNP_129_peptides.fasta       uniprot_sprot.phr\r\n",
      "062016_ETNP_129_peptides.txt         uniprot_sprot.pin\r\n",
      "Oly-transcriptome-2k.fa              uniprot_sprot.psq\r\n"
     ]
    }
   ],
   "source": [
    "!ls /Users/meganduffy/Documents/git-repos/FISH-546/data"
   ]
  },
  {
   "cell_type": "markdown",
   "metadata": {},
   "source": [
    "I'll now use this fasta file for ```blastp``` queries against NCBI protein databases."
   ]
  },
  {
   "cell_type": "markdown",
   "metadata": {},
   "source": [
    "I tried blasting against the ```nr``` database, and got the following error message because ```blastp``` didn't like the modifications in the fasta file. So as a first pass, I just trimmed those sequences out of the fasta file using Galaxy's ```Select li"
   ]
  }
 ],
 "metadata": {
  "anaconda-cloud": {},
  "kernelspec": {
   "display_name": "Python [default]",
   "language": "python",
   "name": "python3"
  },
  "language_info": {
   "codemirror_mode": {
    "name": "ipython",
    "version": 3
   },
   "file_extension": ".py",
   "mimetype": "text/x-python",
   "name": "python",
   "nbconvert_exporter": "python",
   "pygments_lexer": "ipython3",
   "version": "3.5.2"
  }
 },
 "nbformat": 4,
 "nbformat_minor": 1
}
