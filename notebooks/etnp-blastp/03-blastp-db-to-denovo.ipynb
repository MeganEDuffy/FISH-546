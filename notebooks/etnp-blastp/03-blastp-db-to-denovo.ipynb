{
 "cells": [
  {
   "cell_type": "markdown",
   "metadata": {},
   "source": [
    "### BLAST  on database search identifued peptides vs _de novo_ sequenced peptides ###"
   ]
  },
  {
   "cell_type": "code",
   "execution_count": 1,
   "metadata": {
    "collapsed": false
   },
   "outputs": [
    {
     "name": "stdout",
     "output_type": "stream",
     "text": [
      "Mon Dec 12 13:18:31 PST 2016\r\n"
     ]
    }
   ],
   "source": [
    "!date"
   ]
  },
  {
   "cell_type": "code",
   "execution_count": 2,
   "metadata": {
    "collapsed": false
   },
   "outputs": [
    {
     "name": "stdout",
     "output_type": "stream",
     "text": [
      "Software:\r\n",
      "\r\n",
      "    System Software Overview:\r\n",
      "\r\n",
      "      System Version: macOS 10.12.1 (16B2555)\r\n",
      "      Kernel Version: Darwin 16.1.0\r\n",
      "      Boot Volume: Macintosh HD\r\n",
      "      Boot Mode: Normal\r\n",
      "      Computer Name: Megan’s MacBook Pro\r\n",
      "      User Name: Megan Duffy (meganduffy)\r\n",
      "      Secure Virtual Memory: Enabled\r\n",
      "      System Integrity Protection: Enabled\r\n",
      "      Time since boot: 28 days 4:21\r\n",
      "\r\n"
     ]
    }
   ],
   "source": [
    "!system_profiler SPSoftwareDataType"
   ]
  },
  {
   "cell_type": "code",
   "execution_count": 4,
   "metadata": {
    "collapsed": true
   },
   "outputs": [],
   "source": [
    "!cd /Users/meganduffy/Documents/git-repos/FISH-546/"
   ]
  },
  {
   "cell_type": "code",
   "execution_count": 6,
   "metadata": {
    "collapsed": false
   },
   "outputs": [
    {
     "name": "stdout",
     "output_type": "stream",
     "text": [
      "\n",
      "\n",
      "Building a new DB, current time: 12/12/2016 13:22:32\n",
      "New DB name:   /Users/meganduffy/Documents/git-repos/FISH-546/data/galaxy/062016_ETNP_129_100m_db_db.fasta\n",
      "New DB title:  /Users/meganduffy/Documents/git-repos/FISH-546/data/galaxy/062016_ETNP_129_100m_db.fasta\n",
      "Sequence type: Protein\n",
      "Keep MBits: T\n",
      "Maximum file size: 1000000000B\n",
      "Adding sequences from FASTA; added 1229 sequences in 0.072823 seconds.\n"
     ]
    }
   ],
   "source": [
    "# making database\n",
    "!~/Applications/ncbi-blast-2.5.0+/bin/makeblastdb \\\n",
    "-in /Users/meganduffy/Documents/git-repos/FISH-546/data/galaxy/062016_ETNP_129_100m_db.fasta \\\n",
    "-dbtype prot \\\n",
    "-out /Users/meganduffy/Documents/git-repos/FISH-546/data/galaxy/062016_ETNP_129_100m_db_db.fasta"
   ]
  },
  {
   "cell_type": "code",
   "execution_count": 11,
   "metadata": {
    "collapsed": false
   },
   "outputs": [
    {
     "name": "stdout",
     "output_type": "stream",
     "text": [
      "Error: NCBI C++ Exception:\r\n",
      "    T0 \"/Users/coremake/release_build/build/PrepareRelease_IntelMAC-Clang36_JSID_01_40204_130.14.22.10_9008__PrepareRelease_IntelMAC-Clang36_1473441060/c++/compilers/unix/../../src/objtools/readers/fasta.cpp\", line 2178: Error: ncbi::objects::CFastaReader::PostWarning() - CFastaReader: Near line 4, there's a line that doesn't look like plausible data, but it's not marked as defline or comment. (m_Pos = 4)\r\n",
      "\r\n"
     ]
    }
   ],
   "source": [
    "# blastp search of de novo peptides vs database peptides\n",
    "# outfmt = 6 gives output in tabular format. \n",
    "!~/Applications/ncbi-blast-2.5.0+/bin/blastp \\\n",
    "-query /Users/meganduffy/Documents/git-repos/FISH-546/data/galaxy/062016_ETNP_129_100m_peaks.fasta \\\n",
    "-db /Users/meganduffy/Documents/git-repos/FISH-546/data/galaxy/062016_ETNP_129_100m_db_db.fasta \\\n",
    "-outfmt 6 \\\n",
    "-out /Users/meganduffy/Documents/git-repos/FISH-546/analyses/062016_ETNP_129_100m_peaks_v_db.txt"
   ]
  },
  {
   "cell_type": "code",
   "execution_count": null,
   "metadata": {
    "collapsed": true
   },
   "outputs": [],
   "source": []
  }
 ],
 "metadata": {
  "anaconda-cloud": {},
  "kernelspec": {
   "display_name": "Python [default]",
   "language": "python",
   "name": "python3"
  },
  "language_info": {
   "codemirror_mode": {
    "name": "ipython",
    "version": 3
   },
   "file_extension": ".py",
   "mimetype": "text/x-python",
   "name": "python",
   "nbconvert_exporter": "python",
   "pygments_lexer": "ipython3",
   "version": "3.5.2"
  }
 },
 "nbformat": 4,
 "nbformat_minor": 1
}
