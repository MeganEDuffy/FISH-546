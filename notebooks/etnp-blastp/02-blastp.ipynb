{
 "cells": [
  {
   "cell_type": "markdown",
   "metadata": {},
   "source": [
    "### Using ```blastp``` to match _de novo_ sequenced peptides to proteins ###\n",
    "\n",
    "As a first pass I tried to use WebBlast to upload my fasta file of unmodified _de novo_ sequenced peptides (see how I generated this file in [01-txt-to-fasta](https://github.com/MeganEDuffy/FISH-546/blob/master/notebooks/etnp-blastp/01-txt-to-fasta.ipynb) notebook. For my database to search against, I chose the NCBI GenBank ```nr```(non-redundant protein sequence database). Here's some more info on what's in this database:\n",
    "```\n",
    "Title:All non-redundant GenBank CDS translations+PDB+SwissProt+PIR+PRF excluding environmental samples from WGS projects\n",
    "Molecule Type:Protein\n",
    "Update date:2016/11/20\n",
    "Number of sequences:106376657\n",
    "```\n",
    "However, my CPU usage went over:\n",
    "\n",
    "![blastp error](https://raw.githubusercontent.com/MeganEDuffy/FISH-546/master/images/2016-11-20-blastp-error.png)"
   ]
  },
  {
   "cell_type": "markdown",
   "metadata": {
    "collapsed": true
   },
   "source": [
    "I already downloaded the SwissProt protein fasta and made a database on 2016-10-11, as can be seen in my [blast tutorial](https://github.com/MeganEDuffy/FISH-546/blob/master/tutorials/blast-tutorial/01-Blasting.ipynb) notebook. So before I try the ```nr``` database I'm going to try the SwissProt and see how long it takes. The database is called ```uniprot_sprot.fasta```:"
   ]
  },
  {
   "cell_type": "code",
   "execution_count": 5,
   "metadata": {
    "collapsed": false
   },
   "outputs": [
    {
     "name": "stdout",
     "output_type": "stream",
     "text": [
      "051216_Mayer_R1.mgf                  README.md\r\n",
      "051216_Mayer_R1.mgf.csv              prokka_ETNP_100m_2015_1.faa\r\n",
      "061516_ETNP 129.mgf                  \u001b[34mraw-data-plgs\u001b[m\u001b[m\r\n",
      "062016_ETNP 129.mgf                  raw-data-plgs-20161105T044203Z-3.zip\r\n",
      "062016_ETNP_129.mgf.csv              uniprot_sprot.fasta\r\n",
      "062016_ETNP_129_lca.txt              uniprot_sprot.fasta.gz\r\n",
      "062016_ETNP_129_peptides.fasta       uniprot_sprot.phr\r\n",
      "062016_ETNP_129_peptides.txt         uniprot_sprot.pin\r\n",
      "062016_ETNP_129_peptides_nomod.fasta uniprot_sprot.psq\r\n",
      "Oly-transcriptome-2k.fa\r\n"
     ]
    }
   ],
   "source": [
    "!ls /Users/meganduffy/Documents/git-repos/FISH-546/data"
   ]
  },
  {
   "cell_type": "code",
   "execution_count": 1,
   "metadata": {
    "collapsed": false
   },
   "outputs": [
    {
     "name": "stdout",
     "output_type": "stream",
     "text": [
      "Sun Nov 20 22:00:29 PST 2016\r\n"
     ]
    }
   ],
   "source": [
    "!date"
   ]
  },
  {
   "cell_type": "code",
   "execution_count": 7,
   "metadata": {
    "collapsed": false
   },
   "outputs": [
    {
     "name": "stdout",
     "output_type": "stream",
     "text": [
      "Software:\r\n",
      "\r\n",
      "    System Software Overview:\r\n",
      "\r\n",
      "      System Version: macOS 10.12.1 (16B2555)\r\n",
      "      Kernel Version: Darwin 16.1.0\r\n",
      "      Boot Volume: Macintosh HD\r\n",
      "      Boot Mode: Normal\r\n",
      "      Computer Name: Megan’s MacBook Pro\r\n",
      "      User Name: Megan Duffy (meganduffy)\r\n",
      "      Secure Virtual Memory: Enabled\r\n",
      "      System Integrity Protection: Enabled\r\n",
      "      Time since boot: 6 days 13:13\r\n",
      "\r\n"
     ]
    }
   ],
   "source": [
    "!system_profiler SPSoftwareDataType"
   ]
  },
  {
   "cell_type": "code",
   "execution_count": 4,
   "metadata": {
    "collapsed": false
   },
   "outputs": [
    {
     "name": "stdout",
     "output_type": "stream",
     "text": [
      "/Users/meganduffy/Documents/git-repos/FISH-546\n"
     ]
    }
   ],
   "source": [
    "cd ~/Documents/git-repos/FISH-546/"
   ]
  },
  {
   "cell_type": "code",
   "execution_count": null,
   "metadata": {
    "collapsed": false
   },
   "outputs": [],
   "source": [
    "!~/Applications/ncbi-blast-2.5.0+/bin/blastp \\\n",
    "-query data/062016_ETNP_129_peptides_nomod.fasta \\\n",
    "-db data/uniprot_sprot \\\n",
    "-outfmt 6"
   ]
  },
  {
   "cell_type": "code",
   "execution_count": null,
   "metadata": {
    "collapsed": true
   },
   "outputs": [],
   "source": []
  }
 ],
 "metadata": {
  "anaconda-cloud": {},
  "kernelspec": {
   "display_name": "Python [default]",
   "language": "python",
   "name": "python3"
  },
  "language_info": {
   "codemirror_mode": {
    "name": "ipython",
    "version": 3
   },
   "file_extension": ".py",
   "mimetype": "text/x-python",
   "name": "python",
   "nbconvert_exporter": "python",
   "pygments_lexer": "ipython3",
   "version": "3.5.2"
  }
 },
 "nbformat": 4,
 "nbformat_minor": 1
}
