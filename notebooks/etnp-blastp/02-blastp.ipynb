{
 "cells": [
  {
   "cell_type": "markdown",
   "metadata": {},
   "source": [
    "### Using ```blastp``` to match _de novo_ sequenced peptides to proteins ###\n",
    "\n",
    "As a first pass I tried to use WebBlast to upload my fasta file of unmodified _de novo_ sequenced peptides (see how I generated this file in [01-txt-to-fasta](https://github.com/MeganEDuffy/FISH-546/blob/master/notebooks/etnp-blastp/01-txt-to-fasta.ipynb) notebook. For my database to search against, I chose the NCBI ```nr```(non-redundant protein sequence database)."
   ]
  }
 ],
 "metadata": {
  "anaconda-cloud": {},
  "kernelspec": {
   "display_name": "Python [default]",
   "language": "python",
   "name": "python3"
  },
  "language_info": {
   "codemirror_mode": {
    "name": "ipython",
    "version": 3
   },
   "file_extension": ".py",
   "mimetype": "text/x-python",
   "name": "python",
   "nbconvert_exporter": "python",
   "pygments_lexer": "ipython3",
   "version": "3.5.2"
  }
 },
 "nbformat": 4,
 "nbformat_minor": 1
}
