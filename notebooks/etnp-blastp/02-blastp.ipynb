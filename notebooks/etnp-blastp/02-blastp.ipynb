{
 "cells": [
  {
   "cell_type": "markdown",
   "metadata": {},
   "source": [
    "### Using ```blastp``` to match _de novo_ sequenced peptides to proteins ###\n",
    "\n",
    "As a first pass I tried to use WebBlast to upload my fasta file of unmodified _de novo_ sequenced peptides (see how I generated this file in [01-txt-to-fasta](https://github.com/MeganEDuffy/FISH-546/blob/master/notebooks/etnp-blastp/01-txt-to-fasta.ipynb) notebook. For my database to search against, I chose the NCBI GenBank ```nr```(non-redundant protein sequence database). Here's some more info on what's in this database:\n",
    "```\n",
    "Title:All non-redundant GenBank CDS translations+PDB+SwissProt+PIR+PRF excluding environmental samples from WGS projects\n",
    "Molecule Type:Protein\n",
    "Update date:2016/11/20\n",
    "Number of sequences:106376657\n",
    "```\n",
    "However, my CPU usage went over:\n",
    "\n",
    "![blastp error](https://raw.githubusercontent.com/MeganEDuffy/FISH-546/master/images/2016-11-20-blastp-error.png)"
   ]
  },
  {
   "cell_type": "markdown",
   "metadata": {
    "collapsed": true
   },
   "source": [
    "I already downloaded the SwissProt protein fasta and made a database on 2016-10-11, as can be seen in my [blast tutorial](https://github.com/MeganEDuffy/FISH-546/blob/master/tutorials/blast-tutorial/01-Blasting.ipynb) notebook. So before I try the ```nr``` database I'm going to try the SwissProt and see how long it takes. The database is called ```uniprot_sprot.fasta```:"
   ]
  },
  {
   "cell_type": "code",
   "execution_count": 5,
   "metadata": {
    "collapsed": false
   },
   "outputs": [
    {
     "name": "stdout",
     "output_type": "stream",
     "text": [
      "051216_Mayer_R1.mgf                  README.md\r\n",
      "051216_Mayer_R1.mgf.csv              prokka_ETNP_100m_2015_1.faa\r\n",
      "061516_ETNP 129.mgf                  \u001b[34mraw-data-plgs\u001b[m\u001b[m\r\n",
      "062016_ETNP 129.mgf                  raw-data-plgs-20161105T044203Z-3.zip\r\n",
      "062016_ETNP_129.mgf.csv              uniprot_sprot.fasta\r\n",
      "062016_ETNP_129_lca.txt              uniprot_sprot.fasta.gz\r\n",
      "062016_ETNP_129_peptides.fasta       uniprot_sprot.phr\r\n",
      "062016_ETNP_129_peptides.txt         uniprot_sprot.pin\r\n",
      "062016_ETNP_129_peptides_nomod.fasta uniprot_sprot.psq\r\n",
      "Oly-transcriptome-2k.fa\r\n"
     ]
    }
   ],
   "source": [
    "!ls /Users/meganduffy/Documents/git-repos/FISH-546/data"
   ]
  },
  {
   "cell_type": "code",
   "execution_count": 1,
   "metadata": {
    "collapsed": false
   },
   "outputs": [
    {
     "name": "stdout",
     "output_type": "stream",
     "text": [
      "Sun Nov 20 22:00:29 PST 2016\r\n"
     ]
    }
   ],
   "source": [
    "!date"
   ]
  },
  {
   "cell_type": "code",
   "execution_count": 7,
   "metadata": {
    "collapsed": false
   },
   "outputs": [
    {
     "name": "stdout",
     "output_type": "stream",
     "text": [
      "Software:\r\n",
      "\r\n",
      "    System Software Overview:\r\n",
      "\r\n",
      "      System Version: macOS 10.12.1 (16B2555)\r\n",
      "      Kernel Version: Darwin 16.1.0\r\n",
      "      Boot Volume: Macintosh HD\r\n",
      "      Boot Mode: Normal\r\n",
      "      Computer Name: Megan’s MacBook Pro\r\n",
      "      User Name: Megan Duffy (meganduffy)\r\n",
      "      Secure Virtual Memory: Enabled\r\n",
      "      System Integrity Protection: Enabled\r\n",
      "      Time since boot: 6 days 13:13\r\n",
      "\r\n"
     ]
    }
   ],
   "source": [
    "!system_profiler SPSoftwareDataType"
   ]
  },
  {
   "cell_type": "code",
   "execution_count": 4,
   "metadata": {
    "collapsed": false
   },
   "outputs": [
    {
     "name": "stdout",
     "output_type": "stream",
     "text": [
      "/Users/meganduffy/Documents/git-repos/FISH-546\n"
     ]
    }
   ],
   "source": [
    "cd ~/Documents/git-repos/FISH-546/"
   ]
  },
  {
   "cell_type": "code",
   "execution_count": 18,
   "metadata": {
    "collapsed": false
   },
   "outputs": [],
   "source": [
    "# blastp search of de novo peptides vs SwissProt db\n",
    "# outfmt = 6 gives output in tabular format. \n",
    "!~/Applications/ncbi-blast-2.5.0+/bin/blastp \\\n",
    "-query data/062016_ETNP_129_peptides_nomod.fasta \\\n",
    "-db data/uniprot_sprot \\\n",
    "-outfmt 6 \\\n",
    "-out analyses/062016_ETNP_129_blastout.txt"
   ]
  },
  {
   "cell_type": "code",
   "execution_count": 21,
   "metadata": {
    "collapsed": false
   },
   "outputs": [
    {
     "name": "stdout",
     "output_type": "stream",
     "text": [
      "FYYWWWHMR\tsp|P32232|CBS_RAT\t83.333\t6\t1\t0\t4\t9\t404\t409\t6.8\t24.3\r\n",
      "FYYWWWHMR\tsp|Q9N0V7|CBS_RABIT\t83.333\t6\t1\t0\t4\t9\t408\t413\t6.8\t24.3\r\n",
      "FYYWWWHMR\tsp|Q58H57|CBS_MACFA\t83.333\t6\t1\t0\t4\t9\t408\t413\t6.8\t24.3\r\n",
      "FYYWWWHMR\tsp|P35520|CBS_HUMAN\t83.333\t6\t1\t0\t4\t9\t408\t413\t6.8\t24.3\r\n",
      "FYYWWWHMR\tsp|P0DN79|CBSL_HUMAN\t83.333\t6\t1\t0\t4\t9\t408\t413\t6.8\t24.3\r\n",
      "LRKMRFRRFTKSPGK\tsp|B5BG44|CBID_SALPK\t69.231\t13\t4\t0\t1\t13\t337\t349\t5.8\t25.0\r\n",
      "LRKMRFRRFTKSPGK\tsp|Q5PDT5|CBID_SALPA\t69.231\t13\t4\t0\t1\t13\t337\t349\t5.8\t25.0\r\n",
      "LVRYRRPPPWPRAAAR\tsp|P14351|ENV_FOAMV\t58.333\t12\t5\t0\t1\t12\t237\t248\t7.5\t24.6\r\n",
      "GGGGGGNGNGDK\tsp|Q9VB08|RING1_DROME\t81.818\t11\t2\t0\t1\t11\t160\t170\t5.0\t24.6\r\n",
      "GGKGGVWWPR\tsp|Q9V5N8|STAN_DROME\t100.000\t7\t0\t0\t4\t10\t2153\t2159\t3.3\t25.0\r\n",
      "QEDGVWHGEHEGQR\tsp|P0DMA5|SCNAA_ONYTO\t61.538\t13\t5\t0\t2\t14\t521\t533\t2.7\t25.8\r\n",
      "DGDGGGGGGK\tsp|B1AL88|F155A_HUMAN\t100.000\t9\t0\t0\t2\t10\t136\t144\t3.0\t25.4\r\n",
      "GGGGGGGDDK\tsp|Q54NC6|APC1_DICDI\t100.000\t9\t0\t0\t1\t9\t1179\t1187\t1.9\t25.8\r\n",
      "GGGGGGGDDK\tsp|Q8MT36|MES4_DROME\t100.000\t9\t0\t0\t1\t9\t175\t183\t1.9\t25.8\r\n",
      "GGGGGGGDDK\tsp|Q9U297|KDM4_CAEEL\t100.000\t9\t0\t0\t1\t9\t606\t614\t1.9\t25.8\r\n",
      "GGGGGGGDDK\tsp|Q6H4L9|HAK20_ORYSJ\t100.000\t9\t0\t0\t1\t9\t656\t664\t1.9\t25.8\r\n",
      "GGGGGGGDDK\tsp|Q8R2M2|TDIF2_MOUSE\t100.000\t9\t0\t0\t1\t9\t392\t400\t2.3\t25.4\r\n",
      "GGGGGGGDDK\tsp|Q6ZDE3|ABAH2_ORYSJ\t100.000\t9\t0\t0\t1\t9\t261\t269\t4.7\t24.6\r\n",
      "DGGDGGGGGK\tsp|Q6Z1Z3|IDEF1_ORYSJ\t100.000\t9\t0\t0\t1\t9\t5\t13\t2.0\t25.8\r\n",
      "GAWLYDGGPYR\tsp|Q46205|HYPA_CLOPE\t77.778\t9\t2\t0\t2\t10\t416\t424\t9.1\t23.9\r\n",
      "LWWWWWVSYYK\tsp|Q6ZK57|C3H54_ORYSJ\t83.333\t6\t1\t0\t3\t8\t44\t49\t6.7\t24.3\r\n",
      "YWWWWWWWLNTPVKR\tsp|O61492|FLOT2_DROME\t61.538\t13\t5\t0\t3\t15\t32\t44\t1.8\t26.2\r\n",
      "YWWWWWWWLNTPVKR\tsp|Q98TZ8|FLOT2_DANRE\t46.154\t13\t7\t0\t3\t15\t32\t44\t9.8\t24.3\r\n",
      "LYQYGLATGVHNYSNWPWK\tsp|Q8H7F6|GRS16_ARATH\t56.250\t16\t7\t0\t2\t17\t246\t261\t1.2\t26.9\r\n",
      "LYQYGLATGVHNYSNWPWK\tsp|Q804H7|BI52B_XENLA\t53.333\t15\t7\t0\t4\t18\t26\t40\t8.3\t24.6\r\n",
      "LYLEFWHWWYWR\tsp|Q61578|ADRO_MOUSE\t83.333\t6\t1\t0\t6\t11\t6\t11\t8.6\t24.3\r\n",
      "DWPWWRWKR\tsp|Q91AV1|SPIKE_PEDV7\t83.333\t6\t1\t0\t2\t7\t1323\t1328\t5.9\t24.3\r\n",
      "DWPWWRWKR\tsp|Q6Q1S2|SPIKE_CVHNL\t83.333\t6\t1\t0\t2\t7\t1295\t1300\t5.9\t24.3\r\n",
      "DWPWWRWKR\tsp|P15423|SPIKE_CVH22\t83.333\t6\t1\t0\t2\t7\t1114\t1119\t5.9\t24.3\r\n",
      "DWPWWRWKR\tsp|Q92614|MY18A_HUMAN\t83.333\t6\t1\t0\t1\t6\t1233\t1238\t6.1\t24.3\r\n",
      "DWPWWRWKR\tsp|Q9JMH9|MY18A_MOUSE\t83.333\t6\t1\t0\t1\t6\t1229\t1234\t6.1\t24.3\r\n",
      "DWPWWRWKR\tsp|Q4P996|PRM1_USTMA\t50.000\t8\t4\t0\t2\t9\t350\t357\t9.4\t23.9\r\n",
      "RLLGWWWRRWEPPHDPLR\tsp|Q55611|SECF_SYNY3\t53.846\t13\t6\t0\t6\t18\t297\t309\t1.4\t26.9\r\n",
      "RLLGWWWRRWEPPHDPLR\tsp|Q45VK7|DYHC2_MOUSE\t61.538\t13\t5\t0\t6\t18\t4126\t4138\t6.5\t25.0\r\n",
      "RLLGWWWRRWEPPHDPLR\tsp|P0A5E4|Y1321_MYCBO\t60.000\t15\t6\t0\t2\t16\t305\t319\t6.5\t25.0\r\n",
      "RLLGWWWRRWEPPHDPLR\tsp|P9WM35|Y1290_MYCTU\t60.000\t15\t6\t0\t2\t16\t305\t319\t6.5\t25.0\r\n",
      "RLLGWWWRRWEPPHDPLR\tsp|P9WM34|Y1290_MYCTO\t60.000\t15\t6\t0\t2\t16\t305\t319\t6.5\t25.0\r\n",
      "RLLGWWWRRWEPPHDPLR\tsp|P03922|NU5M_XENLA\t63.636\t11\t4\t0\t2\t12\t156\t166\t7.6\t24.6\r\n",
      "RLLGWWWRRWEPPHDPLR\tsp|Q9SHM1|ALMT6_ARATH\t77.778\t9\t2\t0\t10\t18\t273\t281\t8.7\t24.6\r\n",
      "LVSWADYRKWNPGAK\tsp|B1YAJ6|FLPA_PYRNV\t64.286\t14\t3\t1\t1\t12\t45\t58\t9.1\t24.3\r\n",
      "FGNMPEPFMWVGFK\tsp|Q3V1H3|HPHL1_MOUSE\t83.333\t12\t2\t0\t1\t12\t275\t286\t9.9\t24.3\r\n",
      "EGWWWRYPR\tsp|Q66474|POLG_EC06C\t62.500\t8\t3\t0\t1\t8\t145\t152\t2.7\t25.4\r\n",
      "EGWWWRYPR\tsp|Q66575|POLG_EC12T\t62.500\t8\t3\t0\t1\t8\t145\t152\t3.0\t25.0\r\n",
      "EGWWWRYPR\tsp|Q9YLJ1|POLG_EC05N\t71.429\t7\t2\t0\t2\t8\t146\t152\t4.5\t24.6\r\n",
      "EGWWWRYPR\tsp|Q9QL88|POLG_CXB6S\t71.429\t7\t2\t0\t2\t8\t146\t152\t4.5\t24.6\r\n",
      "EGWWWRYPR\tsp|P08292|POLG_CXB4J\t71.429\t7\t2\t0\t2\t8\t146\t152\t4.6\t24.6\r\n",
      "EGWWWRYPR\tsp|Q9WN78|POLG_EC30B\t71.429\t7\t2\t0\t2\t8\t146\t152\t4.8\t24.6\r\n",
      "EGWWWRYPR\tsp|Q66577|POLG_EC09B\t71.429\t7\t2\t0\t2\t8\t146\t152\t4.8\t24.6\r\n",
      "EGWWWRYPR\tsp|P21404|POLG_CXA9\t71.429\t7\t2\t0\t2\t8\t146\t152\t4.8\t24.6\r\n",
      "EGWWWRYPR\tsp|Q66849|POLG_EC09H\t71.429\t7\t2\t0\t2\t8\t146\t152\t4.8\t24.6\r\n",
      "EGWWWRYPR\tsp|Q9YLG5|POLG_CXB2O\t71.429\t7\t2\t0\t2\t8\t146\t152\t5.0\t24.6\r\n",
      "EGWWWRYPR\tsp|Q86887|POLG_CXB4E\t71.429\t7\t2\t0\t2\t8\t146\t152\t5.0\t24.6\r\n",
      "EGWWWRYPR\tsp|P29813|POLG_EC11G\t71.429\t7\t2\t0\t2\t8\t146\t152\t5.0\t24.6\r\n",
      "EGWWWRYPR\tsp|P16604|POLG_SVDVH\t71.429\t7\t2\t0\t2\t8\t146\t152\t5.0\t24.6\r\n",
      "EGWWWRYPR\tsp|Q03053|POLG_CXB5P\t71.429\t7\t2\t0\t2\t8\t146\t152\t5.0\t24.6\r\n",
      "EGWWWRYPR\tsp|P13900|POLG_SVDVU\t71.429\t7\t2\t0\t2\t8\t146\t152\t5.2\t24.6\r\n",
      "EGWWWRYPR\tsp|O91734|POLG_EC01F\t71.429\t7\t2\t0\t2\t8\t146\t152\t5.3\t24.6\r\n",
      "EGWWWRYPR\tsp|Q66790|POLG_EC16H\t71.429\t7\t2\t0\t2\t8\t146\t152\t8.0\t23.9\r\n",
      "YFWYLWWRRWWWWRRGVR\tsp|Q5T2R2|DPS1_HUMAN\t87.500\t8\t1\t0\t9\t16\t4\t11\t4.2\t25.4\r\n",
      "YFWYLWWRRWWWWRRGVR\tsp|P97433|ARG28_MOUSE\t70.000\t10\t3\t0\t7\t16\t1684\t1693\t8.9\t24.6\r\n",
      "GPQAGPHSGGVWHR\tsp|P62257|UBE2H_MOUSE\t66.667\t12\t4\t0\t1\t12\t40\t51\t4.8\t25.0\r\n",
      "GPQAGPHSGGVWHR\tsp|P62256|UBE2H_HUMAN\t66.667\t12\t4\t0\t1\t12\t40\t51\t4.8\t25.0\r\n",
      "GPQAGPHSGGVWHR\tsp|Q32LN1|UBE2H_BOVIN\t66.667\t12\t4\t0\t1\t12\t40\t51\t4.8\t25.0\r\n",
      "GPQAGPHSGGVWHR\tsp|Q9P7R4|UBC8_SCHPO\t58.333\t12\t5\t0\t1\t12\t38\t49\t8.3\t24.3\r\n",
      "EWYAGPWWWR\tsp|Q53NI2|NADK2_ORYSJ\t66.667\t9\t3\t0\t2\t10\t28\t36\t4.1\t25.0\r\n",
      "YEHDPNFPEPWKR\tsp|Q0P5H9|TTC5_BOVIN\t70.000\t10\t3\t0\t4\t13\t254\t263\t6.9\t24.6\r\n",
      "LAMMGAWWHDPWR\tsp|Q0IGK1|MBD4L_ARATH\t100.000\t6\t0\t0\t8\t13\t322\t327\t7.2\t24.3\r\n",
      "EEHWWWWWFEPR\tsp|P51800|CLCKA_HUMAN\t54.545\t11\t5\t0\t2\t12\t385\t395\t6.8\t24.3\r\n",
      "EEHWWWWWFEPR\tsp|Q6ZK57|C3H54_ORYSJ\t83.333\t6\t1\t0\t3\t8\t42\t47\t7.8\t24.3\r\n",
      "EEHWWWWWFEPR\tsp|P51803|CLCKA_RABIT\t54.545\t11\t5\t0\t2\t12\t385\t395\t9.9\t23.9\r\n",
      "VWWDPWWHPDYK\tsp|P53565|CUX1_RAT\t75.000\t8\t2\t0\t2\t9\t807\t814\t2.8\t25.4\r\n",
      "VWWDPWWHPDYK\tsp|P53564|CUX1_MOUSE\t75.000\t8\t2\t0\t2\t9\t818\t825\t4.6\t25.0\r\n",
      "GAWWKWFLR\tsp|Q6ZQQ6|WDR87_HUMAN\t88.889\t9\t1\t0\t1\t9\t2486\t2494\t1.3\t26.2\r\n",
      "LFWGEEEGWKEYK\tsp|Q6WAU0|PULR_MENPI\t58.333\t12\t5\t0\t1\t12\t96\t107\t4.0\t25.0\r\n",
      "AGWGWVYLWWR\tsp|P75452|Y110_MYCPN\t62.500\t8\t3\t0\t3\t10\t710\t717\t4.2\t25.0\r\n",
      "LWYYWWWWWWYER\tsp|A3LYZ4|NTE1_PICST\t55.556\t9\t4\t0\t1\t9\t43\t51\t5.9\t24.6\r\n",
      "GEWWWVSWWLPR\tsp|Q9FGM0|FTSHB_ARATH\t75.000\t8\t2\t0\t2\t9\t160\t167\t3.8\t25.0\r\n",
      "QQHRRWWWWWWRRLR\tsp|Q5Z6K9|HAK24_ORYSJ\t66.667\t9\t3\t0\t4\t12\t12\t20\t9.4\t24.3\r\n",
      "KWWEWWLWR\tsp|Q4P996|PRM1_USTMA\t71.429\t7\t2\t0\t3\t9\t350\t356\t9.5\t23.9\r\n",
      "YWWWWWWYWWYWPK\tsp|Q9NX94|WBP1L_HUMAN\t41.667\t12\t7\t0\t1\t12\t38\t49\t5.4\t25.0\r\n",
      "YWWWWWWYWWYWPK\tsp|Q5Z9S8|AB42G_ORYSJ\t60.000\t10\t4\t0\t4\t13\t1416\t1425\t8.0\t24.3\r\n",
      "YWWWWWWYWWYWPK\tsp|C7J6G6|AB46G_ORYSJ\t60.000\t10\t4\t0\t4\t13\t1360\t1369\t8.6\t24.3\r\n",
      "YWWWWWWYWWYWPK\tsp|Q7FMW4|AB38G_ORYSJ\t60.000\t10\t4\t0\t4\t13\t1425\t1434\t8.7\t24.3\r\n",
      "RSEADWWWRKRAK\tsp|Q9R144|ANM2_MOUSE\t58.333\t12\t5\t0\t1\t12\t74\t85\t9.1\t24.3\r\n",
      "LWGERWRPRK\tsp|P49956|CTF18_YEAST\t70.000\t10\t3\t0\t1\t10\t115\t124\t7.3\t24.3\r\n",
      "LKWADKYTFPWR\tsp|Q86AW9|GUAD_DICDI\t80.000\t10\t2\t0\t1\t10\t106\t115\t5.2\t24.6\r\n",
      "LRWWWWWWSGMPYHWNK\tsp|Q43033|TCMO_PETCR\t58.333\t12\t5\t0\t6\t17\t402\t413\t4.2\t25.4\r\n",
      "DEAGWWWWEGYTPK\tsp|Q50365|HMW1_MYCPN\t72.727\t11\t3\t0\t1\t11\t119\t129\t6.7\t24.6\r\n",
      "LAKRWWWWGAWGWR\tsp|Q6CYG2|ATG32_KLULA\t87.500\t8\t1\t0\t1\t8\t391\t398\t3.6\t25.4\r\n",
      "LAKRWWWWGAWGWR\tsp|Q9NRY5|F1142_HUMAN\t66.667\t9\t3\t0\t4\t12\t81\t89\t4.2\t25.0\r\n",
      "LAKRWWWWGAWGWR\tsp|Q9D281|NXP20_MOUSE\t63.636\t11\t4\t0\t2\t12\t124\t134\t9.1\t24.3\r\n",
      "DRQWWWWWPRK\tsp|P9WJV9|MMPL1_MYCTU\t71.429\t7\t2\t0\t5\t11\t924\t930\t5.7\t24.6\r\n",
      "DRQWWWWWPRK\tsp|P9WJV8|MMPL1_MYCTO\t71.429\t7\t2\t0\t5\t11\t924\t930\t5.7\t24.6\r\n",
      "DRQWWWWWPRK\tsp|Q6ZK57|C3H54_ORYSJ\t100.000\t5\t0\t0\t3\t7\t43\t47\t7.3\t24.3\r\n",
      "TDRWWWWADWYRKKR\tsp|Q59167|ACSA2_KOMHA\t58.333\t12\t5\t0\t4\t15\t1540\t1551\t6.4\t24.6\r\n",
      "TDRWWWWADWYRKKR\tsp|Q9B1K6|YCF2_LOTJA\t80.000\t10\t2\t0\t6\t15\t180\t189\t7.3\t24.6\r\n",
      "LLWWWWMQSGER\tsp|P89201|POLG_SPMMV\t54.545\t11\t5\t0\t2\t12\t2217\t2227\t5.3\t24.6\r\n",
      "EWKGGPWWWK\tsp|Q9SVE7|DTX45_ARATH\t62.500\t8\t3\t0\t2\t9\t544\t551\t8.8\t23.9\r\n",
      "WLWWWWYRFK\tsp|Q86UG4|SO6A1_HUMAN\t66.667\t9\t3\t0\t1\t9\t310\t318\t4.8\t24.6\r\n",
      "GVWYWRWWPK\tsp|P0C584|PLPL_NEUCR\t85.714\t7\t1\t0\t2\t8\t470\t476\t8.4\t23.9\r\n"
     ]
    }
   ],
   "source": [
    "!head -100 analyses/062016_ETNP_129_blastout.txt"
   ]
  },
  {
   "cell_type": "markdown",
   "metadata": {
    "collapsed": true
   },
   "source": [
    "Can I run a ```blastp``` analysis searching against the NCBI non-redundant protein database on my local machine? Problably not. You can download that FASTA at [ftp://ftp.ncbi.nlm.nih.gov/blast/db/FASTA/](ftp://ftp.ncbi.nlm.nih.gov/blast/db/FASTA/). As of 2016-12-06 8:41:00 AM, nr.gz is 25152744 KB. I probably couldn't run it on our lab computer either."
   ]
  },
  {
   "cell_type": "code",
   "execution_count": null,
   "metadata": {
    "collapsed": true
   },
   "outputs": [],
   "source": []
  }
 ],
 "metadata": {
  "anaconda-cloud": {},
  "kernelspec": {
   "display_name": "Python [default]",
   "language": "python",
   "name": "python3"
  },
  "language_info": {
   "codemirror_mode": {
    "name": "ipython",
    "version": 3
   },
   "file_extension": ".py",
   "mimetype": "text/x-python",
   "name": "python",
   "nbconvert_exporter": "python",
   "pygments_lexer": "ipython3",
   "version": "3.5.2"
  }
 },
 "nbformat": 4,
 "nbformat_minor": 1
}
