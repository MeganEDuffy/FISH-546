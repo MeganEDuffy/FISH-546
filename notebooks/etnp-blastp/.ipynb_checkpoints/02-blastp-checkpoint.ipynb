{
 "cells": [
  {
   "cell_type": "markdown",
   "metadata": {},
   "source": [
    "### Using ```blastp``` to match _de novo_ sequenced peptides to proteins ###\n",
    "\n",
    "As a first pass I tried to use WebBlast to upload my fasta file of unmodified _de novo_ sequenced peptides (see how I generated this file in [01-txt-to-fasta](https://github.com/MeganEDuffy/FISH-546/blob/master/notebooks/etnp-blastp/01-txt-to-fasta.ipynb) notebook. For my database to search against, I chose the NCBI GenBank ```nr```(non-redundant protein sequence database). Here's some more info on what's in this database:\n",
    "```\n",
    "Title:All non-redundant GenBank CDS translations+PDB+SwissProt+PIR+PRF excluding environmental samples from WGS projects\n",
    "Molecule Type:Protein\n",
    "Update date:2016/11/20\n",
    "Number of sequences:106376657\n",
    "```\n",
    "However, my CPU usage went over:\n",
    "\n",
    "![blastp error](https://raw.githubusercontent.com/MeganEDuffy/FISH-546/master/images/2016-11-20-blastp-error.png)"
   ]
  },
  {
   "cell_type": "code",
   "execution_count": null,
   "metadata": {
    "collapsed": true
   },
   "outputs": [],
   "source": []
  }
 ],
 "metadata": {
  "anaconda-cloud": {},
  "kernelspec": {
   "display_name": "Python [default]",
   "language": "python",
   "name": "python3"
  },
  "language_info": {
   "codemirror_mode": {
    "name": "ipython",
    "version": 3
   },
   "file_extension": ".py",
   "mimetype": "text/x-python",
   "name": "python",
   "nbconvert_exporter": "python",
   "pygments_lexer": "ipython3",
   "version": "3.5.2"
  }
 },
 "nbformat": 4,
 "nbformat_minor": 1
}
