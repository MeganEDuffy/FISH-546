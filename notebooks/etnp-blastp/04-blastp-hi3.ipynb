{
 "cells": [
  {
   "cell_type": "markdown",
   "metadata": {},
   "source": [
    "### Comparison of PEAK sequenced Hi3 peptides vs PLGS database searched Hi3 peptides vs list of ideal Hi3 peptide sequences ###"
   ]
  },
  {
   "cell_type": "code",
   "execution_count": 1,
   "metadata": {
    "collapsed": false
   },
   "outputs": [
    {
     "name": "stdout",
     "output_type": "stream",
     "text": [
      "Tue Dec 13 00:53:59 PST 2016\r\n"
     ]
    }
   ],
   "source": [
    "!date"
   ]
  },
  {
   "cell_type": "code",
   "execution_count": 2,
   "metadata": {
    "collapsed": false
   },
   "outputs": [
    {
     "name": "stdout",
     "output_type": "stream",
     "text": [
      "Software:\r\n",
      "\r\n",
      "    System Software Overview:\r\n",
      "\r\n",
      "      System Version: macOS 10.12.1 (16B2555)\r\n",
      "      Kernel Version: Darwin 16.1.0\r\n",
      "      Boot Volume: Macintosh HD\r\n",
      "      Boot Mode: Normal\r\n",
      "      Computer Name: Megan’s MacBook Pro\r\n",
      "      User Name: Megan Duffy (meganduffy)\r\n",
      "      Secure Virtual Memory: Enabled\r\n",
      "      System Integrity Protection: Enabled\r\n",
      "      Time since boot: 28 days 15:57\r\n",
      "\r\n"
     ]
    }
   ],
   "source": [
    "!system_profiler SPSoftwareDataType"
   ]
  },
  {
   "cell_type": "code",
   "execution_count": 5,
   "metadata": {
    "collapsed": false
   },
   "outputs": [
    {
     "name": "stdout",
     "output_type": "stream",
     "text": [
      "/Users/meganduffy/Documents/git-repos/FISH-546/data\n"
     ]
    }
   ],
   "source": [
    "cd /Users/meganduffy/Documents/git-repos/FISH-546/data"
   ]
  },
  {
   "cell_type": "code",
   "execution_count": 6,
   "metadata": {
    "collapsed": false
   },
   "outputs": [
    {
     "name": "stdout",
     "output_type": "stream",
     "text": [
      "062016_ETNP_129_100m_db.fasta         062016_ETNP_129_100m_peaks.fasta\r\n",
      "062016_ETNP_129_100m_db_db.fasta.phr  all-hi3-peptides.fasta\r\n",
      "062016_ETNP_129_100m_db_db.fasta.pin  plgs-hi3-peptides.fasta\r\n",
      "062016_ETNP_129_100m_db_db.fasta.psq\r\n"
     ]
    }
   ],
   "source": [
    "ls galaxy/"
   ]
  },
  {
   "cell_type": "code",
   "execution_count": 7,
   "metadata": {
    "collapsed": false
   },
   "outputs": [
    {
     "name": "stdout",
     "output_type": "stream",
     "text": [
      "\n",
      "\n",
      "Building a new DB, current time: 12/13/2016 00:58:01\n",
      "New DB name:   /Users/meganduffy/Documents/git-repos/FISH-546/data/galaxy/plgs-hi3-peptides_db.fasta\n",
      "New DB title:  galaxy/plgs-hi3-peptides.fasta\n",
      "Sequence type: Protein\n",
      "Keep MBits: T\n",
      "Maximum file size: 1000000000B\n",
      "Adding sequences from FASTA; added 122 sequences in 0.010078 seconds.\n"
     ]
    }
   ],
   "source": [
    "# making database from PLGS searched peptides\n",
    "!~/Applications/ncbi-blast-2.5.0+/bin/makeblastdb \\\n",
    "-in galaxy/plgs-hi3-peptides.fasta \\\n",
    "-dbtype prot \\\n",
    "-out galaxy/plgs-hi3-peptides_db.fasta"
   ]
  },
  {
   "cell_type": "code",
   "execution_count": 8,
   "metadata": {
    "collapsed": true
   },
   "outputs": [],
   "source": [
    "# blastp search of PEAKS de novo Hi3 peptides vs database Hi3 peptides\n",
    "# outfmt = 10 gives output in csv format. \n",
    "!~/Applications/ncbi-blast-2.5.0+/bin/blastp \\\n",
    "-query galaxy/all-hi3-peptides.fasta \\\n",
    "-db galaxy/plgs-hi3-peptides_db.fasta \\\n",
    "-outfmt 10 \\\n",
    "-out /Users/meganduffy/Documents/git-repos/FISH-546/analyses/peaks_hi3_vs_plgs.csv"
   ]
  },
  {
   "cell_type": "code",
   "execution_count": 9,
   "metadata": {
    "collapsed": false
   },
   "outputs": [
    {
     "name": "stdout",
     "output_type": "stream",
     "text": [
      "DLLPDEAASSLR,AIDLIDEAASSIR,80.000,10,2,0,3,12,4,13,0.004,18.1\r\n",
      "DLLPDEAASSLR,AIDLIDEAASSIR,80.000,10,2,0,3,12,4,13,0.004,18.1\r\n",
      "DLLPDEAASSLR,AIDLIDEAASSIR,80.000,10,2,0,3,12,4,13,0.004,18.1\r\n",
      "DLLPDEAASSLR,AIDLIDEAASSIR,80.000,10,2,0,3,12,4,13,0.004,18.1\r\n",
      "DLLPDEAASSLR,LIDEAASSIR,80.000,10,2,0,3,12,1,10,0.004,18.1\r\n",
      "DLLPDEAASSLR,LIDEAASSIR,80.000,10,2,0,3,12,1,10,0.004,18.1\r\n",
      "DLLPDEAASSLR,DLIDEAASSIR,80.000,10,2,0,3,12,2,11,0.004,18.1\r\n",
      "DLLPDEAASSLR,DLIDEAASSIR,80.000,10,2,0,3,12,2,11,0.004,18.1\r\n",
      "DLLPDEAASSLR,IDEAASSIR,87.500,8,1,0,5,12,2,9,0.008,17.3\r\n",
      "DLLPDEAASSLR,IDEAASSIR,87.500,8,1,0,5,12,2,9,0.008,17.3\r\n"
     ]
    }
   ],
   "source": [
    "!head /Users/meganduffy/Documents/git-repos/FISH-546/analyses/peaks_hi3_vs_plgs.csv"
   ]
  },
  {
   "cell_type": "markdown",
   "metadata": {},
   "source": [
    "### Ok, now how about vs the ideal peptide sequences? ###\n",
    "\n",
    "In Galaxy, I converted the 6 listed Hi3 E. coli peptides to FASTA format called ```hi3-ecoli-peptides.fasta```"
   ]
  },
  {
   "cell_type": "code",
   "execution_count": 11,
   "metadata": {
    "collapsed": false
   },
   "outputs": [
    {
     "name": "stdout",
     "output_type": "stream",
     "text": [
      "062016_ETNP_129_100m_db.fasta        hi3-ecoli-peptides.fasta\r\n",
      "062016_ETNP_129_100m_db_db.fasta.phr plgs-hi3-peptides.fasta\r\n",
      "062016_ETNP_129_100m_db_db.fasta.pin plgs-hi3-peptides_db.fasta.phr\r\n",
      "062016_ETNP_129_100m_db_db.fasta.psq plgs-hi3-peptides_db.fasta.pin\r\n",
      "062016_ETNP_129_100m_peaks.fasta     plgs-hi3-peptides_db.fasta.psq\r\n",
      "all-hi3-peptides.fasta\r\n"
     ]
    }
   ],
   "source": [
    "!ls galaxy/"
   ]
  },
  {
   "cell_type": "code",
   "execution_count": 12,
   "metadata": {
    "collapsed": false
   },
   "outputs": [
    {
     "name": "stdout",
     "output_type": "stream",
     "text": [
      "\r\n",
      "\r\n",
      "Building a new DB, current time: 12/13/2016 01:07:39\r\n",
      "New DB name:   /Users/meganduffy/Documents/git-repos/FISH-546/data/galaxy/hi3-ecoli-peptides_db.fasta\r\n",
      "New DB title:  galaxy/hi3-ecoli-peptides.fasta\r\n",
      "Sequence type: Protein\r\n",
      "Keep MBits: T\r\n",
      "Maximum file size: 1000000000B\r\n",
      "Adding sequences from FASTA; added 6 sequences in 0.00436592 seconds.\r\n"
     ]
    }
   ],
   "source": [
    "# making database from Hi3 standard peptides\n",
    "!~/Applications/ncbi-blast-2.5.0+/bin/makeblastdb \\\n",
    "-in galaxy/hi3-ecoli-peptides.fasta \\\n",
    "-dbtype prot \\\n",
    "-out galaxy/hi3-ecoli-peptides_db.fasta"
   ]
  },
  {
   "cell_type": "code",
   "execution_count": 13,
   "metadata": {
    "collapsed": true
   },
   "outputs": [],
   "source": [
    "# blastp search of PEAKS de novo Hi3 peptides vs standard Hi3 peptides\n",
    "# outfmt = 10 gives output in csv format. \n",
    "!~/Applications/ncbi-blast-2.5.0+/bin/blastp \\\n",
    "-query galaxy/all-hi3-peptides.fasta \\\n",
    "-db galaxy/hi3-ecoli-peptides_db.fasta \\\n",
    "-outfmt 10 \\\n",
    "-out /Users/meganduffy/Documents/git-repos/FISH-546/analyses/peaks_hi3_vs_stds.csv"
   ]
  },
  {
   "cell_type": "code",
   "execution_count": 14,
   "metadata": {
    "collapsed": false
   },
   "outputs": [
    {
     "name": "stdout",
     "output_type": "stream",
     "text": [
      "DLLPDEAASSLR,AIDLIDEAASSIR,80.000,10,2,0,3,12,4,13,2.98e-04,18.1\r\n",
      "RGPALDEAASSLR,AIDLIDEAASSIR,77.778,9,2,0,5,13,5,13,3.68e-04,18.1\r\n",
      "TDVAHVDAELAEVLAR,VTDAEIAEVLAR,90.000,10,1,0,7,16,3,12,5.67e-05,20.4\r\n",
      "TDVVTPSAGGLAEVLAR,VTDAEIAEVLAR,85.714,7,1,0,11,17,6,12,0.006,15.4\r\n",
      "DPLLDEAASSLR,AIDLIDEAASSIR,80.000,10,2,0,3,12,4,13,8.91e-05,19.6\r\n",
      "HDVQPSQDLVR,LPQVEGTGGDVQPSQDLVR,100.000,10,0,0,2,11,10,19,3.82e-06,23.1\r\n",
      "EAPQVTDAELAEVLAR,VTDAEIAEVLAR,91.667,12,1,0,5,16,1,12,2.98e-06,23.9\r\n",
      "GPSQVTDAELAEVLAR,VTDAEIAEVLAR,91.667,12,1,0,5,16,1,12,2.33e-06,24.3\r\n",
      "WECCTDAELAEVLAR,VTDAEIAEVLAR,83.333,12,2,0,4,15,1,12,7.29e-06,22.7\r\n",
      "LLLDEAASSLR,AIDLIDEAASSIR,80.000,10,2,0,2,11,4,13,8.08e-05,19.6\r\n"
     ]
    }
   ],
   "source": [
    "! head /Users/meganduffy/Documents/git-repos/FISH-546/analyses/peaks_hi3_vs_stds.csv"
   ]
  },
  {
   "cell_type": "code",
   "execution_count": 15,
   "metadata": {
    "collapsed": true
   },
   "outputs": [],
   "source": [
    "# blastp search of PLGS database searched Hi3 peptides vs standard Hi3 peptides\n",
    "# outfmt = 10 gives output in csv format. \n",
    "!~/Applications/ncbi-blast-2.5.0+/bin/blastp \\\n",
    "-query galaxy/plgs-hi3-peptides.fasta \\\n",
    "-db galaxy/hi3-ecoli-peptides_db.fasta \\\n",
    "-outfmt 10 \\\n",
    "-out /Users/meganduffy/Documents/git-repos/FISH-546/analyses/plgs_hi3_vs_stds.csv"
   ]
  },
  {
   "cell_type": "code",
   "execution_count": 16,
   "metadata": {
    "collapsed": false
   },
   "outputs": [
    {
     "name": "stdout",
     "output_type": "stream",
     "text": [
      "NNPVLIGEPGVGK,NNPVLIGEPGVGK,100.000,13,0,0,1,13,1,13,4.87e-08,28.1\r\n",
      "AIDLIDEAASSIR,AIDLIDEAASSIR,100.000,13,0,0,1,13,1,13,3.71e-07,25.8\r\n",
      "VTDAEIAEVLAR,VTDAEIAEVLAR,100.000,12,0,0,1,12,1,12,1.12e-06,24.6\r\n",
      "VIGQNEAVDAVSNAIR,VIGQNEAVDAVSNAIR,100.000,16,0,0,1,16,1,16,9.37e-10,32.7\r\n",
      "LPQVEGTGGDVQPSQDLVR,LPQVEGTGGDVQPSQDLVR,100.000,19,0,0,1,19,1,19,1.48e-12,40.0\r\n",
      "EAASSIR,AIDLIDEAASSIR,100.000,7,0,0,1,7,7,13,0.001,15.8\r\n",
      "GEPGVGK,NNPVLIGEPGVGK,100.000,7,0,0,1,7,7,13,4.46e-04,17.3\r\n",
      "VIGQNEA,VIGQNEAVDAVSNAIR,100.000,7,0,0,1,7,1,7,4.43e-04,17.3\r\n",
      "IAEVLAR,VTDAEIAEVLAR,100.000,7,0,0,1,7,6,12,0.001,15.8\r\n",
      "AASSIR,AIDLIDEAASSIR,100.000,6,0,0,1,6,8,13,0.023,13.9\r\n"
     ]
    }
   ],
   "source": [
    "! head /Users/meganduffy/Documents/git-repos/FISH-546/analyses/plgs_hi3_vs_stds.csv"
   ]
  },
  {
   "cell_type": "markdown",
   "metadata": {},
   "source": [
    "### Looks like PEAKS found two of the six peptides reasonably well, and a third just okay. PLGS database searching (where the exact sequences were in the database) did do better, and identifed all six. ###\n"
   ]
  },
  {
   "cell_type": "code",
   "execution_count": null,
   "metadata": {
    "collapsed": true
   },
   "outputs": [],
   "source": []
  }
 ],
 "metadata": {
  "anaconda-cloud": {},
  "kernelspec": {
   "display_name": "Python [default]",
   "language": "python",
   "name": "python3"
  },
  "language_info": {
   "codemirror_mode": {
    "name": "ipython",
    "version": 3
   },
   "file_extension": ".py",
   "mimetype": "text/x-python",
   "name": "python",
   "nbconvert_exporter": "python",
   "pygments_lexer": "ipython3",
   "version": "3.5.2"
  }
 },
 "nbformat": 4,
 "nbformat_minor": 1
}
