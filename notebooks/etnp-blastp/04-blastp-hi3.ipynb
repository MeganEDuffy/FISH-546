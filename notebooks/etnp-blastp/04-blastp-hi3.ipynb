{
 "cells": [
  {
   "cell_type": "markdown",
   "metadata": {},
   "source": [
    "### Comparison of PEAK sequenced Hi3 peptides vs PLGS database searched Hi3 peptides vs list of ideal Hi3 peptide sequences ###"
   ]
  },
  {
   "cell_type": "code",
   "execution_count": 1,
   "metadata": {
    "collapsed": false
   },
   "outputs": [
    {
     "name": "stdout",
     "output_type": "stream",
     "text": [
      "Tue Dec 13 00:53:59 PST 2016\r\n"
     ]
    }
   ],
   "source": [
    "!date"
   ]
  },
  {
   "cell_type": "code",
   "execution_count": 2,
   "metadata": {
    "collapsed": false
   },
   "outputs": [
    {
     "name": "stdout",
     "output_type": "stream",
     "text": [
      "Software:\r\n",
      "\r\n",
      "    System Software Overview:\r\n",
      "\r\n",
      "      System Version: macOS 10.12.1 (16B2555)\r\n",
      "      Kernel Version: Darwin 16.1.0\r\n",
      "      Boot Volume: Macintosh HD\r\n",
      "      Boot Mode: Normal\r\n",
      "      Computer Name: Megan’s MacBook Pro\r\n",
      "      User Name: Megan Duffy (meganduffy)\r\n",
      "      Secure Virtual Memory: Enabled\r\n",
      "      System Integrity Protection: Enabled\r\n",
      "      Time since boot: 28 days 15:57\r\n",
      "\r\n"
     ]
    }
   ],
   "source": [
    "!system_profiler SPSoftwareDataType"
   ]
  },
  {
   "cell_type": "code",
   "execution_count": 5,
   "metadata": {
    "collapsed": false
   },
   "outputs": [
    {
     "name": "stdout",
     "output_type": "stream",
     "text": [
      "/Users/meganduffy/Documents/git-repos/FISH-546/data\n"
     ]
    }
   ],
   "source": [
    "cd /Users/meganduffy/Documents/git-repos/FISH-546/data"
   ]
  },
  {
   "cell_type": "code",
   "execution_count": 6,
   "metadata": {
    "collapsed": false
   },
   "outputs": [
    {
     "name": "stdout",
     "output_type": "stream",
     "text": [
      "062016_ETNP_129_100m_db.fasta         062016_ETNP_129_100m_peaks.fasta\r\n",
      "062016_ETNP_129_100m_db_db.fasta.phr  all-hi3-peptides.fasta\r\n",
      "062016_ETNP_129_100m_db_db.fasta.pin  plgs-hi3-peptides.fasta\r\n",
      "062016_ETNP_129_100m_db_db.fasta.psq\r\n"
     ]
    }
   ],
   "source": [
    "ls galaxy/"
   ]
  },
  {
   "cell_type": "code",
   "execution_count": 7,
   "metadata": {
    "collapsed": false
   },
   "outputs": [
    {
     "name": "stdout",
     "output_type": "stream",
     "text": [
      "\n",
      "\n",
      "Building a new DB, current time: 12/13/2016 00:58:01\n",
      "New DB name:   /Users/meganduffy/Documents/git-repos/FISH-546/data/galaxy/plgs-hi3-peptides_db.fasta\n",
      "New DB title:  galaxy/plgs-hi3-peptides.fasta\n",
      "Sequence type: Protein\n",
      "Keep MBits: T\n",
      "Maximum file size: 1000000000B\n",
      "Adding sequences from FASTA; added 122 sequences in 0.010078 seconds.\n"
     ]
    }
   ],
   "source": [
    "# making database from PLGS searched peptides\n",
    "!~/Applications/ncbi-blast-2.5.0+/bin/makeblastdb \\\n",
    "-in galaxy/plgs-hi3-peptides.fasta \\\n",
    "-dbtype prot \\\n",
    "-out galaxy/plgs-hi3-peptides_db.fasta"
   ]
  },
  {
   "cell_type": "code",
   "execution_count": 8,
   "metadata": {
    "collapsed": true
   },
   "outputs": [],
   "source": [
    "# blastp search of PEAKS de novo Hi3 peptides vs database Hi3 peptides\n",
    "# outfmt = 10 gives output in csv format. \n",
    "!~/Applications/ncbi-blast-2.5.0+/bin/blastp \\\n",
    "-query galaxy/all-hi3-peptides.fasta \\\n",
    "-db galaxy/plgs-hi3-peptides_db.fasta \\\n",
    "-outfmt 10 \\\n",
    "-out /Users/meganduffy/Documents/git-repos/FISH-546/analyses/peaks_hi3_vs_plgs.csv"
   ]
  },
  {
   "cell_type": "code",
   "execution_count": 9,
   "metadata": {
    "collapsed": false
   },
   "outputs": [
    {
     "name": "stdout",
     "output_type": "stream",
     "text": [
      "DLLPDEAASSLR,AIDLIDEAASSIR,80.000,10,2,0,3,12,4,13,0.004,18.1\r\n",
      "DLLPDEAASSLR,AIDLIDEAASSIR,80.000,10,2,0,3,12,4,13,0.004,18.1\r\n",
      "DLLPDEAASSLR,AIDLIDEAASSIR,80.000,10,2,0,3,12,4,13,0.004,18.1\r\n",
      "DLLPDEAASSLR,AIDLIDEAASSIR,80.000,10,2,0,3,12,4,13,0.004,18.1\r\n",
      "DLLPDEAASSLR,LIDEAASSIR,80.000,10,2,0,3,12,1,10,0.004,18.1\r\n",
      "DLLPDEAASSLR,LIDEAASSIR,80.000,10,2,0,3,12,1,10,0.004,18.1\r\n",
      "DLLPDEAASSLR,DLIDEAASSIR,80.000,10,2,0,3,12,2,11,0.004,18.1\r\n",
      "DLLPDEAASSLR,DLIDEAASSIR,80.000,10,2,0,3,12,2,11,0.004,18.1\r\n",
      "DLLPDEAASSLR,IDEAASSIR,87.500,8,1,0,5,12,2,9,0.008,17.3\r\n",
      "DLLPDEAASSLR,IDEAASSIR,87.500,8,1,0,5,12,2,9,0.008,17.3\r\n"
     ]
    }
   ],
   "source": [
    "!head /Users/meganduffy/Documents/git-repos/FISH-546/analyses/peaks_hi3_vs_plgs.csv"
   ]
  },
  {
   "cell_type": "markdown",
   "metadata": {},
   "source": [
    "### Ok, now how about vs the ideal peptide sequences? ###\n",
    "\n",
    "In Galaxy, I converted the 6 listed Hi3 E. coli peptides to FASTA format"
   ]
  },
  {
   "cell_type": "code",
   "execution_count": null,
   "metadata": {
    "collapsed": true
   },
   "outputs": [],
   "source": []
  }
 ],
 "metadata": {
  "anaconda-cloud": {},
  "kernelspec": {
   "display_name": "Python [default]",
   "language": "python",
   "name": "python3"
  },
  "language_info": {
   "codemirror_mode": {
    "name": "ipython",
    "version": 3
   },
   "file_extension": ".py",
   "mimetype": "text/x-python",
   "name": "python",
   "nbconvert_exporter": "python",
   "pygments_lexer": "ipython3",
   "version": "3.5.2"
  }
 },
 "nbformat": 4,
 "nbformat_minor": 1
}
