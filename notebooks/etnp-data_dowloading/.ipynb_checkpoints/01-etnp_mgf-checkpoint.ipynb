{
 "cells": [
  {
   "cell_type": "markdown",
   "metadata": {},
   "source": [
    "### ETNP test samples \n",
    "\n",
    "These same 100 m filter (GF/F 0.7 um) sample was injected on two differents days with differnt columns (2016-06-15 = 150 cm; 2016-06-20 = 250 cm). Both were converted in PLGS (ProteinLynx Global Server, ver 3.0.2, Waters) from .RAW directories into .mgf (Mascot generic format). What is the difference between these two files?"
   ]
  },
  {
   "cell_type": "code",
   "execution_count": 6,
   "metadata": {
    "collapsed": false
   },
   "outputs": [
    {
     "name": "stdout",
     "output_type": "stream",
     "text": [
      "061516_ETNP 129.mgf      test.mgf                 uniprot_sprot.phr\r\n",
      "062016_ETNP 129.mgf      uniprot_sprot.fasta      uniprot_sprot.pin\r\n",
      "Oly-transcriptome-2k.fa  uniprot_sprot.fasta.gz   uniprot_sprot.psq\r\n"
     ]
    }
   ],
   "source": [
    "ls ../data"
   ]
  },
  {
   "cell_type": "code",
   "execution_count": 15,
   "metadata": {
    "collapsed": false
   },
   "outputs": [
    {
     "name": "stdout",
     "output_type": "stream",
     "text": [
      "# Mascot Generic file written by ProteinLynx Global Server version 3.0.2\r",
      "\r\n",
      "MASS=Monoisotopic\r",
      "\r\n",
      "_SPECTRUM_TYPE=Electrospray-Shotgun\r",
      "\r\n",
      "\r",
      "\r\n",
      "BEGIN IONS\r",
      "\r\n",
      "INSTRUMENT=ESI-TRAP\r",
      "\r\n",
      "PEPMASS=445.11884 1314.0\r",
      "\r\n",
      "CHARGE=1+\r",
      "\r\n",
      "TITLE=LEPeakID:1:_DRIFT_TIME_IN_BINS=0.0\r",
      "\r\n",
      "RTINSECONDS=67.02788\r",
      "\r\n",
      "1020.17554 33.0 1.0\r",
      "\r\n",
      "1113.515 30.0 1.0\r",
      "\r\n",
      "1296.0485 37.0 1.0\r",
      "\r\n",
      "END IONS\r",
      "\r\n",
      "\r",
      "\r\n",
      "BEGIN IONS\r",
      "\r\n",
      "INSTRUMENT=ESI-TRAP\r",
      "\r\n",
      "PEPMASS=519.1373 1862.0\r",
      "\r\n",
      "CHARGE=1+\r",
      "\r\n",
      "TITLE=LEPeakID:2:_DRIFT_TIME_IN_BINS=0.0\r",
      "\r\n",
      "RTINSECONDS=77.90939\r",
      "\r\n",
      "1054.5184 79.0 1.0\r",
      "\r\n",
      "921.61395 35.0 1.0\r",
      "\r\n",
      "1263.5627 31.0 1.0\r",
      "\r\n",
      "1125.562 41.0 1.0\r",
      "\r\n",
      "977.58606 40.0 1.0\r",
      "\r\n",
      "1263.9215 37.0 1.0\r",
      "\r\n",
      "280.94693 62.0 1.0\r",
      "\r\n",
      "1370.5446 48.0 1.0\r",
      "\r\n",
      "1216.9341 35.0 1.0\r",
      "\r\n"
     ]
    }
   ],
   "source": [
    "!head -n 30 ../data/061516_ETNP\\ 129.mgf\n",
    "# I dislike how we named these files! I certainly want to adopt a new convention in our lab, 2016-06-15_ETNP_129 would do"
   ]
  },
  {
   "cell_type": "markdown",
   "metadata": {},
   "source": [
    "so I hadn't really looked at these files before. MGF are plain text (ASCII) files. When doing some searching about how to work with ms/ms data in this format, I discovered [the mgf module](https://pythonhosted.org/pyteomics/api/mgf.html), an mgf reading module designed by the people at    [Pyteomics](https://pythonhosted.org/pyteomics/). Not really sure why I might use this in the future, but it could be useful."
   ]
  },
  {
   "cell_type": "code",
   "execution_count": 18,
   "metadata": {
    "collapsed": false
   },
   "outputs": [
    {
     "name": "stdout",
     "output_type": "stream",
     "text": [
      " 3652441 ../data/061516_ETNP 129.mgf\n",
      " 3371102 ../data/062016_ETNP 129.mgf\n",
      " 7023543 total\n"
     ]
    }
   ],
   "source": [
    "# how many lines does each of the files contain? \n",
    "! wc -l ../data/061516_ETNP\\ 129.mgf ../data/062016_ETNP\\ 129.mgf"
   ]
  },
  {
   "cell_type": "code",
   "execution_count": 19,
   "metadata": {
    "collapsed": false
   },
   "outputs": [
    {
     "name": "stdout",
     "output_type": "stream",
     "text": [
      "400.9839 32.0 1.0\r",
      "\r\n",
      "123.988434 31.0 1.0\r",
      "\r\n",
      "212.02031 54.0 1.0\r",
      "\r\n",
      "482.98257 59.0 1.0\r",
      "\r\n",
      "323.22552 129.0 1.0\r",
      "\r\n",
      "783.37384 35.0 1.0\r",
      "\r\n",
      "449.1513 82.0 1.0\r",
      "\r\n",
      "952.08264 30.0 1.0\r",
      "\r\n",
      "187.94719 100.0 1.0\r",
      "\r\n",
      "337.17902 44.0 1.0\r",
      "\r\n",
      "457.95493 32.0 1.0\r",
      "\r\n",
      "281.05112 64.0 1.0\r",
      "\r\n",
      "265.96158 88.0 1.0\r",
      "\r\n",
      "323.22437 161.0 1.0\r",
      "\r\n",
      "END IONS\r",
      "\r\n",
      "\r",
      "\r\n",
      "BEGIN IONS\r",
      "\r\n",
      "INSTRUMENT=ESI-TRAP\r",
      "\r\n",
      "PEPMASS=749.365 681.0\r",
      "\r\n",
      "CHARGE=1+\r",
      "\r\n",
      "TITLE=LEPeakID:11263:_DRIFT_TIME_IN_BINS=0.0\r",
      "\r\n",
      "RTINSECONDS=7142.7856\r",
      "\r\n",
      "END IONS\r",
      "\r\n",
      "\r",
      "\r\n",
      "BEGIN IONS\r",
      "\r\n",
      "INSTRUMENT=ESI-TRAP\r",
      "\r\n",
      "PEPMASS=533.2864 826.0\r",
      "\r\n",
      "CHARGE=1+\r",
      "\r\n",
      "TITLE=LEPeakID:11264:_DRIFT_TIME_IN_BINS=0.0\r",
      "\r\n",
      "RTINSECONDS=7143.9233\r",
      "\r\n"
     ]
    }
   ],
   "source": [
    "# \n",
    "!tail -n 30 ../data/061516_ETNP\\ 129.mgf"
   ]
  },
  {
   "cell_type": "code",
   "execution_count": null,
   "metadata": {
    "collapsed": true
   },
   "outputs": [],
   "source": []
  }
 ],
 "metadata": {
  "anaconda-cloud": {},
  "kernelspec": {
   "display_name": "Python [default]",
   "language": "python",
   "name": "python3"
  },
  "language_info": {
   "codemirror_mode": {
    "name": "ipython",
    "version": 3
   },
   "file_extension": ".py",
   "mimetype": "text/x-python",
   "name": "python",
   "nbconvert_exporter": "python",
   "pygments_lexer": "ipython3",
   "version": "3.5.2"
  }
 },
 "nbformat": 4,
 "nbformat_minor": 1
}
