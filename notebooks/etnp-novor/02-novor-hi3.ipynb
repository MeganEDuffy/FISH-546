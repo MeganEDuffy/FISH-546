{
 "cells": [
  {
   "cell_type": "markdown",
   "metadata": {},
   "source": [
    "### Running Novor search on MS/MS spectral data from a run of _E. coli_ peptide standards ###\n",
    "\n",
    "I want to test out Novor to see how well it does finding peptides we're pretty sure should be there (though, this depends on the particular chromatography, ionization, detection, etc, of the run). Waters makes and sells a set of 6 standard E. coli peptides from a heat shock protein (ClpB). You can see their sequences and masses [here](https://www.waters.com/webassets/cms/support/docs/720004332en.pdf). \n",
    "\n",
    "I exported spectra (also MS<sup>e</sup>) from three injections of 100 fmol Hi3 (from 2 different days) as .mgf files in PLGS. They samples are:\n",
    "\n",
    "- 052720_100fmol_Hi3_1\n",
    "- 052720_100fmol_Hi3_8\n",
    "- 060620_100fmol_Hi3_3\n",
    "\n",
    "I now want to run them through Novor:"
   ]
  },
  {
   "cell_type": "code",
   "execution_count": 1,
   "metadata": {
    "collapsed": false
   },
   "outputs": [
    {
     "name": "stdout",
     "output_type": "stream",
     "text": [
      "Thu Dec  8 20:05:39 PST 2016\r\n"
     ]
    }
   ],
   "source": [
    "!date"
   ]
  },
  {
   "cell_type": "code",
   "execution_count": 2,
   "metadata": {
    "collapsed": false
   },
   "outputs": [
    {
     "name": "stdout",
     "output_type": "stream",
     "text": [
      "Software:\r\n",
      "\r\n",
      "    System Software Overview:\r\n",
      "\r\n",
      "      System Version: macOS 10.12.1 (16B2555)\r\n",
      "      Kernel Version: Darwin 16.1.0\r\n",
      "      Boot Volume: Macintosh HD\r\n",
      "      Boot Mode: Normal\r\n",
      "      Computer Name: Megan’s MacBook Pro\r\n",
      "      User Name: Megan Duffy (meganduffy)\r\n",
      "      Secure Virtual Memory: Enabled\r\n",
      "      System Integrity Protection: Enabled\r\n",
      "      Time since boot: 24 days 11:09\r\n",
      "\r\n"
     ]
    }
   ],
   "source": [
    "!system_profiler SPSoftwareDataType"
   ]
  },
  {
   "cell_type": "code",
   "execution_count": 3,
   "metadata": {
    "collapsed": false
   },
   "outputs": [
    {
     "name": "stdout",
     "output_type": "stream",
     "text": [
      "/Users/meganduffy/Documents/git-repos/FISH-546\n"
     ]
    }
   ],
   "source": [
    "cd ~/Documents/git-repos/FISH-546/"
   ]
  },
  {
   "cell_type": "code",
   "execution_count": null,
   "metadata": {
    "collapsed": true
   },
   "outputs": [],
   "source": []
  }
 ],
 "metadata": {
  "anaconda-cloud": {},
  "kernelspec": {
   "display_name": "Python [default]",
   "language": "python",
   "name": "python3"
  },
  "language_info": {
   "codemirror_mode": {
    "name": "ipython",
    "version": 3
   },
   "file_extension": ".py",
   "mimetype": "text/x-python",
   "name": "python",
   "nbconvert_exporter": "python",
   "pygments_lexer": "ipython3",
   "version": "3.5.2"
  }
 },
 "nbformat": 4,
 "nbformat_minor": 1
}
