{
 "cells": [
  {
   "cell_type": "markdown",
   "metadata": {},
   "source": [
    "### Here I'll run all the depth samples through Novor ###\n",
    "\n",
    "These .mgf files were expoted from ProteinLynx Global Server (PLGS) after the raw MS<sup>e</sup> data were peak picked and processed with parameters you can view in my PLGS notebook. "
   ]
  },
  {
   "cell_type": "code",
   "execution_count": 1,
   "metadata": {
    "collapsed": false
   },
   "outputs": [
    {
     "name": "stdout",
     "output_type": "stream",
     "text": [
      "Sat Dec 10 14:11:10 PST 2016\r\n"
     ]
    }
   ],
   "source": [
    "!date"
   ]
  },
  {
   "cell_type": "code",
   "execution_count": 2,
   "metadata": {
    "collapsed": false
   },
   "outputs": [
    {
     "name": "stdout",
     "output_type": "stream",
     "text": [
      "Software:\r\n",
      "\r\n",
      "    System Software Overview:\r\n",
      "\r\n",
      "      System Version: macOS 10.12.1 (16B2555)\r\n",
      "      Kernel Version: Darwin 16.1.0\r\n",
      "      Boot Volume: Macintosh HD\r\n",
      "      Boot Mode: Normal\r\n",
      "      Computer Name: Megan’s MacBook Pro\r\n",
      "      User Name: Megan Duffy (meganduffy)\r\n",
      "      Secure Virtual Memory: Enabled\r\n",
      "      System Integrity Protection: Enabled\r\n",
      "      Time since boot: 26 days 5:14\r\n",
      "\r\n"
     ]
    }
   ],
   "source": [
    "!system_profiler SPSoftwareDataType"
   ]
  },
  {
   "cell_type": "code",
   "execution_count": 3,
   "metadata": {
    "collapsed": false
   },
   "outputs": [
    {
     "name": "stdout",
     "output_type": "stream",
     "text": [
      "/Users/meganduffy/Applications/novor\n"
     ]
    }
   ],
   "source": [
    "cd ~/Applications/novor"
   ]
  },
  {
   "cell_type": "code",
   "execution_count": 4,
   "metadata": {
    "collapsed": false
   },
   "outputs": [
    {
     "name": "stdout",
     "output_type": "stream",
     "text": [
      "052716_100fmol_Hi3_1.mgf 061516_ETNP_79_65m.mgf   062016_ETNP_63_250m.mgf\r\n",
      "052716_100fmol_Hi3_8.mgf 061516_ETNP_83_2500m.mgf 062016_ETNP_99_160m.mgf\r\n",
      "060616_100fmol_Hi3_3.mgf 062016_ETNP_129_100m.mgf\r\n",
      "061516_ETNP_100_145m.mgf 062016_ETNP_131_55m.mgf\r\n"
     ]
    }
   ],
   "source": [
    "!ls /Users/meganduffy/Documents/git-repos/FISH-546/data/ETNP-plgs-mgf/"
   ]
  },
  {
   "cell_type": "code",
   "execution_count": 5,
   "metadata": {
    "collapsed": false
   },
   "outputs": [
    {
     "name": "stdout",
     "output_type": "stream",
     "text": [
      "\n",
      "MMMMMMMMMMMMMMMMMMMMMMMMW0xolcldOWMMMMMMMMMMMMMMMM\n",
      "MMMMMMMMMMMMMMXkdllclodl:;;;;;;;;:oOWMMMMMMMMMMMMM\n",
      "MMMMMMMMMMMM0c;;;;;;;;;;;;;;;;;;;;;;cKMMMMMMMMMMMM\n",
      "MMMMMMMMMMMd;;;;;;;;;;;;;;;;;;;;;;;;;;k0KXWMMMMMMM\n",
      "MMMMMMMWXXk;;;;;;;;;;;;;;;;;;;;;;;;;:;;;;;;cxNMMMM\n",
      "MMMWOoc;;;;;;;;;;;;;;;;;;;;;;;;:oxol:;;;;;;;;:kMMM\n",
      "MMO:;;;;;;;;;;;:dOXKxc;;;;;lx0NKd:;;;;;;;;;;;;;kMM\n",
      "MO;;;;;;;;;:lkXMMMMMMMXkkKWMXx:;;;;;;;;;;;;;;;;;NM\n",
      "Ml;;;;;;:d0WMMMMMKocOWMMMNkc;;;;;;;;;;;;;;;;;;;;OM\n",
      "Mx;;;cxKWMMMMMWOc;;;;:xOo;;;;;;;;;;;;;;;;;;;;;;;0M\n",
      "MWoxXMMMMMMMNx:;;;;;;;;;;;;;;;;;;;;;;;;;;;;;;;;oMM\n",
      "MMMMMMMMMMWd:;;;;;;;;;;;;;;;;;;;;;;;;;;;;;;;:o0MMM\n",
      "MMMMMMMMMM0c:::::::::::;;;;;;;;;;;:::::::coONMMMMM\n",
      "#=================== N-O-V-O-R ===================\n",
      "#   NOVOR: Real-time Peptide de Novo Sequencing   \n",
      "#              v1.05.0573 (stable)\n",
      "#             Free Academic License               \n",
      "#============== www.rapidnovor.org ===============\n",
      "#\n",
      "# This free academic license can be used for educational and academic research purposes only.\n",
      "\n",
      "[2016-12-10 14:14:12.359] WARNING: MassAnalyzer 'TOF' not supported, use 'Trap' instead.\n",
      "[2016-12-10 14:14:12.360] Loading built-in novor file 'trypsin-cid-trap'.\n",
      "[2016-12-10 14:14:13.516] De Novo on '/Users/meganduffy/Documents/git-repos/FISH-546/data/ETNP-plgs-mgf/062016_ETNP_131_55m.mgf'.\n",
      "[2016-12-10 14:14:48.573] De Novo on '/Users/meganduffy/Documents/git-repos/FISH-546/data/ETNP-plgs-mgf/062016_ETNP_131_55m.mgf' finished.\n",
      "[2016-12-10 14:14:48.574] ---------------------------------------\n",
      "[2016-12-10 14:14:48.574] Finished 1 file, 11003 spectra.\n",
      "[2016-12-10 14:14:48.575]   Output result to /Users/meganduffy/Documents/git-repos/FISH-546/data/novor-outputs/062016_ETNP_131_55m.csv\n",
      "[2016-12-10 14:14:48.575]   Total time = 34.6 seconds. Input 4.7 seconds, Output 0.3 seconds, De Novo 34.4 seconds.\n",
      "[2016-12-10 14:14:48.576]   Speed: 318.7 specs/second (19124/minute).\n"
     ]
    }
   ],
   "source": [
    "# the e. coli standard injections (Hi3) were already run through Novor in a previous notebook, 02-novor-hi3\n",
    "! mac/novor.sh -f -p tof_params.txt /Users/meganduffy/Documents/git-repos/FISH-546/data/ETNP-plgs-mgf/062016_ETNP_131_55m.mgf \\\n",
    "-o /Users/meganduffy/Documents/git-repos/FISH-546/data/novor-outputs/062016_ETNP_131_55m.csv"
   ]
  },
  {
   "cell_type": "code",
   "execution_count": 6,
   "metadata": {
    "collapsed": false
   },
   "outputs": [
    {
     "name": "stdout",
     "output_type": "stream",
     "text": [
      "\n",
      "MMMMMMMMMMMMMMMMMMMMMMMMW0xolcldOWMMMMMMMMMMMMMMMM\n",
      "MMMMMMMMMMMMMMXkdllclodl:;;;;;;;;:oOWMMMMMMMMMMMMM\n",
      "MMMMMMMMMMMM0c;;;;;;;;;;;;;;;;;;;;;;cKMMMMMMMMMMMM\n",
      "MMMMMMMMMMMd;;;;;;;;;;;;;;;;;;;;;;;;;;k0KXWMMMMMMM\n",
      "MMMMMMMWXXk;;;;;;;;;;;;;;;;;;;;;;;;;:;;;;;;cxNMMMM\n",
      "MMMWOoc;;;;;;;;;;;;;;;;;;;;;;;;:oxol:;;;;;;;;:kMMM\n",
      "MMO:;;;;;;;;;;;:dOXKxc;;;;;lx0NKd:;;;;;;;;;;;;;kMM\n",
      "MO;;;;;;;;;:lkXMMMMMMMXkkKWMXx:;;;;;;;;;;;;;;;;;NM\n",
      "Ml;;;;;;:d0WMMMMMKocOWMMMNkc;;;;;;;;;;;;;;;;;;;;OM\n",
      "Mx;;;cxKWMMMMMWOc;;;;:xOo;;;;;;;;;;;;;;;;;;;;;;;0M\n",
      "MWoxXMMMMMMMNx:;;;;;;;;;;;;;;;;;;;;;;;;;;;;;;;;oMM\n",
      "MMMMMMMMMMWd:;;;;;;;;;;;;;;;;;;;;;;;;;;;;;;;:o0MMM\n",
      "MMMMMMMMMM0c:::::::::::;;;;;;;;;;;:::::::coONMMMMM\n",
      "#=================== N-O-V-O-R ===================\n",
      "#   NOVOR: Real-time Peptide de Novo Sequencing   \n",
      "#              v1.05.0573 (stable)\n",
      "#             Free Academic License               \n",
      "#============== www.rapidnovor.org ===============\n",
      "#\n",
      "# This free academic license can be used for educational and academic research purposes only.\n",
      "\n",
      "[2016-12-10 14:15:28.031] WARNING: MassAnalyzer 'TOF' not supported, use 'Trap' instead.\n",
      "[2016-12-10 14:15:28.031] Loading built-in novor file 'trypsin-cid-trap'.\n",
      "[2016-12-10 14:15:28.601] De Novo on '/Users/meganduffy/Documents/git-repos/FISH-546/data/ETNP-plgs-mgf/061516_ETNP_79_65m.mgf'.\n",
      "[2016-12-10 14:15:39.131] De Novo on '/Users/meganduffy/Documents/git-repos/FISH-546/data/ETNP-plgs-mgf/061516_ETNP_79_65m.mgf' finished.\n",
      "[2016-12-10 14:15:39.132] ---------------------------------------\n",
      "[2016-12-10 14:15:39.132] Finished 1 file, 3361 spectra.\n",
      "[2016-12-10 14:15:39.132]   Output result to /Users/meganduffy/Documents/git-repos/FISH-546/data/novor-outputs/061516_ETNP_79_65m.csv\n",
      "[2016-12-10 14:15:39.132]   Total time = 10.4 seconds. Input 1.3 seconds, Output 0.1 seconds, De Novo 10.4 seconds.\n",
      "[2016-12-10 14:15:39.133]   Speed: 322.6 specs/second (19355/minute).\n"
     ]
    }
   ],
   "source": [
    "! mac/novor.sh -f -p tof_params.txt /Users/meganduffy/Documents/git-repos/FISH-546/data/ETNP-plgs-mgf/061516_ETNP_79_65m.mgf \\\n",
    "-o /Users/meganduffy/Documents/git-repos/FISH-546/data/novor-outputs/061516_ETNP_79_65m.csv"
   ]
  },
  {
   "cell_type": "code",
   "execution_count": 7,
   "metadata": {
    "collapsed": false
   },
   "outputs": [
    {
     "name": "stdout",
     "output_type": "stream",
     "text": [
      "\n",
      "MMMMMMMMMMMMMMMMMMMMMMMMW0xolcldOWMMMMMMMMMMMMMMMM\n",
      "MMMMMMMMMMMMMMXkdllclodl:;;;;;;;;:oOWMMMMMMMMMMMMM\n",
      "MMMMMMMMMMMM0c;;;;;;;;;;;;;;;;;;;;;;cKMMMMMMMMMMMM\n",
      "MMMMMMMMMMMd;;;;;;;;;;;;;;;;;;;;;;;;;;k0KXWMMMMMMM\n",
      "MMMMMMMWXXk;;;;;;;;;;;;;;;;;;;;;;;;;:;;;;;;cxNMMMM\n",
      "MMMWOoc;;;;;;;;;;;;;;;;;;;;;;;;:oxol:;;;;;;;;:kMMM\n",
      "MMO:;;;;;;;;;;;:dOXKxc;;;;;lx0NKd:;;;;;;;;;;;;;kMM\n",
      "MO;;;;;;;;;:lkXMMMMMMMXkkKWMXx:;;;;;;;;;;;;;;;;;NM\n",
      "Ml;;;;;;:d0WMMMMMKocOWMMMNkc;;;;;;;;;;;;;;;;;;;;OM\n",
      "Mx;;;cxKWMMMMMWOc;;;;:xOo;;;;;;;;;;;;;;;;;;;;;;;0M\n",
      "MWoxXMMMMMMMNx:;;;;;;;;;;;;;;;;;;;;;;;;;;;;;;;;oMM\n",
      "MMMMMMMMMMWd:;;;;;;;;;;;;;;;;;;;;;;;;;;;;;;;:o0MMM\n",
      "MMMMMMMMMM0c:::::::::::;;;;;;;;;;;:::::::coONMMMMM\n",
      "#=================== N-O-V-O-R ===================\n",
      "#   NOVOR: Real-time Peptide de Novo Sequencing   \n",
      "#              v1.05.0573 (stable)\n",
      "#             Free Academic License               \n",
      "#============== www.rapidnovor.org ===============\n",
      "#\n",
      "# This free academic license can be used for educational and academic research purposes only.\n",
      "\n",
      "[2016-12-10 14:16:50.821] WARNING: MassAnalyzer 'TOF' not supported, use 'Trap' instead.\n",
      "[2016-12-10 14:16:50.822] Loading built-in novor file 'trypsin-cid-trap'.\n",
      "[2016-12-10 14:16:51.395] De Novo on '/Users/meganduffy/Documents/git-repos/FISH-546/data/ETNP-plgs-mgf/062016_ETNP_129_100m.mgf'.\n",
      "[2016-12-10 14:17:01.922] De Novo on '/Users/meganduffy/Documents/git-repos/FISH-546/data/ETNP-plgs-mgf/062016_ETNP_129_100m.mgf' finished.\n",
      "[2016-12-10 14:17:01.922] ---------------------------------------\n",
      "[2016-12-10 14:17:01.922] Finished 1 file, 4273 spectra.\n",
      "[2016-12-10 14:17:01.922]   Output result to /Users/meganduffy/Documents/git-repos/FISH-546/data/novor-outputs/062016_ETNP_129_100m.csv\n",
      "[2016-12-10 14:17:01.922]   Total time = 10.4 seconds. Input 1.0 seconds, Output 0.1 seconds, De Novo 10.4 seconds.\n",
      "[2016-12-10 14:17:01.923]   Speed: 410.0 specs/second (24599/minute).\n"
     ]
    }
   ],
   "source": [
    "! mac/novor.sh -f -p tof_params.txt /Users/meganduffy/Documents/git-repos/FISH-546/data/ETNP-plgs-mgf/062016_ETNP_129_100m.mgf \\\n",
    "-o /Users/meganduffy/Documents/git-repos/FISH-546/data/novor-outputs/062016_ETNP_129_100m.csv"
   ]
  },
  {
   "cell_type": "code",
   "execution_count": 8,
   "metadata": {
    "collapsed": false
   },
   "outputs": [
    {
     "name": "stdout",
     "output_type": "stream",
     "text": [
      "\n",
      "MMMMMMMMMMMMMMMMMMMMMMMMW0xolcldOWMMMMMMMMMMMMMMMM\n",
      "MMMMMMMMMMMMMMXkdllclodl:;;;;;;;;:oOWMMMMMMMMMMMMM\n",
      "MMMMMMMMMMMM0c;;;;;;;;;;;;;;;;;;;;;;cKMMMMMMMMMMMM\n",
      "MMMMMMMMMMMd;;;;;;;;;;;;;;;;;;;;;;;;;;k0KXWMMMMMMM\n",
      "MMMMMMMWXXk;;;;;;;;;;;;;;;;;;;;;;;;;:;;;;;;cxNMMMM\n",
      "MMMWOoc;;;;;;;;;;;;;;;;;;;;;;;;:oxol:;;;;;;;;:kMMM\n",
      "MMO:;;;;;;;;;;;:dOXKxc;;;;;lx0NKd:;;;;;;;;;;;;;kMM\n",
      "MO;;;;;;;;;:lkXMMMMMMMXkkKWMXx:;;;;;;;;;;;;;;;;;NM\n",
      "Ml;;;;;;:d0WMMMMMKocOWMMMNkc;;;;;;;;;;;;;;;;;;;;OM\n",
      "Mx;;;cxKWMMMMMWOc;;;;:xOo;;;;;;;;;;;;;;;;;;;;;;;0M\n",
      "MWoxXMMMMMMMNx:;;;;;;;;;;;;;;;;;;;;;;;;;;;;;;;;oMM\n",
      "MMMMMMMMMMWd:;;;;;;;;;;;;;;;;;;;;;;;;;;;;;;;:o0MMM\n",
      "MMMMMMMMMM0c:::::::::::;;;;;;;;;;;:::::::coONMMMMM\n",
      "#=================== N-O-V-O-R ===================\n",
      "#   NOVOR: Real-time Peptide de Novo Sequencing   \n",
      "#              v1.05.0573 (stable)\n",
      "#             Free Academic License               \n",
      "#============== www.rapidnovor.org ===============\n",
      "#\n",
      "# This free academic license can be used for educational and academic research purposes only.\n",
      "\n",
      "[2016-12-10 14:17:41.429] WARNING: MassAnalyzer 'TOF' not supported, use 'Trap' instead.\n",
      "[2016-12-10 14:17:41.430] Loading built-in novor file 'trypsin-cid-trap'.\n",
      "[2016-12-10 14:17:42.009] De Novo on '/Users/meganduffy/Documents/git-repos/FISH-546/data/ETNP-plgs-mgf/061516_ETNP_100_145m.mgf'.\n",
      "[2016-12-10 14:17:47.796] De Novo on '/Users/meganduffy/Documents/git-repos/FISH-546/data/ETNP-plgs-mgf/061516_ETNP_100_145m.mgf' finished.\n",
      "[2016-12-10 14:17:47.796] ---------------------------------------\n",
      "[2016-12-10 14:17:47.796] Finished 1 file, 1862 spectra.\n",
      "[2016-12-10 14:17:47.796]   Output result to /Users/meganduffy/Documents/git-repos/FISH-546/data/novor-outputs/061516_ETNP_100_145m.csv\n",
      "[2016-12-10 14:17:47.796]   Total time = 5.7 seconds. Input 1.0 seconds, Output 0.1 seconds, De Novo 5.6 seconds.\n",
      "[2016-12-10 14:17:47.797]   Speed: 325.2 specs/second (19512/minute).\n"
     ]
    }
   ],
   "source": [
    "! mac/novor.sh -f -p tof_params.txt /Users/meganduffy/Documents/git-repos/FISH-546/data/ETNP-plgs-mgf/061516_ETNP_100_145m.mgf \\\n",
    "-o /Users/meganduffy/Documents/git-repos/FISH-546/data/novor-outputs/061516_ETNP_100_145m.csv"
   ]
  },
  {
   "cell_type": "code",
   "execution_count": 9,
   "metadata": {
    "collapsed": false
   },
   "outputs": [
    {
     "name": "stdout",
     "output_type": "stream",
     "text": [
      "\n",
      "MMMMMMMMMMMMMMMMMMMMMMMMW0xolcldOWMMMMMMMMMMMMMMMM\n",
      "MMMMMMMMMMMMMMXkdllclodl:;;;;;;;;:oOWMMMMMMMMMMMMM\n",
      "MMMMMMMMMMMM0c;;;;;;;;;;;;;;;;;;;;;;cKMMMMMMMMMMMM\n",
      "MMMMMMMMMMMd;;;;;;;;;;;;;;;;;;;;;;;;;;k0KXWMMMMMMM\n",
      "MMMMMMMWXXk;;;;;;;;;;;;;;;;;;;;;;;;;:;;;;;;cxNMMMM\n",
      "MMMWOoc;;;;;;;;;;;;;;;;;;;;;;;;:oxol:;;;;;;;;:kMMM\n",
      "MMO:;;;;;;;;;;;:dOXKxc;;;;;lx0NKd:;;;;;;;;;;;;;kMM\n",
      "MO;;;;;;;;;:lkXMMMMMMMXkkKWMXx:;;;;;;;;;;;;;;;;;NM\n",
      "Ml;;;;;;:d0WMMMMMKocOWMMMNkc;;;;;;;;;;;;;;;;;;;;OM\n",
      "Mx;;;cxKWMMMMMWOc;;;;:xOo;;;;;;;;;;;;;;;;;;;;;;;0M\n",
      "MWoxXMMMMMMMNx:;;;;;;;;;;;;;;;;;;;;;;;;;;;;;;;;oMM\n",
      "MMMMMMMMMMWd:;;;;;;;;;;;;;;;;;;;;;;;;;;;;;;;:o0MMM\n",
      "MMMMMMMMMM0c:::::::::::;;;;;;;;;;;:::::::coONMMMMM\n",
      "#=================== N-O-V-O-R ===================\n",
      "#   NOVOR: Real-time Peptide de Novo Sequencing   \n",
      "#              v1.05.0573 (stable)\n",
      "#             Free Academic License               \n",
      "#============== www.rapidnovor.org ===============\n",
      "#\n",
      "# This free academic license can be used for educational and academic research purposes only.\n",
      "\n",
      "[2016-12-10 14:18:53.011] WARNING: MassAnalyzer 'TOF' not supported, use 'Trap' instead.\n",
      "[2016-12-10 14:18:53.012] Loading built-in novor file 'trypsin-cid-trap'.\n",
      "[2016-12-10 14:18:53.631] De Novo on '/Users/meganduffy/Documents/git-repos/FISH-546/data/ETNP-plgs-mgf/062016_ETNP_99_160m.mgf'.\n",
      "[2016-12-10 14:18:56.847] De Novo on '/Users/meganduffy/Documents/git-repos/FISH-546/data/ETNP-plgs-mgf/062016_ETNP_99_160m.mgf' finished.\n",
      "[2016-12-10 14:18:56.848] ---------------------------------------\n",
      "[2016-12-10 14:18:56.848] Finished 1 file, 134 spectra.\n",
      "[2016-12-10 14:18:56.848]   Output result to /Users/meganduffy/Documents/git-repos/FISH-546/data/novor-outputs/062016_ETNP_99_160m.csv\n",
      "[2016-12-10 14:18:56.848]   Total time = 3.2 seconds. Input 0.5 seconds, Output 0.0 seconds, De Novo 3.2 seconds.\n",
      "[2016-12-10 14:18:56.848]   Speed: 41.6 specs/second (2499/minute).\n"
     ]
    }
   ],
   "source": [
    "! mac/novor.sh -f -p tof_params.txt /Users/meganduffy/Documents/git-repos/FISH-546/data/ETNP-plgs-mgf/062016_ETNP_99_160m.mgf \\\n",
    "-o /Users/meganduffy/Documents/git-repos/FISH-546/data/novor-outputs/062016_ETNP_99_160m.csv"
   ]
  },
  {
   "cell_type": "code",
   "execution_count": 10,
   "metadata": {
    "collapsed": false
   },
   "outputs": [
    {
     "name": "stdout",
     "output_type": "stream",
     "text": [
      "\n",
      "MMMMMMMMMMMMMMMMMMMMMMMMW0xolcldOWMMMMMMMMMMMMMMMM\n",
      "MMMMMMMMMMMMMMXkdllclodl:;;;;;;;;:oOWMMMMMMMMMMMMM\n",
      "MMMMMMMMMMMM0c;;;;;;;;;;;;;;;;;;;;;;cKMMMMMMMMMMMM\n",
      "MMMMMMMMMMMd;;;;;;;;;;;;;;;;;;;;;;;;;;k0KXWMMMMMMM\n",
      "MMMMMMMWXXk;;;;;;;;;;;;;;;;;;;;;;;;;:;;;;;;cxNMMMM\n",
      "MMMWOoc;;;;;;;;;;;;;;;;;;;;;;;;:oxol:;;;;;;;;:kMMM\n",
      "MMO:;;;;;;;;;;;:dOXKxc;;;;;lx0NKd:;;;;;;;;;;;;;kMM\n",
      "MO;;;;;;;;;:lkXMMMMMMMXkkKWMXx:;;;;;;;;;;;;;;;;;NM\n",
      "Ml;;;;;;:d0WMMMMMKocOWMMMNkc;;;;;;;;;;;;;;;;;;;;OM\n",
      "Mx;;;cxKWMMMMMWOc;;;;:xOo;;;;;;;;;;;;;;;;;;;;;;;0M\n",
      "MWoxXMMMMMMMNx:;;;;;;;;;;;;;;;;;;;;;;;;;;;;;;;;oMM\n",
      "MMMMMMMMMMWd:;;;;;;;;;;;;;;;;;;;;;;;;;;;;;;;:o0MMM\n",
      "MMMMMMMMMM0c:::::::::::;;;;;;;;;;;:::::::coONMMMMM\n",
      "#=================== N-O-V-O-R ===================\n",
      "#   NOVOR: Real-time Peptide de Novo Sequencing   \n",
      "#              v1.05.0573 (stable)\n",
      "#             Free Academic License               \n",
      "#============== www.rapidnovor.org ===============\n",
      "#\n",
      "# This free academic license can be used for educational and academic research purposes only.\n",
      "\n",
      "[2016-12-10 14:19:28.824] WARNING: MassAnalyzer 'TOF' not supported, use 'Trap' instead.\n",
      "[2016-12-10 14:19:28.825] Loading built-in novor file 'trypsin-cid-trap'.\n",
      "[2016-12-10 14:19:29.497] De Novo on '/Users/meganduffy/Documents/git-repos/FISH-546/data/ETNP-plgs-mgf/062016_ETNP_63_250m.mgf'.\n",
      "[2016-12-10 14:19:51.447] De Novo on '/Users/meganduffy/Documents/git-repos/FISH-546/data/ETNP-plgs-mgf/062016_ETNP_63_250m.mgf' finished.\n",
      "[2016-12-10 14:19:51.448] ---------------------------------------\n",
      "[2016-12-10 14:19:51.448] Finished 1 file, 3392 spectra.\n",
      "[2016-12-10 14:19:51.448]   Output result to /Users/meganduffy/Documents/git-repos/FISH-546/data/novor-outputs/062016_ETNP_63_250m.csv\n",
      "[2016-12-10 14:19:51.448]   Total time = 21.8 seconds. Input 2.5 seconds, Output 0.1 seconds, De Novo 21.7 seconds.\n",
      "[2016-12-10 14:19:51.448]   Speed: 155.9 specs/second (9355/minute).\n"
     ]
    }
   ],
   "source": [
    "! mac/novor.sh -f -p tof_params.txt /Users/meganduffy/Documents/git-repos/FISH-546/data/ETNP-plgs-mgf/062016_ETNP_63_250m.mgf \\\n",
    "-o /Users/meganduffy/Documents/git-repos/FISH-546/data/novor-outputs/062016_ETNP_63_250m.csv"
   ]
  },
  {
   "cell_type": "code",
   "execution_count": 11,
   "metadata": {
    "collapsed": false
   },
   "outputs": [
    {
     "name": "stdout",
     "output_type": "stream",
     "text": [
      "\n",
      "MMMMMMMMMMMMMMMMMMMMMMMMW0xolcldOWMMMMMMMMMMMMMMMM\n",
      "MMMMMMMMMMMMMMXkdllclodl:;;;;;;;;:oOWMMMMMMMMMMMMM\n",
      "MMMMMMMMMMMM0c;;;;;;;;;;;;;;;;;;;;;;cKMMMMMMMMMMMM\n",
      "MMMMMMMMMMMd;;;;;;;;;;;;;;;;;;;;;;;;;;k0KXWMMMMMMM\n",
      "MMMMMMMWXXk;;;;;;;;;;;;;;;;;;;;;;;;;:;;;;;;cxNMMMM\n",
      "MMMWOoc;;;;;;;;;;;;;;;;;;;;;;;;:oxol:;;;;;;;;:kMMM\n",
      "MMO:;;;;;;;;;;;:dOXKxc;;;;;lx0NKd:;;;;;;;;;;;;;kMM\n",
      "MO;;;;;;;;;:lkXMMMMMMMXkkKWMXx:;;;;;;;;;;;;;;;;;NM\n",
      "Ml;;;;;;:d0WMMMMMKocOWMMMNkc;;;;;;;;;;;;;;;;;;;;OM\n",
      "Mx;;;cxKWMMMMMWOc;;;;:xOo;;;;;;;;;;;;;;;;;;;;;;;0M\n",
      "MWoxXMMMMMMMNx:;;;;;;;;;;;;;;;;;;;;;;;;;;;;;;;;oMM\n",
      "MMMMMMMMMMWd:;;;;;;;;;;;;;;;;;;;;;;;;;;;;;;;:o0MMM\n",
      "MMMMMMMMMM0c:::::::::::;;;;;;;;;;;:::::::coONMMMMM\n",
      "#=================== N-O-V-O-R ===================\n",
      "#   NOVOR: Real-time Peptide de Novo Sequencing   \n",
      "#              v1.05.0573 (stable)\n",
      "#             Free Academic License               \n",
      "#============== www.rapidnovor.org ===============\n",
      "#\n",
      "# This free academic license can be used for educational and academic research purposes only.\n",
      "\n",
      "[2016-12-10 14:20:11.321] WARNING: MassAnalyzer 'TOF' not supported, use 'Trap' instead.\n",
      "[2016-12-10 14:20:11.322] Loading built-in novor file 'trypsin-cid-trap'.\n",
      "[2016-12-10 14:20:11.984] De Novo on '/Users/meganduffy/Documents/git-repos/FISH-546/data/ETNP-plgs-mgf/061516_ETNP_83_2500m.mgf'.\n",
      "[2016-12-10 14:20:17.209] De Novo on '/Users/meganduffy/Documents/git-repos/FISH-546/data/ETNP-plgs-mgf/061516_ETNP_83_2500m.mgf' finished.\n",
      "[2016-12-10 14:20:17.209] ---------------------------------------\n",
      "[2016-12-10 14:20:17.209] Finished 1 file, 2244 spectra.\n",
      "[2016-12-10 14:20:17.210]   Output result to /Users/meganduffy/Documents/git-repos/FISH-546/data/novor-outputs/061516_ETNP_83_2500m.csv\n",
      "[2016-12-10 14:20:17.210]   Total time = 5.1 seconds. Input 0.7 seconds, Output 0.1 seconds, De Novo 5.1 seconds.\n",
      "[2016-12-10 14:20:17.210]   Speed: 436.0 specs/second (26162/minute).\n"
     ]
    }
   ],
   "source": [
    "! mac/novor.sh -f -p tof_params.txt /Users/meganduffy/Documents/git-repos/FISH-546/data/ETNP-plgs-mgf/061516_ETNP_83_2500m.mgf \\\n",
    "-o /Users/meganduffy/Documents/git-repos/FISH-546/data/novor-outputs/061516_ETNP_83_2500m.csv"
   ]
  },
  {
   "cell_type": "code",
   "execution_count": 12,
   "metadata": {
    "collapsed": false
   },
   "outputs": [
    {
     "name": "stdout",
     "output_type": "stream",
     "text": [
      "052716_100fmol_Hi3_1.csv 061516_ETNP_79_65m.csv   062016_ETNP_63_250m.csv\r\n",
      "052716_100fmol_Hi3_8.csv 061516_ETNP_83_2500m.csv 062016_ETNP_99_160m.csv\r\n",
      "060616_100fmol_Hi3_3.csv 062016_ETNP_129_100m.csv\r\n",
      "061516_ETNP_100_145m.csv 062016_ETNP_131_55m.csv\r\n"
     ]
    }
   ],
   "source": [
    "# All the output .csv files on the novor-outputs dir\n",
    "!ls /Users/meganduffy/Documents/git-repos/FISH-546/data/novor-outputs/"
   ]
  },
  {
   "cell_type": "markdown",
   "metadata": {},
   "source": [
    "The next step is to take the \"candidate\" peptides that Novor outputs in column 10 of its output .csv files and generate .txt files of peptides that can be run through Unipept command line tools. "
   ]
  },
  {
   "cell_type": "code",
   "execution_count": null,
   "metadata": {
    "collapsed": true
   },
   "outputs": [],
   "source": []
  }
 ],
 "metadata": {
  "anaconda-cloud": {},
  "kernelspec": {
   "display_name": "Python [default]",
   "language": "python",
   "name": "python3"
  },
  "language_info": {
   "codemirror_mode": {
    "name": "ipython",
    "version": 3
   },
   "file_extension": ".py",
   "mimetype": "text/x-python",
   "name": "python",
   "nbconvert_exporter": "python",
   "pygments_lexer": "ipython3",
   "version": "3.5.2"
  }
 },
 "nbformat": 4,
 "nbformat_minor": 1
}
