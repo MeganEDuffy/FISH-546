{
 "cells": [
  {
   "cell_type": "markdown",
   "metadata": {},
   "source": [
    "### Novor for microbial metaproteomics? ###\n",
    "\n",
    "I want to learn how to use [Novor](https://www.ncbi.nlm.nih.gov/pubmed/26122521), a de novo peptide sequencing software tool that uses scoring functions based on two large decision trees built from a peptide spectral library with more than 300,000 spectra with machine learning. I don't know if this will really work for our data at all, but I am intersted in seeing what matches we get. \n",
    "\n",
    "I downloaded Novor from the [distribution page](http://www.rapidnovor.com/novor-cmd/), and am using the CLI with the provided Unix shell script novor.sh. \n"
   ]
  },
  {
   "cell_type": "code",
   "execution_count": 2,
   "metadata": {
    "collapsed": false
   },
   "outputs": [
    {
     "name": "stdout",
     "output_type": "stream",
     "text": [
      "/Users/meganduffy/Applications/novor\n"
     ]
    }
   ],
   "source": [
    "cd ~/Applications/novor"
   ]
  },
  {
   "cell_type": "code",
   "execution_count": 3,
   "metadata": {
    "collapsed": false
   },
   "outputs": [
    {
     "name": "stdout",
     "output_type": "stream",
     "text": [
      "Novor Academic EULA.txt  \u001b[34mlib\u001b[m\u001b[m/                     \u001b[34moutput\u001b[m\u001b[m/\r\n",
      "README                   \u001b[34mmac\u001b[m\u001b[m/                     params.txt\r\n",
      "\u001b[34mdata\u001b[m\u001b[m/                    novorUI.jar              tof_params.txt\r\n"
     ]
    }
   ],
   "source": [
    "ls"
   ]
  },
  {
   "cell_type": "markdown",
   "metadata": {},
   "source": [
    "The package came with a sample spectral data file, ```test.mgf```, and a sample parameter file, ```params.txt```."
   ]
  },
  {
   "cell_type": "code",
   "execution_count": 4,
   "metadata": {
    "collapsed": false
   },
   "outputs": [
    {
     "name": "stdout",
     "output_type": "stream",
     "text": [
      "062016_ETNP 129.mgf.csv  062016_ETNP_129.mgf.csv  test.mgf.csv\r\n",
      "062016_ETNP_129.mgf      test.mgf\r\n"
     ]
    }
   ],
   "source": [
    "ls data/"
   ]
  },
  {
   "cell_type": "markdown",
   "metadata": {},
   "source": [
    "The shell script (novor.sh) lives in the ```mac/``` directory"
   ]
  },
  {
   "cell_type": "code",
   "execution_count": 5,
   "metadata": {
    "collapsed": false
   },
   "outputs": [
    {
     "name": "stdout",
     "output_type": "stream",
     "text": [
      "\r\n",
      "MMMMMMMMMMMMMMMMMMMMMMMMW0xolcldOWMMMMMMMMMMMMMMMM\r\n",
      "MMMMMMMMMMMMMMXkdllclodl:;;;;;;;;:oOWMMMMMMMMMMMMM\r\n",
      "MMMMMMMMMMMM0c;;;;;;;;;;;;;;;;;;;;;;cKMMMMMMMMMMMM\r\n",
      "MMMMMMMMMMMd;;;;;;;;;;;;;;;;;;;;;;;;;;k0KXWMMMMMMM\r\n",
      "MMMMMMMWXXk;;;;;;;;;;;;;;;;;;;;;;;;;:;;;;;;cxNMMMM\r\n",
      "MMMWOoc;;;;;;;;;;;;;;;;;;;;;;;;:oxol:;;;;;;;;:kMMM\r\n",
      "MMO:;;;;;;;;;;;:dOXKxc;;;;;lx0NKd:;;;;;;;;;;;;;kMM\r\n",
      "MO;;;;;;;;;:lkXMMMMMMMXkkKWMXx:;;;;;;;;;;;;;;;;;NM\r\n",
      "Ml;;;;;;:d0WMMMMMKocOWMMMNkc;;;;;;;;;;;;;;;;;;;;OM\r\n",
      "Mx;;;cxKWMMMMMWOc;;;;:xOo;;;;;;;;;;;;;;;;;;;;;;;0M\r\n",
      "MWoxXMMMMMMMNx:;;;;;;;;;;;;;;;;;;;;;;;;;;;;;;;;oMM\r\n",
      "MMMMMMMMMMWd:;;;;;;;;;;;;;;;;;;;;;;;;;;;;;;;:o0MMM\r\n",
      "MMMMMMMMMM0c:::::::::::;;;;;;;;;;;:::::::coONMMMMM\r\n",
      "#=================== N-O-V-O-R ===================\r\n",
      "#   NOVOR: Real-time Peptide de Novo Sequencing   \r\n",
      "#              v1.05.0573 (stable)\r\n",
      "#             Free Academic License               \r\n",
      "#============== www.rapidnovor.org ===============\r\n",
      "#\r\n",
      "# This free academic license can be used for educational and academic research purposes only.\r\n",
      "\r\n",
      "Use the following parameters to do de novo sequencing with NOVOR:\r\n",
      "-p params.txt SPECTRA_FILE\r\n",
      "There is a sample SPECTRA_FILE on ../data/test.mgf for test\r\n",
      "\r\n",
      "Options:\r\n",
      "-p : parameter file. A sample parameter file can be found under the \r\n",
      "     software package.\r\n",
      "-o : output file. If omitted, a csv file with the same name as the input\r\n",
      "     spectrum file will be generated under the input file directory.\r\n",
      "     If the file already exists, user can choose to overwrite the file or\r\n",
      "     exit Novor during the process.\r\n",
      "-f : force overwrite without prompting for confirmation when output file\r\n",
      "     exists.\r\n",
      "\r\n",
      "Please visit www.rapidnovor.org for user's manual, updates, programming API, and citation information.\r\n"
     ]
    }
   ],
   "source": [
    "! mac/novor.sh"
   ]
  },
  {
   "cell_type": "markdown",
   "metadata": {
    "collapsed": true
   },
   "source": [
    "Here I am running novor, using the provided dummy data and parameters file:"
   ]
  },
  {
   "cell_type": "code",
   "execution_count": 7,
   "metadata": {
    "collapsed": false
   },
   "outputs": [
    {
     "name": "stdout",
     "output_type": "stream",
     "text": [
      "\n",
      "MMMMMMMMMMMMMMMMMMMMMMMMW0xolcldOWMMMMMMMMMMMMMMMM\n",
      "MMMMMMMMMMMMMMXkdllclodl:;;;;;;;;:oOWMMMMMMMMMMMMM\n",
      "MMMMMMMMMMMM0c;;;;;;;;;;;;;;;;;;;;;;cKMMMMMMMMMMMM\n",
      "MMMMMMMMMMMd;;;;;;;;;;;;;;;;;;;;;;;;;;k0KXWMMMMMMM\n",
      "MMMMMMMWXXk;;;;;;;;;;;;;;;;;;;;;;;;;:;;;;;;cxNMMMM\n",
      "MMMWOoc;;;;;;;;;;;;;;;;;;;;;;;;:oxol:;;;;;;;;:kMMM\n",
      "MMO:;;;;;;;;;;;:dOXKxc;;;;;lx0NKd:;;;;;;;;;;;;;kMM\n",
      "MO;;;;;;;;;:lkXMMMMMMMXkkKWMXx:;;;;;;;;;;;;;;;;;NM\n",
      "Ml;;;;;;:d0WMMMMMKocOWMMMNkc;;;;;;;;;;;;;;;;;;;;OM\n",
      "Mx;;;cxKWMMMMMWOc;;;;:xOo;;;;;;;;;;;;;;;;;;;;;;;0M\n",
      "MWoxXMMMMMMMNx:;;;;;;;;;;;;;;;;;;;;;;;;;;;;;;;;oMM\n",
      "MMMMMMMMMMWd:;;;;;;;;;;;;;;;;;;;;;;;;;;;;;;;:o0MMM\n",
      "MMMMMMMMMM0c:::::::::::;;;;;;;;;;;:::::::coONMMMMM\n",
      "#=================== N-O-V-O-R ===================\n",
      "#   NOVOR: Real-time Peptide de Novo Sequencing   \n",
      "#              v1.05.0573 (stable)\n",
      "#             Free Academic License               \n",
      "#============== www.rapidnovor.org ===============\n",
      "#\n",
      "# This free academic license can be used for educational and academic research purposes only.\n",
      "\n",
      "[2016-10-27 15:36:32.990] Loading built-in novor file 'trypsin-cid-trap'.\n",
      "[2016-10-27 15:36:33.887] De Novo on 'data/test.mgf'.\n",
      "[2016-10-27 15:36:44.333] De Novo on 'data/test.mgf' finished.\n",
      "[2016-10-27 15:36:44.333] ---------------------------------------\n",
      "[2016-10-27 15:36:44.333] Finished 1 file, 501 spectra.\n",
      "[2016-10-27 15:36:44.334]   Output result to data/test.mgf.csv\n",
      "[2016-10-27 15:36:44.334]   Total time = 10.4 seconds. Input 1.4 seconds, Output 0.1 seconds, De Novo 10.3 seconds.\n",
      "[2016-10-27 15:36:44.334]   Speed: 48.7 specs/second (2920/minute).\n"
     ]
    }
   ],
   "source": [
    "! mac/novor.sh -f -p params.txt data/test.mgf"
   ]
  },
  {
   "cell_type": "markdown",
   "metadata": {},
   "source": [
    "Ok! So this worked for the test.mgf file that came when I downloaded Novor. \n",
    "After we look at the test output I'll try using an ETNP mgf file that I put in novor/data using a new parameters file (I modified params.txt and changed mass analyzer from 'Trap' to 'TOF'). "
   ]
  },
  {
   "cell_type": "code",
   "execution_count": 12,
   "metadata": {
    "collapsed": false
   },
   "outputs": [
    {
     "name": "stdout",
     "output_type": "stream",
     "text": [
      "# Search parameters.\r\n",
      "\r\n",
      "# Enzyme\r\n",
      "## Only 'Trypsin' is supported currently.\r\n",
      "\r\n",
      "enzyme = Trypsin\r\n",
      "\r\n",
      "# MS2 Spectrometer\r\n",
      "## fragmentation can be CID or HCD\r\n",
      "## massAnalyzer can be Trap, TOF, or FT\r\n",
      "## Orbitrap instrument corresponds to CID-Trap, CID-FT, or HCD-FT\r\n",
      "## QTof instrument corresponds to CID-TOF.\r\n",
      "\r\n",
      "fragmentation = CID\r\n",
      "massAnalyzer = Trap\r\n",
      "\r\n",
      "# Mass error tolerance\r\n",
      "## precursorErrorTol can use both the formats of 0.1Da and 15ppm\r\n",
      "## fragmentIonErrorTol only supports the format 0.1Da in current version\r\n",
      "\r\n",
      "fragmentIonErrorTol = 0.5Da\r\n",
      "precursorErrorTol = 15ppm\r\n",
      "\r\n",
      "# PTM\r\n",
      "## Variable modifications will make algorithm consider both modified and the original residue\r\n",
      "## Fixed modifications will turn off the unmodified residue from consideration\r\n",
      "## A comma-delimited list of IDs can be used here.\r\n",
      "## See http://rapidnovor.com/wiki/Built-in_PTMs for a list of built-in PTMs and their IDs\r\n",
      "\r\n",
      "variableModifications = Oxidation (M)\r\n"
     ]
    }
   ],
   "source": [
    "!head -30 ~/Applications/novor/params.txt"
   ]
  },
  {
   "cell_type": "markdown",
   "metadata": {
    "collapsed": true
   },
   "source": [
    "I kept everything else the same, just changed the massAnalyzer to TOF:"
   ]
  },
  {
   "cell_type": "code",
   "execution_count": 13,
   "metadata": {
    "collapsed": false
   },
   "outputs": [
    {
     "name": "stdout",
     "output_type": "stream",
     "text": [
      "# Search parameters for ToF data\r\n",
      "#Modified from params.txt that came with Novor package.\r\n",
      "#MED 2016-10-27\r\n",
      "\r\n",
      "# Enzyme\r\n",
      "## Only 'Trypsin' is supported currently.\r\n",
      "\r\n",
      "enzyme = Trypsin\r\n",
      "\r\n",
      "# MS2 Spectrometer\r\n",
      "## fragmentation can be CID or HCD\r\n",
      "## massAnalyzer can be Trap, TOF, or FT\r\n",
      "## Orbitrap instrument corresponds to CID-Trap, CID-FT, or HCD-FT\r\n",
      "## QTof instrument corresponds to CID-TOF.\r\n",
      "\r\n",
      "fragmentation = CID\r\n",
      "massAnalyzer = TOF\r\n",
      "\r\n",
      "# Mass error tolerance\r\n",
      "## precursorErrorTol can use both the formats of 0.1Da and 15ppm\r\n",
      "## fragmentIonErrorTol only supports the format 0.1Da in current version\r\n",
      "\r\n",
      "fragmentIonErrorTol = 0.5Da\r\n",
      "precursorErrorTol = 15ppm\r\n",
      "\r\n",
      "# PTM\r\n",
      "## Variable modifications will make algorithm consider both modified and the original residue\r\n",
      "## Fixed modifications will turn off the unmodified residue from consideration\r\n",
      "## A comma-delimited list of IDs can be used here.\r\n",
      "## See http://rapidnovor.com/wiki/Built-in_PTMs for a list of built-in PTMs and their IDs\r\n"
     ]
    }
   ],
   "source": [
    "!head -30 ~/Applications/novor/tof_params.txt"
   ]
  },
  {
   "cell_type": "markdown",
   "metadata": {
    "collapsed": true
   },
   "source": [
    "What does the test output look like?"
   ]
  },
  {
   "cell_type": "code",
   "execution_count": 18,
   "metadata": {
    "collapsed": false
   },
   "outputs": [
    {
     "name": "stdout",
     "output_type": "stream",
     "text": [
      "#=================== N-O-V-O-R ===================\r\n",
      "#   NOVOR: Real-time Peptide de Novo Sequencing   \r\n",
      "#              v1.05.0573 (stable)\r\n",
      "#             Free Academic License               \r\n",
      "#============== www.rapidnovor.org ===============\r\n",
      "#\r\n",
      "# This result file was generated by a free academic license of Novor software at 2016-10-27 15:36:33\r\n",
      "# and can be used for educational and academic research purposes only.\r\n",
      "\r\n",
      "# input file = data/test.mgf\r\n",
      "# enzyme = Trypsin\r\n",
      "# fragmentation = CID\r\n",
      "# massAnalyzer = Trap\r\n",
      "# fragmentIonErrorTol = 0.5Da\r\n",
      "# precursorErrorTol = 15ppm\r\n",
      "# fixedModifications = Carbamidomethyl (C)\r\n",
      "# variableModifications = Oxidation (M)\r\n",
      "# forbiddenResidues = I, U\r\n",
      "\r\n",
      "\r\n",
      "# id, scanNum, RT, mz(data), z, pepMass(denovo), err(data-denovo), ppm(1e6*err/(mz*z)), score, peptide, aaScore, \r\n",
      "1, 108, 222.9, 400.6561, 3, 1198.7761, 0.1703, 141.7, 8.2, VAVVVKKVTTR, 6-4-2-1-1-1-1-16-1-1-53\r\n",
      "2, 333, 672.0, 750.2955, 2, 1498.5850, -0.0086, -5.7, 60.9, M(O)DVANEC(Cam)KNC(Cam)DK, 50-52-70-76-60-76-15-13-88-94-80-80\r\n",
      "3, 399, 804.7, 518.2032, 3, 1551.6082, -0.0205, -13.2, 14.2, C(Cam)DPNC(Cam)GAEWATGSK, 21-1-1-8-1-72-4-3-21-6-35-4-7-35\r\n",
      "4, 403, 810.4, 518.2051, 3, 1551.6116, -0.0181, -11.7, 19.8, DNNM(O)DC(Cam)GVGMAAPGK, 22-2-8-1-7-35-9-4-6-1-17-24-23-33-99\r\n",
      "5, 404, 811.2, 472.5757, 3, 1414.7133, -0.0079, -5.6, 22.0, TLKYYEYPGGPK, 38-1-32-48-55-4-1-8-1-1-1-40\r\n",
      "6, 409, 819.2, 472.5748, 3, 1414.6949, 0.0078, 5.5, 31.1, LNDLPVLC(Cam)C(Cam)PSK, 99-69-16-48-21-9-2-13-5-6-11-80\r\n",
      "7, 423, 847.4, 358.8526, 3, 1073.5288, 0.0072, 6.7, 33.7, MKGRGPDEGK, 38-19-2-1-1-1-43-80-52-79\r\n",
      "8, 425, 849.3, 358.8529, 3, 1073.5353, 0.0016, 1.5, 41.6, LDSSGGSGPLGK, 95-92-33-11-10-51-6-1-1-60-45-46\r\n",
      "9, 426, 849.9, 537.7745, 2, 1073.5353, -0.0008, -0.7, 60.6, LDEKAGAGEGK, 95-41-49-63-53-10-5-14-89-94-98\r\n",
      "10, 428, 851.2, 537.7739, 2, 1073.5182, 0.0151, 14.0, 43.7, GKFFFDEGK, 6-15-30-37-36-50-45-91-97\r\n",
      "11, 433, 859.4, 407.6879, 4, 1626.7234, -0.0010, -0.6, 17.2, GESSLGAGHGNADDAAAK, 36-26-26-10-24-2-15-18-1-1-2-14-11-38-4-1-1-61\r\n",
      "12, 435, 861.2, 407.6877, 4, 1626.7348, -0.0131, -8.0, 15.1, ASKSSEGYM(O)WSGPPK, 40-4-17-13-1-12-5-1-1-36-4-1-7-26-46\r\n",
      "13, 439, 867.3, 543.2469, 3, 1626.6991, 0.0198, 12.1, 34.6, QGDC(Cam)EAM(O)RRGEFR, 34-54-45-33-48-51-34-46-23-24-11-25-41\r\n",
      "14, 441, 869.1, 543.2471, 3, 1626.7031, 0.0163, 10.0, 37.5, WDM(O)NDAAFAC(Cam)VRR, 41-33-31-20-25-11-25-77-78-50-29-23-40\r\n",
      "15, 457, 902.2, 518.2037, 3, 1551.5678, 0.0216, 13.9, 21.4, DDC(Cam)SGNPATGDAC(Cam)GR, 23-7-9-13-1-2-49-59-34-19-31-44-5-16-35\r\n",
      "16, 459, 903.9, 518.2037, 3, 1551.5761, 0.0132, 8.5, 27.5, C(Cam)C(Cam)APC(Cam)SAPPC(Cam)MNK, 25-4-59-2-15-17-10-19-60-4-20-69-83\r\n",
      "17, 464, 912.2, 472.5754, 3, 1414.6915, 0.0130, 9.2, 25.8, LNLGGYPDMGGPPK, 91-12-12-2-5-22-1-14-37-44-1-5-15-68\r\n",
      "18, 466, 913.9, 472.5758, 3, 1414.7205, -0.0148, -10.4, 40.2, LNDLNGHGYTALK, 99-99-98-58-24-1-19-38-6-1-14-33-26\r\n",
      "19, 478, 937.7, 508.5987, 3, 1522.7562, 0.0181, 11.9, 17.7, LPALDVMAAGGHSER, 23-16-3-24-17-13-37-1-2-5-1-2-10-24-48\r\n",
      "20, 482, 943.9, 537.7749, 2, 1073.5241, 0.0112, 10.4, 55.0, LDELEAAEGK, 97-91-53-28-1-1-17-69-78-96\r\n",
      "21, 489, 956.5, 407.6878, 4, 1626.7308, -0.0087, -5.3, 24.2, GEQSGMAHSPEEGALK, 28-28-26-50-20-43-53-2-4-7-5-24-43-4-14-55\r\n",
      "22, 491, 958.2, 358.2127, 2, 714.4098, 0.0010, 1.4, 66.9, MVPLAGK, 99-96-98-39-42-1-59\r\n",
      "23, 494, 962.1, 407.6874, 4, 1626.7018, 0.0189, 11.6, 19.1, VNMEDAQYSM(O)APAGK, 17-10-13-3-14-26-31-6-15-25-28-49-4-17-41\r\n",
      "24, 501, 974.7, 543.2457, 3, 1626.7249, -0.0096, -5.9, 23.3, WLNADGYM(O)AGNFPR, 57-27-18-21-33-6-2-40-13-1-2-6-6-52\r\n",
      "25, 508, 987.4, 543.2460, 3, 1626.7395, -0.0233, -14.3, 30.0, VSHHMNNFPGGM(O)VGK, 24-27-36-21-20-20-23-62-12-9-21-21-1-60-81\r\n",
      "26, 511, 991.4, 343.6608, 2, 685.3071, -0.0001, -0.1, 65.8, YGDFGK, 99-46-64-17-49-99\r\n",
      "27, 513, 993.1, 343.6614, 2, 685.3071, 0.0012, 1.7, 55.5, YGDFGK, 99-67-48-0-20-83\r\n",
      "28, 515, 994.9, 537.7748, 2, 1073.5506, -0.0155, -14.4, 51.3, KPTTWQEGK, 33-3-41-48-49-54-65-92-90\r\n",
      "29, 518, 998.8, 518.2042, 3, 1551.5930, -0.0023, -1.5, 14.3, C(Cam)C(Cam)AADADGDAAQEAK, 13-1-16-2-17-6-15-4-29-1-1-35-20-18-25\r\n"
     ]
    }
   ],
   "source": [
    "! head -50 data/test.mgf.csv"
   ]
  },
  {
   "cell_type": "markdown",
   "metadata": {},
   "source": [
    "Novor outputs the de novo sequencing results in a plain text file that conforms the CSV (Comma-separated values) convention. The files are explained pretty well [here](http://www.rapidnovor.com/wiki/Understand_Novor%27s_output_csv_file) and here is a screenshoot explaining all the column values:\n",
    "\n",
    "![novor csv explain](https://raw.githubusercontent.com/MeganEDuffy/FISH-546/master/images/novor_cvs_explanation.png)\n",
    "\n",
    "So what do we get when we run the ETNP sample and the new parameters file?"
   ]
  },
  {
   "cell_type": "code",
   "execution_count": 19,
   "metadata": {
    "collapsed": false
   },
   "outputs": [
    {
     "name": "stdout",
     "output_type": "stream",
     "text": [
      "\n",
      "MMMMMMMMMMMMMMMMMMMMMMMMW0xolcldOWMMMMMMMMMMMMMMMM\n",
      "MMMMMMMMMMMMMMXkdllclodl:;;;;;;;;:oOWMMMMMMMMMMMMM\n",
      "MMMMMMMMMMMM0c;;;;;;;;;;;;;;;;;;;;;;cKMMMMMMMMMMMM\n",
      "MMMMMMMMMMMd;;;;;;;;;;;;;;;;;;;;;;;;;;k0KXWMMMMMMM\n",
      "MMMMMMMWXXk;;;;;;;;;;;;;;;;;;;;;;;;;:;;;;;;cxNMMMM\n",
      "MMMWOoc;;;;;;;;;;;;;;;;;;;;;;;;:oxol:;;;;;;;;:kMMM\n",
      "MMO:;;;;;;;;;;;:dOXKxc;;;;;lx0NKd:;;;;;;;;;;;;;kMM\n",
      "MO;;;;;;;;;:lkXMMMMMMMXkkKWMXx:;;;;;;;;;;;;;;;;;NM\n",
      "Ml;;;;;;:d0WMMMMMKocOWMMMNkc;;;;;;;;;;;;;;;;;;;;OM\n",
      "Mx;;;cxKWMMMMMWOc;;;;:xOo;;;;;;;;;;;;;;;;;;;;;;;0M\n",
      "MWoxXMMMMMMMNx:;;;;;;;;;;;;;;;;;;;;;;;;;;;;;;;;oMM\n",
      "MMMMMMMMMMWd:;;;;;;;;;;;;;;;;;;;;;;;;;;;;;;;:o0MMM\n",
      "MMMMMMMMMM0c:::::::::::;;;;;;;;;;;:::::::coONMMMMM\n",
      "#=================== N-O-V-O-R ===================\n",
      "#   NOVOR: Real-time Peptide de Novo Sequencing   \n",
      "#              v1.05.0573 (stable)\n",
      "#             Free Academic License               \n",
      "#============== www.rapidnovor.org ===============\n",
      "#\n",
      "# This free academic license can be used for educational and academic research purposes only.\n",
      "\n",
      "[2016-10-27 15:54:20.877] WARNING: MassAnalyzer 'TOF' not supported, use 'Trap' instead.\n",
      "[2016-10-27 15:54:20.878] Loading built-in novor file 'trypsin-cid-trap'.\n",
      "[2016-10-27 15:54:21.537] De Novo on 'data/062016_ETNP_129.mgf'.\n",
      "[2016-10-27 15:54:38.480] De Novo on 'data/062016_ETNP_129.mgf' finished.\n",
      "[2016-10-27 15:54:38.480] ---------------------------------------\n",
      "[2016-10-27 15:54:38.480] Finished 1 file, 10531 spectra.\n",
      "[2016-10-27 15:54:38.480]   Output result to data/062016_ETNP_129.mgf.csv\n",
      "[2016-10-27 15:54:38.480]   Total time = 16.5 seconds. Input 11.0 seconds, Output 0.2 seconds, De Novo 16.5 seconds.\n",
      "[2016-10-27 15:54:38.481]   Speed: 638.3 specs/second (38296/minute).\n"
     ]
    }
   ],
   "source": [
    "! mac/novor.sh -f -p tof_params.txt data/062016_ETNP_129.mgf"
   ]
  },
  {
   "cell_type": "markdown",
   "metadata": {},
   "source": [
    "It's weird that we just the warning above: ```WARNING: MassAnalyzer 'TOF' not supported, use 'Trap' instead.``` Then why is TOF an option in the parameters file listing?"
   ]
  },
  {
   "cell_type": "code",
   "execution_count": 20,
   "metadata": {
    "collapsed": false
   },
   "outputs": [
    {
     "name": "stdout",
     "output_type": "stream",
     "text": [
      "#=================== N-O-V-O-R ===================\r\n",
      "#   NOVOR: Real-time Peptide de Novo Sequencing   \r\n",
      "#              v1.05.0573 (stable)\r\n",
      "#             Free Academic License               \r\n",
      "#============== www.rapidnovor.org ===============\r\n",
      "#\r\n",
      "# This result file was generated by a free academic license of Novor software at 2016-10-27 15:54:21\r\n",
      "# and can be used for educational and academic research purposes only.\r\n",
      "\r\n",
      "# input file = data/062016_ETNP_129.mgf\r\n",
      "# enzyme = Trypsin\r\n",
      "# fragmentation = CID\r\n",
      "# massAnalyzer = TOF\r\n",
      "# fragmentIonErrorTol = 0.5Da\r\n",
      "# precursorErrorTol = 15ppm\r\n",
      "# fixedModifications = Carbamidomethyl (C)\r\n",
      "# variableModifications = Oxidation (M)\r\n",
      "# forbiddenResidues = I, U\r\n",
      "\r\n",
      "\r\n",
      "# id, scanNum, RT, mz(data), z, pepMass(denovo), err(data-denovo), ppm(1e6*err/(mz*z)), score, peptide, aaScore, \r\n",
      "71, 0, 948.6, 519.1381, 1, 518.2085, -0.0777, -149.7, 17.4, GGDDR, 7-16-16-5-41\r\n",
      "86, 0, 1023.1, 519.1389, 1, 518.2085, -0.0769, -148.1, 17.4, GGDDR, 7-16-16-5-41\r\n",
      "118, 0, 1185.4, 519.1387, 1, 518.2085, -0.0771, -148.4, 17.4, GGDDR, 7-16-16-5-41\r\n",
      "138, 0, 1216.7, 519.1384, 1, 518.2085, -0.0774, -149.0, 17.4, GGDDR, 7-16-16-5-41\r\n",
      "139, 0, 1217.2, 524.1221, 1, 523.1883, -0.0734, -140.1, 14.8, GC(Cam)C(Cam)K, 7-16-5-41\r\n",
      "163, 0, 1267.5, 519.1395, 1, 518.2085, -0.0763, -146.9, 17.4, GGDDR, 7-16-16-5-41\r\n",
      "181, 0, 1281.8, 554.1323, 1, 553.1989, -0.0739, -133.3, 7.5, SC(Cam)C(Cam)K, 6-1-4-33\r\n",
      "188, 0, 1287.4, 484.6967, 2, 967.3793, -0.0004, -0.4, 11.8, M(O)WYC(Cam)HR, 11-15-1-1-4-41\r\n",
      "191, 0, 1290.3, 582.1302, 1, 581.1938, -0.0708, -121.7, 9.5, C(Cam)C(Cam)DK, 6-1-4-41\r\n",
      "206, 0, 1307.0, 580.1476, 1, 579.2323, -0.0919, -158.5, 11.2, M(O)GGGDK, 7-15-1-1-4-41\r\n",
      "208, 0, 1307.3, 547.1382, 1, 546.2398, -0.1088, -198.9, 12.7, GGGGGDK, 7-16-16-3-1-4-41\r\n",
      "210, 0, 1307.9, 567.2764, 2, 1132.5243, 0.0139, 12.3, 10.2, DWWVWWR, 11-15-1-1-1-4-41\r\n",
      "226, 0, 1311.5, 519.1371, 1, 518.2085, -0.0787, -151.5, 15.7, GDGDR, 7-16-3-4-41\r\n",
      "237, 0, 1329.2, 818.1563, 1, 817.2591, -0.1101, -134.5, 4.2, C(Cam)C(Cam)M(O)GM(O)K, 4-3-1-1-4-24\r\n",
      "273, 0, 1360.0, 633.1757, 1, 632.2514, -0.0830, -131.1, 12.8, DDGNGR, 7-15-1-1-4-41\r\n",
      "291, 0, 1366.3, 415.2317, 2, 828.4382, 0.0106, 12.8, 17.4, YPDPLPK, 4-1-23-15-7-3-68\r\n",
      "300, 0, 1367.1, 563.1345, 1, 562.2282, -0.1010, -179.3, 14.8, GGGGC(Cam)R, 7-16-16-3-4-41\r\n",
      "302, 0, 1367.3, 729.2536, 1, 728.2404, 0.0059, 8.1, 9.2, C(Cam)C(Cam)M(O)SR, 4-3-1-4-34\r\n",
      "306, 0, 1368.8, 547.1380, 1, 546.2398, -0.1091, -199.3, 12.7, GGGGGDK, 7-16-16-3-1-4-41\r\n",
      "310, 0, 1372.6, 771.1318, 1, 770.2510, -0.1264, -164.0, 8.0, C(Cam)C(Cam)SGC(Cam)K, 6-3-1-1-4-41\r\n",
      "311, 0, 1373.1, 519.1392, 1, 518.2085, -0.0766, -147.5, 17.4, GGDDR, 7-16-16-5-41\r\n",
      "312, 0, 1375.6, 770.1348, 1, 769.2306, -0.1030, -133.8, 11.9, DC(Cam)C(Cam)C(Cam)R, 7-15-1-4-41\r\n",
      "349, 0, 1395.3, 554.1309, 1, 553.1989, -0.0753, -135.8, 14.4, SC(Cam)C(Cam)K, 7-16-5-41\r\n",
      "361, 0, 1395.9, 628.1696, 1, 627.2356, -0.0733, -116.7, 11.3, SSM(O)C(Cam)K, 7-16-3-4-41\r\n",
      "362, 0, 1395.9, 674.0497, 2, 1345.9676, 0.1173, 87.0, 8.0, VVLLLLLLLPLK, 7-16-3-1-1-1-1-1-1-1-19-53\r\n",
      "380, 0, 1397.3, 582.1274, 1, 581.1938, -0.0736, -126.5, 9.5, C(Cam)C(Cam)DK, 6-1-4-41\r\n",
      "382, 0, 1397.8, 631.1595, 1, 630.2834, -0.1312, -207.8, 14.1, GGNNNR, 7-16-16-1-4-41\r\n",
      "400, 0, 1406.1, 614.1486, 1, 613.2022, -0.0609, -99.2, 13.6, M(O)C(Cam)C(Cam)K, 7-16-5-41\r\n",
      "403, 0, 1409.3, 449.1352, 1, 448.1853, -0.0573, -127.6, 16.4, GGC(Cam)R, 7-16-5-41\r\n"
     ]
    }
   ],
   "source": [
    "! head -50 data/062016_ETNP_129.mgf.csv"
   ]
  },
  {
   "cell_type": "markdown",
   "metadata": {
    "collapsed": true
   },
   "source": [
    "My next step is to get these peptides lists into Unipept. \n",
    "So I need to figure out:\n",
    "\n",
    "1. How to extract just the peptide column (think this won't be too hard, Buffalo lays it out in _Bioinformatics Data Skills_, and input that list into Unipept. What about the PTMs, though? I need to determine what Uniprot can do with these if anything.\n",
    "\n",
    "2. Extract only the 'acceptable' amino acids scored peptides (see csv explaination above). I need to do some reading to determine what my cutoffs should be."
   ]
  },
  {
   "cell_type": "markdown",
   "metadata": {
    "collapsed": true
   },
   "source": [
    "#### Extracting only the peptide list from Novor output, so it can go into Unipept ####\n",
    "I'm using ```awk``` to do this"
   ]
  },
  {
   "cell_type": "code",
   "execution_count": 2,
   "metadata": {
    "collapsed": false
   },
   "outputs": [
    {
     "name": "stdout",
     "output_type": "stream",
     "text": [
      "/Users/meganduffy/Documents/git-repos/FISH-546/data\n"
     ]
    }
   ],
   "source": [
    "cd ~/Documents/git-repos/FISH-546/data/"
   ]
  },
  {
   "cell_type": "code",
   "execution_count": 3,
   "metadata": {
    "collapsed": false
   },
   "outputs": [],
   "source": [
    "# remove headers (first 19 rows) and non peptide columns (all but column 10)\n",
    "!awk -F \"\\\"*,\\\"*\" 'NR > 20 {print $10}' 062016_ETNP_129.mgf.csv > 062016_ETNP_129_peptides.txt"
   ]
  },
  {
   "cell_type": "code",
   "execution_count": 5,
   "metadata": {
    "collapsed": false
   },
   "outputs": [
    {
     "name": "stdout",
     "output_type": "stream",
     "text": [
      " GGDDR\r\n",
      " GGDDR\r\n",
      " GGDDR\r\n",
      " GC(Cam)C(Cam)K\r\n",
      " GGDDR\r\n",
      " SC(Cam)C(Cam)K\r\n",
      " M(O)WYC(Cam)HR\r\n",
      " C(Cam)C(Cam)DK\r\n",
      " M(O)GGGDK\r\n",
      " GGGGGDK\r\n",
      " DWWVWWR\r\n",
      " GDGDR\r\n",
      " C(Cam)C(Cam)M(O)GM(O)K\r\n",
      " DDGNGR\r\n",
      " YPDPLPK\r\n",
      " GGGGC(Cam)R\r\n",
      " C(Cam)C(Cam)M(O)SR\r\n",
      " GGGGGDK\r\n",
      " C(Cam)C(Cam)SGC(Cam)K\r\n",
      " GGDDR\r\n",
      " DC(Cam)C(Cam)C(Cam)R\r\n",
      " SC(Cam)C(Cam)K\r\n",
      " SSM(O)C(Cam)K\r\n",
      " VVLLLLLLLPLK\r\n",
      " C(Cam)C(Cam)DK\r\n",
      " GGNNNR\r\n",
      " M(O)C(Cam)C(Cam)K\r\n",
      " GGC(Cam)R\r\n",
      " M(O)GDHGK\r\n",
      " GVWKC(Cam)PR\r\n",
      " DC(Cam)C(Cam)K\r\n",
      " SGC(Cam)C(Cam)C(Cam)K\r\n",
      " FWHDPPR\r\n",
      " LRVC(Cam)RWKGRLLGRK\r\n",
      " LLALVLLLAPRR\r\n",
      " GC(Cam)DNK\r\n",
      " SC(Cam)AETGRSGR\r\n",
      " MGC(Cam)M(O)K\r\n",
      " EEC(Cam)C(Cam)EM(O)K\r\n",
      " LLGPK\r\n",
      " GGWM(O)QHWPK\r\n",
      " YHTC(Cam)M(O)WGEWWC(Cam)VPHWYSVK\r\n",
      " AEWM(O)YWR\r\n",
      " LKLGPLPRR\r\n",
      " GSNPR\r\n",
      " YHRC(Cam)C(Cam)C(Cam)WWRDFPHHDPHR\r\n",
      " M(O)EC(Cam)C(Cam)C(Cam)M(O)K\r\n",
      " GEWFYPR\r\n",
      " HWEFWERGR\r\n",
      " M(O)C(Cam)K\r\n"
     ]
    }
   ],
   "source": [
    "# how does this file look?\n",
    "!head -50 062016_ETNP_129_peptides.txt"
   ]
  },
  {
   "cell_type": "markdown",
   "metadata": {
    "collapsed": true
   },
   "source": [
    "### **IMPORTANT NOTE** ###\n",
    "\n",
    "The above .txt file output from Novor has a leading space in front of every peptide sequence. This will NOT be acceptable for use with Unipept commands. So I quickly use ```sed``` to trim these spaces:"
   ]
  },
  {
   "cell_type": "code",
   "execution_count": 7,
   "metadata": {
    "collapsed": false
   },
   "outputs": [],
   "source": [
    "# use sed to trim off the leading space from each line:\n",
    "!sed \"s/^[ \\t]*//\" 062016_ETNP_129_peptides.txt > 062016_ETNP_129_tpeptides.txt"
   ]
  },
  {
   "cell_type": "code",
   "execution_count": 9,
   "metadata": {
    "collapsed": false
   },
   "outputs": [
    {
     "name": "stdout",
     "output_type": "stream",
     "text": [
      "GGDDR\r\n",
      "GGDDR\r\n",
      "GGDDR\r\n",
      "GC(Cam)C(Cam)K\r\n",
      "GGDDR\r\n",
      "SC(Cam)C(Cam)K\r\n",
      "M(O)WYC(Cam)HR\r\n",
      "C(Cam)C(Cam)DK\r\n",
      "M(O)GGGDK\r\n",
      "GGGGGDK\r\n",
      "DWWVWWR\r\n",
      "GDGDR\r\n",
      "C(Cam)C(Cam)M(O)GM(O)K\r\n",
      "DDGNGR\r\n",
      "YPDPLPK\r\n",
      "GGGGC(Cam)R\r\n",
      "C(Cam)C(Cam)M(O)SR\r\n",
      "GGGGGDK\r\n",
      "C(Cam)C(Cam)SGC(Cam)K\r\n",
      "GGDDR\r\n",
      "DC(Cam)C(Cam)C(Cam)R\r\n",
      "SC(Cam)C(Cam)K\r\n",
      "SSM(O)C(Cam)K\r\n",
      "VVLLLLLLLPLK\r\n",
      "C(Cam)C(Cam)DK\r\n",
      "GGNNNR\r\n",
      "M(O)C(Cam)C(Cam)K\r\n",
      "GGC(Cam)R\r\n",
      "M(O)GDHGK\r\n",
      "GVWKC(Cam)PR\r\n",
      "DC(Cam)C(Cam)K\r\n",
      "SGC(Cam)C(Cam)C(Cam)K\r\n",
      "FWHDPPR\r\n",
      "LRVC(Cam)RWKGRLLGRK\r\n",
      "LLALVLLLAPRR\r\n",
      "GC(Cam)DNK\r\n",
      "SC(Cam)AETGRSGR\r\n",
      "MGC(Cam)M(O)K\r\n",
      "EEC(Cam)C(Cam)EM(O)K\r\n",
      "LLGPK\r\n",
      "GGWM(O)QHWPK\r\n",
      "YHTC(Cam)M(O)WGEWWC(Cam)VPHWYSVK\r\n",
      "AEWM(O)YWR\r\n",
      "LKLGPLPRR\r\n",
      "GSNPR\r\n",
      "YHRC(Cam)C(Cam)C(Cam)WWRDFPHHDPHR\r\n",
      "M(O)EC(Cam)C(Cam)C(Cam)M(O)K\r\n",
      "GEWFYPR\r\n",
      "HWEFWERGR\r\n",
      "M(O)C(Cam)K\r\n"
     ]
    }
   ],
   "source": [
    "# how does this file look now?\n",
    "!head -50 062016_ETNP_129_tpeptides.txt"
   ]
  },
  {
   "cell_type": "markdown",
   "metadata": {},
   "source": [
    "You can tell that the space was gone looking at the two sequence lists here. But it was difficult at first, thanks to Steven for pointing the problem out!\n",
    "\n",
    "**We can use this text file with 'candidate' _de novo_ sequenced peptides to calculate the lowest common ancestor represented by proteins identifed (and get a list of these proteins) in the Uniprot database using Unipept (see [Unipept notebooks](https://github.com/MeganEDuffy/FISH-546/tree/master/notebooks/etnp-unipept)).**\n"
   ]
  },
  {
   "cell_type": "code",
   "execution_count": null,
   "metadata": {
    "collapsed": true
   },
   "outputs": [],
   "source": []
  }
 ],
 "metadata": {
  "anaconda-cloud": {},
  "kernelspec": {
   "display_name": "Python [default]",
   "language": "python",
   "name": "python3"
  },
  "language_info": {
   "codemirror_mode": {
    "name": "ipython",
    "version": 3
   },
   "file_extension": ".py",
   "mimetype": "text/x-python",
   "name": "python",
   "nbconvert_exporter": "python",
   "pygments_lexer": "ipython3",
   "version": "3.5.2"
  }
 },
 "nbformat": 4,
 "nbformat_minor": 1
}
