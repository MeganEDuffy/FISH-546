{
 "cells": [
  {
   "cell_type": "markdown",
   "metadata": {},
   "source": [
    "### Novor for microbial metaproteomics? ###\n",
    "\n",
    "I want to learn how to use [Novor](https://www.ncbi.nlm.nih.gov/pubmed/26122521), a de novo peptide sequencing software tool that uses scoring functions based on two large decision trees built from a peptide spectral library with more than 300,000 spectra with machine learning. I don't know if this will really work for our data at all, but I am intersted in seeing what matches we get. \n",
    "\n",
    "I downloaded Novor from the [distribution page](http://www.rapidnovor.com/novor-cmd/), and am using the CLI with the provided Unix shell script novor.sh. \n"
   ]
  },
  {
   "cell_type": "code",
   "execution_count": 6,
   "metadata": {
    "collapsed": false
   },
   "outputs": [
    {
     "name": "stdout",
     "output_type": "stream",
     "text": [
      "/Users/meganduffy/Applications/novor\n"
     ]
    }
   ],
   "source": [
    "cd ~/Applications/novor"
   ]
  },
  {
   "cell_type": "code",
   "execution_count": 7,
   "metadata": {
    "collapsed": false
   },
   "outputs": [
    {
     "name": "stdout",
     "output_type": "stream",
     "text": [
      "Novor Academic EULA.txt  \u001b[34mlib\u001b[m\u001b[m/                     \u001b[34moutput\u001b[m\u001b[m/\r\n",
      "README                   \u001b[34mmac\u001b[m\u001b[m/                     params.txt\r\n",
      "\u001b[34mdata\u001b[m\u001b[m/                    novorUI.jar\r\n"
     ]
    }
   ],
   "source": [
    "ls"
   ]
  },
  {
   "cell_type": "markdown",
   "metadata": {},
   "source": [
    "The package came with a sample spectral data file, ```test.mgf```, and a sample parameter file, ```params.txt```."
   ]
  },
  {
   "cell_type": "code",
   "execution_count": 10,
   "metadata": {
    "collapsed": false
   },
   "outputs": [
    {
     "name": "stdout",
     "output_type": "stream",
     "text": [
      "062016_ETNP 129.mgf.csv  062016_ETNP_129.mgf.csv  test.mgf.csv\r\n",
      "062016_ETNP_129.mgf      test.mgf\r\n"
     ]
    }
   ],
   "source": [
    "ls data/"
   ]
  },
  {
   "cell_type": "markdown",
   "metadata": {},
   "source": [
    "The shell script (novor.sh) lives in the ```mac/``` directory"
   ]
  },
  {
   "cell_type": "code",
   "execution_count": 8,
   "metadata": {
    "collapsed": false
   },
   "outputs": [
    {
     "name": "stdout",
     "output_type": "stream",
     "text": [
      "\n",
      "MMMMMMMMMMMMMMMMMMMMMMMMW0xolcldOWMMMMMMMMMMMMMMMM\n",
      "MMMMMMMMMMMMMMXkdllclodl:;;;;;;;;:oOWMMMMMMMMMMMMM\n",
      "MMMMMMMMMMMM0c;;;;;;;;;;;;;;;;;;;;;;cKMMMMMMMMMMMM\n",
      "MMMMMMMMMMMd;;;;;;;;;;;;;;;;;;;;;;;;;;k0KXWMMMMMMM\n",
      "MMMMMMMWXXk;;;;;;;;;;;;;;;;;;;;;;;;;:;;;;;;cxNMMMM\n",
      "MMMWOoc;;;;;;;;;;;;;;;;;;;;;;;;:oxol:;;;;;;;;:kMMM\n",
      "MMO:;;;;;;;;;;;:dOXKxc;;;;;lx0NKd:;;;;;;;;;;;;;kMM\n",
      "MO;;;;;;;;;:lkXMMMMMMMXkkKWMXx:;;;;;;;;;;;;;;;;;NM\n",
      "Ml;;;;;;:d0WMMMMMKocOWMMMNkc;;;;;;;;;;;;;;;;;;;;OM\n",
      "Mx;;;cxKWMMMMMWOc;;;;:xOo;;;;;;;;;;;;;;;;;;;;;;;0M\n",
      "MWoxXMMMMMMMNx:;;;;;;;;;;;;;;;;;;;;;;;;;;;;;;;;oMM\n",
      "MMMMMMMMMMWd:;;;;;;;;;;;;;;;;;;;;;;;;;;;;;;;:o0MMM\n",
      "MMMMMMMMMM0c:::::::::::;;;;;;;;;;;:::::::coONMMMMM\n",
      "#=================== N-O-V-O-R ===================\n",
      "#   NOVOR: Real-time Peptide de Novo Sequencing   \n",
      "#              v1.05.0573 (stable)\n",
      "#             Free Academic License               \n",
      "#============== www.rapidnovor.org ===============\n",
      "#\n",
      "# This free academic license can be used for educational and academic research purposes only.\n",
      "\n",
      "Use the following parameters to do de novo sequencing with NOVOR:\n",
      "-p params.txt SPECTRA_FILE\n",
      "There is a sample SPECTRA_FILE on ../data/test.mgf for test\n",
      "\n",
      "Options:\n",
      "-p : parameter file. A sample parameter file can be found under the \n",
      "     software package.\n",
      "-o : output file. If omitted, a csv file with the same name as the input\n",
      "     spectrum file will be generated under the input file directory.\n",
      "     If the file already exists, user can choose to overwrite the file or\n",
      "     exit Novor during the process.\n",
      "-f : force overwrite without prompting for confirmation when output file\n",
      "     exists.\n",
      "\n",
      "Please visit www.rapidnovor.org for user's manual, updates, programming API, and citation information.\n"
     ]
    }
   ],
   "source": [
    "! mac/novor.sh"
   ]
  },
  {
   "cell_type": "code",
   "execution_count": null,
   "metadata": {
    "collapsed": true
   },
   "outputs": [],
   "source": [
    "Here I am running novor, using the provided dummy data and parameters file:"
   ]
  },
  {
   "cell_type": "code",
   "execution_count": 9,
   "metadata": {
    "collapsed": false
   },
   "outputs": [
    {
     "name": "stdout",
     "output_type": "stream",
     "text": [
      "\n",
      "MMMMMMMMMMMMMMMMMMMMMMMMW0xolcldOWMMMMMMMMMMMMMMMM\n",
      "MMMMMMMMMMMMMMXkdllclodl:;;;;;;;;:oOWMMMMMMMMMMMMM\n",
      "MMMMMMMMMMMM0c;;;;;;;;;;;;;;;;;;;;;;cKMMMMMMMMMMMM\n",
      "MMMMMMMMMMMd;;;;;;;;;;;;;;;;;;;;;;;;;;k0KXWMMMMMMM\n",
      "MMMMMMMWXXk;;;;;;;;;;;;;;;;;;;;;;;;;:;;;;;;cxNMMMM\n",
      "MMMWOoc;;;;;;;;;;;;;;;;;;;;;;;;:oxol:;;;;;;;;:kMMM\n",
      "MMO:;;;;;;;;;;;:dOXKxc;;;;;lx0NKd:;;;;;;;;;;;;;kMM\n",
      "MO;;;;;;;;;:lkXMMMMMMMXkkKWMXx:;;;;;;;;;;;;;;;;;NM\n",
      "Ml;;;;;;:d0WMMMMMKocOWMMMNkc;;;;;;;;;;;;;;;;;;;;OM\n",
      "Mx;;;cxKWMMMMMWOc;;;;:xOo;;;;;;;;;;;;;;;;;;;;;;;0M\n",
      "MWoxXMMMMMMMNx:;;;;;;;;;;;;;;;;;;;;;;;;;;;;;;;;oMM\n",
      "MMMMMMMMMMWd:;;;;;;;;;;;;;;;;;;;;;;;;;;;;;;;:o0MMM\n",
      "MMMMMMMMMM0c:::::::::::;;;;;;;;;;;:::::::coONMMMMM\n",
      "#=================== N-O-V-O-R ===================\n",
      "#   NOVOR: Real-time Peptide de Novo Sequencing   \n",
      "#              v1.05.0573 (stable)\n",
      "#             Free Academic License               \n",
      "#============== www.rapidnovor.org ===============\n",
      "#\n",
      "# This free academic license can be used for educational and academic research purposes only.\n",
      "\n",
      "[2016-10-27 15:20:31.276] WARNING: MassAnalyzer 'TOF' not supported, use 'Trap' instead.\n",
      "[2016-10-27 15:20:31.277] Loading built-in novor file 'trypsin-cid-trap'.\n",
      "[2016-10-27 15:20:32.112] De Novo on 'data/test.mgf'.\n",
      "[2016-10-27 15:20:42.685] De Novo on 'data/test.mgf' finished.\n",
      "[2016-10-27 15:20:42.685] ---------------------------------------\n",
      "[2016-10-27 15:20:42.685] Finished 1 file, 501 spectra.\n",
      "[2016-10-27 15:20:42.686]   Output result to data/test.mgf.csv\n",
      "[2016-10-27 15:20:42.686]   Total time = 10.5 seconds. Input 1.5 seconds, Output 0.1 seconds, De Novo 10.5 seconds.\n",
      "[2016-10-27 15:20:42.686]   Speed: 47.6 specs/second (2857/minute).\n"
     ]
    }
   ],
   "source": [
    "! mac/novor.sh -f -p params.txt data/test.mgf"
   ]
  },
  {
   "cell_type": "markdown",
   "metadata": {},
   "source": [
    "Ok! So this worked for the test.mgf file that came when I downloaded Novor, but **I am worried that it won't support 'TOF'** as a MassAnalyzer option, as it says it does in the comments of the params.txt (I changed it from 'Trap' to 'TOF'). "
   ]
  },
  {
   "cell_type": "code",
   "execution_count": 49,
   "metadata": {
    "collapsed": false
   },
   "outputs": [
    {
     "name": "stdout",
     "output_type": "stream",
     "text": [
      "# Search parameters.\r\n",
      "\r\n",
      "# Enzyme\r\n",
      "## Only 'Trypsin' is supported currently.\r\n",
      "\r\n",
      "enzyme = Trypsin\r\n",
      "\r\n",
      "# MS2 Spectrometer\r\n",
      "## fragmentation can be CID or HCD\r\n",
      "## massAnalyzer can be Trap, TOF, or FT\r\n",
      "## Orbitrap instrument corresponds to CID-Trap, CID-FT, or HCD-FT\r\n",
      "## QTof instrument corresponds to CID-TOF.\r\n",
      "\r\n",
      "fragmentation = CID\r\n",
      "massAnalyzer = TOF\r\n"
     ]
    }
   ],
   "source": [
    "!head -15 ~/Applications/novor/params.txt"
   ]
  },
  {
   "cell_type": "markdown",
   "metadata": {
    "collapsed": true
   },
   "source": [
    "What about when we run our actual data?"
   ]
  },
  {
   "cell_type": "markdown",
   "metadata": {
    "collapsed": true
   },
   "source": [
    "What about when we run our actual data? (I'm using -f to overwrite preexisting files since this is a test')"
   ]
  },
  {
   "cell_type": "code",
   "execution_count": 1,
   "metadata": {
    "collapsed": false
   },
   "outputs": [
    {
     "name": "stdout",
     "output_type": "stream",
     "text": [
      "/bin/sh: mac/novor.sh: No such file or directory\r\n"
     ]
    }
   ],
   "source": [
    "! mac/novor.sh -p -f params.txt data/062016_ETNP_129.mgf"
   ]
  },
  {
   "cell_type": "code",
   "execution_count": 75,
   "metadata": {
    "collapsed": false
   },
   "outputs": [
    {
     "name": "stdout",
     "output_type": "stream",
     "text": [
      "#=================== N-O-V-O-R ===================\r\n",
      "#   NOVOR: Real-time Peptide de Novo Sequencing   \r\n",
      "#              v1.05.0573 (stable)\r\n",
      "#             Free Academic License               \r\n",
      "#============== www.rapidnovor.org ===============\r\n",
      "#\r\n",
      "# This result file was generated by a free academic license of Novor software at 2016-10-21 21:26:23\r\n",
      "# and can be used for educational and academic research purposes only.\r\n",
      "\r\n",
      "# input file = /Users/meganduffy/Applications/novor/data/062016_ETNP_129.mgf\r\n",
      "# enzyme = Trypsin\r\n",
      "# fragmentation = CID\r\n",
      "# massAnalyzer = TOF\r\n",
      "# fragmentIonErrorTol = 0.5Da\r\n",
      "# precursorErrorTol = 15ppm\r\n",
      "# fixedModifications = Carbamidomethyl (C)\r\n",
      "# variableModifications = Oxidation (M)\r\n",
      "# forbiddenResidues = I, U\r\n",
      "\r\n",
      "\r\n",
      "# id, scanNum, RT, mz(data), z, pepMass(denovo), err(data-denovo), ppm(1e6*err/(mz*z)), score, peptide, aaScore, \r\n",
      "71, 0, 948.6, 519.1381, 1, 518.2085, -0.0777, -149.7, 17.4, GGDDR, 7-16-16-5-41\r\n",
      "86, 0, 1023.1, 519.1389, 1, 518.2085, -0.0769, -148.1, 17.4, GGDDR, 7-16-16-5-41\r\n",
      "118, 0, 1185.4, 519.1387, 1, 518.2085, -0.0771, -148.4, 17.4, GGDDR, 7-16-16-5-41\r\n",
      "138, 0, 1216.7, 519.1384, 1, 518.2085, -0.0774, -149.0, 17.4, GGDDR, 7-16-16-5-41\r\n",
      "139, 0, 1217.2, 524.1221, 1, 523.1883, -0.0734, -140.1, 14.8, GC(Cam)C(Cam)K, 7-16-5-41\r\n",
      "163, 0, 1267.5, 519.1395, 1, 518.2085, -0.0763, -146.9, 17.4, GGDDR, 7-16-16-5-41\r\n",
      "181, 0, 1281.8, 554.1323, 1, 553.1989, -0.0739, -133.3, 7.5, SC(Cam)C(Cam)K, 6-1-4-33\r\n",
      "188, 0, 1287.4, 484.6967, 2, 967.3793, -0.0004, -0.4, 11.8, M(O)WYC(Cam)HR, 11-15-1-1-4-41\r\n",
      "191, 0, 1290.3, 582.1302, 1, 581.1938, -0.0708, -121.7, 9.5, C(Cam)C(Cam)DK, 6-1-4-41\r\n",
      "206, 0, 1307.0, 580.1476, 1, 579.2323, -0.0919, -158.5, 11.2, M(O)GGGDK, 7-15-1-1-4-41\r\n",
      "208, 0, 1307.3, 547.1382, 1, 546.2398, -0.1088, -198.9, 12.7, GGGGGDK, 7-16-16-3-1-4-41\r\n",
      "210, 0, 1307.9, 567.2764, 2, 1132.5243, 0.0139, 12.3, 10.2, DWWVWWR, 11-15-1-1-1-4-41\r\n",
      "226, 0, 1311.5, 519.1371, 1, 518.2085, -0.0787, -151.5, 15.7, GDGDR, 7-16-3-4-41\r\n",
      "237, 0, 1329.2, 818.1563, 1, 817.2591, -0.1101, -134.5, 4.2, C(Cam)C(Cam)M(O)GM(O)K, 4-3-1-1-4-24\r\n",
      "273, 0, 1360.0, 633.1757, 1, 632.2514, -0.0830, -131.1, 12.8, DDGNGR, 7-15-1-1-4-41\r\n",
      "291, 0, 1366.3, 415.2317, 2, 828.4382, 0.0106, 12.8, 17.4, YPDPLPK, 4-1-23-15-7-3-68\r\n",
      "300, 0, 1367.1, 563.1345, 1, 562.2282, -0.1010, -179.3, 14.8, GGGGC(Cam)R, 7-16-16-3-4-41\r\n",
      "302, 0, 1367.3, 729.2536, 1, 728.2404, 0.0059, 8.1, 9.2, C(Cam)C(Cam)M(O)SR, 4-3-1-4-34\r\n",
      "306, 0, 1368.8, 547.1380, 1, 546.2398, -0.1091, -199.3, 12.7, GGGGGDK, 7-16-16-3-1-4-41\r\n",
      "310, 0, 1372.6, 771.1318, 1, 770.2510, -0.1264, -164.0, 8.0, C(Cam)C(Cam)SGC(Cam)K, 6-3-1-1-4-41\r\n",
      "311, 0, 1373.1, 519.1392, 1, 518.2085, -0.0766, -147.5, 17.4, GGDDR, 7-16-16-5-41\r\n",
      "312, 0, 1375.6, 770.1348, 1, 769.2306, -0.1030, -133.8, 11.9, DC(Cam)C(Cam)C(Cam)R, 7-15-1-4-41\r\n",
      "349, 0, 1395.3, 554.1309, 1, 553.1989, -0.0753, -135.8, 14.4, SC(Cam)C(Cam)K, 7-16-5-41\r\n",
      "361, 0, 1395.9, 628.1696, 1, 627.2356, -0.0733, -116.7, 11.3, SSM(O)C(Cam)K, 7-16-3-4-41\r\n",
      "362, 0, 1395.9, 674.0497, 2, 1345.9676, 0.1173, 87.0, 8.0, VVLLLLLLLPLK, 7-16-3-1-1-1-1-1-1-1-19-53\r\n",
      "380, 0, 1397.3, 582.1274, 1, 581.1938, -0.0736, -126.5, 9.5, C(Cam)C(Cam)DK, 6-1-4-41\r\n",
      "382, 0, 1397.8, 631.1595, 1, 630.2834, -0.1312, -207.8, 14.1, GGNNNR, 7-16-16-1-4-41\r\n",
      "400, 0, 1406.1, 614.1486, 1, 613.2022, -0.0609, -99.2, 13.6, M(O)C(Cam)C(Cam)K, 7-16-5-41\r\n",
      "403, 0, 1409.3, 449.1352, 1, 448.1853, -0.0573, -127.6, 16.4, GGC(Cam)R, 7-16-5-41\r\n"
     ]
    }
   ],
   "source": [
    "! head -50 data/062016_ETNP_129.mgf.csv"
   ]
  },
  {
   "cell_type": "code",
   "execution_count": null,
   "metadata": {
    "collapsed": true
   },
   "outputs": [],
   "source": []
  }
 ],
 "metadata": {
  "anaconda-cloud": {},
  "kernelspec": {
   "display_name": "Python [default]",
   "language": "python",
   "name": "python3"
  },
  "language_info": {
   "codemirror_mode": {
    "name": "ipython",
    "version": 3
   },
   "file_extension": ".py",
   "mimetype": "text/x-python",
   "name": "python",
   "nbconvert_exporter": "python",
   "pygments_lexer": "ipython3",
   "version": "3.5.2"
  }
 },
 "nbformat": 4,
 "nbformat_minor": 1
}
