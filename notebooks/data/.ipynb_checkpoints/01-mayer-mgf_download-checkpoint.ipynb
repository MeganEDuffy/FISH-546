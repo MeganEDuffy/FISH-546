{
 "cells": [
  {
   "cell_type": "markdown",
   "metadata": {},
   "source": [
    "### Downloading sediment MGF files into git repo ###\n",
    "After I proccessed the raw spectra files in PLGS and output them as mgf files, I put them on our labs Google Drive, at https://drive.google.com/drive/u/1/folders/0Bztsid47-y6LV05iWDJObUNnMXc.\n",
    "I'm not sure how using wget to download files from GD will work."
   ]
  },
  {
   "cell_type": "code",
   "execution_count": 4,
   "metadata": {
    "collapsed": false
   },
   "outputs": [
    {
     "name": "stdout",
     "output_type": "stream",
     "text": [
      "/Users/meganduffy/Documents/git-repos/FISH-546/data\n"
     ]
    }
   ],
   "source": [
    "cd ~/Documents/git-repos/FISH-546/data/"
   ]
  },
  {
   "cell_type": "code",
   "execution_count": 2,
   "metadata": {
    "collapsed": false
   },
   "outputs": [
    {
     "name": "stdout",
     "output_type": "stream",
     "text": [
      "  % Total    % Received % Xferd  Average Speed   Time    Time     Time  Current\n",
      "                                 Dload  Upload   Total   Spent    Left  Speed\n",
      "100   249    0   249    0     0   2615      0 --:--:-- --:--:-- --:--:--  3074\n"
     ]
    }
   ],
   "source": [
    "!curl https://drive.google.com/drive/u/1/folders/0Bztsid47-y6LV05iWDJObUNnMXc \\\n",
    "    > /Users/meganduffy/Documents/git-repos/FISH-546/data/mayer.mgf "
   ]
  },
  {
   "cell_type": "markdown",
   "metadata": {
    "collapsed": false
   },
   "source": [
    "Looking in the /data directory, this clealy isn't right:"
   ]
  },
  {
   "cell_type": "code",
   "execution_count": 2,
   "metadata": {
    "collapsed": false
   },
   "outputs": [
    {
     "name": "stdout",
     "output_type": "stream",
     "text": [
      "\u001b[31m051216_Mayer_R3.mgf\u001b[m\u001b[m*                   mayer.mgf\r\n",
      "061516_ETNP 129.mgf                    uniprot_sprot.fasta\r\n",
      "062016_ETNP 129.mgf                    uniprot_sprot.fasta.gz\r\n",
      "0Bztsid47-y6LV05iWDJObUNnMXc           uniprot_sprot.phr\r\n",
      "Oly-transcriptome-2k.fa                uniprot_sprot.pin\r\n",
      "README.md                              uniprot_sprot.psq\r\n",
      "drive-download-20161027T044320Z-3.zip\r\n"
     ]
    }
   ],
   "source": [
    "ls ~/Documents/git-repos/FISH-546/data/"
   ]
  },
  {
   "cell_type": "code",
   "execution_count": 5,
   "metadata": {
    "collapsed": false
   },
   "outputs": [
    {
     "name": "stdout",
     "output_type": "stream",
     "text": [
      "<HTML>\r\n",
      "<HEAD>\r\n",
      "<TITLE>Moved Temporarily</TITLE>\r\n",
      "</HEAD>\r\n",
      "<BODY BGCOLOR=\"#FFFFFF\" TEXT=\"#000000\">\r\n",
      "<H1>Moved Temporarily</H1>\r\n",
      "The document has moved <A HREF=\"https://drive.google.com/drive/folders/0Bztsid47-y6LV05iWDJObUNnMXc\">here</A>.\r\n",
      "</BODY>\r\n",
      "</HTML>\r\n"
     ]
    }
   ],
   "source": [
    "!head ~/Documents/git-repos/FISH-546/data/0Bztsid47-y6LV05iWDJObUNnMXc "
   ]
  },
  {
   "cell_type": "markdown",
   "metadata": {},
   "source": [
    "I need to somehow unpack the individual mgf files separately..."
   ]
  },
  {
   "cell_type": "code",
   "execution_count": null,
   "metadata": {
    "collapsed": true
   },
   "outputs": [],
   "source": []
  }
 ],
 "metadata": {
  "anaconda-cloud": {},
  "kernelspec": {
   "display_name": "Python [default]",
   "language": "python",
   "name": "python3"
  },
  "language_info": {
   "codemirror_mode": {
    "name": "ipython",
    "version": 3
   },
   "file_extension": ".py",
   "mimetype": "text/x-python",
   "name": "python",
   "nbconvert_exporter": "python",
   "pygments_lexer": "ipython3",
   "version": "3.5.2"
  }
 },
 "nbformat": 4,
 "nbformat_minor": 1
}
