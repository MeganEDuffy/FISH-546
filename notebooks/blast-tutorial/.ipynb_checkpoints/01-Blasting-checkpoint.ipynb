{
 "cells": [
  {
   "cell_type": "code",
   "execution_count": 1,
   "metadata": {
    "collapsed": false
   },
   "outputs": [
    {
     "name": "stdout",
     "output_type": "stream",
     "text": [
      "/bin/sh: blastn: command not found\r\n"
     ]
    }
   ],
   "source": [
    "!blastn"
   ]
  },
  {
   "cell_type": "markdown",
   "metadata": {
    "collapsed": true
   },
   "source": [
    "Clearly, I haven't yet configued BLAST to run from the command line without a full path, but as you can see below, I can access the executable files when I do include the full path, ```!~/Applications/ncbi-blast-2.5.0+/bin/ ```"
   ]
  },
  {
   "cell_type": "code",
   "execution_count": 1,
   "metadata": {
    "collapsed": false
   },
   "outputs": [
    {
     "name": "stdout",
     "output_type": "stream",
     "text": [
      "USAGE\r\n",
      "  makeblastdb [-h] [-help] [-in input_file] [-input_type type]\r\n",
      "    -dbtype molecule_type [-title database_title] [-parse_seqids]\r\n",
      "    [-hash_index] [-mask_data mask_data_files] [-mask_id mask_algo_ids]\r\n",
      "    [-mask_desc mask_algo_descriptions] [-gi_mask]\r\n",
      "    [-gi_mask_name gi_based_mask_names] [-out database_name]\r\n",
      "    [-max_file_sz number_of_bytes] [-logfile File_Name] [-taxid TaxID]\r\n",
      "    [-taxid_map TaxIDMapFile] [-version]\r\n",
      "\r\n",
      "DESCRIPTION\r\n",
      "   Application to create BLAST databases, version 2.5.0+\r\n",
      "\r\n",
      "Use '-help' to print detailed descriptions of command line arguments\r\n",
      "========================================================================\r\n",
      "\r\n",
      "Error: Argument \"dbtype\". Mandatory value is missing:  `String, `nucl', `prot''\r\n",
      "Error:  (CArgException::eNoArg) Argument \"dbtype\". Mandatory value is missing:  `String, `nucl', `prot''\r\n"
     ]
    }
   ],
   "source": [
    "!~/Applications/ncbi-blast-2.5.0+/bin/makeblastdb \\"
   ]
  },
  {
   "cell_type": "code",
   "execution_count": 10,
   "metadata": {
    "collapsed": false
   },
   "outputs": [
    {
     "name": "stdout",
     "output_type": "stream",
     "text": [
      "\n",
      "\n",
      "Building a new DB, current time: 10/11/2016 16:17:52\n",
      "New DB name:   /Users/meganduffy/Documents/git-repos/FISH-546/data/uniprot_sprot\n",
      "New DB title:  ../../data/uniprot_sprot.fasta\n",
      "Sequence type: Protein\n",
      "Keep MBits: T\n",
      "Maximum file size: 1000000000B\n",
      "Adding sequences from FASTA; added 552259 sequences in 30.1913 seconds.\n"
     ]
    }
   ],
   "source": [
    "!~/Applications/ncbi-blast-2.5.0+/bin/makeblastdb \\\n",
    "-in ../../data/uniprot_sprot.fasta \\\n",
    "-dbtype prot \\\n",
    "-out ../../data/uniprot_sprot"
   ]
  },
  {
   "cell_type": "code",
   "execution_count": null,
   "metadata": {
    "collapsed": false
   },
   "outputs": [],
   "source": [
    "!~/Applications/ncbi-blast-2.5.0+/bin/blastx \\\n",
    "-query ../../data/Oly-transcriptome-2k.fa \\\n",
    "-db ../../data/uniprot_sprot \\\n",
    "-outfmt 6"
   ]
  },
  {
   "cell_type": "code",
   "execution_count": null,
   "metadata": {
    "collapsed": true
   },
   "outputs": [],
   "source": []
  }
 ],
 "metadata": {
  "anaconda-cloud": {},
  "kernelspec": {
   "display_name": "Python [default]",
   "language": "python",
   "name": "python3"
  },
  "language_info": {
   "codemirror_mode": {
    "name": "ipython",
    "version": 3
   },
   "file_extension": ".py",
   "mimetype": "text/x-python",
   "name": "python",
   "nbconvert_exporter": "python",
   "pygments_lexer": "ipython3",
   "version": "3.5.2"
  }
 },
 "nbformat": 4,
 "nbformat_minor": 1
}
