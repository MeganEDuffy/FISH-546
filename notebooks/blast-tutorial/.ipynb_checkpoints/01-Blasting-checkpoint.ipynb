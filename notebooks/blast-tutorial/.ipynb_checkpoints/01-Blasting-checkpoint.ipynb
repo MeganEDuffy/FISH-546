{
 "cells": [
  {
   "cell_type": "code",
   "execution_count": 1,
   "metadata": {
    "collapsed": false
   },
   "outputs": [
    {
     "name": "stdout",
     "output_type": "stream",
     "text": [
      "/bin/sh: blastn: command not found\r\n"
     ]
    }
   ],
   "source": [
    "!blastn"
   ]
  },
  {
   "cell_type": "code",
   "execution_count": 2,
   "metadata": {
    "collapsed": true
   },
   "outputs": [],
   "source": [
    "!which blastp"
   ]
  },
  {
   "cell_type": "code",
   "execution_count": 3,
   "metadata": {
    "collapsed": false
   },
   "outputs": [
    {
     "name": "stdout",
     "output_type": "stream",
     "text": [
      "/bin/sh: blastp: command not found\r\n"
     ]
    }
   ],
   "source": [
    "!blastp"
   ]
  },
  {
   "cell_type": "code",
   "execution_count": 10,
   "metadata": {
    "collapsed": false
   },
   "outputs": [
    {
     "name": "stdout",
     "output_type": "stream",
     "text": [
      "\n",
      "\n",
      "Building a new DB, current time: 10/11/2016 16:17:52\n",
      "New DB name:   /Users/meganduffy/Documents/git-repos/FISH-546/data/uniprot_sprot\n",
      "New DB title:  ../../data/uniprot_sprot.fasta\n",
      "Sequence type: Protein\n",
      "Keep MBits: T\n",
      "Maximum file size: 1000000000B\n",
      "Adding sequences from FASTA; added 552259 sequences in 30.1913 seconds.\n"
     ]
    }
   ],
   "source": [
    "!~/Applications/ncbi-blast-2.5.0+/bin/makeblastdb \\\n",
    "-in ../../data/uniprot_sprot.fasta \\\n",
    "-dbtype prot \\\n",
    "-out ../../data/uniprot_sprot"
   ]
  },
  {
   "cell_type": "code",
   "execution_count": null,
   "metadata": {
    "collapsed": false
   },
   "outputs": [],
   "source": [
    "!~/Applications/ncbi-blast-2.5.0+/bin/blastx \\\n",
    "-query ../../data/Oly-transcriptome-2k.fa \\\n",
    "-db ../../data/uniprot_sprot \\\n",
    "-outfmt 6"
   ]
  },
  {
   "cell_type": "code",
   "execution_count": null,
   "metadata": {
    "collapsed": true
   },
   "outputs": [],
   "source": []
  }
 ],
 "metadata": {
  "anaconda-cloud": {},
  "kernelspec": {
   "display_name": "Python [default]",
   "language": "python",
   "name": "python3"
  },
  "language_info": {
   "codemirror_mode": {
    "name": "ipython",
    "version": 3
   },
   "file_extension": ".py",
   "mimetype": "text/x-python",
   "name": "python",
   "nbconvert_exporter": "python",
   "pygments_lexer": "ipython3",
   "version": "3.5.2"
  }
 },
 "nbformat": 4,
 "nbformat_minor": 1
}
