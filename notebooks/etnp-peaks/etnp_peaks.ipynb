{
 "cells": [
  {
   "cell_type": "markdown",
   "metadata": {},
   "source": [
    "### _De novo_ peptide sequencing with PEAKS ###\n",
    "\n",
    "Last year, Rick used [PEAKS](http://www1.bioinfor.com/peaks/features/denovo.html), a _de novo_ + database searching software package designed by Bin Ma (Novor), to find peptidoglycan peptides from a WA margin sample. I have that data in an Excel file. I want to do the same analysis I've done on Novor sequenced peptides to these PEAKS peptides."
   ]
  },
  {
   "cell_type": "code",
   "execution_count": 8,
   "metadata": {
    "collapsed": false
   },
   "outputs": [
    {
     "name": "stdout",
     "output_type": "stream",
     "text": [
      "Tue Dec  6 12:53:53 PST 2016\r\n"
     ]
    }
   ],
   "source": [
    "!date"
   ]
  },
  {
   "cell_type": "code",
   "execution_count": 7,
   "metadata": {
    "collapsed": false
   },
   "outputs": [
    {
     "name": "stdout",
     "output_type": "stream",
     "text": [
      "Software:\r\n",
      "\r\n",
      "    System Software Overview:\r\n",
      "\r\n",
      "      System Version: macOS 10.12.1 (16B2555)\r\n",
      "      Kernel Version: Darwin 16.1.0\r\n",
      "      Boot Volume: Macintosh HD\r\n",
      "      Boot Mode: Normal\r\n",
      "      Computer Name: Megan’s MacBook Pro\r\n",
      "      User Name: Megan Duffy (meganduffy)\r\n",
      "      Secure Virtual Memory: Enabled\r\n",
      "      System Integrity Protection: Enabled\r\n",
      "      Time since boot: 22 days 3:56\r\n",
      "\r\n"
     ]
    }
   ],
   "source": [
    "!system_profiler SPSoftwareDataType"
   ]
  },
  {
   "cell_type": "code",
   "execution_count": 14,
   "metadata": {
    "collapsed": false
   },
   "outputs": [
    {
     "name": "stdout",
     "output_type": "stream",
     "text": [
      "LICCPVQQPPLMMNSQGGGGSGGGGGFEGMIRPAK\r\n",
      "QPPSTTSMYTEEKPMNAPSSDSNNLFSGLDMVSK\r\n",
      "TGLPAGSELSLYDVAPVVPGVAVDLSHIPTDVK\r\n",
      "IDSVNAAPGIPENVALDDIQSSFLTDGQPGER\r\n",
      "LASGQEIPCFALTSPEAGSDASSIPDYGVVCK\r\n",
      "VQGHQCVACPAGTTNDGGDDASGGDTQCDITR\r\n",
      "VNGQLLCGFTGLWTDVLTVMQDLSSEVALK\r\n",
      "ADYSSEVATLASAGGDAVAVIGYLDQGGK\r\n",
      "LELAQFDELAAFSQFASDLDASTQQQLER\r\n",
      "TDFLQQEIDAGNYNPFGGTYNDPAVIDR\r\n",
      "TDFLQQEIDAGNYNPFGGTYNDPAVIDR\r\n",
      "GDGDGDGDGDGDGDGDGDGDGDDSGGR\r\n",
      "GLDPINPGGPLDFFNVASNPQDLALLK\r\n",
      "SGNFDNSIFGTGLTFVETAMSSGNSVK\r\n",
      "SIPNKLGGVLALLLSILILTIVPMLHK\r\n",
      "TVVIMELINNIAMNHGGYSVFAGVGER\r\n",
      "VLNGLKETYNSLGVPIGATVQAIQAMK\r\n",
      "VSEEEETQGLDIGEHGMEAYPDFASAK\r\n",
      "YLYGTDFDSLDVSQSGNTCSMNNANVR\r\n",
      "DDWDGATSDDDDDDDDGGGGGGGDGG\r\n",
      "DGDGDGDGGGDGDGGGDGDGDGGGGK\r\n",
      "ENDDDDDDDDGDENEGGAGDVSADER\r\n",
      "LVVSLALLQFVLVIPALLIISDVPVK\r\n",
      "NLAGYTDNRPLNEVLNTGNVGLSPFK\r\n",
      "QCPENHVSFADLGDVTEADHSVEVFK\r\n",
      "STLLSSIVGVPNSLGPGELLQHYGTK\r\n",
      "TEQAFELPTGGAALMNSGENLMYFAR\r\n",
      "ANDAAGDGTTTATVLAQSIVNEGLK\r\n",
      "APAAKPSTSTVSASATPGGRTVSDK\r\n",
      "AWDSDDDDDDDDDDDEGAGGAGAGK\r\n",
      "DASDDASDDDDDDDDDAVDDDASIK\r\n",
      "GGIDFQPITVLVPGGEEFPFTFSSK\r\n",
      "ILQGYQYVAANPDEVCPANWTPGEK\r\n",
      "SLGGEVVGEDYLPLGNTEVAPIIAK\r\n",
      "SLGGVTVGEDYIPLGNTEVAPIIAK\r\n",
      "TALSQIDELVLQASGVAFTLQEGVR\r\n",
      "TGLIDAAEFNNPTSDSQFGMQDVSK\r\n",
      "ALLIAAIVGLLVVPLQLALIPLLK\r\n",
      "DVYGYEAGATPASSPVEDEKILVK\r\n",
      "LGGYYGAYGASTSPGAGINWISNR\r\n",
      "LGIEHILLGVDHLLLLLGLVLIVR\r\n",
      "QVIIIGLLLAIIVIVVIGAILINK\r\n",
      "VSGPIIDVFPLEGAEQTITAPDVK\r\n",
      "AALPDGGVIINTLNGDQNVAFFK\r\n",
      "APSLAQVGLGPSQESQFFIDNYR\r\n",
      "EAGDGVYAEPTNPIGEYNTFSGR\r\n",
      "GIQASDMAMVPDANTAWVDPFYR\r\n",
      "GVFISPYSTEFDNILIVGPIAGK\r\n",
      "GVFISPYSTEFDNILVVGPIAGK\r\n",
      "IDLTFPPGISLDETSAASPGSVR\r\n"
     ]
    }
   ],
   "source": [
    "# here are the raw peptides that PEAKS predicted (in descending order by length)\n",
    "# these data were from before the Keil lab had proteomics-capable LC-MS/MS systems\n",
    "# therefore, it's most certainly DDA (data-dependent aquisition) data\n",
    "# the 'raw peptides' column was extracted from ~/Documents/Keil Lab/pepditoglycan/De Novo spreadsheet for proposal\n",
    "# there no scoring in the spreadsheet\n",
    "!head -50 /Users/meganduffy/Documents/git-repos/FISH-546/data/peaks_peptides.txt"
   ]
  },
  {
   "cell_type": "code",
   "execution_count": 12,
   "metadata": {
    "collapsed": false
   },
   "outputs": [
    {
     "name": "stdout",
     "output_type": "stream",
     "text": [
      "     454 /Users/meganduffy/Documents/git-repos/FISH-546/data/peaks_peptides.txt\r\n"
     ]
    }
   ],
   "source": [
    "# how many peptides are there?\n",
    "!wc -l /Users/meganduffy/Documents/git-repos/FISH-546/data/peaks_peptides.txt"
   ]
  },
  {
   "cell_type": "code",
   "execution_count": 15,
   "metadata": {
    "collapsed": true
   },
   "outputs": [],
   "source": [
    "# what does Unipept lowest common ancestor analysis look like for these peptides?\n",
    "# running unipept pept2lca\n",
    "!unipept pept2lca -i ~/Documents/git-repos/FISH-546/data/peaks_peptides.txt \\\n",
    "-o ~/Documents/git-repos/FISH-546/analyses/peaks_peptides_lca.txt"
   ]
  },
  {
   "cell_type": "code",
   "execution_count": 16,
   "metadata": {
    "collapsed": false
   },
   "outputs": [
    {
     "name": "stdout",
     "output_type": "stream",
     "text": [
      "peptide,taxon_id,taxon_name,taxon_rank\r\n",
      "LICCPVQQPPLMMNSQGGGGSGGGGGFEGMIRPAK,3068,Volvox carteri f. nagariensis,forma\r\n",
      "QPPSTTSMYTEEKPMNAPSSDSNNLFSGLDMVSK,653948,Albugo laibachii,species\r\n",
      "TGLPAGSELSLYDVAPVVPGVAVDLSHIPTDVK,53246,Pseudoalteromonas,genus\r\n",
      "IDSVNAAPGIPENVALDDIQSSFLTDGQPGER,152297,Pseudoalteromonas issachenkonii,species\r\n",
      "LASGQEIPCFALTSPEAGSDASSIPDYGVVCK,53246,Pseudoalteromonas,genus\r\n",
      "VQGHQCVACPAGTTNDGGDDASGGDTQCDITR,242159,Ostreococcus 'lucimarinus',species\r\n",
      "VNGQLLCGFTGLWTDVLTVMQDLSSEVALK,2880,Ectocarpus siliculosus,species\r\n",
      "ADYSSEVATLASAGGDAVAVIGYLDQGGK,198252,Candidatus Pelagibacter ubique,species\r\n",
      "LELAQFDELAAFSQFASDLDASTQQQLER,1129,Synechococcus,genus\r\n"
     ]
    }
   ],
   "source": [
    "# here is the output csv file:\n",
    "!head ~/Documents/git-repos/FISH-546/analyses/peaks_peptides_lca.txt"
   ]
  },
  {
   "cell_type": "markdown",
   "metadata": {},
   "source": [
    "Here is the graphical output (sunburst) of the LCA ancestor:\n",
    "\n",
    "This is a WA margin sample. We expect to see lots of diatoms. And...we do see peptides from diatoms (Bacilloriophyta)!  4 specific to _Thalassiosira pseudonana_ in fact. We also see cyanobacterial peptides (125). And one peptide specific to the water flea.\n",
    "\n",
    "![peaks peptides lca sunburst](https://raw.githubusercontent.com/MeganEDuffy/FISH-546/master/analyses/2016-12-06-wa-peaks-unipept_lca.png)"
   ]
  },
  {
   "cell_type": "markdown",
   "metadata": {
    "collapsed": true
   },
   "source": [
    "### PEAKS _de novo_ search on all ETNP depth samples\n",
    "\n",
    "I ran all the ETNP .mgf files in a PEAKS de novo search (variable modifications: carbomeythylation on cysteine, oxidation on methionine). I also ran them without modifications as a test, but since we used IAM in the prep it they should be included. \n",
    "\n",
    "Now I'm running all of them through Unipept (both ```unipept2"
   ]
  },
  {
   "cell_type": "code",
   "execution_count": null,
   "metadata": {
    "collapsed": true
   },
   "outputs": [],
   "source": []
  }
 ],
 "metadata": {
  "anaconda-cloud": {},
  "kernelspec": {
   "display_name": "Python [default]",
   "language": "python",
   "name": "python3"
  },
  "language_info": {
   "codemirror_mode": {
    "name": "ipython",
    "version": 3
   },
   "file_extension": ".py",
   "mimetype": "text/x-python",
   "name": "python",
   "nbconvert_exporter": "python",
   "pygments_lexer": "ipython3",
   "version": "3.5.2"
  }
 },
 "nbformat": 4,
 "nbformat_minor": 1
}
