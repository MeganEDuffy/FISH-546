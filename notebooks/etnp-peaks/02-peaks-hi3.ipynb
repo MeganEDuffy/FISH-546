{
 "cells": [
  {
   "cell_type": "markdown",
   "metadata": {},
   "source": [
    "### Hi3 _E. coli_ standards ###"
   ]
  },
  {
   "cell_type": "code",
   "execution_count": 2,
   "metadata": {
    "collapsed": false
   },
   "outputs": [
    {
     "name": "stdout",
     "output_type": "stream",
     "text": [
      "Tue Dec 13 00:32:18 PST 2016\r\n"
     ]
    }
   ],
   "source": [
    "!date"
   ]
  },
  {
   "cell_type": "code",
   "execution_count": 3,
   "metadata": {
    "collapsed": false
   },
   "outputs": [
    {
     "name": "stdout",
     "output_type": "stream",
     "text": [
      "Software:\r\n",
      "\r\n",
      "    System Software Overview:\r\n",
      "\r\n",
      "      System Version: macOS 10.12.1 (16B2555)\r\n",
      "      Kernel Version: Darwin 16.1.0\r\n",
      "      Boot Volume: Macintosh HD\r\n",
      "      Boot Mode: Normal\r\n",
      "      Computer Name: Megan’s MacBook Pro\r\n",
      "      User Name: Megan Duffy (meganduffy)\r\n",
      "      Secure Virtual Memory: Enabled\r\n",
      "      System Integrity Protection: Enabled\r\n",
      "      Time since boot: 28 days 15:35\r\n",
      "\r\n"
     ]
    }
   ],
   "source": [
    "!system_profiler SPSoftwareDataType"
   ]
  },
  {
   "cell_type": "code",
   "execution_count": 4,
   "metadata": {
    "collapsed": true
   },
   "outputs": [],
   "source": [
    "!cd /Users/meganduffy/Documents/git-repos/FISH-546/data/ETNP-peaks-exports/extracted-peptides/"
   ]
  },
  {
   "cell_type": "code",
   "execution_count": 7,
   "metadata": {
    "collapsed": false
   },
   "outputs": [
    {
     "name": "stdout",
     "output_type": "stream",
     "text": [
      "052716_100fmol_Hi3_1.txt\r\n",
      "052716_100fmol_Hi3_8.txt\r\n",
      "060616_100fmol_Hi3_3.txt\r\n",
      "062016_ETNP_129_100m_peaks.txt\r\n",
      "2016-12-07-ETNP_100_145m_ptm_peptides.txt\r\n",
      "2016-12-07-ETNP_129_100m_ptm_peptides.txt\r\n",
      "2016-12-07-ETNP_131_55m_ptm_peptides.txt\r\n",
      "2016-12-07-ETNP_63_250m_ptm_peptides.txt\r\n",
      "2016-12-07-ETNP_79_65m_ptm_peptides.txt\r\n",
      "2016-12-07-ETNP_83_2500m_ptm_peptides.txt\r\n",
      "2016-12-07-ETNP_99_160m_ptm_peptides.txt\r\n"
     ]
    }
   ],
   "source": [
    "!ls /Users/meganduffy/Documents/git-repos/FISH-546/data/ETNP-peaks-exports/extracted-peptides/"
   ]
  },
  {
   "cell_type": "code",
   "execution_count": 11,
   "metadata": {
    "collapsed": false
   },
   "outputs": [],
   "source": [
    "# conatenate all 3 Hi3 files \n",
    "# remove modifications \"(+15.99)\" and \"(+57.02)\"\n",
    "# make new file in same directory called \"all-Hi3-peptides.txt\"\n",
    "!cat /Users/meganduffy/Documents/git-repos/FISH-546/data/ETNP-peaks-exports/extracted-peptides/052716_100fmol_Hi3_1.txt \\\n",
    "/Users/meganduffy/Documents/git-repos/FISH-546/data/ETNP-peaks-exports/extracted-peptides/052716_100fmol_Hi3_8.txt \\\n",
    "/Users/meganduffy/Documents/git-repos/FISH-546/data/ETNP-peaks-exports/extracted-peptides/060616_100fmol_Hi3_3.txt \\\n",
    "| sed 's/(+15.99)//g' | sed 's/(+57.02)//g' \\\n",
    "> /Users/meganduffy/Documents/git-repos/FISH-546/data/ETNP-peaks-exports/extracted-peptides/all-hi3-peptides.txt"
   ]
  },
  {
   "cell_type": "code",
   "execution_count": 12,
   "metadata": {
    "collapsed": false
   },
   "outputs": [
    {
     "name": "stdout",
     "output_type": "stream",
     "text": [
      "VPSSLR\r\n",
      "DLLPDEAASSLR\r\n",
      "VSNLAR\r\n",
      "RGPALDEAASSLR\r\n",
      "TDVAHVDAELAEVLAR\r\n",
      "TDVVTPSAGGLAEVLAR\r\n",
      "AASPNK\r\n",
      "HTASEAR\r\n",
      "DPLLDEAASSLR\r\n",
      "HDVQPSQDLVR\r\n",
      "EAPQVTDAELAEVLAR\r\n",
      "GPSQVTDAELAEVLAR\r\n",
      "WECCTDAELAEVLAR\r\n",
      "LLLDEAASSLR\r\n",
      "THDEAASSLR\r\n",
      "EHVQPSQDLVR\r\n",
      "EYVDAVSNALR\r\n",
      "AMPLR\r\n",
      "MLPLR\r\n",
      "LKKSPEAASSLR\r\n",
      "THEAASSLR\r\n",
      "CSDVQPSQDLVR\r\n",
      "TYLVR\r\n",
      "NSLAR\r\n",
      "CCKQPSQDLVR\r\n",
      "NGPLLDEAASSLR\r\n",
      "GPPSQDLVR\r\n",
      "QHLLDEAASSLR\r\n",
      "SYLLDEAASSLR\r\n",
      "ESVLGNAR\r\n",
      "TPPELR\r\n",
      "HTASSLR\r\n",
      "TVLELR\r\n",
      "KPAAASSLR\r\n",
      "VPSSLR\r\n",
      "DPAVQPSAGDLVR\r\n",
      "FTKVNMAPEAVQSAGDLVR\r\n",
      "MNQQPSAGDLVR\r\n",
      "HACAVDAVSPNSR\r\n",
      "HPLLDEAASSLR\r\n",
      "EAPAVSNLAR\r\n",
      "AVDEVTLLR\r\n",
      "SPLMAVDEVTLLR\r\n",
      "VLPSDEAVDAVNSALR\r\n",
      "TLTVSHLR\r\n",
      "NHDVMVEPR\r\n",
      "APPSPLMAVDETPDLR\r\n",
      "ATLTVSHLR\r\n",
      "HLSPLMAVDVAANSLR\r\n",
      "GCTYKK\r\n",
      "GLCTYQK\r\n",
      "RKQMPPSK\r\n",
      "VDVAANSLR\r\n",
      "GQALVR\r\n",
      "VTGAGAHAK\r\n",
      "LPAASWTYLVR\r\n",
      "DGLFHTR\r\n",
      "CTMMAVDVAGSGALR\r\n"
     ]
    }
   ],
   "source": [
    "!cat /Users/meganduffy/Documents/git-repos/FISH-546/data/ETNP-peaks-exports/extracted-peptides/all-hi3-peptides.txt"
   ]
  },
  {
   "cell_type": "markdown",
   "metadata": {},
   "source": [
    "### Now I'll convert to FASTA in Galaxy so this can be my query sequence for later ```blastp``` comparison to Hi3 peptide recovery by database searching. ###"
   ]
  },
  {
   "cell_type": "code",
   "execution_count": null,
   "metadata": {
    "collapsed": true
   },
   "outputs": [],
   "source": []
  }
 ],
 "metadata": {
  "anaconda-cloud": {},
  "kernelspec": {
   "display_name": "Python [default]",
   "language": "python",
   "name": "python3"
  },
  "language_info": {
   "codemirror_mode": {
    "name": "ipython",
    "version": 3
   },
   "file_extension": ".py",
   "mimetype": "text/x-python",
   "name": "python",
   "nbconvert_exporter": "python",
   "pygments_lexer": "ipython3",
   "version": "3.5.2"
  }
 },
 "nbformat": 4,
 "nbformat_minor": 1
}
