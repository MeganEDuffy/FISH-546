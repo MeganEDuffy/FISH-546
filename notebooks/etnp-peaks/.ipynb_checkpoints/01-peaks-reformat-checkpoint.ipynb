{
 "cells": [
  {
   "cell_type": "markdown",
   "metadata": {},
   "source": [
    "### Removing modification masses from PEAKS peptide sequences lists ###\n",
    "\n",
    "When I export pepide sequences from PEAKS (see [first PEAKS notebooks](https://github.com/MeganEDuffy/FISH-546/blob/master/notebooks/etnp-peaks/00-etnp_peaks.ipynb)) the mass of the modifications remain: (+15.99) for oxidation of methionine, and (+57.02) for carbomethlyation on cysteine. When I try and use ```blastp``` to find sequence alignments between these peptide and my database-searched peptides, I get an error that BLAST doesn't like these lines with modified sequences. I get the following error when trying to ```blastp```my ETNP_129_100m PEAKS (query) and database (blast db) data:\n",
    "\n",
    "```\n",
    "Error: NCBI C++ Exception:\n",
    "    T0 \"/Users/coremake/release_build/build/PrepareRelease_IntelMAC-Clang36_JSID_01_40204_130.14.22.10_9008__PrepareRelease_IntelMAC-Clang36_1473441060/c++/compilers/unix/../../src/objtools/readers/fasta.cpp\", line 2178: Error: ncbi::objects::CFastaReader::PostWarning() - CFastaReader: Near line 4, there's a line that doesn't look like plausible data, but it's not marked as defline or comment. (m_Pos = 4)\n",
    "```\n"
   ]
  },
  {
   "cell_type": "code",
   "execution_count": 1,
   "metadata": {
    "collapsed": false
   },
   "outputs": [
    {
     "name": "stdout",
     "output_type": "stream",
     "text": [
      "/Users/meganduffy/Documents/git-repos/FISH-546/data\n"
     ]
    }
   ],
   "source": [
    "cd ~/Documents/git-repos/FISH-546/data/"
   ]
  },
  {
   "cell_type": "code",
   "execution_count": 6,
   "metadata": {
    "collapsed": false
   },
   "outputs": [
    {
     "name": "stdout",
     "output_type": "stream",
     "text": [
      "VLMACFYTK\r\n",
      "EYLM(+15.99)R\r\n",
      "HPAPR\r\n",
      "LPGETLMAAPR\r\n",
      "HSAPTDFLSLR\r\n",
      "STAM(+15.99)VWQR\r\n",
      "QPENLPLGPK\r\n",
      "AAPFETFYTK\r\n",
      "GPDLTAWRR\r\n",
      "M(+15.99)MAHK\r\n",
      "DGPYVVTVLSPR\r\n",
      "AAHGNTTSAAVPK\r\n",
      "ATLTSPPR\r\n",
      "APALTCHLAPAK\r\n",
      "LYNTTSAAVPK\r\n",
      "TSAGEYMAFK\r\n",
      "ESFWCVPAR\r\n",
      "ETLLEAC(+57.02)MHK\r\n",
      "YRSPLR\r\n",
      "CCSVHK\r\n"
     ]
    }
   ],
   "source": [
    "!head -20 ETNP-peaks-exports/extracted-peptides/2016-12-07-ETNP_129_100m_ptm_peptides.txt"
   ]
  },
  {
   "cell_type": "markdown",
   "metadata": {},
   "source": [
    "This is the file I tried (after converting to .fasta) to BLAST. I'll use ```sed``` to get rid of these strings."
   ]
  },
  {
   "cell_type": "code",
   "execution_count": 8,
   "metadata": {
    "collapsed": false
   },
   "outputs": [],
   "source": [
    "# remove '(+15.99)' and '(+57.02)' from sequences\n",
    "# rewrite to more descriptive file name (that includes 'peaks')\n",
    "!sed 's/(+15.99)//g' ETNP-peaks-exports/extracted-peptides/2016-12-07-ETNP_129_100m_ptm_peptides.txt \\\n",
    "| sed 's/(+57.02)//g'\\\n",
    "> ETNP-peaks-exports/extracted-peptides/062016_ETNP_129_100m_peaks.txt"
   ]
  },
  {
   "cell_type": "code",
   "execution_count": 9,
   "metadata": {
    "collapsed": false
   },
   "outputs": [
    {
     "name": "stdout",
     "output_type": "stream",
     "text": [
      "VLMACFYTK\r\n",
      "EYLMR\r\n",
      "HPAPR\r\n",
      "LPGETLMAAPR\r\n",
      "HSAPTDFLSLR\r\n",
      "STAMVWQR\r\n",
      "QPENLPLGPK\r\n",
      "AAPFETFYTK\r\n",
      "GPDLTAWRR\r\n",
      "MMAHK\r\n",
      "DGPYVVTVLSPR\r\n",
      "AAHGNTTSAAVPK\r\n",
      "ATLTSPPR\r\n",
      "APALTCHLAPAK\r\n",
      "LYNTTSAAVPK\r\n",
      "TSAGEYMAFK\r\n",
      "ESFWCVPAR\r\n",
      "ETLLEACMHK\r\n",
      "YRSPLR\r\n",
      "CCSVHK\r\n"
     ]
    }
   ],
   "source": [
    "!head -20 ETNP-peaks-exports/extracted-peptides/062016_ETNP_129_100m_peaks.txt"
   ]
  },
  {
   "cell_type": "code",
   "execution_count": null,
   "metadata": {
    "collapsed": true
   },
   "outputs": [],
   "source": []
  }
 ],
 "metadata": {
  "kernelspec": {
   "display_name": "Python [default]",
   "language": "python",
   "name": "python3"
  },
  "language_info": {
   "codemirror_mode": {
    "name": "ipython",
    "version": 3
   },
   "file_extension": ".py",
   "mimetype": "text/x-python",
   "name": "python",
   "nbconvert_exporter": "python",
   "pygments_lexer": "ipython3",
   "version": "3.5.2"
  }
 },
 "nbformat": 4,
 "nbformat_minor": 1
}
