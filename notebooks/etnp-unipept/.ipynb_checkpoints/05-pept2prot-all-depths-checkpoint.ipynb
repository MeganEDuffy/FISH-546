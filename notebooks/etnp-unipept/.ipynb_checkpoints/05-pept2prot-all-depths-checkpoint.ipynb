{
 "cells": [
  {
   "cell_type": "markdown",
   "metadata": {},
   "source": [
    "### Unipept pept2prot for all depth samples ###\n",
    "\n",
    "#### Here I'm running the Unipept pept2prot command on candidate peptide files, sequenced both by Novor and by PEAKS. ####"
   ]
  },
  {
   "cell_type": "code",
   "execution_count": 1,
   "metadata": {
    "collapsed": false
   },
   "outputs": [
    {
     "name": "stdout",
     "output_type": "stream",
     "text": [
      "Sun Dec 11 11:53:47 PST 2016\r\n"
     ]
    }
   ],
   "source": [
    "!date"
   ]
  },
  {
   "cell_type": "code",
   "execution_count": 2,
   "metadata": {
    "collapsed": false
   },
   "outputs": [
    {
     "name": "stdout",
     "output_type": "stream",
     "text": [
      "Software:\r\n",
      "\r\n",
      "    System Software Overview:\r\n",
      "\r\n",
      "      System Version: macOS 10.12.1 (16B2555)\r\n",
      "      Kernel Version: Darwin 16.1.0\r\n",
      "      Boot Volume: Macintosh HD\r\n",
      "      Boot Mode: Normal\r\n",
      "      Computer Name: Megan’s MacBook Pro\r\n",
      "      User Name: Megan Duffy (meganduffy)\r\n",
      "      Secure Virtual Memory: Enabled\r\n",
      "      System Integrity Protection: Enabled\r\n",
      "      Time since boot: 27 days 2:56\r\n",
      "\r\n"
     ]
    }
   ],
   "source": [
    "!system_profiler SPSoftwareDataType"
   ]
  },
  {
   "cell_type": "code",
   "execution_count": 3,
   "metadata": {
    "collapsed": false
   },
   "outputs": [
    {
     "name": "stdout",
     "output_type": "stream",
     "text": [
      "/Users/meganduffy/Documents/git-repos/FISH-546\n"
     ]
    }
   ],
   "source": [
    "cd ~/Documents/git-repos/FISH-546/"
   ]
  },
  {
   "cell_type": "markdown",
   "metadata": {},
   "source": [
    "### Running ```pept2prot``` for all Novor sequenced peptides: ###"
   ]
  },
  {
   "cell_type": "code",
   "execution_count": 4,
   "metadata": {
    "collapsed": false
   },
   "outputs": [
    {
     "name": "stdout",
     "output_type": "stream",
     "text": [
      "052716_100fmol_Hi3_1.txt  061516_ETNP_79_65m.txt    062016_ETNP_63_250m.txt\r\n",
      "052716_100fmol_Hi3_8.txt  061516_ETNP_83_2500m.txt  062016_ETNP_99_160m.txt\r\n",
      "060616_100fmol_Hi3_3.txt  062016_ETNP_129_100m.txt\r\n",
      "061516_ETNP_100_145m.txt  062016_ETNP_131_55m.txt\r\n"
     ]
    }
   ],
   "source": [
    "ls data/novor-outputs/novor-peptides/"
   ]
  },
  {
   "cell_type": "code",
   "execution_count": 17,
   "metadata": {
    "collapsed": true
   },
   "outputs": [],
   "source": [
    "# running unipept pept2prot \n",
    "!unipept pept2prot --input data/novor-outputs/novor-peptides/052716_100fmol_Hi3_1.txt \\\n",
    "--output /Users/meganduffy/Documents/git-repos/FISH-546/analyses/unipept-pept2prot/novor/052716_100fmol_Hi3_1.txt"
   ]
  },
  {
   "cell_type": "markdown",
   "metadata": {},
   "source": [
    "### I think I'd prefer to have the output in csv format: ###"
   ]
  },
  {
   "cell_type": "code",
   "execution_count": 6,
   "metadata": {
    "collapsed": true
   },
   "outputs": [],
   "source": [
    "# running unipept pept2prot \n",
    "!unipept pept2prot --input data/novor-outputs/novor-peptides/052716_100fmol_Hi3_1.txt \\\n",
    "--output /Users/meganduffy/Documents/git-repos/FISH-546/analyses/unipept-pept2prot/novor/052716_100fmol_Hi3_1.csv"
   ]
  },
  {
   "cell_type": "code",
   "execution_count": 7,
   "metadata": {
    "collapsed": true
   },
   "outputs": [],
   "source": [
    "# running unipept pept2prot \n",
    "!unipept pept2prot --input data/novor-outputs/novor-peptides/052716_100fmol_Hi3_8.txt \\\n",
    "--output /Users/meganduffy/Documents/git-repos/FISH-546/analyses/unipept-pept2prot/novor/052716_100fmol_Hi3_8.csv"
   ]
  },
  {
   "cell_type": "code",
   "execution_count": 8,
   "metadata": {
    "collapsed": true
   },
   "outputs": [],
   "source": [
    "# running unipept pept2prot \n",
    "!unipept pept2prot --input data/novor-outputs/novor-peptides/060616_100fmol_Hi3_3.txt \\\n",
    "--output /Users/meganduffy/Documents/git-repos/FISH-546/analyses/unipept-pept2prot/novor/060616_100fmol_Hi3_3.csv"
   ]
  },
  {
   "cell_type": "code",
   "execution_count": 9,
   "metadata": {
    "collapsed": true
   },
   "outputs": [],
   "source": [
    "# running unipept pept2prot \n",
    "!unipept pept2prot --input data/novor-outputs/novor-peptides/061516_ETNP_100_145m.txt \\\n",
    "--output /Users/meganduffy/Documents/git-repos/FISH-546/analyses/unipept-pept2prot/novor/061516_ETNP_100_145m.csv"
   ]
  },
  {
   "cell_type": "code",
   "execution_count": 10,
   "metadata": {
    "collapsed": true
   },
   "outputs": [],
   "source": [
    "# running unipept pept2prot \n",
    "!unipept pept2prot --input data/novor-outputs/novor-peptides/061516_ETNP_79_65m.txt \\\n",
    "--output /Users/meganduffy/Documents/git-repos/FISH-546/analyses/unipept-pept2prot/novor/061516_ETNP_79_65m.csv"
   ]
  },
  {
   "cell_type": "code",
   "execution_count": 11,
   "metadata": {
    "collapsed": true
   },
   "outputs": [],
   "source": [
    "# running unipept pept2prot \n",
    "!unipept pept2prot --input data/novor-outputs/novor-peptides/061516_ETNP_83_2500m.txt \\\n",
    "--output /Users/meganduffy/Documents/git-repos/FISH-546/analyses/unipept-pept2prot/novor/061516_ETNP_83_2500m.csv"
   ]
  },
  {
   "cell_type": "code",
   "execution_count": 12,
   "metadata": {
    "collapsed": true
   },
   "outputs": [],
   "source": [
    "# running unipept pept2prot \n",
    "!unipept pept2prot --input data/novor-outputs/novor-peptides/062016_ETNP_129_100m.txt \\\n",
    "--output /Users/meganduffy/Documents/git-repos/FISH-546/analyses/unipept-pept2prot/novor/062016_ETNP_129_100m.csv"
   ]
  },
  {
   "cell_type": "code",
   "execution_count": 13,
   "metadata": {
    "collapsed": true
   },
   "outputs": [],
   "source": [
    "# running unipept pept2prot \n",
    "!unipept pept2prot --input data/novor-outputs/novor-peptides/062016_ETNP_131_55m.txt \\\n",
    "--output /Users/meganduffy/Documents/git-repos/FISH-546/analyses/unipept-pept2prot/novor/062016_ETNP_131_55m.csv"
   ]
  },
  {
   "cell_type": "code",
   "execution_count": 14,
   "metadata": {
    "collapsed": true
   },
   "outputs": [],
   "source": [
    "# running unipept pept2prot \n",
    "!unipept pept2prot --input data/novor-outputs/novor-peptides/062016_ETNP_63_250m.txt \\\n",
    "--output /Users/meganduffy/Documents/git-repos/FISH-546/analyses/unipept-pept2prot/novor/062016_ETNP_63_250m.csv"
   ]
  },
  {
   "cell_type": "code",
   "execution_count": 15,
   "metadata": {
    "collapsed": true
   },
   "outputs": [],
   "source": [
    "# running unipept pept2prot \n",
    "!unipept pept2prot --input data/novor-outputs/novor-peptides/062016_ETNP_99_160m.txt \\\n",
    "--output /Users/meganduffy/Documents/git-repos/FISH-546/analyses/unipept-pept2prot/novor/062016_ETNP_99_160m.csv"
   ]
  },
  {
   "cell_type": "code",
   "execution_count": 18,
   "metadata": {
    "collapsed": false
   },
   "outputs": [
    {
     "name": "stdout",
     "output_type": "stream",
     "text": [
      "052716_100fmol_Hi3_1.csv  061516_ETNP_100_145m.csv  062016_ETNP_131_55m.csv\r\n",
      "052716_100fmol_Hi3_1.txt  061516_ETNP_79_65m.csv    062016_ETNP_63_250m.csv\r\n",
      "052716_100fmol_Hi3_8.csv  061516_ETNP_83_2500m.csv  062016_ETNP_99_160m.csv\r\n",
      "060616_100fmol_Hi3_3.csv  062016_ETNP_129_100m.csv\r\n"
     ]
    }
   ],
   "source": [
    "ls /Users/meganduffy/Documents/git-repos/FISH-546/analyses/unipept-pept2prot/novor/"
   ]
  },
  {
   "cell_type": "markdown",
   "metadata": {},
   "source": [
    "### Running ```pept2prot``` for all PEAKS sequenced peptides: ###"
   ]
  },
  {
   "cell_type": "code",
   "execution_count": 19,
   "metadata": {
    "collapsed": false
   },
   "outputs": [
    {
     "name": "stdout",
     "output_type": "stream",
     "text": [
      "052716_100fmol_Hi3_1.txt\r\n",
      "052716_100fmol_Hi3_8.txt\r\n",
      "060616_100fmol_Hi3_3.txt\r\n",
      "2016-12-07-ETNP_100_145m_ptm_peptides.txt\r\n",
      "2016-12-07-ETNP_129_100m_ptm_peptides.txt\r\n",
      "2016-12-07-ETNP_131_55m_ptm_peptides.txt\r\n",
      "2016-12-07-ETNP_63_250m_ptm_peptides.txt\r\n",
      "2016-12-07-ETNP_79_65m_ptm_peptides.txt\r\n",
      "2016-12-07-ETNP_83_2500m_ptm_peptides.txt\r\n",
      "2016-12-07-ETNP_99_160m_ptm_peptides.txt\r\n"
     ]
    }
   ],
   "source": [
    "ls data/ETNP-peaks-exports/extracted-peptides/"
   ]
  },
  {
   "cell_type": "code",
   "execution_count": 20,
   "metadata": {
    "collapsed": true
   },
   "outputs": [],
   "source": [
    "# running unipept pept2prot \n",
    "!unipept pept2prot --input data/ETNP-peaks-exports/extracted-peptides/052716_100fmol_Hi3_1.txt \\\n",
    "--output /Users/meganduffy/Documents/git-repos/FISH-546/analyses/unipept-pept2prot/peaks/052716_100fmol_Hi3_1.csv"
   ]
  },
  {
   "cell_type": "code",
   "execution_count": 21,
   "metadata": {
    "collapsed": true
   },
   "outputs": [],
   "source": [
    "# running unipept pept2prot \n",
    "!unipept pept2prot --input data/ETNP-peaks-exports/extracted-peptides/052716_100fmol_Hi3_8.txt \\\n",
    "--output /Users/meganduffy/Documents/git-repos/FISH-546/analyses/unipept-pept2prot/peaks/052716_100fmol_Hi3_8.csv"
   ]
  },
  {
   "cell_type": "code",
   "execution_count": 22,
   "metadata": {
    "collapsed": true
   },
   "outputs": [],
   "source": [
    "# running unipept pept2prot \n",
    "!unipept pept2prot --input data/ETNP-peaks-exports/extracted-peptides/060616_100fmol_Hi3_3.txt \\\n",
    "--output /Users/meganduffy/Documents/git-repos/FISH-546/analyses/unipept-pept2prot/peaks/060616_100fmol_Hi3_3.csv"
   ]
  },
  {
   "cell_type": "code",
   "execution_count": 23,
   "metadata": {
    "collapsed": true
   },
   "outputs": [],
   "source": [
    "# running unipept pept2prot \n",
    "!unipept pept2prot --input data/ETNP-peaks-exports/extracted-peptides/2016-12-07-ETNP_100_145m_ptm_peptides.txt \\\n",
    "--output /Users/meganduffy/Documents/git-repos/FISH-546/analyses/unipept-pept2prot/peaks/2016-12-07-ETNP_100_145m_ptm_peptides.csv"
   ]
  },
  {
   "cell_type": "code",
   "execution_count": 24,
   "metadata": {
    "collapsed": true
   },
   "outputs": [],
   "source": [
    "# running unipept pept2prot \n",
    "!unipept pept2prot --input data/ETNP-peaks-exports/extracted-peptides/2016-12-07-ETNP_129_100m_ptm_peptides.txt \\\n",
    "--output /Users/meganduffy/Documents/git-repos/FISH-546/analyses/unipept-pept2prot/peaks/2016-12-07-ETNP_129_100m_ptm_peptides.csv"
   ]
  },
  {
   "cell_type": "code",
   "execution_count": 25,
   "metadata": {
    "collapsed": true
   },
   "outputs": [],
   "source": [
    "# running unipept pept2prot \n",
    "!unipept pept2prot --input data/ETNP-peaks-exports/extracted-peptides/2016-12-07-ETNP_131_55m_ptm_peptides.txt \\\n",
    "--output /Users/meganduffy/Documents/git-repos/FISH-546/analyses/unipept-pept2prot/peaks/2016-12-07-ETNP_131_55m_ptm_peptides.csv"
   ]
  },
  {
   "cell_type": "code",
   "execution_count": 26,
   "metadata": {
    "collapsed": true
   },
   "outputs": [],
   "source": [
    "# running unipept pept2prot \n",
    "!unipept pept2prot --input data/ETNP-peaks-exports/extracted-peptides/2016-12-07-ETNP_63_250m_ptm_peptides.txt \\\n",
    "--output /Users/meganduffy/Documents/git-repos/FISH-546/analyses/unipept-pept2prot/peaks/2016-12-07-ETNP_63_250m_ptm_peptides.csv"
   ]
  },
  {
   "cell_type": "code",
   "execution_count": 27,
   "metadata": {
    "collapsed": true
   },
   "outputs": [],
   "source": [
    "# running unipept pept2prot \n",
    "!unipept pept2prot --input data/ETNP-peaks-exports/extracted-peptides/2016-12-07-ETNP_79_65m_ptm_peptides.txt \\\n",
    "--output /Users/meganduffy/Documents/git-repos/FISH-546/analyses/unipept-pept2prot/peaks/2016-12-07-ETNP_79_65m_ptm_peptides.csv"
   ]
  },
  {
   "cell_type": "code",
   "execution_count": 28,
   "metadata": {
    "collapsed": true
   },
   "outputs": [],
   "source": [
    "# running unipept pept2prot \n",
    "!unipept pept2prot --input data/ETNP-peaks-exports/extracted-peptides/2016-12-07-ETNP_83_2500m_ptm_peptides.txt \\\n",
    "--output /Users/meganduffy/Documents/git-repos/FISH-546/analyses/unipept-pept2prot/peaks/2016-12-07-ETNP_83_2500m_ptm_peptides.csv"
   ]
  },
  {
   "cell_type": "code",
   "execution_count": 29,
   "metadata": {
    "collapsed": true
   },
   "outputs": [],
   "source": [
    "# running unipept pept2prot \n",
    "!unipept pept2prot --input data/ETNP-peaks-exports/extracted-peptides/2016-12-07-ETNP_99_160m_ptm_peptides.txt \\\n",
    "--output /Users/meganduffy/Documents/git-repos/FISH-546/analyses/unipept-pept2prot/peaks/2016-12-07-ETNP_99_160m_ptm_peptides.csv"
   ]
  },
  {
   "cell_type": "code",
   "execution_count": 30,
   "metadata": {
    "collapsed": false
   },
   "outputs": [
    {
     "name": "stdout",
     "output_type": "stream",
     "text": [
      "052716_100fmol_Hi3_1.csv\r\n",
      "052716_100fmol_Hi3_8.csv\r\n",
      "060616_100fmol_Hi3_3.csv\r\n",
      "2016-12-07-ETNP_100_145m_ptm_peptides.csv\r\n",
      "2016-12-07-ETNP_129_100m_ptm_peptides.csv\r\n",
      "2016-12-07-ETNP_131_55m_ptm_peptides.csv\r\n",
      "2016-12-07-ETNP_63_250m_ptm_peptides.csv\r\n",
      "2016-12-07-ETNP_79_65m_ptm_peptides.csv\r\n",
      "2016-12-07-ETNP_83_2500m_ptm_peptides.csv\r\n",
      "2016-12-07-ETNP_99_160m_ptm_peptides.csv\r\n"
     ]
    }
   ],
   "source": [
    "ls /Users/meganduffy/Documents/git-repos/FISH-546/analyses/unipept-pept2prot/peaks"
   ]
  },
  {
   "cell_type": "code",
   "execution_count": null,
   "metadata": {
    "collapsed": true
   },
   "outputs": [],
   "source": []
  }
 ],
 "metadata": {
  "anaconda-cloud": {},
  "kernelspec": {
   "display_name": "Python [default]",
   "language": "python",
   "name": "python3"
  },
  "language_info": {
   "codemirror_mode": {
    "name": "ipython",
    "version": 3
   },
   "file_extension": ".py",
   "mimetype": "text/x-python",
   "name": "python",
   "nbconvert_exporter": "python",
   "pygments_lexer": "ipython3",
   "version": "3.5.2"
  }
 },
 "nbformat": 4,
 "nbformat_minor": 1
}
