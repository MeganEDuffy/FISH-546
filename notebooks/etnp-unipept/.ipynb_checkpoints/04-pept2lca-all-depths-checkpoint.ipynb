{
 "cells": [
  {
   "cell_type": "markdown",
   "metadata": {},
   "source": [
    "### I'm ready to run peptide LCA analysis on all depth samples ###\n",
    "\n",
    "#### In this notebook, I'll first run ```pept2lca``` on candidate peptides _de novo_ sequenced both from Novor and PEAKS. ####"
   ]
  },
  {
   "cell_type": "code",
   "execution_count": 1,
   "metadata": {
    "collapsed": false
   },
   "outputs": [
    {
     "name": "stdout",
     "output_type": "stream",
     "text": [
      "Thu Dec  8 17:51:54 PST 2016\r\n"
     ]
    }
   ],
   "source": [
    "!date"
   ]
  },
  {
   "cell_type": "code",
   "execution_count": 2,
   "metadata": {
    "collapsed": false
   },
   "outputs": [
    {
     "name": "stdout",
     "output_type": "stream",
     "text": [
      "Software:\r\n",
      "\r\n",
      "    System Software Overview:\r\n",
      "\r\n",
      "      System Version: macOS 10.12.1 (16B2555)\r\n",
      "      Kernel Version: Darwin 16.1.0\r\n",
      "      Boot Volume: Macintosh HD\r\n",
      "      Boot Mode: Normal\r\n",
      "      Computer Name: Megan’s MacBook Pro\r\n",
      "      User Name: Megan Duffy (meganduffy)\r\n",
      "      Secure Virtual Memory: Enabled\r\n",
      "      System Integrity Protection: Enabled\r\n",
      "      Time since boot: 24 days 8:55\r\n",
      "\r\n"
     ]
    }
   ],
   "source": [
    "!system_profiler SPSoftwareDataType"
   ]
  },
  {
   "cell_type": "markdown",
   "metadata": {},
   "source": [
    "### Least Common Ancestor analysis for all Novor outputs: ###"
   ]
  },
  {
   "cell_type": "code",
   "execution_count": 16,
   "metadata": {
    "collapsed": false
   },
   "outputs": [
    {
     "name": "stdout",
     "output_type": "stream",
     "text": [
      "/Users/meganduffy/Documents/git-repos/FISH-546/data/novor-outputs/novor-peptides\n"
     ]
    }
   ],
   "source": [
    "cd ~/Documents/git-repos/FISH-546/data/novor-outputs/novor-peptides/"
   ]
  },
  {
   "cell_type": "code",
   "execution_count": 17,
   "metadata": {
    "collapsed": false
   },
   "outputs": [
    {
     "name": "stdout",
     "output_type": "stream",
     "text": [
      "052716_100fmol_Hi3_1.txt  061516_ETNP_79_65m.txt    062016_ETNP_63_250m.txt\r\n",
      "052716_100fmol_Hi3_8.txt  061516_ETNP_83_2500m.txt  062016_ETNP_99_160m.txt\r\n",
      "060616_100fmol_Hi3_3.txt  062016_ETNP_129_100m.txt\r\n",
      "061516_ETNP_100_145m.txt  062016_ETNP_131_55m.txt\r\n"
     ]
    }
   ],
   "source": [
    "ls"
   ]
  },
  {
   "cell_type": "code",
   "execution_count": 18,
   "metadata": {
    "collapsed": false
   },
   "outputs": [],
   "source": [
    "! /Users/meganduffy/.gem/ruby/2.0.0/bin/unipept pept2lca 052716_100fmol_Hi3_1.txt \\\n",
    "-o /Users/meganduffy/Documents/git-repos/FISH-546/analyses/unipept-pept2lca/novor/052716_100fmol_Hi3_1_lca.csv"
   ]
  },
  {
   "cell_type": "code",
   "execution_count": 19,
   "metadata": {
    "collapsed": true
   },
   "outputs": [],
   "source": [
    "! /Users/meganduffy/.gem/ruby/2.0.0/bin/unipept pept2lca 052716_100fmol_Hi3_8.txt \\\n",
    "-o /Users/meganduffy/Documents/git-repos/FISH-546/analyses/unipept-pept2lca/novor/052716_100fmol_Hi3_8_lca.csv"
   ]
  },
  {
   "cell_type": "code",
   "execution_count": 20,
   "metadata": {
    "collapsed": true
   },
   "outputs": [],
   "source": [
    "! /Users/meganduffy/.gem/ruby/2.0.0/bin/unipept pept2lca 060616_100fmol_Hi3_3.txt \\\n",
    "-o /Users/meganduffy/Documents/git-repos/FISH-546/analyses/unipept-pept2lca/novor/060616_100fmol_Hi3_3_lca.csv"
   ]
  },
  {
   "cell_type": "code",
   "execution_count": 21,
   "metadata": {
    "collapsed": true
   },
   "outputs": [],
   "source": [
    "! /Users/meganduffy/.gem/ruby/2.0.0/bin/unipept pept2lca 061516_ETNP_100_145m.txt \\\n",
    "-o /Users/meganduffy/Documents/git-repos/FISH-546/analyses/unipept-pept2lca/novor/061516_ETNP_100_145m_lca.csv"
   ]
  },
  {
   "cell_type": "code",
   "execution_count": 22,
   "metadata": {
    "collapsed": true
   },
   "outputs": [],
   "source": [
    "! /Users/meganduffy/.gem/ruby/2.0.0/bin/unipept pept2lca 061516_ETNP_79_65m.txt \\\n",
    "-o /Users/meganduffy/Documents/git-repos/FISH-546/analyses/unipept-pept2lca/novor/061516_ETNP_79_65m_lca.csv"
   ]
  },
  {
   "cell_type": "code",
   "execution_count": 23,
   "metadata": {
    "collapsed": true
   },
   "outputs": [],
   "source": [
    "! /Users/meganduffy/.gem/ruby/2.0.0/bin/unipept pept2lca 061516_ETNP_83_2500m.txt \\\n",
    "-o /Users/meganduffy/Documents/git-repos/FISH-546/analyses/unipept-pept2lca/novor/061516_ETNP_83_2500m_lca.csv"
   ]
  },
  {
   "cell_type": "code",
   "execution_count": 24,
   "metadata": {
    "collapsed": true
   },
   "outputs": [],
   "source": [
    "! /Users/meganduffy/.gem/ruby/2.0.0/bin/unipept pept2lca 062016_ETNP_129_100m.txt \\\n",
    "-o /Users/meganduffy/Documents/git-repos/FISH-546/analyses/unipept-pept2lca/novor/062016_ETNP_129_100m_lca.csv"
   ]
  },
  {
   "cell_type": "code",
   "execution_count": 25,
   "metadata": {
    "collapsed": true
   },
   "outputs": [],
   "source": [
    "! /Users/meganduffy/.gem/ruby/2.0.0/bin/unipept pept2lca 062016_ETNP_131_55m.txt \\\n",
    "-o /Users/meganduffy/Documents/git-repos/FISH-546/analyses/unipept-pept2lca/novor/062016_ETNP_131_55m_lca.csv"
   ]
  },
  {
   "cell_type": "code",
   "execution_count": 26,
   "metadata": {
    "collapsed": true
   },
   "outputs": [],
   "source": [
    "! /Users/meganduffy/.gem/ruby/2.0.0/bin/unipept pept2lca 062016_ETNP_63_250m.txt \\\n",
    "-o /Users/meganduffy/Documents/git-repos/FISH-546/analyses/unipept-pept2lca/novor/062016_ETNP_63_250m_lca.csv"
   ]
  },
  {
   "cell_type": "code",
   "execution_count": 27,
   "metadata": {
    "collapsed": true
   },
   "outputs": [],
   "source": [
    "! /Users/meganduffy/.gem/ruby/2.0.0/bin/unipept pept2lca 062016_ETNP_99_160m.txt \\\n",
    "-o /Users/meganduffy/Documents/git-repos/FISH-546/analyses/unipept-pept2lca/novor/062016_ETNP_99_160m_lca.csv"
   ]
  },
  {
   "cell_type": "markdown",
   "metadata": {},
   "source": [
    "### Least Common Ancestor analysis for all PEAKS outputs: ###"
   ]
  },
  {
   "cell_type": "code",
   "execution_count": 28,
   "metadata": {
    "collapsed": false
   },
   "outputs": [
    {
     "name": "stdout",
     "output_type": "stream",
     "text": [
      "/Users/meganduffy/Documents/git-repos/FISH-546/data/ETNP-peaks-exports/extracted-peptides\n"
     ]
    }
   ],
   "source": [
    "cd ~/Documents/git-repos/FISH-546/data/ETNP-peaks-exports/extracted-peptides/"
   ]
  },
  {
   "cell_type": "code",
   "execution_count": 29,
   "metadata": {
    "collapsed": false
   },
   "outputs": [
    {
     "name": "stdout",
     "output_type": "stream",
     "text": [
      "052716_100fmol_Hi3_1.txt\r\n",
      "052716_100fmol_Hi3_8.txt\r\n",
      "060616_100fmol_Hi3_3.txt\r\n",
      "2016-12-07-ETNP_100_145m_ptm_peptides.txt\r\n",
      "2016-12-07-ETNP_129_100m_ptm_peptides.txt\r\n",
      "2016-12-07-ETNP_131_55m_ptm_peptides.txt\r\n",
      "2016-12-07-ETNP_63_250m_ptm_peptides.txt\r\n",
      "2016-12-07-ETNP_79_65m_ptm_peptides.txt\r\n",
      "2016-12-07-ETNP_83_2500m_ptm_peptides.txt\r\n",
      "2016-12-07-ETNP_99_160m_ptm_peptides.txt\r\n"
     ]
    }
   ],
   "source": [
    "ls"
   ]
  },
  {
   "cell_type": "code",
   "execution_count": 30,
   "metadata": {
    "collapsed": true
   },
   "outputs": [],
   "source": [
    "! /Users/meganduffy/.gem/ruby/2.0.0/bin/unipept pept2lca 052716_100fmol_Hi3_1.txt \\\n",
    "-o /Users/meganduffy/Documents/git-repos/FISH-546/analyses/unipept-pept2lca/peaks/052716_100fmol_Hi3_lca.csv"
   ]
  },
  {
   "cell_type": "code",
   "execution_count": 31,
   "metadata": {
    "collapsed": true
   },
   "outputs": [],
   "source": [
    "! /Users/meganduffy/.gem/ruby/2.0.0/bin/unipept pept2lca 052716_100fmol_Hi3_8.txt \\\n",
    "-o /Users/meganduffy/Documents/git-repos/FISH-546/analyses/unipept-pept2lca/peaks/052716_100fmol_Hi3_8_lca.csv"
   ]
  },
  {
   "cell_type": "code",
   "execution_count": 32,
   "metadata": {
    "collapsed": true
   },
   "outputs": [],
   "source": [
    "! /Users/meganduffy/.gem/ruby/2.0.0/bin/unipept pept2lca 060616_100fmol_Hi3_3.txt \\\n",
    "-o /Users/meganduffy/Documents/git-repos/FISH-546/analyses/unipept-pept2lca/peaks/060616_100fmol_Hi3_3_lca.csv"
   ]
  },
  {
   "cell_type": "code",
   "execution_count": 33,
   "metadata": {
    "collapsed": true
   },
   "outputs": [],
   "source": [
    "! /Users/meganduffy/.gem/ruby/2.0.0/bin/unipept pept2lca 2016-12-07-ETNP_100_145m_ptm_peptides.txt \\\n",
    "-o /Users/meganduffy/Documents/git-repos/FISH-546/analyses/unipept-pept2lca/peaks/2016-12-07-ETNP_100_145m_ptm_peptides_lca.csv"
   ]
  },
  {
   "cell_type": "code",
   "execution_count": 34,
   "metadata": {
    "collapsed": true
   },
   "outputs": [],
   "source": [
    "! /Users/meganduffy/.gem/ruby/2.0.0/bin/unipept pept2lca 2016-12-07-ETNP_129_100m_ptm_peptides.txt \\\n",
    "-o /Users/meganduffy/Documents/git-repos/FISH-546/analyses/unipept-pept2lca/peaks/2016-12-07-ETNP_129_100m_ptm_peptides_lca.csv"
   ]
  },
  {
   "cell_type": "code",
   "execution_count": 35,
   "metadata": {
    "collapsed": true
   },
   "outputs": [],
   "source": [
    "! /Users/meganduffy/.gem/ruby/2.0.0/bin/unipept pept2lca 2016-12-07-ETNP_131_55m_ptm_peptides.txt \\\n",
    "-o /Users/meganduffy/Documents/git-repos/FISH-546/analyses/unipept-pept2lca/peaks/2016-12-07-ETNP_131_55m_ptm_peptides_lca.csv"
   ]
  },
  {
   "cell_type": "code",
   "execution_count": 36,
   "metadata": {
    "collapsed": true
   },
   "outputs": [],
   "source": [
    "! /Users/meganduffy/.gem/ruby/2.0.0/bin/unipept pept2lca 2016-12-07-ETNP_63_250m_ptm_peptides.txt \\\n",
    "-o /Users/meganduffy/Documents/git-repos/FISH-546/analyses/unipept-pept2lca/peaks/2016-12-07-ETNP_63_250m_ptm_peptides_lca.csv"
   ]
  },
  {
   "cell_type": "code",
   "execution_count": 37,
   "metadata": {
    "collapsed": true
   },
   "outputs": [],
   "source": [
    "! /Users/meganduffy/.gem/ruby/2.0.0/bin/unipept pept2lca 2016-12-07-ETNP_79_65m_ptm_peptides.txt \\\n",
    "-o /Users/meganduffy/Documents/git-repos/FISH-546/analyses/unipept-pept2lca/peaks/2016-12-07-ETNP_79_65m_ptm_peptides_lca.csv"
   ]
  },
  {
   "cell_type": "code",
   "execution_count": 38,
   "metadata": {
    "collapsed": true
   },
   "outputs": [],
   "source": [
    "! /Users/meganduffy/.gem/ruby/2.0.0/bin/unipept pept2lca 2016-12-07-ETNP_83_2500m_ptm_peptides.txt \\\n",
    "-o /Users/meganduffy/Documents/git-repos/FISH-546/analyses/unipept-pept2lca/peaks/2016-12-07-ETNP_83_2500m_ptm_peptides_lca.csv"
   ]
  },
  {
   "cell_type": "code",
   "execution_count": 39,
   "metadata": {
    "collapsed": true
   },
   "outputs": [],
   "source": [
    "! /Users/meganduffy/.gem/ruby/2.0.0/bin/unipept pept2lca 2016-12-07-ETNP_99_160m_ptm_peptides.txt \\\n",
    "-o /Users/meganduffy/Documents/git-repos/FISH-546/analyses/unipept-pept2lca/peaks/2016-12-07-ETNP_99_160m_ptm_peptides_lca.csv"
   ]
  },
  {
   "cell_type": "code",
   "execution_count": null,
   "metadata": {
    "collapsed": true
   },
   "outputs": [],
   "source": []
  }
 ],
 "metadata": {
  "anaconda-cloud": {},
  "kernelspec": {
   "display_name": "Python [default]",
   "language": "python",
   "name": "python3"
  },
  "language_info": {
   "codemirror_mode": {
    "name": "ipython",
    "version": 3
   },
   "file_extension": ".py",
   "mimetype": "text/x-python",
   "name": "python",
   "nbconvert_exporter": "python",
   "pygments_lexer": "ipython3",
   "version": "3.5.2"
  }
 },
 "nbformat": 4,
 "nbformat_minor": 1
}
