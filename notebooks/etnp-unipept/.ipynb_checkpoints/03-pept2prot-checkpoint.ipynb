{
 "cells": [
  {
   "cell_type": "code",
   "execution_count": 1,
   "metadata": {
    "collapsed": false
   },
   "outputs": [
    {
     "name": "stdout",
     "output_type": "stream",
     "text": [
      "Fri Nov 18 21:14:59 PST 2016\r\n"
     ]
    }
   ],
   "source": [
    "!date"
   ]
  },
  {
   "cell_type": "code",
   "execution_count": 3,
   "metadata": {
    "collapsed": false
   },
   "outputs": [
    {
     "name": "stdout",
     "output_type": "stream",
     "text": [
      "Software:\r\n",
      "\r\n",
      "    System Software Overview:\r\n",
      "\r\n",
      "      System Version: macOS 10.12.1 (16B2555)\r\n",
      "      Kernel Version: Darwin 16.1.0\r\n",
      "      Boot Volume: Macintosh HD\r\n",
      "      Boot Mode: Normal\r\n",
      "      Computer Name: Megan’s MacBook Pro\r\n",
      "      User Name: Megan Duffy (meganduffy)\r\n",
      "      Secure Virtual Memory: Enabled\r\n",
      "      System Integrity Protection: Enabled\r\n",
      "      Time since boot: 4 days 12:19\r\n",
      "\r\n"
     ]
    }
   ],
   "source": [
    "! system_profiler SPSoftwareDataType"
   ]
  },
  {
   "cell_type": "markdown",
   "metadata": {},
   "source": [
    "## unipept pept2prot ##\n",
    "\n",
    "The ````unipept pept2prot```` command takes tryptic peptides as input and returns the set of UniProt entries containing the peptides as output. This information is fetched by doing API-requests to the Unipept server. From the Unipept [CLI documentation](http://unipept.ugent.be/clidocs/pept2prot):\n",
    "\n",
    "#### Input: ###\n",
    "\n",
    "```unipept pept2prot``` expects tryptic peptides as input. The source of this input can be command line arguments, a file, or standard input. \n",
    "\n",
    "#### Output ####\n",
    "\n",
    "```unipept pept2prot``` outputs all UniProt entries that contain the given (tryptic) input peptides. By default, for each of the matching UniProt entries, the accession number, the name of the protein and the NCBI taxon id are returned. By using the ```--all parameter```, this can be supplemented with the name of the associated taxon and several cross referenes such as the the associated EC numbers and GO terms. A selection of output fields can be specified with the ```--select parameter```. By default, output is generated in csv format. By using the --format parameter, the format can be changed into json or xml. The output can be written to a file or to standard output. "
   ]
  },
  {
   "cell_type": "code",
   "execution_count": 20,
   "metadata": {
    "collapsed": false
   },
   "outputs": [
    {
     "name": "stdout",
     "output_type": "stream",
     "text": [
      "\u001b[1m\u001b[31mNAME\u001b[0m\u001b[0m\r\n",
      "    \u001b[32mpept2prot\u001b[0m - Fetch UniProt entries that match tryptic peptides.\r\n",
      "\r\n",
      "\u001b[1m\u001b[31mUSAGE\u001b[0m\u001b[0m\r\n",
      "    \u001b[32munipept\u001b[0m \u001b[32mpept2prot\u001b[0m [options]\r\n",
      "\r\n",
      "\u001b[1m\u001b[31mDESCRIPTION\u001b[0m\u001b[0m\r\n",
      "    For each tryptic peptide the unipept pept2prot command retrieves from\r\n",
      "    Unipept all UniProt entries whose protein sequence contains an exact\r\n",
      "    matches to the tryptic peptide. The command expects a list of tryptic\r\n",
      "    peptides that are passed\r\n",
      "\r\n",
      "    - as separate command line arguments\r\n",
      "\r\n",
      "    - in a text file that is passed as an argument to the -i option\r\n",
      "\r\n",
      "    - to standard input\r\n",
      "\r\n",
      "    The command will give priority to the first way tryptic peptides are\r\n",
      "    passed, in the order as listed above. Text files and standard input\r\n",
      "    should have one tryptic peptide per line.\r\n",
      "\r\n",
      "\u001b[1m\u001b[31mOPTIONS\u001b[0m\u001b[0m\r\n",
      "    \u001b[33m-a\u001b[0m \u001b[33m--all\u001b[0m                   report all information fields of UniProt\r\n",
      "                               entries available in Unipept. Note that this\r\n",
      "                               may have a performance penalty.\r\n",
      "    \u001b[33m-e\u001b[0m \u001b[33m--equate\u001b[0m                equate isoleucine (I) and leucine (L) when\r\n",
      "                               matching peptides\r\n",
      "    \u001b[33m-s\u001b[0m \u001b[33m--select\u001b[0m=<value>        select the information fields to return.\r\n",
      "                               Selected fields are passed as a comma\r\n",
      "                               separated list of field names. Multiple -s (or\r\n",
      "                               --select) options may be used.\r\n",
      "\r\n",
      "\u001b[1m\u001b[31mOPTIONS FOR UNIPEPT\u001b[0m\u001b[0m\r\n",
      "    \u001b[33m-f\u001b[0m \u001b[33m--format\u001b[0m=<value>        define the output format (available: json,\r\n",
      "                               csv, xml) (default: csv)\r\n",
      "    \u001b[33m-h\u001b[0m \u001b[33m--help\u001b[0m                  show help for this command\r\n",
      "       \u001b[33m--host\u001b[0m=<value>          specify the server running the Unipept web\r\n",
      "                               service\r\n",
      "    \u001b[33m-i\u001b[0m \u001b[33m--input\u001b[0m=<value>         read input from file\r\n",
      "    \u001b[33m-o\u001b[0m \u001b[33m--output\u001b[0m=<value>        write output to file\r\n",
      "    \u001b[33m-q\u001b[0m \u001b[33m--quiet\u001b[0m                 disable service messages\r\n",
      "    \u001b[33m-v\u001b[0m \u001b[33m--version\u001b[0m               displays the version\r\n"
     ]
    }
   ],
   "source": [
    "!unipept pept2prot --help"
   ]
  },
  {
   "cell_type": "code",
   "execution_count": 5,
   "metadata": {
    "collapsed": false
   },
   "outputs": [
    {
     "name": "stdout",
     "output_type": "stream",
     "text": [
      "/Users/meganduffy/Documents/git-repos/FISH-546\n"
     ]
    }
   ],
   "source": [
    "cd /Users/meganduffy/Documents/git-repos/FISH-546/"
   ]
  },
  {
   "cell_type": "code",
   "execution_count": 9,
   "metadata": {
    "collapsed": false
   },
   "outputs": [],
   "source": [
    "# trying to do a pept2prot search using 062016 ETNP peptides found in Novor\n",
    "!unipept pept2prot --input /data/062016_ETNP_129_peptides.txt "
   ]
  },
  {
   "cell_type": "markdown",
   "metadata": {},
   "source": [
    "This didn't generate any output or errors...\n",
    "I'm going to try with just one peptide (YPDPLPK) that was sequenced in the Novor analysis of 062016_ETNP_129 (id 291)"
   ]
  },
  {
   "cell_type": "code",
   "execution_count": 15,
   "metadata": {
    "collapsed": false
   },
   "outputs": [
    {
     "name": "stdout",
     "output_type": "stream",
     "text": [
      "peptide,uniprot_id,protein_name,taxon_id\r\n",
      "YPDPLPK,C5LI65,Putative uncharacterized protein,423536\r\n"
     ]
    }
   ],
   "source": [
    "!unipept pept2prot YPDPLPK"
   ]
  },
  {
   "cell_type": "markdown",
   "metadata": {},
   "source": [
    "Looking up that Uniprot ID, I see that this protein is for _Perkinsus marinus_, a marine protist (and oyster pathogen):\n",
    "    \n",
    "![NCBI perkinsus marinus protein](https://raw.githubusercontent.com/MeganEDuffy/FISH-546/master/images/perkinsus_marinus.png)"
   ]
  },
  {
   "cell_type": "code",
   "execution_count": 17,
   "metadata": {
    "collapsed": true
   },
   "outputs": [],
   "source": [
    "# trying to see if there are any that are really annotated\n",
    "!unipept pept2prot LKLGPLPRR "
   ]
  },
  {
   "cell_type": "markdown",
   "metadata": {},
   "source": [
    "Now it input another peptide, LKLGPLPRR. Running this cell returns nothing. It seems that if Unipept doesn't find something, it doesn't return anything..."
   ]
  },
  {
   "cell_type": "code",
   "execution_count": 1,
   "metadata": {
    "collapsed": false
   },
   "outputs": [
    {
     "name": "stdout",
     "output_type": "stream",
     "text": [
      "Wed Nov 30 22:49:01 PST 2016\r\n"
     ]
    }
   ],
   "source": [
    "! date"
   ]
  },
  {
   "cell_type": "code",
   "execution_count": 4,
   "metadata": {
    "collapsed": false
   },
   "outputs": [
    {
     "name": "stdout",
     "output_type": "stream",
     "text": [
      "Software:\r\n",
      "\r\n",
      "    System Software Overview:\r\n",
      "\r\n",
      "      System Version: macOS 10.12.1 (16B2555)\r\n",
      "      Kernel Version: Darwin 16.1.0\r\n",
      "      Boot Volume: Macintosh HD\r\n",
      "      Boot Mode: Normal\r\n",
      "      Computer Name: Megan’s MacBook Pro\r\n",
      "      User Name: Megan Duffy (meganduffy)\r\n",
      "      Secure Virtual Memory: Enabled\r\n",
      "      System Integrity Protection: Enabled\r\n",
      "      Time since boot: 16 days 13:52\r\n",
      "\r\n"
     ]
    }
   ],
   "source": [
    "! system_profiler SPSoftwareDataType"
   ]
  },
  {
   "cell_type": "code",
   "execution_count": null,
   "metadata": {
    "collapsed": true
   },
   "outputs": [],
   "source": []
  }
 ],
 "metadata": {
  "anaconda-cloud": {},
  "kernelspec": {
   "display_name": "Python [default]",
   "language": "python",
   "name": "python3"
  },
  "language_info": {
   "codemirror_mode": {
    "name": "ipython",
    "version": 3
   },
   "file_extension": ".py",
   "mimetype": "text/x-python",
   "name": "python",
   "nbconvert_exporter": "python",
   "pygments_lexer": "ipython3",
   "version": "3.5.2"
  }
 },
 "nbformat": 4,
 "nbformat_minor": 1
}
