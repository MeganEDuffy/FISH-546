{
 "cells": [
  {
   "cell_type": "code",
   "execution_count": 1,
   "metadata": {
    "collapsed": false
   },
   "outputs": [
    {
     "name": "stdout",
     "output_type": "stream",
     "text": [
      "Thu Oct 27 23:57:58 PDT 2016\r\n"
     ]
    }
   ],
   "source": [
    "!date"
   ]
  },
  {
   "cell_type": "markdown",
   "metadata": {},
   "source": [
    "Now that I've installed the Unipept CLI I want to test it out with some data and see what I get. When I take a list of de novo sequenced peptides (500) from a Novor output csv (test.mgf input - see [01-novor.sh](http://localhost:8888/notebooks/notebooks/etnp-novor/01-novor.sh.ipynb) file and copy-paste them into Unipept in my browser (Firefox 49.0.1) I get this:\n",
    "\n",
    "![unipept exploding sun taxonomy output](https://raw.githubusercontent.com/MeganEDuffy/FISH-546/master/images/2016-10-27-test-novor.png)"
   ]
  },
  {
   "cell_type": "markdown",
   "metadata": {},
   "source": [
    "Note that you can also export a csv file when running the browser.\n",
    "When I do this for the output from 062016_ETNP_129.mgf run in Novor, I get:"
   ]
  }
 ],
 "metadata": {
  "anaconda-cloud": {},
  "kernelspec": {
   "display_name": "Python [default]",
   "language": "python",
   "name": "python3"
  },
  "language_info": {
   "codemirror_mode": {
    "name": "ipython",
    "version": 3
   },
   "file_extension": ".py",
   "mimetype": "text/x-python",
   "name": "python",
   "nbconvert_exporter": "python",
   "pygments_lexer": "ipython3",
   "version": "3.5.2"
  }
 },
 "nbformat": 4,
 "nbformat_minor": 1
}
