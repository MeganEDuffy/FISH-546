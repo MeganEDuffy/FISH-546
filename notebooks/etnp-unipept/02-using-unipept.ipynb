{
 "cells": [
  {
   "cell_type": "code",
   "execution_count": 1,
   "metadata": {
    "collapsed": false
   },
   "outputs": [
    {
     "name": "stdout",
     "output_type": "stream",
     "text": [
      "Thu Oct 27 23:57:58 PDT 2016\r\n"
     ]
    }
   ],
   "source": [
    "!date"
   ]
  },
  {
   "cell_type": "markdown",
   "metadata": {},
   "source": [
    "Now that I've installed the Unipept CLI I want to test it out with some data and see what I get. When I take a list of de novo sequenced peptides (500) from a Novor output csv (test.mgf input - see [01-novor.sh](http://localhost:8888/notebooks/notebooks/etnp-novor/01-novor.sh.ipynb) file and copy-paste them into Unipept in my browser (Firefox 49.0.1) I get this:\n",
    "\n",
    "![unipept sunburst taxonomy output](https://raw.githubusercontent.com/MeganEDuffy/FISH-546/master/images/2016-10-27-test-novor.png)"
   ]
  },
  {
   "cell_type": "markdown",
   "metadata": {},
   "source": [
    "Note that you can also export a csv file when running the browser.\n",
    "When I do this for the output from 062016_ETNP_129.mgf run in Novor, I get (in treeview, too many taxa to see sunburst well):\n",
    "\n",
    "![etnp 129 unipept treemap](https://raw.githubusercontent.com/MeganEDuffy/FISH-546/master/images/2016-10-27-etnp129-novor.png)"
   ]
  },
  {
   "cell_type": "markdown",
   "metadata": {},
   "source": [
    "So now I need to figure out how to do this from the command line, extracting what I need from the Novor output and getting into Unipept CLI with the proper arguments."
   ]
  },
  {
   "cell_type": "code",
   "execution_count": 1,
   "metadata": {
    "collapsed": false
   },
   "outputs": [
    {
     "data": {
      "text/plain": [
       "'/Users/meganduffy/Documents/git-repos/FISH-546/notebooks/etnp-unipept'"
      ]
     },
     "execution_count": 1,
     "metadata": {},
     "output_type": "execute_result"
    }
   ],
   "source": [
    "pwd"
   ]
  },
  {
   "cell_type": "code",
   "execution_count": 2,
   "metadata": {
    "collapsed": false
   },
   "outputs": [
    {
     "name": "stdout",
     "output_type": "stream",
     "text": [
      "/Users/meganduffy/.gem/ruby/2.0.0/bin/unipept\r\n"
     ]
    }
   ],
   "source": [
    "# First I need to remind myself, where is unipept installed?\n",
    "!which unipept"
   ]
  },
  {
   "cell_type": "code",
   "execution_count": 4,
   "metadata": {
    "collapsed": false
   },
   "outputs": [
    {
     "name": "stdout",
     "output_type": "stream",
     "text": [
      "/Users/meganduffy/.gem/ruby/2.0.0/bin\n"
     ]
    }
   ],
   "source": [
    "cd ~/.gem/ruby/2.0.0/bin"
   ]
  },
  {
   "cell_type": "code",
   "execution_count": null,
   "metadata": {
    "collapsed": true
   },
   "outputs": [],
   "source": [
    "# And what verison am I running?\n",
    "!unipept --version"
   ]
  },
  {
   "cell_type": "code",
   "execution_count": 5,
   "metadata": {
    "collapsed": false
   },
   "outputs": [
    {
     "name": "stdout",
     "output_type": "stream",
     "text": [
      "\u001b[1m\u001b[31mNAME\u001b[0m\u001b[0m\r\n",
      "    \u001b[32munipept\u001b[0m - Command line interface to Unipept web services.\r\n",
      "\r\n",
      "\u001b[1m\u001b[31mUSAGE\u001b[0m\u001b[0m\r\n",
      "    \u001b[32munipept\u001b[0m subcommand [options]\r\n",
      "\r\n",
      "\u001b[1m\u001b[31mDESCRIPTION\u001b[0m\u001b[0m\r\n",
      "    The unipept subcommands are command line wrappers around the Unipept web\r\n",
      "    services.\r\n",
      "\r\n",
      "    Subcommands that start with pept expect a list of tryptic peptides as\r\n",
      "    input. Subcommands that start with tax expect a list of NCBI Taxonomy\r\n",
      "    Identifiers as input. Input is passed\r\n",
      "\r\n",
      "    - as separate command line arguments\r\n",
      "\r\n",
      "    - in a text file that is passed as an argument to the -i option\r\n",
      "\r\n",
      "    - to standard input\r\n",
      "\r\n",
      "    The command will give priority to the first way the input is passed, in\r\n",
      "    the order as listed above. Text files and standard input should have one\r\n",
      "    tryptic peptide or one NCBI Taxonomy Identifier per line.\r\n",
      "\r\n",
      "\u001b[1m\u001b[31mCOMMANDS\u001b[0m\u001b[0m\r\n",
      "    \u001b[32mconfig\u001b[0m        Set configuration options.\r\n",
      "    \u001b[32mhelp\u001b[0m          show help\r\n",
      "    \u001b[32mpept2lca\u001b[0m      Fetch taxonomic lowest common ancestor of UniProt entries that match tryptic peptides.\r\n",
      "    \u001b[32mpept2prot\u001b[0m     Fetch UniProt entries that match tryptic peptides.\r\n",
      "    \u001b[32mpept2taxa\u001b[0m     Fetch taxa of UniProt entries that match tryptic peptides.\r\n",
      "    \u001b[32mtaxa2lca\u001b[0m      Compute taxonomic lowest common ancestor for given list of taxa.\r\n",
      "    \u001b[32mtaxonomy\u001b[0m      Fetch taxonomic information from Unipept Taxonomy.\r\n",
      "\r\n",
      "\u001b[1m\u001b[31mOPTIONS\u001b[0m\u001b[0m\r\n",
      "    \u001b[33m-f\u001b[0m \u001b[33m--format\u001b[0m=<value>        define the output format (available: json,\r\n",
      "                               csv, xml) (default: csv)\r\n",
      "    \u001b[33m-h\u001b[0m \u001b[33m--help\u001b[0m                  show help for this command\r\n",
      "       \u001b[33m--host\u001b[0m=<value>          specify the server running the Unipept web\r\n",
      "                               service\r\n",
      "    \u001b[33m-i\u001b[0m \u001b[33m--input\u001b[0m=<value>         read input from file\r\n",
      "    \u001b[33m-o\u001b[0m \u001b[33m--output\u001b[0m=<value>        write output to file\r\n",
      "    \u001b[33m-q\u001b[0m \u001b[33m--quiet\u001b[0m                 disable service messages\r\n",
      "    \u001b[33m-v\u001b[0m \u001b[33m--version\u001b[0m               displays the version\r\n"
     ]
    }
   ],
   "source": [
    "# How do I run unipept?\n",
    "!unipept --help"
   ]
  },
  {
   "cell_type": "markdown",
   "metadata": {},
   "source": [
    "Ok, and here is some more info from the Unipept [CLI help page](http://unipept.ugent.be/clidocs/pept2lca)\n",
    "\n",
    "The unipept ```pept2lca``` command takes one or more tryptic peptides as input and returns the taxonomic lowest common ancestor (LCA) for each of them as output. The LCA is calculated from all taxa associated with the UniProt entries that contain the given peptide. All this information is fetched by doing API-requests to the Unipept server. \n",
    "The unipept ```pept2lca``` command expects tryptic peptides as input. \n",
    "The source of this input can be command line arguments, a file, or standard input. If input is supplied using multiple sources at the same time, the order of priority as described above is used. \n",
    "\n"
   ]
  },
  {
   "cell_type": "code",
   "execution_count": 19,
   "metadata": {
    "collapsed": false
   },
   "outputs": [
    {
     "name": "stdout",
     "output_type": "stream",
     "text": [
      "peptide,taxon_id,taxon_name,taxon_rank\r\n",
      "MDGTEYIIVK,1263,Ruminococcus,genus\r\n"
     ]
    }
   ],
   "source": [
    "#So I'm going to try doing an LCA search with a peptidoglycan peptide:\n",
    "!unipept pept2lca MDGTEYIIVK"
   ]
  },
  {
   "cell_type": "code",
   "execution_count": 1,
   "metadata": {
    "collapsed": true
   },
   "outputs": [],
   "source": [
    "#Now running an LCA search on my Mayer R1 data\n",
    "!unipept pept2lca -i ~/Documents/git-repos/FISH-546/data/051216_Mayer_R1.mgf.csv -o 051216_Mayer_R1lca"
   ]
  },
  {
   "cell_type": "code",
   "execution_count": null,
   "metadata": {
    "collapsed": true
   },
   "outputs": [],
   "source": []
  },
  {
   "cell_type": "markdown",
   "metadata": {},
   "source": [
    "**Ok, now where did that output go to?**"
   ]
  },
  {
   "cell_type": "code",
   "execution_count": 2,
   "metadata": {
    "collapsed": false
   },
   "outputs": [
    {
     "data": {
      "text/plain": [
       "'/Users/meganduffy/Documents/git-repos/FISH-546/notebooks/etnp-unipept'"
      ]
     },
     "execution_count": 2,
     "metadata": {},
     "output_type": "execute_result"
    }
   ],
   "source": [
    "pwd"
   ]
  },
  {
   "cell_type": "code",
   "execution_count": 4,
   "metadata": {
    "collapsed": false
   },
   "outputs": [
    {
     "name": "stdout",
     "output_type": "stream",
     "text": [
      "051216_Mayer_R1.mgf           README.md\r\n",
      "051216_Mayer_R1.mgf.csv       uniprot_sprot.fasta\r\n",
      "061516_ETNP 129.mgf           uniprot_sprot.fasta.gz\r\n",
      "062016_ETNP 129.mgf           uniprot_sprot.phr\r\n",
      "0Bztsid47-y6LV05iWDJObUNnMXc  uniprot_sprot.pin\r\n",
      "Oly-transcriptome-2k.fa       uniprot_sprot.psq\r\n"
     ]
    }
   ],
   "source": [
    "ls ~/Documents/git-repos/FISH-546/data/"
   ]
  },
  {
   "cell_type": "markdown",
   "metadata": {
    "collapsed": true
   },
   "source": [
    "For reference, I ran Unipept LCA from the browser with 062016_ETNP_129.mgf.csv Novor outputs, and this is what I got when I selected \"output to csv\". That looks like this:\n",
    "\n",
    "![using unipept in browser](https://raw.githubusercontent.com/MeganEDuffy/FISH-546/master/images/using-unipept-2016-11-04.png)"
   ]
  },
  {
   "cell_type": "markdown",
   "metadata": {},
   "source": [
    "And in this case, a file called ```export.csv``` went straight into my ```meganduffy/Downloads```. I changed the file name to ```062016_ETNP_129.csv``` and put it into ```~/Documents/git-repos/FISH-546/analyses```. It looks like this, a list of all the peptides and matched taxa:"
   ]
  },
  {
   "cell_type": "code",
   "execution_count": 1,
   "metadata": {
    "collapsed": false
   },
   "outputs": [
    {
     "name": "stdout",
     "output_type": "stream",
     "text": [
      "/Users/meganduffy/Documents/git-repos/FISH-546/notebooks/etnp-unipept\r\n"
     ]
    }
   ],
   "source": [
    "!pwd"
   ]
  },
  {
   "cell_type": "code",
   "execution_count": 2,
   "metadata": {
    "collapsed": false
   },
   "outputs": [
    {
     "name": "stdout",
     "output_type": "stream",
     "text": [
      "peptide,superkingdom,kingdom,subkingdom,superphylum,phylum,subphylum,superclass,class_,subclass,infraclass,superorder,order,suborder,infraorder,parvorder,superfamily,family,subfamily,tribe,subtribe,genus,subgenus,species_group,species_subgroup,species,subspecies,varietas,forma\r\n",
      "AAEPR,\"\",\"\",\"\",\"\",\"\",\"\",\"\",\"\",\"\",\"\",\"\",\"\",\"\",\"\",\"\",\"\",\"\",\"\",\"\",\"\",\"\",\"\",\"\",\"\",\"\",\"\",\"\",\"\"\r\n",
      "AAFPR,\"\",\"\",\"\",\"\",\"\",\"\",\"\",\"\",\"\",\"\",\"\",\"\",\"\",\"\",\"\",\"\",\"\",\"\",\"\",\"\",\"\",\"\",\"\",\"\",\"\",\"\",\"\",\"\"\r\n",
      "AAMLK,\"\",\"\",\"\",\"\",\"\",\"\",\"\",\"\",\"\",\"\",\"\",\"\",\"\",\"\",\"\",\"\",\"\",\"\",\"\",\"\",\"\",\"\",\"\",\"\",\"\",\"\",\"\",\"\"\r\n",
      "ADFPK,\"\",\"\",\"\",\"\",\"\",\"\",\"\",\"\",\"\",\"\",\"\",\"\",\"\",\"\",\"\",\"\",\"\",\"\",\"\",\"\",\"\",\"\",\"\",\"\",\"\",\"\",\"\",\"\"\r\n",
      "ADHSPR,\"\",\"\",\"\",\"\",\"\",\"\",\"\",\"\",\"\",\"\",\"\",\"\",\"\",\"\",\"\",\"\",\"\",\"\",\"\",\"\",\"\",\"\",\"\",\"\",\"\",\"\",\"\",\"\"\r\n",
      "AEDPK,\"\",\"\",\"\",\"\",\"\",\"\",\"\",\"\",\"\",\"\",\"\",\"\",\"\",\"\",\"\",\"\",\"\",\"\",\"\",\"\",\"\",\"\",\"\",\"\",\"\",\"\",\"\",\"\"\r\n",
      "AETTPR,\"\",\"\",\"\",\"\",\"\",\"\",\"\",\"\",\"\",\"\",\"\",\"\",\"\",\"\",\"\",\"\",\"\",\"\",\"\",\"\",\"\",\"\",\"\",\"\",\"\",\"\",\"\",\"\"\r\n",
      "AFHQLR,\"\",\"\",\"\",\"\",\"\",\"\",\"\",\"\",\"\",\"\",\"\",\"\",\"\",\"\",\"\",\"\",\"\",\"\",\"\",\"\",\"\",\"\",\"\",\"\",\"\",\"\",\"\",\"\"\r\n",
      "AFLGVPR,\"\",\"\",\"\",\"\",\"\",\"\",\"\",\"\",\"\",\"\",\"\",\"\",\"\",\"\",\"\",\"\",\"\",\"\",\"\",\"\",\"\",\"\",\"\",\"\",\"\",\"\",\"\",\"\"\r\n"
     ]
    }
   ],
   "source": [
    "!head ~/Documents/git-repos/FISH-546/analyses/062016_ETNP_129.csv"
   ]
  },
  {
   "cell_type": "code",
   "execution_count": null,
   "metadata": {
    "collapsed": true
   },
   "outputs": [],
   "source": []
  }
 ],
 "metadata": {
  "anaconda-cloud": {},
  "kernelspec": {
   "display_name": "Python [default]",
   "language": "python",
   "name": "python3"
  },
  "language_info": {
   "codemirror_mode": {
    "name": "ipython",
    "version": 3
   },
   "file_extension": ".py",
   "mimetype": "text/x-python",
   "name": "python",
   "nbconvert_exporter": "python",
   "pygments_lexer": "ipython3",
   "version": "3.5.2"
  }
 },
 "nbformat": 4,
 "nbformat_minor": 1
}
