{
 "cells": [
  {
   "cell_type": "markdown",
   "metadata": {},
   "source": [
    "### Using Unipept CLI to estimate taxonomy distribution ###\n",
    "\n",
    "I'm using the [Unipept Command line interface](http://unipept.ugent.be/clidocs) that I downloaded on 2016-10-25 \n",
    "\n",
    "This tool requires Ruby, so I made sure I had Ruby installed on my system:"
   ]
  },
  {
   "cell_type": "code",
   "execution_count": 2,
   "metadata": {
    "collapsed": false
   },
   "outputs": [
    {
     "name": "stdout",
     "output_type": "stream",
     "text": [
      "/Users/meganduffy\n"
     ]
    }
   ],
   "source": [
    "cd ~/"
   ]
  },
  {
   "cell_type": "code",
   "execution_count": 4,
   "metadata": {
    "collapsed": false
   },
   "outputs": [
    {
     "name": "stdout",
     "output_type": "stream",
     "text": [
      "/usr/bin/ruby\r\n"
     ]
    }
   ],
   "source": [
    "!which ruby"
   ]
  },
  {
   "cell_type": "code",
   "execution_count": 5,
   "metadata": {
    "collapsed": false
   },
   "outputs": [
    {
     "name": "stdout",
     "output_type": "stream",
     "text": [
      "ruby 2.0.0p648 (2015-12-16 revision 53162) [universal.x86_64-darwin16]\r\n"
     ]
    }
   ],
   "source": [
    "!ruby --version"
   ]
  },
  {
   "cell_type": "markdown",
   "metadata": {},
   "source": [
    "The Unipept CLI is available as a gem*, meaning it can easily be installed with the ```gem install unipept``` command: \n",
    "\n",
    "*RubyGems is a package manager for Ruby modules (called gems)"
   ]
  },
  {
   "cell_type": "code",
   "execution_count": 7,
   "metadata": {
    "collapsed": false
   },
   "outputs": [
    {
     "name": "stdout",
     "output_type": "stream",
     "text": [
      "ERROR:  While executing gem ... (Gem::FilePermissionError)\r\n",
      "    You don't have write permissions for the /Library/Ruby/Gems/2.0.0 directory.\r\n"
     ]
    }
   ],
   "source": [
    "!gem install unipept"
   ]
  },
  {
   "cell_type": "markdown",
   "metadata": {},
   "source": [
    "I'm going to fix this issue by doing a user install, which will install a gem in my home directory"
   ]
  },
  {
   "cell_type": "code",
   "execution_count": 8,
   "metadata": {
    "collapsed": false
   },
   "outputs": [
    {
     "name": "stdout",
     "output_type": "stream",
     "text": [
      "WARNING:  You don't have /Users/meganduffy/.gem/ruby/2.0.0/bin in your PATH,\n",
      "\t  gem executables will not run.\n",
      "Successfully installed colored-1.2\n",
      "Fetching: cri-2.7.0.gem (100%)\n",
      "Successfully installed cri-2.7.0\n",
      "Fetching: ffi-1.9.14.gem (100%)\n",
      "Building native extensions.  This could take a while...\n",
      "Successfully installed ffi-1.9.14\n",
      "Fetching: ethon-0.9.1.gem (100%)\n",
      "Successfully installed ethon-0.9.1\n",
      "Fetching: typhoeus-0.7.2.gem (100%)\n",
      "Successfully installed typhoeus-0.7.2\n",
      "Fetching: unipept-1.1.1.gem (100%)\n",
      "Successfully installed unipept-1.1.1\n",
      "Parsing documentation for colored-1.2\n",
      "Installing ri documentation for colored-1.2\n",
      "Parsing documentation for cri-2.7.0\n",
      "Installing ri documentation for cri-2.7.0\n",
      "Parsing documentation for ffi-1.9.14\n",
      "Installing ri documentation for ffi-1.9.14\n",
      "Parsing documentation for ethon-0.9.1\n",
      "Installing ri documentation for ethon-0.9.1\n",
      "Parsing documentation for typhoeus-0.7.2\n",
      "Installing ri documentation for typhoeus-0.7.2\n",
      "Parsing documentation for unipept-1.1.1\n",
      "Installing ri documentation for unipept-1.1.1\n",
      "6 gems installed\n"
     ]
    }
   ],
   "source": [
    "!gem install unipept --user-install"
   ]
  },
  {
   "cell_type": "code",
   "execution_count": 10,
   "metadata": {
    "collapsed": false
   },
   "outputs": [
    {
     "name": "stdout",
     "output_type": "stream",
     "text": [
      "/bin/sh: unipept: command not found\r\n"
     ]
    }
   ],
   "source": [
    "!unipept --version"
   ]
  },
  {
   "cell_type": "markdown",
   "metadata": {},
   "source": [
    "Looks like Unipept 1.1.1 installed fine, I just need to add the directory to your PATH environment variable"
   ]
  },
  {
   "cell_type": "code",
   "execution_count": 13,
   "metadata": {
    "collapsed": true
   },
   "outputs": [],
   "source": [
    "!export PATH=\"/Users/meganduffy/.gem/ruby/2.0.0/bin:$PATH\""
   ]
  },
  {
   "cell_type": "code",
   "execution_count": 14,
   "metadata": {
    "collapsed": false
   },
   "outputs": [
    {
     "name": "stdout",
     "output_type": "stream",
     "text": [
      "/bin/sh: unipept: command not found\r\n"
     ]
    }
   ],
   "source": [
    "!unipept --version"
   ]
  },
  {
   "cell_type": "code",
   "execution_count": null,
   "metadata": {
    "collapsed": true
   },
   "outputs": [],
   "source": []
  }
 ],
 "metadata": {
  "anaconda-cloud": {},
  "kernelspec": {
   "display_name": "Python [default]",
   "language": "python",
   "name": "python3"
  },
  "language_info": {
   "codemirror_mode": {
    "name": "ipython",
    "version": 3
   },
   "file_extension": ".py",
   "mimetype": "text/x-python",
   "name": "python",
   "nbconvert_exporter": "python",
   "pygments_lexer": "ipython3",
   "version": "3.5.2"
  }
 },
 "nbformat": 4,
 "nbformat_minor": 1
}
