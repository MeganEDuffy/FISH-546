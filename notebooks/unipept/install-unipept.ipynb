{
 "cells": [
  {
   "cell_type": "markdown",
   "metadata": {},
   "source": [
    "### Using Unipept CLI to estimate taxonomy distribution ###\n",
    "\n",
    "I'm using the [Unipept Command line interface](http://unipept.ugent.be/clidocs) that I downloaded on 2016-10-25 \n",
    "\n",
    "This tool requires Ruby, so I made sure I had Ruby installed on my system:"
   ]
  },
  {
   "cell_type": "code",
   "execution_count": 2,
   "metadata": {
    "collapsed": false
   },
   "outputs": [
    {
     "name": "stdout",
     "output_type": "stream",
     "text": [
      "/Users/meganduffy\n"
     ]
    }
   ],
   "source": [
    "cd ~/"
   ]
  },
  {
   "cell_type": "code",
   "execution_count": 4,
   "metadata": {
    "collapsed": false
   },
   "outputs": [
    {
     "name": "stdout",
     "output_type": "stream",
     "text": [
      "/usr/bin/ruby\r\n"
     ]
    }
   ],
   "source": [
    "!which ruby"
   ]
  },
  {
   "cell_type": "code",
   "execution_count": 5,
   "metadata": {
    "collapsed": false
   },
   "outputs": [
    {
     "name": "stdout",
     "output_type": "stream",
     "text": [
      "ruby 2.0.0p648 (2015-12-16 revision 53162) [universal.x86_64-darwin16]\r\n"
     ]
    }
   ],
   "source": [
    "!ruby --version"
   ]
  },
  {
   "cell_type": "markdown",
   "metadata": {},
   "source": [
    "The Unipept CLI is available as a gem*, meaning it can easily be installed with the ```gem install unipept``` command: \n",
    "\n",
    "*RubyGems is a package manager for Ruby modules (called gems)"
   ]
  },
  {
   "cell_type": "code",
   "execution_count": 7,
   "metadata": {
    "collapsed": false
   },
   "outputs": [
    {
     "name": "stdout",
     "output_type": "stream",
     "text": [
      "ERROR:  While executing gem ... (Gem::FilePermissionError)\r\n",
      "    You don't have write permissions for the /Library/Ruby/Gems/2.0.0 directory.\r\n"
     ]
    }
   ],
   "source": [
    "!gem install unipept"
   ]
  },
  {
   "cell_type": "markdown",
   "metadata": {},
   "source": [
    "I'm going to fix this issue by doing a user install, which will install a gem in my home directory"
   ]
  },
  {
   "cell_type": "code",
   "execution_count": 8,
   "metadata": {
    "collapsed": false
   },
   "outputs": [
    {
     "name": "stdout",
     "output_type": "stream",
     "text": [
      "WARNING:  You don't have /Users/meganduffy/.gem/ruby/2.0.0/bin in your PATH,\n",
      "\t  gem executables will not run.\n",
      "Successfully installed colored-1.2\n",
      "Fetching: cri-2.7.0.gem (100%)\n",
      "Successfully installed cri-2.7.0\n",
      "Fetching: ffi-1.9.14.gem (100%)\n",
      "Building native extensions.  This could take a while...\n",
      "Successfully installed ffi-1.9.14\n",
      "Fetching: ethon-0.9.1.gem (100%)\n",
      "Successfully installed ethon-0.9.1\n",
      "Fetching: typhoeus-0.7.2.gem (100%)\n",
      "Successfully installed typhoeus-0.7.2\n",
      "Fetching: unipept-1.1.1.gem (100%)\n",
      "Successfully installed unipept-1.1.1\n",
      "Parsing documentation for colored-1.2\n",
      "Installing ri documentation for colored-1.2\n",
      "Parsing documentation for cri-2.7.0\n",
      "Installing ri documentation for cri-2.7.0\n",
      "Parsing documentation for ffi-1.9.14\n",
      "Installing ri documentation for ffi-1.9.14\n",
      "Parsing documentation for ethon-0.9.1\n",
      "Installing ri documentation for ethon-0.9.1\n",
      "Parsing documentation for typhoeus-0.7.2\n",
      "Installing ri documentation for typhoeus-0.7.2\n",
      "Parsing documentation for unipept-1.1.1\n",
      "Installing ri documentation for unipept-1.1.1\n",
      "6 gems installed\n"
     ]
    }
   ],
   "source": [
    "!gem install unipept --user-install"
   ]
  },
  {
   "cell_type": "code",
   "execution_count": 10,
   "metadata": {
    "collapsed": false
   },
   "outputs": [
    {
     "name": "stdout",
     "output_type": "stream",
     "text": [
      "/bin/sh: unipept: command not found\r\n"
     ]
    }
   ],
   "source": [
    "!unipept --version"
   ]
  },
  {
   "cell_type": "markdown",
   "metadata": {},
   "source": [
    "Looks like Unipept 1.1.1 installed fine, I just need to add the directory to your PATH environment variable"
   ]
  },
  {
   "cell_type": "markdown",
   "metadata": {
    "collapsed": true
   },
   "source": [
    "So in my .bash_profile, I added ```export PATH=\"/Users/meganduffy/.gem/ruby/2.0.0/bin:$PATH\"```\n",
    "Now unipept should show up, and it does:"
   ]
  },
  {
   "cell_type": "code",
   "execution_count": 1,
   "metadata": {
    "collapsed": false
   },
   "outputs": [
    {
     "name": "stdout",
     "output_type": "stream",
     "text": [
      "1.1.1\r\n"
     ]
    }
   ],
   "source": [
    "!unipept --version"
   ]
  },
  {
   "cell_type": "code",
   "execution_count": 2,
   "metadata": {
    "collapsed": false
   },
   "outputs": [
    {
     "name": "stdout",
     "output_type": "stream",
     "text": [
      "\u001b[1m\u001b[31mNAME\u001b[0m\u001b[0m\r\n",
      "    \u001b[32munipept\u001b[0m - Command line interface to Unipept web services.\r\n",
      "\r\n",
      "\u001b[1m\u001b[31mUSAGE\u001b[0m\u001b[0m\r\n",
      "    \u001b[32munipept\u001b[0m subcommand [options]\r\n",
      "\r\n",
      "\u001b[1m\u001b[31mDESCRIPTION\u001b[0m\u001b[0m\r\n",
      "    The unipept subcommands are command line wrappers around the Unipept web\r\n",
      "    services.\r\n",
      "\r\n",
      "    Subcommands that start with pept expect a list of tryptic peptides as\r\n",
      "    input. Subcommands that start with tax expect a list of NCBI Taxonomy\r\n",
      "    Identifiers as input. Input is passed\r\n",
      "\r\n",
      "    - as separate command line arguments\r\n",
      "\r\n",
      "    - in a text file that is passed as an argument to the -i option\r\n",
      "\r\n",
      "    - to standard input\r\n",
      "\r\n",
      "    The command will give priority to the first way the input is passed, in\r\n",
      "    the order as listed above. Text files and standard input should have one\r\n",
      "    tryptic peptide or one NCBI Taxonomy Identifier per line.\r\n",
      "\r\n",
      "\u001b[1m\u001b[31mCOMMANDS\u001b[0m\u001b[0m\r\n",
      "    \u001b[32mconfig\u001b[0m        Set configuration options.\r\n",
      "    \u001b[32mhelp\u001b[0m          show help\r\n",
      "    \u001b[32mpept2lca\u001b[0m      Fetch taxonomic lowest common ancestor of UniProt entries that match tryptic peptides.\r\n",
      "    \u001b[32mpept2prot\u001b[0m     Fetch UniProt entries that match tryptic peptides.\r\n",
      "    \u001b[32mpept2taxa\u001b[0m     Fetch taxa of UniProt entries that match tryptic peptides.\r\n",
      "    \u001b[32mtaxa2lca\u001b[0m      Compute taxonomic lowest common ancestor for given list of taxa.\r\n",
      "    \u001b[32mtaxonomy\u001b[0m      Fetch taxonomic information from Unipept Taxonomy.\r\n",
      "\r\n",
      "\u001b[1m\u001b[31mOPTIONS\u001b[0m\u001b[0m\r\n",
      "    \u001b[33m-f\u001b[0m \u001b[33m--format\u001b[0m=<value>        define the output format (available: json,\r\n",
      "                               csv, xml) (default: csv)\r\n",
      "    \u001b[33m-h\u001b[0m \u001b[33m--help\u001b[0m                  show help for this command\r\n",
      "       \u001b[33m--host\u001b[0m=<value>          specify the server running the Unipept web\r\n",
      "                               service\r\n",
      "    \u001b[33m-i\u001b[0m \u001b[33m--input\u001b[0m=<value>         read input from file\r\n",
      "    \u001b[33m-o\u001b[0m \u001b[33m--output\u001b[0m=<value>        write output to file\r\n",
      "    \u001b[33m-q\u001b[0m \u001b[33m--quiet\u001b[0m                 disable service messages\r\n",
      "    \u001b[33m-v\u001b[0m \u001b[33m--version\u001b[0m               displays the version\r\n"
     ]
    }
   ],
   "source": [
    "!unipept -h"
   ]
  },
  {
   "cell_type": "markdown",
   "metadata": {},
   "source": [
    "It seems that by default, the public Unipept server will be used for all commands.\n",
    "If I did have a local Unipept server running, and wanted to use it with the CLI, I'd' run the unipept `config host http://local.server` command. \n",
    "To do that I'd substitute `http://local.server` with the address of my local Unipept server.\n",
    "For now I will keep running Unipept on the public server."
   ]
  },
  {
   "cell_type": "code",
   "execution_count": null,
   "metadata": {
    "collapsed": true
   },
   "outputs": [],
   "source": []
  }
 ],
 "metadata": {
  "anaconda-cloud": {},
  "kernelspec": {
   "display_name": "Python [default]",
   "language": "python",
   "name": "python3"
  },
  "language_info": {
   "codemirror_mode": {
    "name": "ipython",
    "version": 3
   },
   "file_extension": ".py",
   "mimetype": "text/x-python",
   "name": "python",
   "nbconvert_exporter": "python",
   "pygments_lexer": "ipython3",
   "version": "3.5.2"
  }
 },
 "nbformat": 4,
 "nbformat_minor": 1
}
